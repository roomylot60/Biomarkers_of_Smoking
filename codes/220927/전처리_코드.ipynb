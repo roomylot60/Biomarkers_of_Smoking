{
 "cells": [
  {
   "cell_type": "code",
   "execution_count": null,
   "id": "cea2f498",
   "metadata": {},
   "outputs": [],
   "source": [
    "import pandas as pd\n",
    "import numpy as np\n",
    "import matplotlib.pyplot as plt\n",
    "import seaborn as sns\n",
    "from sklearn.model_selection import train_test_split\n",
    "from sklearn.linear_model import LinearRegression\n",
    "from sklearn.metrics import mean_squared_error , r2_score\n",
    "from sklearn.preprocessing import LabelEncoder # for encoding\n",
    "from sklearn.preprocessing import MinMaxScaler, RobustScaler, StandardScaler #for standardization"
   ]
  },
  {
   "cell_type": "code",
   "execution_count": null,
   "id": "96709edc",
   "metadata": {},
   "outputs": [],
   "source": [
    "smoking = pd.read_csv('./data/Smoking_raw/smoking.csv')"
   ]
  },
  {
   "cell_type": "code",
   "execution_count": null,
   "id": "c63ac3c4",
   "metadata": {},
   "outputs": [],
   "source": [
    "smoking.head()"
   ]
  },
  {
   "cell_type": "code",
   "execution_count": null,
   "id": "b6de1e05",
   "metadata": {},
   "outputs": [],
   "source": [
    "df = smoking.drop(\"ID\", axis = 1)\n",
    "df.head(n = 10).style.background_gradient(cmap = \"Oranges\")"
   ]
  },
  {
   "cell_type": "code",
   "execution_count": null,
   "id": "18020c5e",
   "metadata": {},
   "outputs": [],
   "source": [
    "df.info()"
   ]
  },
  {
   "cell_type": "code",
   "execution_count": null,
   "id": "cfb97923",
   "metadata": {},
   "outputs": [],
   "source": [
    "df.isnull().sum()"
   ]
  },
  {
   "cell_type": "code",
   "execution_count": null,
   "id": "e148a41b",
   "metadata": {
    "scrolled": false
   },
   "outputs": [],
   "source": [
    "df.corr()"
   ]
  },
  {
   "cell_type": "code",
   "execution_count": null,
   "id": "4897f737",
   "metadata": {},
   "outputs": [],
   "source": [
    "# 기초 신체 사항과 흡연의 상관관계\n",
    "cat1 = df.loc[:,'gender':'hearing(right)']\n",
    "cat1['smoking'] = df['smoking']\n",
    "cat1.corr()"
   ]
  },
  {
   "cell_type": "code",
   "execution_count": null,
   "id": "fb4c3349",
   "metadata": {},
   "outputs": [],
   "source": [
    "# 심혈관 및 호흡의 상관관계\n",
    "cat2 = df.loc[:,'systolic':'hemoglobin']\n",
    "cat2['smoking'] = df['smoking']\n",
    "cat2.corr()"
   ]
  },
  {
   "cell_type": "code",
   "execution_count": null,
   "id": "6cc24486",
   "metadata": {},
   "outputs": [],
   "source": [
    "# 신장질환과 흡연의 상관관계\n",
    "cat3 = df.loc[:,'Urine protein':'serum creatinine']\n",
    "cat3['smoking'] = df['smoking']\n",
    "cat3.corr()"
   ]
  },
  {
   "cell_type": "code",
   "execution_count": null,
   "id": "38d40a71",
   "metadata": {},
   "outputs": [],
   "source": [
    "# 간수치와 흡연의 상관관계\n",
    "cat4 = df.loc[:,'AST':'Gtp']\n",
    "cat4['smoking'] = df['smoking']\n",
    "cat4.corr()"
   ]
  },
  {
   "cell_type": "code",
   "execution_count": null,
   "id": "8e0816e8",
   "metadata": {
    "scrolled": true
   },
   "outputs": [],
   "source": [
    "# 구강건강와 흡연의 상관관계\n",
    "cat4 = df.loc[:,'oral':'tartar']\n",
    "cat4['smoking'] = df['smoking']\n",
    "cat4.corr()"
   ]
  },
  {
   "cell_type": "code",
   "execution_count": null,
   "id": "6260890e",
   "metadata": {},
   "outputs": [],
   "source": [
    " def heatmap(cat1):\n",
    "    plt.figure(figsize = [20, 10], clear = True, facecolor = \"white\")\n",
    "    sns.heatmap(cat1.corr(), annot = True, square = False, linewidths = 3,\n",
    "                linecolor = \"white\", cmap = \"Set2\");\n",
    "    plt.style.use('seaborn')"
   ]
  },
  {
   "cell_type": "code",
   "execution_count": null,
   "id": "7c9cccda",
   "metadata": {
    "scrolled": true
   },
   "outputs": [],
   "source": [
    "heatmap(cat2)"
   ]
  },
  {
   "cell_type": "code",
   "execution_count": null,
   "id": "7b5a30a9",
   "metadata": {},
   "outputs": [],
   "source": [
    "heatmap(cat3)"
   ]
  },
  {
   "cell_type": "markdown",
   "id": "c06986d8",
   "metadata": {},
   "source": [
    "1. 범주형 변수 변환\n",
    "2. 피쳐 스케일링\n",
    "    - StandatdScaler : 서포트 벡터 머신, 로지스틱 회귀, 선형회귀는 가우시안 분포를 가정하고 구현됨, 정규화가 필요\n",
    "        - df['Urine protein'].value_counts() 보류(# ulfosalicylic acid precipitation method -> 소변의 탁도와 단백질 함유량 검사 , 6단계로 구분함.)\n",
    "    - MinMaxScaler : 데이터 분포가 가우시안 분포가 아닐 경우\n",
    "3. 이상치 검출 및 삭제 - 논의 후 결정\n",
    "    "
   ]
  },
  {
   "cell_type": "code",
   "execution_count": null,
   "id": "476a3967",
   "metadata": {},
   "outputs": [],
   "source": [
    "df = df.drop('oral',axis=1)"
   ]
  },
  {
   "cell_type": "code",
   "execution_count": null,
   "id": "7903c63e",
   "metadata": {},
   "outputs": [],
   "source": [
    "# 범주형 변수 변환 \n",
    "# Oral 피쳐는 모두 Y 값이므로 삭제.\n",
    "\n",
    "df.info()"
   ]
  },
  {
   "cell_type": "code",
   "execution_count": null,
   "id": "21e653ff",
   "metadata": {},
   "outputs": [],
   "source": [
    "cate_features = df[['gender','tartar']]"
   ]
  },
  {
   "cell_type": "code",
   "execution_count": null,
   "id": "4f4e07c1",
   "metadata": {},
   "outputs": [],
   "source": [
    "lbe = LabelEncoder()\n",
    "lbe.fit_transform(df[\"gender\"])\n",
    "df[\"gender\"] = lbe.fit_transform(df[\"gender\"])"
   ]
  },
  {
   "cell_type": "code",
   "execution_count": null,
   "id": "2a3b74cf",
   "metadata": {},
   "outputs": [],
   "source": [
    "df"
   ]
  },
  {
   "cell_type": "code",
   "execution_count": null,
   "id": "4bad0b0a",
   "metadata": {},
   "outputs": [],
   "source": [
    "lbe = LabelEncoder()\n",
    "lbe.fit_transform(df[\"tartar\"])\n",
    "df[\"tartar\"] = lbe.fit_transform(df[\"tartar\"])\n"
   ]
  },
  {
   "cell_type": "code",
   "execution_count": null,
   "id": "16d585f3",
   "metadata": {},
   "outputs": [],
   "source": [
    "# 레이블 인코딩 완료\n",
    "df"
   ]
  },
  {
   "cell_type": "code",
   "execution_count": null,
   "id": "7c893adf",
   "metadata": {},
   "outputs": [],
   "source": [
    "# 정규화 작업\n",
    "plt.hist(df['gender'])"
   ]
  },
  {
   "cell_type": "code",
   "execution_count": null,
   "id": "faf9e25c",
   "metadata": {},
   "outputs": [],
   "source": [
    "df.hist(figsize = (20, 20), bins = 12, legend = False)"
   ]
  },
  {
   "cell_type": "code",
   "execution_count": null,
   "id": "b410e7ee",
   "metadata": {},
   "outputs": [],
   "source": [
    "df['hearing(right)'].value_counts()"
   ]
  },
  {
   "cell_type": "code",
   "execution_count": null,
   "id": "842618e2",
   "metadata": {},
   "outputs": [],
   "source": [
    "cate_features = df[['gender', 'smoking', 'tartar', 'hearing(right)', 'hearing(left)', 'dental caries']]"
   ]
  },
  {
   "cell_type": "code",
   "execution_count": null,
   "id": "a4cef70a",
   "metadata": {},
   "outputs": [],
   "source": [
    "cate_features.columns"
   ]
  },
  {
   "cell_type": "code",
   "execution_count": null,
   "id": "3af67177",
   "metadata": {},
   "outputs": [],
   "source": [
    "scaled_features = df.drop(cate_features.columns, axis=1)\n",
    "scaled_features"
   ]
  },
  {
   "cell_type": "code",
   "execution_count": null,
   "id": "21be6382",
   "metadata": {},
   "outputs": [],
   "source": [
    "# ulfosalicylic acid precipitation method -> 소변의 탁도와 단백질 함유량 검사, 6단계로 구분함.\n",
    "df['Urine protein'].value_counts()"
   ]
  },
  {
   "cell_type": "code",
   "execution_count": null,
   "id": "b9c02fff",
   "metadata": {},
   "outputs": [],
   "source": [
    "scaled_features.hist(figsize = (20, 20), bins = 12, legend = False)"
   ]
  },
  {
   "cell_type": "code",
   "execution_count": null,
   "id": "9fd5c3f7",
   "metadata": {},
   "outputs": [],
   "source": [
    "scaler = StandardScaler()\n",
    "scaler.fit(scaled_features)\n",
    "scaled = scaler.transform(scaled_features)"
   ]
  },
  {
   "cell_type": "code",
   "execution_count": null,
   "id": "4f0b5679",
   "metadata": {},
   "outputs": [],
   "source": [
    "scaled_features.columns"
   ]
  },
  {
   "cell_type": "code",
   "execution_count": null,
   "id": "ff2c6310",
   "metadata": {},
   "outputs": [],
   "source": [
    "test= pd.DataFrame(scaled,columns = scaled_features.columns)\n",
    "test"
   ]
  },
  {
   "cell_type": "code",
   "execution_count": null,
   "id": "ef397fd1",
   "metadata": {
    "scrolled": false
   },
   "outputs": [],
   "source": [
    "test.hist(figsize = (20, 20), bins = 12, legend=False)"
   ]
  },
  {
   "cell_type": "code",
   "execution_count": null,
   "id": "d98b09c9",
   "metadata": {},
   "outputs": [],
   "source": [
    "# # 이상치 검출 및 삭제 \n",
    "# def outlier_detection(df, n, columns):\n",
    "#     rows = []\n",
    "#     will_drop_train = []\n",
    "#     for col in columns:\n",
    "#         Q1 = np.nanpercentile(df[col], 25)\n",
    "#         Q3 = np.nanpercentile(df[col], 75)\n",
    "#         IQR = Q3 - Q1\n",
    "#         outlier_point = 1.5 * IQR\n",
    "#         rows.extend(df[(df[col] < Q1 - outlier_point)|(df[col] > Q3 + outlier_point)].index)\n",
    "#     for r, c in Counter(rows).items():\n",
    "#         if c >= n: will_drop_train.append(r)\n",
    "#     return will_drop_train\n",
    "\n",
    "# will_drop_train = outlier_detection(df, 5, df.select_dtypes([\"float\", \"int\"]).columns)\n",
    "# will_drop_train[0:5]\n",
    "\n",
    "# df.drop(will_drop_train, inplace = True, axis = 0)"
   ]
  }
 ],
 "metadata": {
  "kernelspec": {
   "display_name": "Python 3 (ipykernel)",
   "language": "python",
   "name": "python3"
  },
  "language_info": {
   "codemirror_mode": {
    "name": "ipython",
    "version": 3
   },
   "file_extension": ".py",
   "mimetype": "text/x-python",
   "name": "python",
   "nbconvert_exporter": "python",
   "pygments_lexer": "ipython3",
   "version": "3.9.12"
  }
 },
 "nbformat": 4,
 "nbformat_minor": 5
}
