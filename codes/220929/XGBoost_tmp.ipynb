{
 "cells": [
  {
   "cell_type": "code",
   "execution_count": null,
   "id": "e6471ea6",
   "metadata": {},
   "outputs": [],
   "source": [
    "import pandas as pd  #for data manipulation operations\n",
    "import numpy as np  #for numeric operations on data\n",
    "import seaborn as sns  #for data visualization operations\n",
    "import matplotlib.pyplot as plt  #for data visualization operations\n",
    "from sklearn.preprocessing import LabelEncoder # for encoding\n",
    "from sklearn.preprocessing import MinMaxScaler, RobustScaler, StandardScaler #for standardization\n",
    "import plotly.express as px\n",
    "import plotly.graph_objects as go\n",
    "import plotly.io as pio\n",
    "from termcolor import colored\n",
    "import scipy.stats as st\n",
    "from collections import Counter\n",
    "%matplotlib inline\n",
    "\n",
    "from sklearn.model_selection import train_test_split, GridSearchCV, cross_val_score\n",
    "from sklearn.metrics import confusion_matrix, accuracy_score, classification_report\n",
    "from sklearn.metrics import roc_auc_score, roc_curve\n",
    "from sklearn.metrics import plot_confusion_matrix\n",
    "from sklearn.ensemble import RandomForestClassifier\n",
    "from lightgbm import LGBMClassifier\n",
    "from xgboost import XGBClassifier\n",
    "# from mlxtend.classifier import StackingClassifier, StackingCVClassifier\n",
    "from prettytable import PrettyTable\n",
    "\n",
    "# to ignore warnings\n",
    "import warnings\n",
    "warnings.filterwarnings(\"ignore\")\n",
    "\n",
    "#to see model hyperparameters\n",
    "from sklearn import set_config\n",
    "set_config(print_changed_only = False)\n",
    "\n",
    "# to show all columns\n",
    "pd.set_option('display.max_columns', 30)\n",
    "\n",
    "print(colored(\"\\nLIBRARIES WERE SUCCESFULLY IMPORTED...\", color = \"green\", attrs = [\"dark\", \"bold\"]))"
   ]
  },
  {
   "cell_type": "code",
   "execution_count": null,
   "id": "f7b159d9",
   "metadata": {},
   "outputs": [],
   "source": [
    "smoking = pd.read_csv(\"../data/Smoking_raw/smoking.csv\")\n",
    "df = smoking.drop(\"ID\", axis = 1)\n",
    "df.head(n = 10).style.background_gradient(cmap = \"Oranges\")"
   ]
  },
  {
   "cell_type": "code",
   "execution_count": null,
   "id": "b4b90c6a",
   "metadata": {
    "scrolled": true
   },
   "outputs": [],
   "source": [
    "# # BMI 지수 계산\n",
    "# # bmi = kg/m^2\n",
    "# df['bmi'] = df['weight_kg'] / ((df['height_cm'] * 0.01) ** 2)\n",
    "# df.head(n = 10).style.background_gradient(cmap = \"Oranges\")"
   ]
  },
  {
   "cell_type": "code",
   "execution_count": null,
   "id": "1078507e",
   "metadata": {},
   "outputs": [],
   "source": [
    "df.rename(columns = {\"height(cm)\" : \"height_cm\", \"weight(kg)\" : \"weight_kg\",\n",
    "                     \"waist(cm)\" : \"waist_cm\", \"eyesight(left)\" : \"eyesight_left\",\n",
    "                     \"eyesight(right)\" : \"eyesight_right\", \"hearing(left)\" : \"hearing_left\",\n",
    "                     \"hearing(right)\" : \"hearing_right\", \"fasting blood sugar\" : \"fasting_blood_sugar\",\n",
    "                     \"Cholesterol\" : \"cholesterol\", \"HDL\" : \"hdl\", \"LDL\" : \"ldl\",\n",
    "                     \"Urine protein\" : \"urine_protein\", \"serum creatinine\" : \"serum_creatinine\",\n",
    "                     \"AST\" : \"ast\", \"ALT\" : \"alt\", \"Gtp\" : \"gtp\", \"dental caries\" : \"dental_caries\"},\n",
    "          inplace = True)\n",
    "\n",
    "print(colored(\"\\nTHE COLUMNS OF DATASET WERE SUCCESFULLY RENAMED...\", color = \"green\", attrs = [\"dark\", \"bold\"]))"
   ]
  },
  {
   "cell_type": "code",
   "execution_count": null,
   "id": "69b24048",
   "metadata": {},
   "outputs": [],
   "source": [
    "df.info()"
   ]
  },
  {
   "cell_type": "code",
   "execution_count": null,
   "id": "cf6ece0f",
   "metadata": {},
   "outputs": [],
   "source": [
    "print(\"\\nThere are totally {} null values in the dataset\".format(df.isnull().sum().sum()))"
   ]
  },
  {
   "cell_type": "code",
   "execution_count": null,
   "id": "d13c713e",
   "metadata": {},
   "outputs": [],
   "source": [
    "df.describe().T.style.background_gradient(cmap = \"coolwarm_r\")"
   ]
  },
  {
   "cell_type": "code",
   "execution_count": null,
   "id": "16f2e5d0",
   "metadata": {},
   "outputs": [],
   "source": [
    "df.corr().style.background_gradient(cmap = \"magma\")"
   ]
  },
  {
   "cell_type": "code",
   "execution_count": null,
   "id": "b4788f44",
   "metadata": {},
   "outputs": [],
   "source": [
    "plt.figure(figsize = [20, 10], clear = True, facecolor = \"white\")\n",
    "sns.heatmap(df.corr(), annot = True, square = False, linewidths = 3,\n",
    "            linecolor = \"white\", cmap = \"Set2\");"
   ]
  },
  {
   "cell_type": "code",
   "execution_count": null,
   "id": "3982c38d",
   "metadata": {},
   "outputs": [],
   "source": [
    "plt.figure(figsize = [8, 8], clear = True, facecolor = \"#ABB2B9\")\n",
    "df[\"smoking\"].value_counts().plot.pie(explode = [0, 0.15], autopct='%1.3f%%', shadow = True);"
   ]
  },
  {
   "cell_type": "code",
   "execution_count": null,
   "id": "250f38bb",
   "metadata": {},
   "outputs": [],
   "source": [
    "plt.figure(figsize = [8, 8], clear = True, facecolor = \"#ABB2B9\")\n",
    "df[\"gender\"].value_counts().plot.pie(explode = [0, 0.15], autopct='%1.2f%%', shadow = True);\n"
   ]
  },
  {
   "cell_type": "code",
   "execution_count": null,
   "id": "d62ac356",
   "metadata": {},
   "outputs": [],
   "source": [
    "fig, axes = plt.subplots(2, 2, figsize = (12, 12))\n",
    "axes = axes.flatten()\n",
    "\n",
    "sns.barplot(ax = axes[0],\n",
    "            x = df[\"gender\"].value_counts().index,\n",
    "            y = df[\"gender\"].value_counts(),\n",
    "            data = df, saturation = 1).set(title = \"Frequency of classes of the 'gender' variable\");\n",
    "\n",
    "sns.barplot(ax = axes[1],\n",
    "            x = df[\"tartar\"].value_counts().index,\n",
    "            y = df[\"tartar\"].value_counts(),\n",
    "            data = df, saturation = 1).set(title = \"Frequency of cases of tartar\");\n",
    "\n",
    "sns.barplot(ax = axes[2],\n",
    "            x = df[\"dental_caries\"].value_counts().index,\n",
    "            y = df[\"dental_caries\"].value_counts(),\n",
    "            data = df, saturation = 1).set(title = \"Frequency of cases of dental caries\");\n",
    "\n",
    "sns.barplot(ax = axes[3],\n",
    "            x = df[\"smoking\"].value_counts().index,\n",
    "            y = df[\"smoking\"].value_counts(),\n",
    "            data = df, saturation = 1).set(title = \"Frequency of classes of the 'smoking' variable\")"
   ]
  },
  {
   "cell_type": "code",
   "execution_count": null,
   "id": "68b03e4b",
   "metadata": {},
   "outputs": [],
   "source": [
    "sns.catplot(x = \"gender\",\n",
    "            y = \"cholesterol\",\n",
    "            kind = \"box\",\n",
    "            hue = \"smoking\",\n",
    "            color = '#F83419',\n",
    "            data = df, saturation = 1, height = 7, aspect = 1.3,\n",
    "            margin_titles = True).set(title = \"cholesterol level by gender and smoking\");"
   ]
  },
  {
   "cell_type": "code",
   "execution_count": null,
   "id": "b493db6a",
   "metadata": {},
   "outputs": [],
   "source": [
    "sns.catplot(x = \"gender\",\n",
    "            y = \"weight_kg\",\n",
    "            hue = \"smoking\",\n",
    "            kind = \"boxen\",\n",
    "            color = '#B3EE22',\n",
    "            data = df, saturation = 1, height = 7, aspect = 1.3,\n",
    "            margin_titles = True).set(title = \"weight by gender and smoking\");"
   ]
  },
  {
   "cell_type": "code",
   "execution_count": null,
   "id": "2ca13613",
   "metadata": {},
   "outputs": [],
   "source": [
    "sns.catplot(x = \"gender\",\n",
    "            y = \"age\",\n",
    "            hue = \"smoking\",\n",
    "            kind = \"boxen\",\n",
    "            color = '#468A85',\n",
    "            data = df, saturation = 1, height = 7, aspect = 1.3,\n",
    "            margin_titles = True).set(title = \"age by gender (male and female) and smoking\");\n"
   ]
  },
  {
   "cell_type": "code",
   "execution_count": null,
   "id": "905fb2f3",
   "metadata": {},
   "outputs": [],
   "source": [
    "sns.catplot(x = \"gender\",\n",
    "            y = \"relaxation\",\n",
    "            hue = \"smoking\",\n",
    "            kind = \"violin\",\n",
    "            color = '#FB2604',\n",
    "            data = df, saturation = 1, height = 7, aspect = 1.35,\n",
    "            margin_titles = True).set(title = \"relaxation by gender and smoking\");\n"
   ]
  },
  {
   "cell_type": "code",
   "execution_count": null,
   "id": "b5b0bfe4",
   "metadata": {},
   "outputs": [],
   "source": [
    "g = sns.catplot(x = \"gender\", y = \"serum_creatinine\", col = \"smoking\", \n",
    "                hue = \"dental_caries\",\n",
    "                data = df,\n",
    "                saturation = 1,\n",
    "                kind = \"bar\",\n",
    "                ci = \"sd\",\n",
    "                aspect = 0.99)\n",
    "\n",
    "(g.set_axis_labels(\"\", \"serum creatinine\").set_xticklabels([\"male\", \"female\"])\n",
    "  .set_titles(\"{col_name} {col_var}\").despine(left = True));  "
   ]
  },
  {
   "cell_type": "code",
   "execution_count": null,
   "id": "c12c8237",
   "metadata": {},
   "outputs": [],
   "source": [
    "fig, axes = plt.subplots(2, 3, figsize = (20, 12))\n",
    "axes = axes.flatten()\n",
    "\n",
    "sns.scatterplot(ax = axes[0], x = \"weight_kg\", y = \"hemoglobin\",\n",
    "                hue = \"smoking\", size = \"gender\", sizes=(20, 100), legend=\"full\",\n",
    "                data = df).set(title = \"Relationship between 'weight_kg' and 'hemoglobin'\");\n",
    "\n",
    "sns.scatterplot(ax = axes[1], x = \"weight_kg\", y = \"cholesterol\", hue = \"smoking\",\n",
    "                size = \"gender\", sizes=(20, 100), legend=\"full\",\n",
    "                data = df).set(title = \"Relationship between 'weight_kg' and 'cholesterol'\");\n",
    "\n",
    "sns.scatterplot(ax = axes[2], x = \"weight_kg\", y = \"urine_protein\", hue = \"smoking\",\n",
    "                size = \"gender\", sizes=(20, 100), legend=\"full\",\n",
    "                data = df).set(title = \"Relationship between 'weight_kg' and 'urine_protein'\");\n",
    "\n",
    "sns.scatterplot(ax = axes[3], x = \"weight_kg\", y = \"serum_creatinine\", hue = \"smoking\",\n",
    "                size = \"gender\", sizes=(20, 100), legend=\"full\",\n",
    "                data = df).set(title = \"Relationship between 'weight_kg' and 'serum_creatinine'\");\n",
    "\n",
    "sns.scatterplot(ax = axes[4], x = \"weight_kg\", y = \"age\", hue = \"smoking\",\n",
    "                size = \"gender\", sizes=(20, 100), legend=\"full\",\n",
    "                data = df).set(title = \"Relationship between 'weight_kg' and 'age'\");\n",
    "\n",
    "sns.scatterplot(ax = axes[5], x = \"weight_kg\", y = \"fasting_blood_sugar\", hue = \"smoking\",\n",
    "                size = \"gender\", sizes=(20, 100), legend=\"full\",\n",
    "                data = df).set(title = \"Relationship between 'weight_kg' and 'fasting_blood_sugar'\");"
   ]
  },
  {
   "cell_type": "code",
   "execution_count": null,
   "id": "b0786b0f",
   "metadata": {},
   "outputs": [],
   "source": [
    "df.hist(figsize = (20, 20), bins = 12, legend = False);"
   ]
  },
  {
   "cell_type": "code",
   "execution_count": null,
   "id": "d1c66af5",
   "metadata": {},
   "outputs": [],
   "source": [
    "df.head(n = 10).style.background_gradient(cmap = \"Oranges\")"
   ]
  },
  {
   "cell_type": "code",
   "execution_count": null,
   "id": "d6110d23",
   "metadata": {},
   "outputs": [],
   "source": [
    "def outlier_detection(df, n, columns):\n",
    "    rows = []\n",
    "    will_drop_train = []\n",
    "    for col in columns:\n",
    "        Q1 = np.nanpercentile(df[col], 25)\n",
    "        Q3 = np.nanpercentile(df[col], 75)\n",
    "        IQR = Q3 - Q1\n",
    "        outlier_point = 1.5 * IQR\n",
    "        rows.extend(df[(df[col] < Q1 - outlier_point)|(df[col] > Q3 + outlier_point)].index)\n",
    "    for r, c in Counter(rows).items():\n",
    "        if c >= n: will_drop_train.append(r)\n",
    "    return will_drop_train\n",
    "\n",
    "will_drop_train = outlier_detection(df, 5, df.select_dtypes([\"float\", \"int\"]).columns)\n",
    "will_drop_train[0:5]"
   ]
  },
  {
   "cell_type": "code",
   "execution_count": null,
   "id": "489a882a",
   "metadata": {},
   "outputs": [],
   "source": [
    "lbe = LabelEncoder()\n",
    "lbe.fit_transform(df[\"gender\"])\n",
    "df[\"gender\"] = lbe.fit_transform(df[\"gender\"])"
   ]
  },
  {
   "cell_type": "code",
   "execution_count": null,
   "id": "9635547a",
   "metadata": {},
   "outputs": [],
   "source": [
    "lbe = LabelEncoder()\n",
    "lbe.fit_transform(df[\"tartar\"])\n",
    "df[\"tartar\"] = lbe.fit_transform(df[\"tartar\"])"
   ]
  },
  {
   "cell_type": "code",
   "execution_count": null,
   "id": "fc017169",
   "metadata": {},
   "outputs": [],
   "source": [
    "lbe = LabelEncoder()\n",
    "lbe.fit_transform(df[\"oral\"])\n",
    "df[\"oral\"] = lbe.fit_transform(df[\"oral\"])"
   ]
  },
  {
   "cell_type": "code",
   "execution_count": null,
   "id": "045d0b8e",
   "metadata": {},
   "outputs": [],
   "source": [
    "# select dependent variable (label)\n",
    "y = df[\"smoking\"]\n",
    "\n",
    "# select independent variable (estimator)\n",
    "x = df.drop(\"smoking\", axis = 1)"
   ]
  },
  {
   "cell_type": "code",
   "execution_count": null,
   "id": "aa42c972",
   "metadata": {},
   "outputs": [],
   "source": [
    "x.info()"
   ]
  },
  {
   "cell_type": "code",
   "execution_count": null,
   "id": "48166ce4",
   "metadata": {},
   "outputs": [],
   "source": [
    "y"
   ]
  },
  {
   "cell_type": "code",
   "execution_count": null,
   "id": "202984d2",
   "metadata": {},
   "outputs": [],
   "source": [
    "x_train, x_test, y_train, y_test = train_test_split(x, y,\n",
    "                                                    test_size = 0.10,\n",
    "                                                    shuffle = True,\n",
    "                                                    random_state = 1)"
   ]
  },
  {
   "cell_type": "code",
   "execution_count": null,
   "id": "7918b462",
   "metadata": {},
   "outputs": [],
   "source": [
    "scaler = MinMaxScaler()\n",
    "scaler.fit(x_train)\n",
    "x_train = scaler.transform(x_train)\n",
    "x_test = scaler.transform(x_test)"
   ]
  },
  {
   "cell_type": "code",
   "execution_count": null,
   "id": "5ca81939",
   "metadata": {},
   "outputs": [],
   "source": [
    "x_train"
   ]
  },
  {
   "cell_type": "code",
   "execution_count": null,
   "id": "450a657b",
   "metadata": {},
   "outputs": [],
   "source": [
    "x_test"
   ]
  },
  {
   "cell_type": "code",
   "execution_count": null,
   "id": "bb50ab83",
   "metadata": {},
   "outputs": [],
   "source": [
    "import time\n",
    "start_time = time.time()\n",
    "xgb_model = XGBClassifier(n_estimators = 2000, learning_rate=0.3, max_depth=15)\n",
    "xgb_model.fit(x_train, y_train)\n",
    "print(\"XGB 수행 시간: {0:.1f} 초 \".format(time.time() - start_time))"
   ]
  },
  {
   "cell_type": "code",
   "execution_count": null,
   "id": "c0742113",
   "metadata": {},
   "outputs": [],
   "source": [
    "# learning_rate = 0.3(default), max_depth=6(default) -> 21.8 sec\n",
    "y_pred = xgb_model.predict(x_test)\n",
    "accuracy_score(y_test, y_pred)"
   ]
  },
  {
   "cell_type": "code",
   "execution_count": null,
   "id": "a80d8612",
   "metadata": {},
   "outputs": [],
   "source": [
    "# learning_rate = 0.2 -> 21.6 sec\n",
    "y_pred = xgb_model.predict(x_test)\n",
    "accuracy_score(y_test, y_pred)"
   ]
  },
  {
   "cell_type": "code",
   "execution_count": null,
   "id": "bc6b77ec",
   "metadata": {},
   "outputs": [],
   "source": [
    "# learning_rate = 0.1 -> 21.4 sec\n",
    "y_pred = xgb_model.predict(x_test)\n",
    "accuracy_score(y_test, y_pred)"
   ]
  },
  {
   "cell_type": "code",
   "execution_count": null,
   "id": "b1506a31",
   "metadata": {},
   "outputs": [],
   "source": [
    "# learning_rate = 0.05 -> 23.3 sec\n",
    "y_pred = xgb_model.predict(x_test)\n",
    "accuracy_score(y_test, y_pred)"
   ]
  },
  {
   "cell_type": "code",
   "execution_count": null,
   "id": "ff967891",
   "metadata": {},
   "outputs": [],
   "source": [
    "# learning_rate = 0.4 -> 21.5 sec\n",
    "y_pred = xgb_model.predict(x_test)\n",
    "accuracy_score(y_test, y_pred)"
   ]
  },
  {
   "cell_type": "code",
   "execution_count": null,
   "id": "ce89f718",
   "metadata": {},
   "outputs": [],
   "source": [
    "# max_depth = 3 -> 10.3 sec\n",
    "y_pred = xgb_model.predict(x_test)\n",
    "accuracy_score(y_test, y_pred)"
   ]
  },
  {
   "cell_type": "code",
   "execution_count": null,
   "id": "93a02506",
   "metadata": {},
   "outputs": [],
   "source": [
    "# max_depth = 5 -> 17.9 sec\n",
    "y_pred = xgb_model.predict(x_test)\n",
    "accuracy_score(y_test, y_pred)"
   ]
  },
  {
   "cell_type": "code",
   "execution_count": null,
   "id": "9a3db611",
   "metadata": {},
   "outputs": [],
   "source": [
    "# max_depth = 7 -> 25.9 sec\n",
    "y_pred = xgb_model.predict(x_test)\n",
    "accuracy_score(y_test, y_pred)"
   ]
  },
  {
   "cell_type": "code",
   "execution_count": null,
   "id": "2959116e",
   "metadata": {},
   "outputs": [],
   "source": [
    "# max_depth = 9 -> 33.6 sec\n",
    "y_pred = xgb_model.predict(x_test)\n",
    "accuracy_score(y_test, y_pred)"
   ]
  },
  {
   "cell_type": "code",
   "execution_count": null,
   "id": "e0a69142",
   "metadata": {},
   "outputs": [],
   "source": [
    "# max_depth = 10 -> 35.9 sec\n",
    "y_pred = xgb_model.predict(x_test)\n",
    "accuracy_score(y_test, y_pred)"
   ]
  },
  {
   "cell_type": "code",
   "execution_count": null,
   "id": "d4f1ecde",
   "metadata": {},
   "outputs": [],
   "source": [
    "# max_depth = 0 -> 2.1 sec\n",
    "y_pred = xgb_model.predict(x_test)\n",
    "accuracy_score(y_test, y_pred)"
   ]
  },
  {
   "cell_type": "code",
   "execution_count": null,
   "id": "757b0236",
   "metadata": {},
   "outputs": [],
   "source": [
    "# max_depth = 15 -> 50.0 sec\n",
    "y_pred = xgb_model.predict(x_test)\n",
    "accuracy_score(y_test, y_pred)"
   ]
  },
  {
   "cell_type": "code",
   "execution_count": null,
   "id": "eb0b5b44",
   "metadata": {},
   "outputs": [],
   "source": [
    "from sklearn.metrics import confusion_matrix, accuracy_score\n",
    "from sklearn.metrics import precision_score, recall_score\n",
    "from sklearn.metrics import f1_score, roc_auc_score\n",
    "\n",
    "def get_clf_eval(y_test, pred=None, pred_proba=None):\n",
    "    confusion = confusion_matrix( y_test, pred)\n",
    "    accuracy = accuracy_score(y_test , pred)\n",
    "    precision = precision_score(y_test , pred)\n",
    "    recall = recall_score(y_test , pred)\n",
    "    f1 = f1_score(y_test,pred)\n",
    "    # ROC-AUC 추가 \n",
    "    roc_auc = roc_auc_score(y_test, pred_proba)\n",
    "    print('오차 행렬')\n",
    "    print(confusion)\n",
    "    # ROC-AUC print 추가\n",
    "    print('정확도: {0:.4f}, 정밀도: {1:.4f}, 재현율: {2:.4f},\\\n",
    "    F1: {3:.4f}, AUC:{4:.4f}'.format(accuracy, precision, recall, f1, roc_auc))"
   ]
  },
  {
   "cell_type": "code",
   "execution_count": null,
   "id": "6586d4e6",
   "metadata": {},
   "outputs": [],
   "source": [
    "preds = [1 if x > 0.5 else 0 for x in y_pred]\n",
    "print(np.round(preds[:10]))"
   ]
  },
  {
   "cell_type": "code",
   "execution_count": null,
   "id": "1f597229",
   "metadata": {},
   "outputs": [],
   "source": [
    "get_clf_eval(y_test, preds, y_pred)"
   ]
  },
  {
   "cell_type": "code",
   "execution_count": null,
   "id": "88ccc759",
   "metadata": {},
   "outputs": [],
   "source": [
    "import matplotlib.pyplot as plt\n",
    "import xgboost\n",
    "%matplotlib inline\n",
    "fig, ax = plt.subplots(figsize=(10,12)) # 축 반환\n",
    "xgboost.plot_importance(xgb_model, ax=ax)"
   ]
  }
 ],
 "metadata": {
  "kernelspec": {
   "display_name": "Python 3 (ipykernel)",
   "language": "python",
   "name": "python3"
  },
  "language_info": {
   "codemirror_mode": {
    "name": "ipython",
    "version": 3
   },
   "file_extension": ".py",
   "mimetype": "text/x-python",
   "name": "python",
   "nbconvert_exporter": "python",
   "pygments_lexer": "ipython3",
   "version": "3.9.7"
  }
 },
 "nbformat": 4,
 "nbformat_minor": 5
}
