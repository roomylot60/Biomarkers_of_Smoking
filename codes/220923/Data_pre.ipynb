{
 "cells": [
  {
   "cell_type": "code",
   "execution_count": null,
   "id": "79cf237b",
   "metadata": {},
   "outputs": [],
   "source": [
    "import pandas as pd"
   ]
  },
  {
   "cell_type": "code",
   "execution_count": null,
   "id": "3d399cb2",
   "metadata": {},
   "outputs": [],
   "source": [
    "smoking = pd.read_csv(\"../data/smoking.csv\")\n",
    "df = smoking.drop(\"ID\", axis = 1)\n",
    "df.head()"
   ]
  },
  {
   "cell_type": "code",
   "execution_count": null,
   "id": "c3de1202",
   "metadata": {},
   "outputs": [],
   "source": [
    "df.info()"
   ]
  },
  {
   "cell_type": "code",
   "execution_count": null,
   "id": "6bfac638",
   "metadata": {},
   "outputs": [],
   "source": [
    "df['waist(cm)'].value_counts()"
   ]
  },
  {
   "cell_type": "code",
   "execution_count": null,
   "id": "71fe2d71",
   "metadata": {},
   "outputs": [],
   "source": [
    "smoking = df['smoking']\n",
    "smoking.reset('smoking')"
   ]
  },
  {
   "cell_type": "code",
   "execution_count": null,
   "id": "6bf1fd39",
   "metadata": {},
   "outputs": [],
   "source": [
    "import pandas as pd\n",
    "\n",
    "cat1 = df.loc[:,'gender':'hearing(right)']\n",
    "cat1['smoking'] = df['smoking']\n",
    "cat1.corr()\n",
    "\n",
    "cat2 = df.loc[:,'systolic':'hemoglobin']\n",
    "cat2\n",
    "cat3 = df.loc[:,'Urine protein':'serum creatinine']\n",
    "cat4 = df.loc[:,'AST':'Gtp']\n",
    "cat5 = df.loc[:,'oral':'smoking']"
   ]
  },
  {
   "cell_type": "code",
   "execution_count": null,
   "id": "79ff6885",
   "metadata": {},
   "outputs": [],
   "source": []
  },
  {
   "cell_type": "code",
   "execution_count": null,
   "id": "8886d353",
   "metadata": {},
   "outputs": [],
   "source": [
    "df['systolic']"
   ]
  },
  {
   "cell_type": "code",
   "execution_count": null,
   "id": "528be5a8",
   "metadata": {},
   "outputs": [],
   "source": [
    "df['relaxation']"
   ]
  },
  {
   "cell_type": "code",
   "execution_count": null,
   "id": "ab3cd744",
   "metadata": {},
   "outputs": [],
   "source": [
    "print(df['AST'].value_counts())\n",
    "print(df['ALT'].value_counts())\n",
    "print(df['Gtp'].value_counts())"
   ]
  },
  {
   "cell_type": "code",
   "execution_count": null,
   "id": "83202f1e",
   "metadata": {},
   "outputs": [],
   "source": [
    "df['oral'].value_counts()"
   ]
  },
  {
   "cell_type": "code",
   "execution_count": null,
   "id": "90113d86",
   "metadata": {},
   "outputs": [],
   "source": [
    "df['dental caries'].value_counts()"
   ]
  },
  {
   "cell_type": "code",
   "execution_count": null,
   "id": "94e8ee5c",
   "metadata": {},
   "outputs": [],
   "source": [
    "df['tartar'].value_counts()"
   ]
  },
  {
   "cell_type": "code",
   "execution_count": null,
   "id": "e32b7433",
   "metadata": {
    "scrolled": true
   },
   "outputs": [],
   "source": [
    "df['smoking'].value_counts()"
   ]
  },
  {
   "cell_type": "code",
   "execution_count": null,
   "id": "9c87d105",
   "metadata": {
    "scrolled": true
   },
   "outputs": [],
   "source": [
    "df.drop('oral',axis=1)"
   ]
  },
  {
   "cell_type": "code",
   "execution_count": null,
   "id": "0d5e6bb3",
   "metadata": {},
   "outputs": [],
   "source": [
    "from sklearn.preprocessing import LabelEncoder\n",
    "lbe = LabelEncoder()\n",
    "lbe.fit_transform(df['tartar'])"
   ]
  },
  {
   "cell_type": "code",
   "execution_count": null,
   "id": "55c69757",
   "metadata": {},
   "outputs": [],
   "source": [
    "import matplotlib.pyplot as plt\n",
    "\n",
    "plt.hist(df['relaxation'])"
   ]
  },
  {
   "cell_type": "code",
   "execution_count": null,
   "id": "b749c3e2",
   "metadata": {},
   "outputs": [],
   "source": [
    "plt.hist(df['triglyceride'])"
   ]
  },
  {
   "cell_type": "code",
   "execution_count": null,
   "id": "9b325622",
   "metadata": {},
   "outputs": [],
   "source": [
    "plt.hist(df['HDL'])"
   ]
  },
  {
   "cell_type": "code",
   "execution_count": null,
   "id": "f422edb1",
   "metadata": {
    "scrolled": true
   },
   "outputs": [],
   "source": [
    "plt.hist(df['LDL'])"
   ]
  },
  {
   "cell_type": "code",
   "execution_count": null,
   "id": "8db76d26",
   "metadata": {
    "scrolled": true
   },
   "outputs": [],
   "source": [
    "plt.hist(df['Urine protein'])"
   ]
  },
  {
   "cell_type": "code",
   "execution_count": null,
   "id": "7ec0dd69",
   "metadata": {},
   "outputs": [],
   "source": [
    "plt.hist(df['serum creatinine'])"
   ]
  },
  {
   "cell_type": "code",
   "execution_count": null,
   "id": "c2c78b6d",
   "metadata": {},
   "outputs": [],
   "source": [
    "plt.hist(df['AST'])"
   ]
  },
  {
   "cell_type": "code",
   "execution_count": null,
   "id": "164d64f2",
   "metadata": {},
   "outputs": [],
   "source": [
    "df['hearing(right)'].value_counts()"
   ]
  },
  {
   "cell_type": "code",
   "execution_count": null,
   "id": "13cc61f0",
   "metadata": {},
   "outputs": [],
   "source": [
    "df['Urine protein'].value_counts()"
   ]
  },
  {
   "cell_type": "code",
   "execution_count": null,
   "id": "c08e920e",
   "metadata": {},
   "outputs": [],
   "source": [
    "from sklearn.preprocessing import MinMaxScaler\n",
    "\n",
    "scaler = MinMaxScaler()\n",
    "scaler.fit(X_train)  #train꺼로 transform한걸로 fit 중요!!!!\n",
    "X_train_scaled = scaler.transform(X_train)\n",
    "X_test_scaled = scaler.transform(X_test)"
   ]
  }
 ],
 "metadata": {
  "kernelspec": {
   "display_name": "Python 3 (ipykernel)",
   "language": "python",
   "name": "python3"
  },
  "language_info": {
   "codemirror_mode": {
    "name": "ipython",
    "version": 3
   },
   "file_extension": ".py",
   "mimetype": "text/x-python",
   "name": "python",
   "nbconvert_exporter": "python",
   "pygments_lexer": "ipython3",
   "version": "3.9.7"
  }
 },
 "nbformat": 4,
 "nbformat_minor": 5
}
