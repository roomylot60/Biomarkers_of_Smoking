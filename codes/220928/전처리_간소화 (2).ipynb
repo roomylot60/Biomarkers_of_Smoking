{
 "cells": [
  {
   "cell_type": "markdown",
   "id": "0f050fc0",
   "metadata": {
    "id": "0f050fc0"
   },
   "source": [
    "- smoking.csv와 competition_format에 있는 데이터에 전처리를 모두 적용하고자 전처리 코드 함수화 후 재업로드합니다.\n",
    "- 추가하거나 수정하실 사항 있으시면 자유롭게 첨삭해주시면 감사하겠습니다.\n",
    "- bmi 컬럼 추가를 위해 계산식을 포함시키고 주석처리 해뒀습니다 - 22/9/27\n",
    "- wwi 컬럼 추가를 위해 계산식을 포함시키고 주석처리 해뒀습니다 - 22/9/28\n",
    "    - 허리둘레를 체중의 제곱근으로 나눈 값\n",
    "    - \"waist(cm)\"/sqrt(\"weight(kg)\")\n",
    "    - WWI 수치가 높으면 지방이 많은 비만 환자이고 수치가 낮으면 근육이 상대적으로 많은 정상 체중이라는 의미\n",
    "- hearing(left), hearing(right) 피처 1, 2 => 1, 0 으로 변환 -22/9/28"
   ]
  },
  {
   "cell_type": "code",
   "execution_count": null,
   "id": "aaf04e99",
   "metadata": {
    "id": "aaf04e99"
   },
   "outputs": [],
   "source": [
    "import pandas as pd\n",
    "import numpy as np\n",
    "from sklearn.preprocessing import LabelEncoder # for encoding\n",
    "from sklearn.preprocessing import MinMaxScaler, RobustScaler, StandardScaler #for standardization\n",
    "from sklearn.model_selection import train_test_split"
   ]
  },
  {
   "cell_type": "code",
   "execution_count": null,
   "id": "70599c4c",
   "metadata": {
    "id": "70599c4c"
   },
   "outputs": [],
   "source": [
    "def preprocessing(df_scaling, scaled_form = 'MinMaxScaler()'):\n",
    "    # 불필요한 컬럼 제거\n",
    "    if 'ID' in df_scaling:\n",
    "        df_scaling = df_scaling.drop(\"ID\", axis = 1)\n",
    "        if len(df_scaling.columns) == 1:\n",
    "            return df_scaling\n",
    "        \n",
    "        df_scaling = df_scaling.drop('oral', axis = 1) \n",
    "        # 범주형 피처 레이블 인코딩 \n",
    "        cate_features = df_scaling[['gender','tartar']]\n",
    "\n",
    "        lbe = LabelEncoder()\n",
    "        lbe.fit_transform(df_scaling[\"gender\"])\n",
    "        df_scaling[\"gender\"] = lbe.fit_transform(df_scaling[\"gender\"])\n",
    "\n",
    "        lbe = LabelEncoder()\n",
    "        lbe.fit_transform(df_scaling[\"tartar\"])\n",
    "        df_scaling[\"tartar\"] = lbe.fit_transform(df_scaling[\"tartar\"])\n",
    "        # hearing 피처 1, 2 => 1, 0으로 변환\n",
    "        df_scaling['hearing(left)'] = df_scaling['hearing(left)'].apply(lambda x: x-2 if x ==2.0 else x )\n",
    "        df_scaling['hearing(right)'] = df_scaling['hearing(right)'].apply(lambda x: x-2 if x ==2.0 else x )\n",
    "        \n",
    "#         # BMI 지수 계산\n",
    "#         # bmi = kg/m^2\n",
    "#         df_scaling['bmi'] = df_scaling['weight(kg)']/((df_scaling['height(cm)']*0.01)**2)\n",
    "#         # wwi(비만 지수) 지수 계산\n",
    "#         df_scaling['wwi'] = df_scaling['waist(cm)']/(df_scaling['weight(kg)'].apply(np.sqrt))\n",
    "\n",
    "        # 정규화 작업\n",
    "        cate_features = df_scaling[['gender', 'tartar', 'hearing(right)', 'hearing(left)', 'dental caries']]\n",
    "        scaled_features = df_scaling.drop(cate_features.columns, axis=1)\n",
    "        if scaled_form == 'StandardScaler()':\n",
    "            # Standard scaler\n",
    "            scaler = StandardScaler()\n",
    "            scaler.fit(scaled_features)\n",
    "            scaled = scaler.transform(scaled_features)\n",
    "            standard_scaled = pd.DataFrame(scaled,columns = scaled_features.columns)\n",
    "            standard_scaled[cate_features.columns] = cate_features\n",
    "\n",
    "            return standard_scaled\n",
    "        else:\n",
    "            # MinMax scaler\n",
    "            scaler_M = MinMaxScaler()\n",
    "            scaler_M.fit(scaled_features)\n",
    "            scaled_M = scaler_M.transform(scaled_features)\n",
    "            min_max_scaled = pd.DataFrame(scaled_M,columns = scaled_features.columns)\n",
    "            min_max_scaled[cate_features.columns] = cate_features\n",
    "\n",
    "            return min_max_scaled"
   ]
  },
  {
   "cell_type": "code",
   "execution_count": null,
   "id": "a55fc995",
   "metadata": {
    "id": "a55fc995"
   },
   "outputs": [],
   "source": [
    "smoking = pd.read_csv('./data/Smoking_raw/smoking.csv')"
   ]
  },
  {
   "cell_type": "code",
   "execution_count": null,
   "id": "f039c53c",
   "metadata": {
    "id": "f039c53c"
   },
   "outputs": [],
   "source": [
    "scaled_data = preprocessing(smoking)"
   ]
  },
  {
   "cell_type": "code",
   "execution_count": null,
   "id": "e5c475c0",
   "metadata": {
    "id": "e5c475c0"
   },
   "outputs": [],
   "source": [
    "target = scaled_data['smoking']"
   ]
  },
  {
   "cell_type": "code",
   "execution_count": null,
   "id": "18d32f52",
   "metadata": {
    "id": "18d32f52"
   },
   "outputs": [],
   "source": [
    "x_train, x_test, y_train, y_test = train_test_split(scaled_data, target, test_size = 0.1, random_state=0)"
   ]
  },
  {
   "cell_type": "markdown",
   "id": "54aa4803",
   "metadata": {
    "id": "54aa4803"
   },
   "source": [
    "# competition_format"
   ]
  },
  {
   "cell_type": "code",
   "execution_count": null,
   "id": "f0203f97",
   "metadata": {
    "id": "f0203f97"
   },
   "outputs": [],
   "source": [
    "# competition_format\n",
    "x_train = pd.read_csv('./data/Smoking_raw/competition_format/x_train.csv')\n",
    "x_test = pd.read_csv('./data/Smoking_raw/competition_format/x_test.csv')\n",
    "y_train = pd.read_csv('./data/Smoking_raw/competition_format/y_train.csv')\n",
    "y_test = pd.read_csv('./data/Smoking_raw/competition_format/y_test.csv')"
   ]
  },
  {
   "cell_type": "code",
   "execution_count": null,
   "id": "9d0aacda",
   "metadata": {
    "id": "9d0aacda"
   },
   "outputs": [],
   "source": [
    "x_train = preprocessing(x_train)\n",
    "x_test = preprocessing(x_test)\n",
    "y_train = preprocessing(y_train)\n",
    "y_test = preprocessing(y_test)"
   ]
  },
  {
   "cell_type": "code",
   "execution_count": null,
   "id": "efbe14e7",
   "metadata": {
    "id": "efbe14e7",
    "outputId": "b7efac7b-1d17-4d70-8200-98459718f161"
   },
   "outputs": [],
   "source": [
    "x_test"
   ]
  },
  {
   "cell_type": "code",
   "execution_count": null,
   "id": "ec2ab153",
   "metadata": {
    "id": "ec2ab153",
    "outputId": "77b17fc1-9da4-41a3-ecc8-96817aef3951"
   },
   "outputs": [],
   "source": [
    "y_train"
   ]
  },
  {
   "cell_type": "code",
   "execution_count": null,
   "id": "3432fb2d",
   "metadata": {
    "id": "3432fb2d",
    "outputId": "a4db6b5a-fa27-49f3-c5b2-9d2a4039ab50"
   },
   "outputs": [],
   "source": [
    "y_test"
   ]
  },
  {
   "cell_type": "code",
   "execution_count": null,
   "id": "003d8cf7",
   "metadata": {
    "id": "003d8cf7"
   },
   "outputs": [],
   "source": []
  },
  {
   "cell_type": "code",
   "execution_count": null,
   "id": "de9af8e6",
   "metadata": {
    "id": "de9af8e6"
   },
   "outputs": [],
   "source": []
  },
  {
   "cell_type": "code",
   "execution_count": null,
   "id": "5b34e295",
   "metadata": {
    "id": "5b34e295"
   },
   "outputs": [],
   "source": []
  },
  {
   "cell_type": "code",
   "execution_count": null,
   "id": "a6ca6eca",
   "metadata": {
    "id": "a6ca6eca"
   },
   "outputs": [],
   "source": []
  }
 ],
 "metadata": {
  "colab": {
   "collapsed_sections": [],
   "provenance": []
  },
  "kernelspec": {
   "display_name": "Python 3 (ipykernel)",
   "language": "python",
   "name": "python3"
  },
  "language_info": {
   "codemirror_mode": {
    "name": "ipython",
    "version": 3
   },
   "file_extension": ".py",
   "mimetype": "text/x-python",
   "name": "python",
   "nbconvert_exporter": "python",
   "pygments_lexer": "ipython3",
   "version": "3.9.7"
  }
 },
 "nbformat": 4,
 "nbformat_minor": 5
}
