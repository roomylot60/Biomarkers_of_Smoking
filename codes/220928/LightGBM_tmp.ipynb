{
 "cells": [
  {
   "cell_type": "code",
   "execution_count": null,
   "id": "42db5143",
   "metadata": {},
   "outputs": [],
   "source": [
    "import pandas as pd\n",
    "import numpy as np\n",
    "import matplotlib.pyplot as plt\n",
    "import seaborn as sns\n",
    "from sklearn.preprocessing import LabelEncoder # for encoding\n",
    "from sklearn.preprocessing import MinMaxScaler, StandardScaler #for standardization"
   ]
  },
  {
   "cell_type": "code",
   "execution_count": null,
   "id": "b3360e45",
   "metadata": {},
   "outputs": [],
   "source": [
    "smoking = pd.read_csv('../data/smoking.csv')"
   ]
  },
  {
   "cell_type": "code",
   "execution_count": null,
   "id": "42dec5c5",
   "metadata": {},
   "outputs": [],
   "source": [
    "smoking.info()\n",
    "# 범주형 데이터 : 'gender', 'smoking', 'tartar', 'hearing(right)', 'hearing(left)', 'dental caries'"
   ]
  },
  {
   "cell_type": "code",
   "execution_count": null,
   "id": "479dcbfc",
   "metadata": {},
   "outputs": [],
   "source": [
    "smoking.head()"
   ]
  },
  {
   "cell_type": "code",
   "execution_count": null,
   "id": "00a11016",
   "metadata": {},
   "outputs": [],
   "source": [
    "smoking.isnull().sum()"
   ]
  },
  {
   "cell_type": "code",
   "execution_count": null,
   "id": "353d6401",
   "metadata": {},
   "outputs": [],
   "source": [
    "df = smoking.drop(\"ID\", axis = 1)\n",
    "df"
   ]
  },
  {
   "cell_type": "code",
   "execution_count": null,
   "id": "58a4cdca",
   "metadata": {},
   "outputs": [],
   "source": [
    "df = df.drop('oral',axis=1) # Oral(=구강검사 여부) 특성값은 모두 Y 값이므로 삭제.\n",
    "df"
   ]
  },
  {
   "cell_type": "code",
   "execution_count": null,
   "id": "79bfaec8",
   "metadata": {},
   "outputs": [],
   "source": [
    "labels = LabelEncoder()\n",
    "labels.fit_transform(df[\"gender\"])\n",
    "df[\"gender\"] = labels.fit_transform(df[\"gender\"])"
   ]
  },
  {
   "cell_type": "code",
   "execution_count": null,
   "id": "57f330fb",
   "metadata": {},
   "outputs": [],
   "source": [
    "labels = LabelEncoder()\n",
    "labels.fit_transform(df[\"tartar\"])\n",
    "df[\"tartar\"] = labels.fit_transform(df[\"tartar\"])"
   ]
  },
  {
   "cell_type": "code",
   "execution_count": null,
   "id": "6df02c0c",
   "metadata": {},
   "outputs": [],
   "source": [
    "df"
   ]
  },
  {
   "cell_type": "code",
   "execution_count": null,
   "id": "55ab142d",
   "metadata": {},
   "outputs": [],
   "source": [
    "cate_features = df[['gender', 'smoking', 'tartar', 'hearing(right)', 'hearing(left)', 'dental caries']] # 레이블 인코딩 완료"
   ]
  },
  {
   "cell_type": "code",
   "execution_count": null,
   "id": "52169076",
   "metadata": {},
   "outputs": [],
   "source": [
    "df.columns"
   ]
  },
  {
   "cell_type": "code",
   "execution_count": null,
   "id": "f8c6d047",
   "metadata": {},
   "outputs": [],
   "source": [
    "# 기초 신체 사항과 흡연의 상관관계\n",
    "cat1 = df.loc[:,'gender':'hearing(right)']\n",
    "cat1['smoking'] = df['smoking']\n",
    "cat1.corr()['smoking']"
   ]
  },
  {
   "cell_type": "code",
   "execution_count": null,
   "id": "48899d87",
   "metadata": {},
   "outputs": [],
   "source": [
    "# 심혈관 및 호흡계 특성과의 상관관계\n",
    "cat2 = df.loc[:,'systolic':'hemoglobin']\n",
    "cat2['smoking'] = df['smoking']\n",
    "cat2.corr()['smoking']"
   ]
  },
  {
   "cell_type": "code",
   "execution_count": null,
   "id": "d35f925c",
   "metadata": {},
   "outputs": [],
   "source": [
    "# 신장계 특성과 흡연의 상관관계\n",
    "cat3 = df.loc[:,'Urine protein':'serum creatinine']\n",
    "cat3['smoking'] = df['smoking']\n",
    "cat3.corr()['smoking']"
   ]
  },
  {
   "cell_type": "code",
   "execution_count": null,
   "id": "b9906c5e",
   "metadata": {},
   "outputs": [],
   "source": [
    "# 간 수치 특성과 흡연의 상관관계\n",
    "cat4 = df.loc[:,'AST':'Gtp']\n",
    "cat4['smoking'] = df['smoking']\n",
    "cat4.corr()['smoking']"
   ]
  },
  {
   "cell_type": "code",
   "execution_count": null,
   "id": "7c5b6d22",
   "metadata": {},
   "outputs": [],
   "source": [
    "# 구강 상태 특성과 흡연의 상관관계\n",
    "cat5 = df.loc[:,'dental caries':]\n",
    "cat5.corr()['smoking']"
   ]
  },
  {
   "cell_type": "code",
   "execution_count": null,
   "id": "7151f442",
   "metadata": {},
   "outputs": [],
   "source": [
    "from lightgbm import LGBMClassifier\n",
    "from sklearn.model_selection import train_test_split"
   ]
  },
  {
   "cell_type": "code",
   "execution_count": null,
   "id": "8747032e",
   "metadata": {},
   "outputs": [],
   "source": [
    "# select dependent variable (label)\n",
    "y = df[\"smoking\"]\n",
    "# select independent variable (estimator)\n",
    "x = cat1"
   ]
  },
  {
   "cell_type": "code",
   "execution_count": null,
   "id": "a683435f",
   "metadata": {},
   "outputs": [],
   "source": [
    "X_train, X_test, y_train, y_test = train_test_split(x, y,\n",
    "                                                    test_size = 0.10,\n",
    "                                                    shuffle = True,\n",
    "                                                    random_state = 1)"
   ]
  },
  {
   "cell_type": "code",
   "execution_count": null,
   "id": "1fba5224",
   "metadata": {},
   "outputs": [],
   "source": [
    "scaler = MinMaxScaler()\n",
    "scaler.fit(X_train)\n",
    "X_train = scaler.transform(X_train)\n",
    "X_test = scaler.transform(X_test)"
   ]
  },
  {
   "cell_type": "code",
   "execution_count": null,
   "id": "c396b441",
   "metadata": {},
   "outputs": [],
   "source": [
    "lgbm_wrapper = LGBMClassifier(n_estimators=400)\n",
    "evals = [(X_test,y_test)]\n",
    "\n",
    "# 학습 : 조기중단 수행(100)\n",
    "lgbm_wrapper.fit(X_train,y_train,early_stopping_rounds=100,\n",
    "                eval_metric='logloss',eval_set=evals, verbose=True)\n",
    "\n",
    "# 예측\n",
    "preds = lgbm_wrapper.predict(X_test)\n",
    "pred_proba = lgbm_wrapper.predict_proba(X_test)[:, 1]"
   ]
  },
  {
   "cell_type": "code",
   "execution_count": null,
   "id": "273c9afa",
   "metadata": {},
   "outputs": [],
   "source": [
    "from sklearn.metrics import confusion_matrix, accuracy_score\n",
    "from sklearn.metrics import precision_score, recall_score\n",
    "from sklearn.metrics import f1_score, roc_auc_score\n",
    "\n",
    "def get_clf_eval(y_test, pred=None, pred_proba=None):\n",
    "    confusion = confusion_matrix( y_test, pred)\n",
    "    accuracy = accuracy_score(y_test , pred)\n",
    "    precision = precision_score(y_test , pred)\n",
    "    recall = recall_score(y_test , pred)\n",
    "    f1 = f1_score(y_test,pred)\n",
    "    # ROC-AUC 추가 \n",
    "    roc_auc = roc_auc_score(y_test, pred_proba)\n",
    "    print('오차 행렬')\n",
    "    print(confusion)\n",
    "    # ROC-AUC print 추가\n",
    "    print('정확도: {0:.4f}, 정밀도: {1:.4f}, 재현율: {2:.4f},F1: {3:.4f}, AUC:{4:.4f}'.format(accuracy, precision, recall, f1, roc_auc))"
   ]
  },
  {
   "cell_type": "code",
   "execution_count": null,
   "id": "1eacbbb6",
   "metadata": {},
   "outputs": [],
   "source": [
    "get_clf_eval(y_test, preds, pred_proba)"
   ]
  },
  {
   "cell_type": "code",
   "execution_count": null,
   "id": "5d2f8e86",
   "metadata": {},
   "outputs": [],
   "source": [
    "# plot_importance( )를 이용하여 feature 중요도 시각화\n",
    "from lightgbm import plot_importance\n",
    "import matplotlib.pyplot as plt\n",
    "%matplotlib inline\n",
    "\n",
    "fig, ax = plt.subplots(figsize=(10, 12))\n",
    "plot_importance(lgbm_wrapper, ax=ax,importance_type='split')"
   ]
  },
  {
   "cell_type": "code",
   "execution_count": null,
   "id": "3198d8c1",
   "metadata": {},
   "outputs": [],
   "source": [
    "cat1.columns"
   ]
  },
  {
   "cell_type": "code",
   "execution_count": null,
   "id": "bfb2e921",
   "metadata": {},
   "outputs": [],
   "source": [
    "# select dependent variable (label)\n",
    "y = df[\"smoking\"]\n",
    "# select independent variable (estimator)\n",
    "x = cat2"
   ]
  },
  {
   "cell_type": "code",
   "execution_count": null,
   "id": "b479b506",
   "metadata": {
    "collapsed": true
   },
   "outputs": [],
   "source": [
    "X_train, X_test, y_train, y_test = train_test_split(x, y,\n",
    "                                                    test_size = 0.10,\n",
    "                                                    shuffle = True,\n",
    "                                                    random_state = 1)\n",
    "scaler = MinMaxScaler()\n",
    "scaler.fit(X_train)\n",
    "X_train = scaler.transform(X_train)\n",
    "X_test = scaler.transform(X_test)\n",
    "\n",
    "lgbm_wrapper = LGBMClassifier(n_estimators=400)\n",
    "evals = [(X_test,y_test)]\n",
    "\n",
    "# 학습 : 조기중단 수행(100)\n",
    "lgbm_wrapper.fit(X_train,y_train,early_stopping_rounds=100,\n",
    "                eval_metric='logloss',eval_set=evals, verbose=True)\n",
    "\n",
    "# 예측\n",
    "preds = lgbm_wrapper.predict(X_test)\n",
    "pred_proba = lgbm_wrapper.predict_proba(X_test)[:, 1]"
   ]
  },
  {
   "cell_type": "code",
   "execution_count": null,
   "id": "899381ad",
   "metadata": {
    "collapsed": true
   },
   "outputs": [],
   "source": [
    "get_clf_eval(y_test, preds, pred_proba)"
   ]
  },
  {
   "cell_type": "code",
   "execution_count": null,
   "id": "b5375b28",
   "metadata": {},
   "outputs": [],
   "source": [
    "fig, ax = plt.subplots(figsize=(10, 12))\n",
    "plot_importance(lgbm_wrapper, ax=ax,importance_type='split')"
   ]
  },
  {
   "cell_type": "code",
   "execution_count": null,
   "id": "46d29c66",
   "metadata": {},
   "outputs": [],
   "source": [
    "# select dependent variable (label)\n",
    "y = df[\"smoking\"]\n",
    "# select independent variable (estimator)\n",
    "x = cat3"
   ]
  },
  {
   "cell_type": "code",
   "execution_count": null,
   "id": "43f3b1f6",
   "metadata": {},
   "outputs": [],
   "source": [
    "X_train, X_test, y_train, y_test = train_test_split(x, y,\n",
    "                                                    test_size = 0.10,\n",
    "                                                    shuffle = True,\n",
    "                                                    random_state = 1)\n",
    "scaler = MinMaxScaler()\n",
    "scaler.fit(X_train)\n",
    "X_train = scaler.transform(X_train)\n",
    "X_test = scaler.transform(X_test)\n",
    "\n",
    "lgbm_wrapper = LGBMClassifier(n_estimators=400)\n",
    "evals = [(X_test,y_test)]\n",
    "\n",
    "# 학습 : 조기중단 수행(100)\n",
    "lgbm_wrapper.fit(X_train,y_train,early_stopping_rounds=100,\n",
    "                eval_metric='logloss',eval_set=evals, verbose=True)\n",
    "\n",
    "# 예측\n",
    "preds = lgbm_wrapper.predict(X_test)\n",
    "pred_proba = lgbm_wrapper.predict_proba(X_test)[:, 1]"
   ]
  },
  {
   "cell_type": "code",
   "execution_count": null,
   "id": "f08a516b",
   "metadata": {},
   "outputs": [],
   "source": [
    "get_clf_eval(y_test, preds, pred_proba)"
   ]
  },
  {
   "cell_type": "code",
   "execution_count": null,
   "id": "dd821cf1",
   "metadata": {},
   "outputs": [],
   "source": [
    "fig, ax = plt.subplots(figsize=(10, 12))\n",
    "plot_importance(lgbm_wrapper, ax=ax,importance_type='split')"
   ]
  },
  {
   "cell_type": "code",
   "execution_count": null,
   "id": "0ff70710",
   "metadata": {},
   "outputs": [],
   "source": [
    "# select dependent variable (label)\n",
    "y = df[\"smoking\"]\n",
    "# select independent variable (estimator)\n",
    "x = cat4"
   ]
  },
  {
   "cell_type": "code",
   "execution_count": null,
   "id": "9c5d1ab4",
   "metadata": {},
   "outputs": [],
   "source": [
    "X_train, X_test, y_train, y_test = train_test_split(x, y,\n",
    "                                                    test_size = 0.10,\n",
    "                                                    shuffle = True,\n",
    "                                                    random_state = 1)\n",
    "scaler = MinMaxScaler()\n",
    "scaler.fit(X_train)\n",
    "X_train = scaler.transform(X_train)\n",
    "X_test = scaler.transform(X_test)\n",
    "\n",
    "lgbm_wrapper = LGBMClassifier(n_estimators=400)\n",
    "evals = [(X_test,y_test)]\n",
    "\n",
    "# 학습 : 조기중단 수행(100)\n",
    "lgbm_wrapper.fit(X_train,y_train,early_stopping_rounds=100,\n",
    "                eval_metric='logloss',eval_set=evals, verbose=True)\n",
    "\n",
    "# 예측\n",
    "preds = lgbm_wrapper.predict(X_test)\n",
    "pred_proba = lgbm_wrapper.predict_proba(X_test)[:, 1]"
   ]
  },
  {
   "cell_type": "code",
   "execution_count": null,
   "id": "a5d87867",
   "metadata": {},
   "outputs": [],
   "source": [
    "get_clf_eval(y_test, preds, pred_proba)"
   ]
  },
  {
   "cell_type": "code",
   "execution_count": null,
   "id": "dbc06e44",
   "metadata": {},
   "outputs": [],
   "source": [
    "fig, ax = plt.subplots(figsize=(10, 12))\n",
    "plot_importance(lgbm_wrapper, ax=ax,importance_type='split')"
   ]
  },
  {
   "cell_type": "code",
   "execution_count": null,
   "id": "e8f105dd",
   "metadata": {},
   "outputs": [],
   "source": [
    "# select dependent variable (label)\n",
    "y = df[\"smoking\"]\n",
    "# select independent variable (estimator)\n",
    "x = cat5"
   ]
  },
  {
   "cell_type": "code",
   "execution_count": null,
   "id": "b943fe14",
   "metadata": {},
   "outputs": [],
   "source": [
    "X_train, X_test, y_train, y_test = train_test_split(x, y,\n",
    "                                                    test_size = 0.10,\n",
    "                                                    shuffle = True,\n",
    "                                                    random_state = 1)\n",
    "scaler = MinMaxScaler()\n",
    "scaler.fit(X_train)\n",
    "X_train = scaler.transform(X_train)\n",
    "X_test = scaler.transform(X_test)\n",
    "\n",
    "lgbm_wrapper = LGBMClassifier(n_estimators=400)\n",
    "evals = [(X_test,y_test)]\n",
    "\n",
    "# 학습 : 조기중단 수행(100)\n",
    "lgbm_wrapper.fit(X_train,y_train,early_stopping_rounds=100,\n",
    "                eval_metric='logloss',eval_set=evals, verbose=True)\n",
    "\n",
    "# 예측\n",
    "preds = lgbm_wrapper.predict(X_test)\n",
    "pred_proba = lgbm_wrapper.predict_proba(X_test)[:, 1]"
   ]
  },
  {
   "cell_type": "code",
   "execution_count": null,
   "id": "46512c3c",
   "metadata": {},
   "outputs": [],
   "source": [
    "get_clf_eval(y_test, preds, pred_proba)"
   ]
  },
  {
   "cell_type": "code",
   "execution_count": null,
   "id": "3f0ed02e",
   "metadata": {},
   "outputs": [],
   "source": [
    "fig, ax = plt.subplots(figsize=(10, 12))\n",
    "plot_importance(lgbm_wrapper, ax=ax,importance_type='split')"
   ]
  }
 ],
 "metadata": {
  "kernelspec": {
   "display_name": "Python 3 (ipykernel)",
   "language": "python",
   "name": "python3"
  },
  "language_info": {
   "codemirror_mode": {
    "name": "ipython",
    "version": 3
   },
   "file_extension": ".py",
   "mimetype": "text/x-python",
   "name": "python",
   "nbconvert_exporter": "python",
   "pygments_lexer": "ipython3",
   "version": "3.9.7"
  }
 },
 "nbformat": 4,
 "nbformat_minor": 5
}
