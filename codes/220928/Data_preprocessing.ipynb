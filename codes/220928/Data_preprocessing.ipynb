{
 "cells": [
  {
   "cell_type": "code",
   "execution_count": null,
   "id": "c53bd5b5",
   "metadata": {},
   "outputs": [],
   "source": [
    "import pandas as pd\n",
    "import numpy as np\n",
    "import matplotlib.pyplot as plt\n",
    "import seaborn as sns\n",
    "from sklearn.preprocessing import LabelEncoder # for encoding\n",
    "from sklearn.preprocessing import MinMaxScaler, StandardScaler #for standardization"
   ]
  },
  {
   "cell_type": "code",
   "execution_count": null,
   "id": "3770f2e4",
   "metadata": {},
   "outputs": [],
   "source": [
    "smoking = pd.read_csv('../data/smoking.csv')"
   ]
  },
  {
   "cell_type": "code",
   "execution_count": null,
   "id": "08ab08ad",
   "metadata": {},
   "outputs": [],
   "source": [
    "smoking.info()\n",
    "# 범주형 데이터 : 'gender', 'smoking', 'tartar', 'hearing(right)', 'hearing(left)', 'dental caries'"
   ]
  },
  {
   "cell_type": "code",
   "execution_count": null,
   "id": "cca5e36b",
   "metadata": {},
   "outputs": [],
   "source": [
    "smoking.head()"
   ]
  },
  {
   "cell_type": "code",
   "execution_count": null,
   "id": "d4b53cc3",
   "metadata": {},
   "outputs": [],
   "source": [
    "smoking.isnull().sum()"
   ]
  },
  {
   "cell_type": "code",
   "execution_count": null,
   "id": "67b46e21",
   "metadata": {},
   "outputs": [],
   "source": [
    "df = smoking.drop(\"ID\", axis = 1)\n",
    "df"
   ]
  },
  {
   "cell_type": "markdown",
   "id": "2a880cd6",
   "metadata": {},
   "source": [
    "1. 범주형 변수 변환\n",
    "2. 피쳐 스케일링\n",
    "    - StandatdScaler : 서포트 벡터 머신, 로지스틱 회귀, 선형회귀는 가우시안 분포를 가정하고 구현됨, 정규화가 필요\n",
    "        - df['Urine protein'].value_counts() 보류(# ulfosalicylic acid precipitation method -> 소변의 탁도와 단백질 함유량 검사 , 6단계로 구분함.)\n",
    "    - MinMaxScaler : 데이터 분포가 가우시안 분포가 아닐 경우\n",
    "3. 이상치 검출 및 삭제 - 논의 후 결정"
   ]
  },
  {
   "cell_type": "code",
   "execution_count": null,
   "id": "8b10488c",
   "metadata": {},
   "outputs": [],
   "source": [
    "df = df.drop('oral',axis=1) # Oral(=구강검사 여부) 특성값은 모두 Y 값이므로 삭제.\n",
    "df"
   ]
  },
  {
   "cell_type": "code",
   "execution_count": null,
   "id": "cebc8b43",
   "metadata": {},
   "outputs": [],
   "source": [
    "labels = LabelEncoder()\n",
    "labels.fit_transform(df[\"gender\"])\n",
    "df[\"gender\"] = labels.fit_transform(df[\"gender\"])"
   ]
  },
  {
   "cell_type": "code",
   "execution_count": null,
   "id": "d4f49525",
   "metadata": {},
   "outputs": [],
   "source": [
    "labels = LabelEncoder()\n",
    "labels.fit_transform(df[\"tartar\"])\n",
    "df[\"tartar\"] = labels.fit_transform(df[\"tartar\"])"
   ]
  },
  {
   "cell_type": "code",
   "execution_count": null,
   "id": "95d3fefb",
   "metadata": {},
   "outputs": [],
   "source": [
    "df"
   ]
  },
  {
   "cell_type": "code",
   "execution_count": null,
   "id": "ca85294a",
   "metadata": {},
   "outputs": [],
   "source": [
    "df.hist(figsize = (20, 20), bins = 12, legend = False)"
   ]
  },
  {
   "cell_type": "code",
   "execution_count": null,
   "id": "b4a167b0",
   "metadata": {},
   "outputs": [],
   "source": [
    "df.columns"
   ]
  },
  {
   "cell_type": "code",
   "execution_count": null,
   "id": "58538b5d",
   "metadata": {},
   "outputs": [],
   "source": [
    "cate_features = df[['gender', 'smoking', 'tartar', 'hearing(right)', 'hearing(left)', 'dental caries']] # 레이블 인코딩 완료"
   ]
  },
  {
   "cell_type": "code",
   "execution_count": null,
   "id": "17780fa4",
   "metadata": {},
   "outputs": [],
   "source": [
    "def feature_engineering_scaling(scaler, X_train, X_test):\n",
    "    # scaler파라미터는 아래 4개중 하나를 넣는다\n",
    "    # preprocessing.MinMaxScaler()\n",
    "    # preprocessing.StandardScaler()\n",
    "    # preprocessing.RobustScaler()\n",
    "    # preprocessing.Normalizer()\n",
    "    scaler = scaler\n",
    "    scaler_fit = scaler.fit(X_train)\n",
    "    X_train_scaling = pd.DataFrame(scaler_fit.transform(X_train), \n",
    "                               index=X_train.index, columns=X_train.columns)\n",
    "    X_test_scaling = pd.DataFrame(scaler_fit.transform(X_test), \n",
    "                               index=X_test.index, columns=X_test.columns)\n",
    "    return X_train_scaling, X_test_scaling"
   ]
  },
  {
   "cell_type": "code",
   "execution_count": null,
   "id": "6954a3f1",
   "metadata": {},
   "outputs": [],
   "source": [
    "scaled_features = df.drop(cate_features.columns, axis=1)\n",
    "scaled_features"
   ]
  },
  {
   "cell_type": "code",
   "execution_count": null,
   "id": "04bf2a42",
   "metadata": {},
   "outputs": [],
   "source": [
    "# sulfosalicylic acid precipitation method -> 소변의 탁도와 단백질 함유량 검사, 6단계로 구분함.\n",
    "df['Urine protein'].value_counts()"
   ]
  },
  {
   "cell_type": "code",
   "execution_count": null,
   "id": "54cb7c91",
   "metadata": {},
   "outputs": [],
   "source": [
    "scaled_features.hist(figsize = (20, 20), bins = 12, legend = False)"
   ]
  },
  {
   "cell_type": "markdown",
   "id": "2ef3ef2b",
   "metadata": {},
   "source": [
    "각 피쳐들의 작용 특성에 따라 5가지로 분류\n",
    "- 기초 신체 사항\n",
    "- 심혈관 및 호흡계\n",
    "- 신장계\n",
    "- 간 수치 계열\n",
    "- 구강 상태"
   ]
  },
  {
   "cell_type": "code",
   "execution_count": null,
   "id": "ac7c6fe4",
   "metadata": {},
   "outputs": [],
   "source": [
    "# 기초 신체 사항과 흡연의 상관관계\n",
    "cat1 = df.loc[:,'gender':'hearing(right)']\n",
    "cat1['smoking'] = df['smoking']\n",
    "cat1.corr()['smoking']"
   ]
  },
  {
   "cell_type": "code",
   "execution_count": null,
   "id": "3aa785cf",
   "metadata": {},
   "outputs": [],
   "source": [
    "# 심혈관 및 호흡계 특성과의 상관관계\n",
    "cat2 = df.loc[:,'systolic':'hemoglobin']\n",
    "cat2['smoking'] = df['smoking']\n",
    "cat2.corr()['smoking']"
   ]
  },
  {
   "cell_type": "code",
   "execution_count": null,
   "id": "0f925c3b",
   "metadata": {},
   "outputs": [],
   "source": [
    "# 신장계 특성과 흡연의 상관관계\n",
    "cat3 = df.loc[:,'Urine protein':'serum creatinine']\n",
    "cat3['smoking'] = df['smoking']\n",
    "cat3.corr()['smoking']"
   ]
  },
  {
   "cell_type": "code",
   "execution_count": null,
   "id": "0cdee87f",
   "metadata": {},
   "outputs": [],
   "source": [
    "# 간 수치 특성과 흡연의 상관관계\n",
    "cat4 = df.loc[:,'AST':'Gtp']\n",
    "cat4['smoking'] = df['smoking']\n",
    "cat4.corr()['smoking']"
   ]
  },
  {
   "cell_type": "code",
   "execution_count": null,
   "id": "cc35b9a6",
   "metadata": {},
   "outputs": [],
   "source": [
    "# 구강 상태 특성과 흡연의 상관관계\n",
    "cat5 = df.loc[:,'dental caries':]\n",
    "cat5.corr()['smoking']"
   ]
  },
  {
   "cell_type": "code",
   "execution_count": null,
   "id": "d71d7b40",
   "metadata": {},
   "outputs": [],
   "source": [
    "def heatmap(cat):\n",
    "    plt.figure(figsize = [20, 10], clear = True, facecolor = \"white\")\n",
    "    sns.heatmap(cat1.corr(), annot = True, square = False, linewidths = 3,\n",
    "                linecolor = \"white\", cmap = \"Set2\");\n",
    "    plt.style.use('seaborn')"
   ]
  },
  {
   "cell_type": "code",
   "execution_count": null,
   "id": "193b1e32",
   "metadata": {},
   "outputs": [],
   "source": [
    "heatmap(cat1)"
   ]
  },
  {
   "cell_type": "code",
   "execution_count": null,
   "id": "2b99c785",
   "metadata": {},
   "outputs": [],
   "source": [
    "heatmap(cat2)"
   ]
  },
  {
   "cell_type": "code",
   "execution_count": null,
   "id": "20248d2d",
   "metadata": {},
   "outputs": [],
   "source": [
    "heatmap(cat3)"
   ]
  },
  {
   "cell_type": "code",
   "execution_count": null,
   "id": "45732ba2",
   "metadata": {},
   "outputs": [],
   "source": [
    "heatmap(cat4)"
   ]
  },
  {
   "cell_type": "code",
   "execution_count": null,
   "id": "0320ca17",
   "metadata": {},
   "outputs": [],
   "source": [
    "heatmap(cat5)"
   ]
  },
  {
   "cell_type": "code",
   "execution_count": null,
   "id": "428d3218",
   "metadata": {},
   "outputs": [],
   "source": []
  }
 ],
 "metadata": {
  "kernelspec": {
   "display_name": "Python 3 (ipykernel)",
   "language": "python",
   "name": "python3"
  },
  "language_info": {
   "codemirror_mode": {
    "name": "ipython",
    "version": 3
   },
   "file_extension": ".py",
   "mimetype": "text/x-python",
   "name": "python",
   "nbconvert_exporter": "python",
   "pygments_lexer": "ipython3",
   "version": "3.9.7"
  }
 },
 "nbformat": 4,
 "nbformat_minor": 5
}
