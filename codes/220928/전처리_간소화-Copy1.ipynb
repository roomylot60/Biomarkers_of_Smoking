{
 "cells": [
  {
   "cell_type": "markdown",
   "id": "0f050fc0",
   "metadata": {},
   "source": [
    "- smoking.csv와 competition_format에 있는 데이터에 전처리를 모두 적용하고자 전처리 코드 함수화 후 재업로드합니다.\n",
    "- 추가하거나 수정하실 사항 있으시면 자유롭게 첨삭해주시면 감사하겠습니다."
   ]
  },
  {
   "cell_type": "code",
   "execution_count": null,
   "id": "aaf04e99",
   "metadata": {},
   "outputs": [],
   "source": [
    "import pandas as pd\n",
    "import numpy as np\n",
    "from sklearn.preprocessing import LabelEncoder # for encoding\n",
    "from sklearn.preprocessing import MinMaxScaler, RobustScaler, StandardScaler #for standardization\n",
    "from sklearn.model_selection import train_test_split"
   ]
  },
  {
   "cell_type": "code",
   "execution_count": null,
   "id": "70599c4c",
   "metadata": {},
   "outputs": [],
   "source": [
    "def preprocessing(df_scaling, scaled_form = 'MinMaxScaler()'):\n",
    "    # 불필요한 컬럼 제거\n",
    "    if 'ID' in df_scaling:\n",
    "        df_scaling = df_scaling.drop(\"ID\", axis = 1)\n",
    "        if len(df_scaling.columns) == 1:\n",
    "            return df_scaling\n",
    "        \n",
    "        # Oral(=구강검사 여부) 특성값은 모두 Y 값이므로 삭제.\n",
    "        df_scaling = df_scaling.drop('oral', axis = 1) \n",
    "        \n",
    "        # 범주형 피처 레이블 인코딩 \n",
    "        cate_features = df_scaling[['gender','tartar']]\n",
    "\n",
    "        lbe = LabelEncoder()\n",
    "        lbe.fit_transform(df_scaling[\"gender\"])\n",
    "        df_scaling[\"gender\"] = lbe.fit_transform(df_scaling[\"gender\"])\n",
    "\n",
    "        lbe = LabelEncoder()\n",
    "        lbe.fit_transform(df_scaling[\"tartar\"])\n",
    "        df_scaling[\"tartar\"] = lbe.fit_transform(df_scaling[\"tartar\"])\n",
    "\n",
    "        # 형태별 특성 정규화 작업\n",
    "        cate_features = df_scaling[['gender', 'tartar', 'hearing(right)', 'hearing(left)', 'dental caries']]\n",
    "        scaled_features = df_scaling.drop(cate_features.columns, axis=1)\n",
    "        if scaled_form == 'StandardScaler()':\n",
    "            # Standard scaler\n",
    "            scaler = StandardScaler()\n",
    "            scaler.fit(scaled_features)\n",
    "            scaled = scaler.transform(scaled_features)\n",
    "            standard_scaled = pd.DataFrame(scaled,columns = scaled_features.columns)\n",
    "            standard_scaled[cate_features.columns] = cate_features\n",
    "\n",
    "            return standard_scaled\n",
    "        else:\n",
    "            # MinMax scaler\n",
    "            scaler_M = MinMaxScaler()\n",
    "            scaler_M.fit(scaled_features)\n",
    "            scaled_M = scaler_M.transform(scaled_features)\n",
    "            min_max_scaled = pd.DataFrame(scaled_M,columns = scaled_features.columns)\n",
    "            min_max_scaled[cate_features.columns] = cate_features\n",
    "\n",
    "            return min_max_scaled"
   ]
  },
  {
   "cell_type": "code",
   "execution_count": null,
   "id": "a55fc995",
   "metadata": {},
   "outputs": [],
   "source": [
    "smoking = pd.read_csv('../data/Smoking_raw/smoking.csv')"
   ]
  },
  {
   "cell_type": "code",
   "execution_count": null,
   "id": "f039c53c",
   "metadata": {},
   "outputs": [],
   "source": [
    "scaled_data = preprocessing(smoking)"
   ]
  },
  {
   "cell_type": "code",
   "execution_count": null,
   "id": "e5c475c0",
   "metadata": {},
   "outputs": [],
   "source": [
    "target = scaled_data['smoking']"
   ]
  },
  {
   "cell_type": "code",
   "execution_count": null,
   "id": "18d32f52",
   "metadata": {},
   "outputs": [],
   "source": [
    "x_train, x_test, y_train, y_test = train_test_split(scaled_data, target, test_size = 0.2, random_state=0)"
   ]
  },
  {
   "cell_type": "code",
   "execution_count": null,
   "id": "8773d5e4",
   "metadata": {
    "scrolled": false
   },
   "outputs": [],
   "source": [
    "x_train"
   ]
  },
  {
   "cell_type": "code",
   "execution_count": null,
   "id": "831e3355",
   "metadata": {
    "scrolled": true
   },
   "outputs": [],
   "source": [
    "x_test"
   ]
  },
  {
   "cell_type": "code",
   "execution_count": null,
   "id": "7de4fa0b",
   "metadata": {},
   "outputs": [],
   "source": [
    "y_train = pd.DataFrame(y_train)"
   ]
  },
  {
   "cell_type": "code",
   "execution_count": null,
   "id": "b8879303",
   "metadata": {},
   "outputs": [],
   "source": [
    "y_test = pd.DataFrame(y_test)"
   ]
  },
  {
   "cell_type": "markdown",
   "id": "54aa4803",
   "metadata": {},
   "source": [
    "# competition_format"
   ]
  },
  {
   "cell_type": "code",
   "execution_count": null,
   "id": "f0203f97",
   "metadata": {},
   "outputs": [],
   "source": [
    "# competition_format\n",
    "x_train = pd.read_csv('../data/Smoking_raw/competition_format/x_train.csv')\n",
    "x_test = pd.read_csv('../data/Smoking_raw/competition_format/x_test.csv')\n",
    "y_train = pd.read_csv('../data/Smoking_raw/competition_format/y_train.csv')\n",
    "y_test = pd.read_csv('../data/Smoking_raw/competition_format/y_test.csv')"
   ]
  },
  {
   "cell_type": "code",
   "execution_count": null,
   "id": "9d0aacda",
   "metadata": {},
   "outputs": [],
   "source": [
    "x_train = preprocessing(x_train)\n",
    "x_test = preprocessing(x_test)\n",
    "y_train = preprocessing(y_train)\n",
    "y_test = preprocessing(y_test)"
   ]
  },
  {
   "cell_type": "code",
   "execution_count": null,
   "id": "72d6f583",
   "metadata": {},
   "outputs": [],
   "source": [
    "x_train"
   ]
  },
  {
   "cell_type": "code",
   "execution_count": null,
   "id": "efbe14e7",
   "metadata": {},
   "outputs": [],
   "source": [
    "x_test"
   ]
  },
  {
   "cell_type": "code",
   "execution_count": null,
   "id": "ec2ab153",
   "metadata": {},
   "outputs": [],
   "source": [
    "y_train"
   ]
  },
  {
   "cell_type": "code",
   "execution_count": null,
   "id": "3432fb2d",
   "metadata": {},
   "outputs": [],
   "source": [
    "y_test"
   ]
  },
  {
   "cell_type": "code",
   "execution_count": null,
   "id": "960ea0ee",
   "metadata": {},
   "outputs": [],
   "source": [
    "from lightgbm import LGBMClassifier\n",
    "from sklearn.model_selection import train_test_split"
   ]
  },
  {
   "cell_type": "code",
   "execution_count": null,
   "id": "6bed7179",
   "metadata": {},
   "outputs": [],
   "source": [
    "lgbm_wrapper = LGBMClassifier(n_estimators=400)\n",
    "evals = [(x_test,y_test)]\n",
    "\n",
    "# 학습 : 조기중단 수행(100)\n",
    "lgbm_wrapper.fit(x_train,y_train,early_stopping_rounds=100,\n",
    "                eval_metric='logloss',eval_set=evals, verbose=True)\n",
    "\n",
    "# 예측\n",
    "preds = lgbm_wrapper.predict(x_test)\n",
    "pred_proba = lgbm_wrapper.predict_proba(x_test)[:, 1]"
   ]
  },
  {
   "cell_type": "code",
   "execution_count": null,
   "id": "10afa77d",
   "metadata": {},
   "outputs": [],
   "source": [
    "from sklearn.metrics import confusion_matrix, accuracy_score\n",
    "from sklearn.metrics import precision_score, recall_score\n",
    "from sklearn.metrics import f1_score, roc_auc_score\n",
    "\n",
    "def get_clf_eval(y_test, pred=None,pred_proba=None):\n",
    "    confusion = confusion_matrix(y_test,pred)\n",
    "    accuracy = accuracy_score(y_test,pred)\n",
    "    precision = precision_score(y_test,pred)\n",
    "    recall = recall_score(y_test,pred)\n",
    "    f1 = f1_score(y_test,pred)\n",
    "    # ROC-AUC 추가 \n",
    "    roc_auc = roc_auc_score(y_test, pred_proba)\n",
    "    print('오차 행렬')\n",
    "    print(confusion)\n",
    "    # ROC-AUC print 추가\n",
    "    print('정확도: {0:.4f}, 정밀도: {1:.4f}, 재현율: {2:.4f},F1: {3:.4f}, AUC:{4:.4f}'.format(accuracy, precision, recall, f1, roc_auc))"
   ]
  },
  {
   "cell_type": "code",
   "execution_count": null,
   "id": "003d8cf7",
   "metadata": {},
   "outputs": [],
   "source": [
    "get_clf_eval(y_test,preds,pred_proba)"
   ]
  },
  {
   "cell_type": "code",
   "execution_count": null,
   "id": "de9af8e6",
   "metadata": {},
   "outputs": [],
   "source": [
    "# plot_importance( )를 이용하여 feature 중요도 시각화\n",
    "from lightgbm import plot_importance\n",
    "import matplotlib.pyplot as plt\n",
    "%matplotlib inline\n",
    "\n",
    "fig, ax = plt.subplots(figsize=(10, 12))\n",
    "plot_importance(lgbm_wrapper, ax=ax,importance_type='split')"
   ]
  },
  {
   "cell_type": "code",
   "execution_count": null,
   "id": "5b34e295",
   "metadata": {},
   "outputs": [],
   "source": []
  },
  {
   "cell_type": "code",
   "execution_count": null,
   "id": "4f900e5d",
   "metadata": {},
   "outputs": [],
   "source": [
    "smoking = pd.read_csv('../data/Smoking_raw/smoking.csv')"
   ]
  },
  {
   "cell_type": "code",
   "execution_count": null,
   "id": "a6ca6eca",
   "metadata": {},
   "outputs": [],
   "source": [
    "def preprocessing(df_scaling, scaled_form = 'StandardScaler()'):\n",
    "    # 불필요한 컬럼 제거\n",
    "    if 'ID' in df_scaling:\n",
    "        df_scaling = df_scaling.drop(\"ID\", axis = 1)\n",
    "        if len(df_scaling.columns) == 1:\n",
    "            return df_scaling\n",
    "        \n",
    "        # Oral(=구강검사 여부) 특성값은 모두 Y 값이므로 삭제.\n",
    "        df_scaling = df_scaling.drop('oral', axis = 1) \n",
    "        \n",
    "        # 범주형 피처 레이블 인코딩 \n",
    "        cate_features = df_scaling[['gender','tartar']]\n",
    "\n",
    "        lbe = LabelEncoder()\n",
    "        lbe.fit_transform(df_scaling[\"gender\"])\n",
    "        df_scaling[\"gender\"] = lbe.fit_transform(df_scaling[\"gender\"])\n",
    "\n",
    "        lbe = LabelEncoder()\n",
    "        lbe.fit_transform(df_scaling[\"tartar\"])\n",
    "        df_scaling[\"tartar\"] = lbe.fit_transform(df_scaling[\"tartar\"])\n",
    "\n",
    "        # 형태별 특성 정규화 작업\n",
    "        cate_features = df_scaling[['gender', 'tartar', 'hearing(right)', 'hearing(left)', 'dental caries']]\n",
    "        scaled_features = df_scaling.drop(cate_features.columns, axis=1)\n",
    "        if scaled_form == 'StandardScaler()':\n",
    "            # Standard scaler\n",
    "            scaler = StandardScaler()\n",
    "            scaler.fit(scaled_features)\n",
    "            scaled = scaler.transform(scaled_features)\n",
    "            standard_scaled = pd.DataFrame(scaled,columns = scaled_features.columns)\n",
    "            standard_scaled[cate_features.columns] = cate_features\n",
    "\n",
    "            return standard_scaled\n",
    "        else:\n",
    "            # MinMax scaler\n",
    "            scaler_M = MinMaxScaler()\n",
    "            scaler_M.fit(scaled_features)\n",
    "            scaled_M = scaler_M.transform(scaled_features)\n",
    "            min_max_scaled = pd.DataFrame(scaled_M,columns = scaled_features.columns)\n",
    "            min_max_scaled[cate_features.columns] = cate_features\n",
    "\n",
    "            return min_max_scaled"
   ]
  },
  {
   "cell_type": "code",
   "execution_count": null,
   "id": "53cd2d31",
   "metadata": {},
   "outputs": [],
   "source": [
    "scaled_data = preprocessing(smoking)\n",
    "target = scaled_data['smoking']\n",
    "x_train, x_test, y_train, y_test = train_test_split(scaled_data, target, test_size = 0.1, random_state=0)"
   ]
  },
  {
   "cell_type": "code",
   "execution_count": null,
   "id": "bf42851f",
   "metadata": {},
   "outputs": [],
   "source": [
    "x_train = preprocessing(x_train)\n",
    "x_test = preprocessing(x_test)\n",
    "y_train = preprocessing(y_train)\n",
    "y_test = preprocessing(y_test)"
   ]
  },
  {
   "cell_type": "code",
   "execution_count": null,
   "id": "d7748950",
   "metadata": {},
   "outputs": [],
   "source": [
    "lgbm_wrapper = LGBMClassifier(n_estimators=400)\n",
    "evals = [(x_test,y_test)]\n",
    "\n",
    "# 학습 : 조기중단 수행(100)\n",
    "lgbm_wrapper.fit(x_train,y_train,early_stopping_rounds=100,\n",
    "                eval_metric='logloss',eval_set=evals, verbose=True)\n",
    "\n",
    "# 예측\n",
    "preds = lgbm_wrapper.predict(x_test)\n",
    "pred_proba = lgbm_wrapper.predict_proba(x_test)[:, 1]"
   ]
  },
  {
   "cell_type": "code",
   "execution_count": null,
   "id": "de0ab955",
   "metadata": {},
   "outputs": [],
   "source": [
    "get_clf_eval(y_test,preds,pred_proba)"
   ]
  },
  {
   "cell_type": "code",
   "execution_count": null,
   "id": "dd8d4896",
   "metadata": {},
   "outputs": [],
   "source": [
    "fig, ax = plt.subplots(figsize=(10, 12))\n",
    "plot_importance(lgbm_wrapper, ax=ax,importance_type='split')"
   ]
  }
 ],
 "metadata": {
  "kernelspec": {
   "display_name": "Python 3 (ipykernel)",
   "language": "python",
   "name": "python3"
  },
  "language_info": {
   "codemirror_mode": {
    "name": "ipython",
    "version": 3
   },
   "file_extension": ".py",
   "mimetype": "text/x-python",
   "name": "python",
   "nbconvert_exporter": "python",
   "pygments_lexer": "ipython3",
   "version": "3.9.7"
  }
 },
 "nbformat": 4,
 "nbformat_minor": 5
}
