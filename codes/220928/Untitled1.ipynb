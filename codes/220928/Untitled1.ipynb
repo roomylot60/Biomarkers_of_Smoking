{
 "cells": [
  {
   "cell_type": "code",
   "execution_count": null,
   "id": "b206a5a7",
   "metadata": {},
   "outputs": [],
   "source": [
    "import pandas as pd\n",
    "import numpy as np\n",
    "from sklearn.preprocessing import LabelEncoder # for encoding\n",
    "from sklearn.preprocessing import MinMaxScaler, RobustScaler, StandardScaler #for standardization\n",
    "from sklearn.model_selection import train_test_split\n",
    "import xgboost as xgb\n",
    "from xgboost import plot_importance\n",
    "import warnings\n",
    "warnings.filterwarnings('ignore')"
   ]
  },
  {
   "cell_type": "code",
   "execution_count": null,
   "id": "6dce36e5",
   "metadata": {},
   "outputs": [],
   "source": [
    "smoking = pd.read_csv('../data/Smoking_raw/smoking.csv')\n",
    "smoking"
   ]
  },
  {
   "cell_type": "code",
   "execution_count": null,
   "id": "3078430e",
   "metadata": {},
   "outputs": [],
   "source": [
    "def preprocessing(df_scaling):\n",
    "    # 불필요한 컬럼 제거\n",
    "    if 'ID' in df_scaling:\n",
    "        df_scaling = df_scaling.drop(\"ID\", axis = 1)\n",
    "        if len(df_scaling.columns) == 1:\n",
    "            return df_scaling\n",
    "        \n",
    "        # Oral(=구강검사 여부) 특성값은 모두 Y 값이므로 삭제.\n",
    "        df_scaling = df_scaling.drop('oral', axis = 1) \n",
    "        \n",
    "        # 범주형 피처 레이블 인코딩 \n",
    "        cate_features = df_scaling[['gender','tartar']]\n",
    "\n",
    "        lbe = LabelEncoder()\n",
    "        lbe.fit_transform(df_scaling[\"gender\"])\n",
    "        df_scaling[\"gender\"] = lbe.fit_transform(df_scaling[\"gender\"])\n",
    "\n",
    "        lbe = LabelEncoder()\n",
    "        lbe.fit_transform(df_scaling[\"tartar\"])\n",
    "        df_scaling[\"tartar\"] = lbe.fit_transform(df_scaling[\"tartar\"])\n",
    "\n",
    "        # 형태별 특성 정규화 작업\n",
    "        cate_features = df_scaling[['gender', 'tartar', 'hearing(right)', 'hearing(left)', 'dental caries']]\n",
    "        scaled_features = df_scaling.drop(cate_features.columns, axis=1)\n",
    "\n",
    "    df = pd.concat([cate_features,scaled_features],axis=1)\n",
    "\n",
    "    return df"
   ]
  },
  {
   "cell_type": "code",
   "execution_count": null,
   "id": "c580a9de",
   "metadata": {
    "scrolled": true
   },
   "outputs": [],
   "source": [
    "df = preprocessing(smoking)\n",
    "df"
   ]
  },
  {
   "cell_type": "code",
   "execution_count": null,
   "id": "55d9b81f",
   "metadata": {},
   "outputs": [],
   "source": [
    "df.info()"
   ]
  },
  {
   "cell_type": "code",
   "execution_count": null,
   "id": "b6068ec5",
   "metadata": {},
   "outputs": [],
   "source": [
    "target = df['smoking']"
   ]
  },
  {
   "cell_type": "code",
   "execution_count": null,
   "id": "47545f05",
   "metadata": {},
   "outputs": [],
   "source": [
    "x_train, x_test, y_train, y_test = train_test_split(df,target,test_size=0.2,shuffle=True,random_state=0)"
   ]
  },
  {
   "cell_type": "code",
   "execution_count": null,
   "id": "dbc50140",
   "metadata": {},
   "outputs": [],
   "source": [
    "scaler = MinMaxScaler()\n",
    "scaler.fit(x_train)\n",
    "x_train = scaler.transform(x_train)\n",
    "x_test = scaler.transform(x_test)"
   ]
  },
  {
   "cell_type": "code",
   "execution_count": null,
   "id": "e3e03040",
   "metadata": {},
   "outputs": [],
   "source": [
    "import time\n",
    "from xgboost import XGBClassifier\n",
    "start_time = time.time()\n",
    "xgb_model = XGBClassifier(n_estimators = 2000)\n",
    "xgb_model.fit(x_train, y_train)\n",
    "print(\"XGB 수행 시간: {0:.1f} 초 \".format(time.time() - start_time))\n",
    "y_pred = xgb_model.predict(x_test)\n",
    "accuracy_score(y_test, y_pred)"
   ]
  },
  {
   "cell_type": "code",
   "execution_count": null,
   "id": "e95971b6",
   "metadata": {},
   "outputs": [],
   "source": []
  },
  {
   "cell_type": "code",
   "execution_count": null,
   "id": "ccf333cd",
   "metadata": {
    "scrolled": true
   },
   "outputs": [],
   "source": [
    "x_tr, x_val, y_tr, y_val = train_test_split(x_train,y_train,test_size=0.1,random_state=0)\n",
    "print(x_train.shape, x_test.shape)\n",
    "print(x_tr.shape, x_val.shape)"
   ]
  },
  {
   "cell_type": "code",
   "execution_count": null,
   "id": "ade7b48c",
   "metadata": {},
   "outputs": [],
   "source": [
    "dtr = xgb.DMatrix(data=x_tr,label=y_tr)\n",
    "dval = xgb.DMatrix(data=x_val,label=y_val)\n",
    "dtest = xgb.DMatrix(data=x_test,label=y_test)"
   ]
  },
  {
   "cell_type": "code",
   "execution_count": null,
   "id": "4a270a2d",
   "metadata": {},
   "outputs": [],
   "source": [
    "# 파라미터 설정\n",
    "params = { 'max_depth':3,\n",
    "           'eta': 0.1,  # learning_rate\n",
    "           'objective':'binary:logistic', \n",
    "           'eval_metric':'logloss',\n",
    "          'silent' : 0,\n",
    "           'verbosity':0\n",
    "        }\n",
    "num_rounds = 400"
   ]
  },
  {
   "cell_type": "code",
   "execution_count": null,
   "id": "a16787c7",
   "metadata": {},
   "outputs": [],
   "source": [
    "eval_list = [(dtr,'train'),(dval,'eval') ] # eval 평가용\n",
    "\n",
    "xgb_model = xgb.train(params=params,dtrain=dtr,num_boost_round=num_rounds,\\\n",
    "                     early_stopping_rounds=50,evals=eval_list)"
   ]
  },
  {
   "cell_type": "code",
   "execution_count": null,
   "id": "9bafeadf",
   "metadata": {},
   "outputs": [],
   "source": [
    "pred_probs = xgb_model.predict(dtest)\n",
    "print('예측 확률 10개 표시',np.round(pred_probs[:10],3))\n",
    "preds = [1 if x > 0.5 else 0 for x in pred_probs]\n",
    "print('예측값 10개 표시',preds[:10])"
   ]
  },
  {
   "cell_type": "code",
   "execution_count": null,
   "id": "22c9d200",
   "metadata": {},
   "outputs": [],
   "source": [
    "pred_probs.mean()"
   ]
  },
  {
   "cell_type": "code",
   "execution_count": null,
   "id": "ad66c293",
   "metadata": {},
   "outputs": [],
   "source": [
    "pred_probs"
   ]
  },
  {
   "cell_type": "code",
   "execution_count": null,
   "id": "1cc3b483",
   "metadata": {},
   "outputs": [],
   "source": [
    "np.mean(preds)"
   ]
  },
  {
   "cell_type": "code",
   "execution_count": null,
   "id": "1a9db248",
   "metadata": {},
   "outputs": [],
   "source": [
    "preds"
   ]
  },
  {
   "cell_type": "code",
   "execution_count": null,
   "id": "85ca1825",
   "metadata": {},
   "outputs": [],
   "source": [
    "from sklearn.metrics import confusion_matrix, accuracy_score\n",
    "from sklearn.metrics import precision_score, recall_score\n",
    "from sklearn.metrics import f1_score, roc_auc_score\n",
    "\n",
    "# 수정된 get_clf_eval() 함수 \n",
    "def get_clf_eval(y_test, pred=None, pred_proba=None):\n",
    "    confusion = confusion_matrix( y_test, pred)\n",
    "    accuracy = accuracy_score(y_test , pred)\n",
    "    precision = precision_score(y_test , pred)\n",
    "    recall = recall_score(y_test , pred)\n",
    "    f1 = f1_score(y_test,pred)\n",
    "    # ROC-AUC 추가 \n",
    "    roc_auc = roc_auc_score(y_test, pred_proba)\n",
    "    print('오차 행렬')\n",
    "    print(confusion)\n",
    "    # ROC-AUC print 추가\n",
    "    print('정확도: {0:.4f}, 정밀도: {1:.4f}, 재현율: {2:.4f},\\\n",
    "    F1: {3:.4f}, AUC:{4:.4f}'.format(accuracy, precision, recall, f1, roc_auc))"
   ]
  },
  {
   "cell_type": "code",
   "execution_count": null,
   "id": "3991afc4",
   "metadata": {},
   "outputs": [],
   "source": [
    "get_clf_eval(y_test,preds,pred_probs)"
   ]
  },
  {
   "cell_type": "code",
   "execution_count": null,
   "id": "e273225f",
   "metadata": {},
   "outputs": [],
   "source": [
    "def scaling(df_scaling, scaled_form = 'MinMaxScaler()'):\n",
    "    cate_features = df_scaling[['gender', 'tartar', 'hearing(right)', 'hearing(left)', 'dental caries']]\n",
    "    scaled_features = df_scaling.drop(cate_features.columns, axis=1)\n",
    "    if scaled_form == 'StandardScaler()':\n",
    "        # Standard scaler\n",
    "        scaler = StandardScaler()\n",
    "        scaler.fit(scaled_features)\n",
    "        scaled = scaler.transform(scaled_features)\n",
    "        standard_scaled = pd.DataFrame(scaled,columns = scaled_features.columns)\n",
    "        standard_scaled[cate_features.columns] = cate_features\n",
    "\n",
    "        return standard_scaled\n",
    "    \n",
    "    elif scaled_form == 'RobustScaler()':\n",
    "        # Robust scaler\n",
    "        scaler_R = RobustScaler()\n",
    "        scaler_R.fit(scaled_features)\n",
    "        scaled_R = scaler_R.transform(scaled_features)\n",
    "        robust_scaled = pd.DataFrame(scaled_R,columns = scaled_features.columns)\n",
    "        robust_scaled[cate_features.columns] = cate_features\n",
    "        \n",
    "        return robust_scaled\n",
    "        \n",
    "    else:\n",
    "        # MinMax scaler\n",
    "        scaler_M = MinMaxScaler()\n",
    "        scaler_M.fit(scaled_features)\n",
    "        scaled_M = scaler_M.transform(scaled_features)\n",
    "        min_max_scaled = pd.DataFrame(scaled_M,columns = scaled_features.columns)\n",
    "        min_max_scaled[cate_features.columns] = cate_features\n",
    "\n",
    "        return min_max_scaled"
   ]
  },
  {
   "cell_type": "code",
   "execution_count": null,
   "id": "50eb602c",
   "metadata": {},
   "outputs": [],
   "source": [
    "std_scaled = scaling(df, 'StandardScaler()')\n",
    "std_scaled"
   ]
  },
  {
   "cell_type": "code",
   "execution_count": null,
   "id": "b69f345d",
   "metadata": {},
   "outputs": [],
   "source": [
    "rob_scaled = scaling(df, 'RobustScaler()')\n",
    "rob_scaled"
   ]
  },
  {
   "cell_type": "code",
   "execution_count": null,
   "id": "43fb1859",
   "metadata": {},
   "outputs": [],
   "source": [
    "min_max_scaled = scaling(df)\n",
    "min_max_scaled"
   ]
  },
  {
   "cell_type": "code",
   "execution_count": null,
   "id": "eb7e3fe6",
   "metadata": {},
   "outputs": [],
   "source": [
    "x_train, x_test, y_train, y_test = train_test_split(std_scaled,target,test_size=0.2,shuffle=True,random_state=0)\n",
    "\n",
    "x_tr, x_val, y_tr, y_val = train_test_split(x_train,y_train,test_size=0.1,random_state=0)\n",
    "print(x_train.shape, x_test.shape)\n",
    "print(x_tr.shape, x_val.shape)\n",
    "\n",
    "dtr = xgb.DMatrix(data=x_tr,label=y_tr)\n",
    "dval = xgb.DMatrix(data=x_val,label=y_val)\n",
    "dtest = xgb.DMatrix(data=x_test,label=y_test)\n",
    "\n",
    "# 파라미터 설정\n",
    "params = { 'max_depth':3,\n",
    "           'eta': 0.1,  # learning_rate\n",
    "           'objective':'binary:logistic', \n",
    "           'eval_metric':'logloss',\n",
    "          'silent' : 0,\n",
    "           'verbosity':0\n",
    "        }\n",
    "num_rounds = 400\n",
    "\n",
    "eval_list = [(dtr,'train'),(dval,'eval') ] # eval 평가용\n",
    "\n",
    "xgb_model = xgb.train(params=params,dtrain=dtr,num_boost_round=num_rounds,\\\n",
    "                     early_stopping_rounds=50,evals=eval_list)\n",
    "\n",
    "pred_probs = xgb_model.predict(dtest)\n",
    "print('예측 확률 10개 표시',np.round(pred_probs[:10],3))\n",
    "preds = [1 if x > 0.5 else 0 for x in pred_probs]\n",
    "print('예측값 10개 표시',preds[:10])"
   ]
  },
  {
   "cell_type": "code",
   "execution_count": null,
   "id": "175a2b48",
   "metadata": {},
   "outputs": [],
   "source": [
    "get_clf_eval(y_test,preds,pred_probs)"
   ]
  },
  {
   "cell_type": "code",
   "execution_count": null,
   "id": "64c589b6",
   "metadata": {},
   "outputs": [],
   "source": [
    "x_train, x_test, y_train, y_test = train_test_split(rob_scaled,target,test_size=0.2,random_state=0)\n",
    "\n",
    "x_tr, x_val, y_tr, y_val = train_test_split(x_train,y_train,test_size=0.1,random_state=0)\n",
    "print(x_train.shape, x_test.shape)\n",
    "print(x_tr.shape, x_val.shape)\n",
    "\n",
    "dtr = xgb.DMatrix(data=x_tr,label=y_tr)\n",
    "dval = xgb.DMatrix(data=x_val,label=y_val)\n",
    "dtest = xgb.DMatrix(data=x_test,label=y_test)\n",
    "\n",
    "# 파라미터 설정\n",
    "params = { 'max_depth':3,\n",
    "           'eta': 0.1,  # learning_rate\n",
    "           'objective':'binary:logistic', \n",
    "           'eval_metric':'logloss',\n",
    "          'silent' : 0,\n",
    "           'verbosity':0\n",
    "        }\n",
    "num_rounds = 400\n",
    "\n",
    "eval_list = [(dtr,'train'),(dval,'eval') ] # eval 평가용\n",
    "\n",
    "xgb_model = xgb.train(params=params,dtrain=dtr,num_boost_round=num_rounds,\\\n",
    "                     early_stopping_rounds=50,evals=eval_list)\n",
    "\n",
    "pred_probs = xgb_model.predict(dtest)\n",
    "print('예측 확률 10개 표시',np.round(pred_probs[:10],3))\n",
    "preds = [1 if x > 0.5 else 0 for x in pred_probs]\n",
    "print('예측값 10개 표시',preds[:10])"
   ]
  },
  {
   "cell_type": "code",
   "execution_count": null,
   "id": "62998c11",
   "metadata": {},
   "outputs": [],
   "source": [
    "get_clf_eval(y_test,preds,pred_probs)"
   ]
  },
  {
   "cell_type": "code",
   "execution_count": null,
   "id": "ec6ed1d9",
   "metadata": {},
   "outputs": [],
   "source": [
    "x_train, x_test, y_train, y_test = train_test_split(min_max_scaled,target,test_size=0.2,random_state=0)\n",
    "\n",
    "x_tr, x_val, y_tr, y_val = train_test_split(x_train,y_train,test_size=0.1,random_state=0)\n",
    "print(x_train.shape, x_test.shape)\n",
    "print(x_tr.shape, x_val.shape)\n",
    "\n",
    "dtr = xgb.DMatrix(data=x_tr,label=y_tr)\n",
    "dval = xgb.DMatrix(data=x_val,label=y_val)\n",
    "dtest = xgb.DMatrix(data=x_test,label=y_test)\n",
    "\n",
    "# 파라미터 설정\n",
    "params = { 'max_depth':3,\n",
    "           'eta': 0.1,  # learning_rate\n",
    "           'objective':'binary:logistic', \n",
    "           'eval_metric':'logloss',\n",
    "          'silent' : 0,\n",
    "           'verbosity':0\n",
    "        }\n",
    "num_rounds = 400\n",
    "\n",
    "eval_list = [(dtr,'train'),(dval,'eval') ] # eval 평가용\n",
    "\n",
    "xgb_model = xgb.train(params=params,dtrain=dtr,num_boost_round=num_rounds,\\\n",
    "                     early_stopping_rounds=50,evals=eval_list)\n",
    "\n",
    "pred_probs = xgb_model.predict(dtest)\n",
    "print('예측 확률 10개 표시',np.round(pred_probs[:10],3))\n",
    "preds = [1 if x > 0.5 else 0 for x in pred_probs]\n",
    "print('예측값 10개 표시',preds[:10])"
   ]
  },
  {
   "cell_type": "code",
   "execution_count": null,
   "id": "8ec766f8",
   "metadata": {},
   "outputs": [],
   "source": [
    "get_clf_eval(y_test,preds,pred_probs)"
   ]
  }
 ],
 "metadata": {
  "kernelspec": {
   "display_name": "Python 3 (ipykernel)",
   "language": "python",
   "name": "python3"
  },
  "language_info": {
   "codemirror_mode": {
    "name": "ipython",
    "version": 3
   },
   "file_extension": ".py",
   "mimetype": "text/x-python",
   "name": "python",
   "nbconvert_exporter": "python",
   "pygments_lexer": "ipython3",
   "version": "3.9.7"
  }
 },
 "nbformat": 4,
 "nbformat_minor": 5
}
