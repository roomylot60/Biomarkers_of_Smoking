{
 "cells": [
  {
   "cell_type": "markdown",
   "id": "0f050fc0",
   "metadata": {},
   "source": [
    "- smoking.csv와 competition_format에 있는 데이터에 전처리를 모두 적용하고자 전처리 코드 함수화 후 재업로드합니다.\n",
    "- 추가하거나 수정하실 사항 있으시면 자유롭게 첨삭해주시면 감사하겠습니다."
   ]
  },
  {
   "cell_type": "code",
   "execution_count": null,
   "id": "aaf04e99",
   "metadata": {},
   "outputs": [],
   "source": [
    "import pandas as pd\n",
    "import numpy as np\n",
    "from sklearn.preprocessing import LabelEncoder # for encoding\n",
    "from sklearn.preprocessing import MinMaxScaler, RobustScaler, StandardScaler #for standardization\n",
    "from sklearn.model_selection import train_test_split"
   ]
  },
  {
   "cell_type": "code",
   "execution_count": null,
   "id": "70599c4c",
   "metadata": {},
   "outputs": [],
   "source": [
    "def preprocessing(df_scaling, scaled_form = 'MinMaxScaler()'):\n",
    "    # 불필요한 컬럼 제거\n",
    "    if 'ID' in df_scaling:\n",
    "        df_scaling = df_scaling.drop(\"ID\", axis = 1)\n",
    "        if len(df_scaling.columns) == 1:\n",
    "            return df_scaling\n",
    "        \n",
    "        # Oral(=구강검사 여부) 특성값은 모두 Y 값이므로 삭제.\n",
    "        df_scaling = df_scaling.drop('oral', axis = 1) \n",
    "        \n",
    "        # 범주형 피처 레이블 인코딩 \n",
    "        cate_features = df_scaling[['gender','tartar']]\n",
    "\n",
    "        lbe = LabelEncoder()\n",
    "        lbe.fit_transform(df_scaling[\"gender\"])\n",
    "        df_scaling[\"gender\"] = lbe.fit_transform(df_scaling[\"gender\"])\n",
    "\n",
    "        lbe = LabelEncoder()\n",
    "        lbe.fit_transform(df_scaling[\"tartar\"])\n",
    "        df_scaling[\"tartar\"] = lbe.fit_transform(df_scaling[\"tartar\"])\n",
    "        # hearing 피처 1, 2 => 1, 0으로 변환\n",
    "        df_scaling['hearing(left)'] = df_scaling['hearing(left)'].apply(lambda x: x-2 if x ==2.0 else x )\n",
    "        df_scaling['hearing(right)'] = df_scaling['hearing(right)'].apply(lambda x: x-2 if x ==2.0 else x )\n",
    "        \n",
    "#         # BMI 지수 계산\n",
    "#         # bmi = kg/m^2\n",
    "#         df_scaling['bmi'] = df_scaling['weight(kg)']/((df_scaling['height(cm)']*0.01)**2)\n",
    "#         # wwi(비만 지수) 지수 계산\n",
    "#         df_scaling['wwi'] = df_scaling['waist(cm)']/(df_scaling['weight(kg)'].apply(np.sqrt))\n",
    "        \n",
    "        # 형태별 특성 정규화 작업\n",
    "        cate_features = df_scaling[['gender', 'tartar', 'hearing(right)', 'hearing(left)', 'dental caries']]\n",
    "        scaled_features = df_scaling.drop(cate_features.columns, axis=1)\n",
    "        if scaled_form == 'StandardScaler()':\n",
    "            # Standard scaler\n",
    "            scaler = StandardScaler()\n",
    "            scaler.fit(scaled_features)\n",
    "            scaled = scaler.transform(scaled_features)\n",
    "            standard_scaled = pd.DataFrame(scaled,columns = scaled_features.columns)\n",
    "            standard_scaled[cate_features.columns] = cate_features\n",
    "\n",
    "            return standard_scaled\n",
    "        else:\n",
    "            # MinMax scaler\n",
    "            scaler_M = MinMaxScaler()\n",
    "            scaler_M.fit(scaled_features)\n",
    "            scaled_M = scaler_M.transform(scaled_features)\n",
    "            min_max_scaled = pd.DataFrame(scaled_M,columns = scaled_features.columns)\n",
    "            min_max_scaled[cate_features.columns] = cate_features\n",
    "\n",
    "            return min_max_scaled"
   ]
  },
  {
   "cell_type": "code",
   "execution_count": null,
   "id": "514f2028",
   "metadata": {},
   "outputs": [],
   "source": [
    "# def preprocessing(df_scaling):\n",
    "#     # 불필요한 컬럼 제거\n",
    "#     if 'ID' in df_scaling:\n",
    "#         df_scaling = df_scaling.drop(\"ID\", axis = 1)\n",
    "#         if len(df_scaling.columns) == 1:\n",
    "#             return df_scaling\n",
    "        \n",
    "#         # Oral(=구강검사 여부) 특성값은 모두 Y 값이므로 삭제.\n",
    "#         df_scaling = df_scaling.drop('oral', axis = 1) \n",
    "        \n",
    "#         # 범주형 피처 레이블 인코딩 \n",
    "#         cate_features = df_scaling[['gender','tartar']]\n",
    "\n",
    "#         lbe = LabelEncoder()\n",
    "#         lbe.fit_transform(df_scaling[\"gender\"])\n",
    "#         df_scaling[\"gender\"] = lbe.fit_transform(df_scaling[\"gender\"])\n",
    "\n",
    "#         lbe = LabelEncoder()\n",
    "#         lbe.fit_transform(df_scaling[\"tartar\"])\n",
    "#         df_scaling[\"tartar\"] = lbe.fit_transform(df_scaling[\"tartar\"])\n",
    "        \n",
    "#         # hearing 피처 1, 2 => 1, 0으로 변환\n",
    "#         df_scaling['hearing(left)'] = df_scaling['hearing(left)'].apply(lambda x: x-2 if x == 2.0 else x )\n",
    "#         df_scaling['hearing(right)'] = df_scaling['hearing(right)'].apply(lambda x: x-2 if x == 2.0 else x )\n",
    "        \n",
    "# #         # BMI 지수 계산\n",
    "# #         # bmi = kg/m^2\n",
    "# #         df_scaling['bmi'] = df_scaling['weight(kg)']/((df_scaling['height(cm)']*0.01)**2)\n",
    "# #         # wwi(비만 지수) 지수 계산\n",
    "# #         df_scaling['wwi'] = df_scaling['waist(cm)']/(df_scaling['weight(kg)'].apply(np.sqrt))\n",
    "\n",
    "#     return df_scaling"
   ]
  },
  {
   "cell_type": "code",
   "execution_count": null,
   "id": "1ffa332e",
   "metadata": {},
   "outputs": [],
   "source": [
    "# def scaling(train_data, test_data, scaled_form = 'MinMaxScaler()'):\n",
    "#     # 형태 별 특성 구분\n",
    "#     tr_cate_features = train_data[['gender', 'tartar', 'hearing(right)', 'hearing(left)', 'dental caries']]\n",
    "#     tr_scaled_features = train_data.drop(tr_cate_features.columns, axis=1)\n",
    "    \n",
    "#     ts_cate_features = test_data[['gender', 'tartar', 'hearing(right)', 'hearing(left)', 'dental caries']]\n",
    "#     ts_scaled_features = test_data.drop(ts_cate_features.columns, axis=1)\n",
    "    \n",
    "#     if scaled_form == 'StandardScaler()':\n",
    "#         # Standard scaler\n",
    "#         scaler = StandardScaler()\n",
    "#         scaler.fit(tr_scaled_features) # 훈련 데이터에 fit() 적용\n",
    "        \n",
    "#         # 훈련 데이터와 테스트 데이터에 transform()을 통해 변환\n",
    "#         tr_scaled = scaler.transform(tr_scaled_features)\n",
    "#         ts_scaled = scaler.transform(ts_scaled_features)\n",
    "        \n",
    "#         train_std_scaled = pd.DataFrame(tr_scaled, columns=tr_scaled_features.columns)\n",
    "#         train_std_scaled[tr_cate_features.columns] = tr_cate_features\n",
    "        \n",
    "#         test_std_scaled = pd.DataFrame(ts_scaled, columns=ts_scaled_features.columns)\n",
    "#         test_std_scaled[ts_cate_features.columns] = ts_cate_features\n",
    "        \n",
    "#         return train_std_scaled, test_std_scaled\n",
    "    \n",
    "#     elif scaled_form == 'RobustScaler()':\n",
    "#         # Robust scaler\n",
    "#         scaler = RobustScaler()\n",
    "#         scaler.fit(tr_scaled_features) # 훈련 데이터에 fit() 적용\n",
    "        \n",
    "#         # 훈련 데이터와 테스트 데이터에 transform()을 통해 변환\n",
    "#         tr_scaled = scaler.transform(tr_scaled_features)\n",
    "#         ts_scaled = scaler.transform(ts_scaled_features)\n",
    "        \n",
    "#         # 데이터 프레임 형태로 변환\n",
    "#         train_robust_scaled = pd.DataFrame(tr_scaled, columns=tr_scaled_features.columns)\n",
    "#         train_robust_scaled[tr_cate_features.columns] = tr_cate_features\n",
    "        \n",
    "#         test_robust_scaled = pd.DataFrame(ts_scaled, columns=ts_scaled_features.columns)\n",
    "#         test_robust_scaled[ts_cate_features.columns] = ts_cate_features\n",
    "        \n",
    "#         return train_robust_scaled, test_robust_scaled\n",
    "        \n",
    "#     else:\n",
    "#         # MinMax scaler\n",
    "#         scaler = MinMaxScaler()\n",
    "#         scaler.fit(tr_scaled_features) # 훈련 데이터에 fit() 적용\n",
    "        \n",
    "#         # 훈련 데이터와 테스트 데이터에 transform()을 통해 변환\n",
    "#         tr_scaled = scaler.transform(tr_scaled_features)\n",
    "#         ts_scaled = scaler.transform(ts_scaled_features)\n",
    "        \n",
    "#         # 데이터 프레임 형태로 변환\n",
    "#         train_mmx_scaled = pd.DataFrame(tr_scaled, columns = tr_scaled_features.columns)\n",
    "#         train_mmx_scaled[tr_cate_features.columns] = tr_cate_features\n",
    "        \n",
    "#         test_mmx_scaled = pd.DataFrame(ts_scaled,columns = ts_scaled_features.columns)\n",
    "#         test_mmx_scaled[ts_cate_features.columns] = ts_cate_features\n",
    "\n",
    "#         return train_mmx_scaled, test_mmx_scaled"
   ]
  },
  {
   "cell_type": "code",
   "execution_count": null,
   "id": "a55fc995",
   "metadata": {},
   "outputs": [],
   "source": [
    "smoking = pd.read_csv('../data/Smoking_raw/smoking.csv')"
   ]
  },
  {
   "cell_type": "code",
   "execution_count": null,
   "id": "ddcb0fff",
   "metadata": {},
   "outputs": [],
   "source": [
    "tmp = smoking[['hearing(left)','hearing(right)']]\n",
    "tmp.value_counts()"
   ]
  },
  {
   "cell_type": "code",
   "execution_count": null,
   "id": "ba37359e",
   "metadata": {},
   "outputs": [],
   "source": [
    "smoking['hearing(left)']"
   ]
  },
  {
   "cell_type": "code",
   "execution_count": null,
   "id": "f039c53c",
   "metadata": {},
   "outputs": [],
   "source": [
    "scaled_data = preprocessing(smoking)"
   ]
  },
  {
   "cell_type": "code",
   "execution_count": null,
   "id": "e5c475c0",
   "metadata": {},
   "outputs": [],
   "source": [
    "target = scaled_data['smoking']"
   ]
  },
  {
   "cell_type": "code",
   "execution_count": null,
   "id": "18d32f52",
   "metadata": {},
   "outputs": [],
   "source": [
    "x_train, x_test, y_train, y_test = train_test_split(scaled_data, target, test_size = 0.1, random_state=0)"
   ]
  },
  {
   "cell_type": "markdown",
   "id": "54aa4803",
   "metadata": {},
   "source": [
    "# competition_format"
   ]
  },
  {
   "cell_type": "code",
   "execution_count": null,
   "id": "f0203f97",
   "metadata": {},
   "outputs": [],
   "source": [
    "# competition_format\n",
    "x_train = pd.read_csv('../data/Smoking_raw/competition_format/x_train.csv')\n",
    "x_test = pd.read_csv('../data/Smoking_raw/competition_format/x_test.csv')\n",
    "y_train = pd.read_csv('../data/Smoking_raw/competition_format/y_train.csv')\n",
    "y_test = pd.read_csv('../data/Smoking_raw/competition_format/y_test.csv')"
   ]
  },
  {
   "cell_type": "code",
   "execution_count": null,
   "id": "9d0aacda",
   "metadata": {},
   "outputs": [],
   "source": [
    "x_train = preprocessing(x_train)\n",
    "x_test = preprocessing(x_test)\n",
    "y_train = preprocessing(y_train)\n",
    "y_test = preprocessing(y_test)"
   ]
  },
  {
   "cell_type": "code",
   "execution_count": null,
   "id": "72d6f583",
   "metadata": {},
   "outputs": [],
   "source": [
    "x_train"
   ]
  },
  {
   "cell_type": "code",
   "execution_count": null,
   "id": "efbe14e7",
   "metadata": {},
   "outputs": [],
   "source": [
    "x_test"
   ]
  },
  {
   "cell_type": "code",
   "execution_count": null,
   "id": "ec2ab153",
   "metadata": {},
   "outputs": [],
   "source": [
    "y_train"
   ]
  },
  {
   "cell_type": "code",
   "execution_count": null,
   "id": "3432fb2d",
   "metadata": {},
   "outputs": [],
   "source": [
    "y_test"
   ]
  },
  {
   "cell_type": "code",
   "execution_count": null,
   "id": "960ea0ee",
   "metadata": {},
   "outputs": [],
   "source": []
  },
  {
   "cell_type": "code",
   "execution_count": null,
   "id": "6bed7179",
   "metadata": {},
   "outputs": [],
   "source": []
  },
  {
   "cell_type": "code",
   "execution_count": null,
   "id": "10afa77d",
   "metadata": {},
   "outputs": [],
   "source": []
  },
  {
   "cell_type": "code",
   "execution_count": null,
   "id": "003d8cf7",
   "metadata": {},
   "outputs": [],
   "source": []
  },
  {
   "cell_type": "code",
   "execution_count": null,
   "id": "de9af8e6",
   "metadata": {},
   "outputs": [],
   "source": []
  },
  {
   "cell_type": "code",
   "execution_count": null,
   "id": "5b34e295",
   "metadata": {},
   "outputs": [],
   "source": []
  },
  {
   "cell_type": "code",
   "execution_count": null,
   "id": "a6ca6eca",
   "metadata": {},
   "outputs": [],
   "source": []
  }
 ],
 "metadata": {
  "kernelspec": {
   "display_name": "Python 3 (ipykernel)",
   "language": "python",
   "name": "python3"
  },
  "language_info": {
   "codemirror_mode": {
    "name": "ipython",
    "version": 3
   },
   "file_extension": ".py",
   "mimetype": "text/x-python",
   "name": "python",
   "nbconvert_exporter": "python",
   "pygments_lexer": "ipython3",
   "version": "3.9.7"
  }
 },
 "nbformat": 4,
 "nbformat_minor": 5
}
