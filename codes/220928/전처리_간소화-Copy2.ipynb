{
 "cells": [
  {
   "cell_type": "markdown",
   "id": "0f050fc0",
   "metadata": {},
   "source": [
    "- smoking.csv와 competition_format에 있는 데이터에 전처리를 모두 적용하고자 전처리 코드 함수화 후 재업로드합니다.\n",
    "- 추가하거나 수정하실 사항 있으시면 자유롭게 첨삭해주시면 감사하겠습니다."
   ]
  },
  {
   "cell_type": "code",
   "execution_count": null,
   "id": "aaf04e99",
   "metadata": {},
   "outputs": [],
   "source": [
    "import pandas as pd\n",
    "import numpy as np\n",
    "from sklearn.preprocessing import LabelEncoder # for encoding\n",
    "from sklearn.preprocessing import MinMaxScaler, RobustScaler, StandardScaler #for standardization\n",
    "from sklearn.model_selection import train_test_split"
   ]
  },
  {
   "cell_type": "code",
   "execution_count": null,
   "id": "70599c4c",
   "metadata": {},
   "outputs": [],
   "source": [
    "def preprocessing(df_scaling, scaled_form = 'MinMaxScaler()'):\n",
    "    # 불필요한 컬럼 제거\n",
    "    if 'ID' in df_scaling:\n",
    "        df_scaling = df_scaling.drop(\"ID\", axis = 1)\n",
    "        if len(df_scaling.columns) == 1:\n",
    "            return df_scaling\n",
    "        \n",
    "        # Oral(=구강검사 여부) 특성값은 모두 Y 값이므로 삭제.\n",
    "        df_scaling = df_scaling.drop('oral', axis = 1) \n",
    "        \n",
    "        # 범주형 피처 레이블 인코딩 \n",
    "        cate_features = df_scaling[['gender','tartar']]\n",
    "\n",
    "        lbe = LabelEncoder()\n",
    "        lbe.fit_transform(df_scaling[\"gender\"])\n",
    "        df_scaling[\"gender\"] = lbe.fit_transform(df_scaling[\"gender\"])\n",
    "\n",
    "        lbe = LabelEncoder()\n",
    "        lbe.fit_transform(df_scaling[\"tartar\"])\n",
    "        df_scaling[\"tartar\"] = lbe.fit_transform(df_scaling[\"tartar\"])\n",
    "\n",
    "        # 형태별 특성 정규화 작업\n",
    "        cate_features = df_scaling[['gender', 'tartar', 'hearing(right)', 'hearing(left)', 'dental caries']]\n",
    "        scaled_features = df_scaling.drop(cate_features.columns, axis=1)\n",
    "        if scaled_form == 'StandardScaler()':\n",
    "            # Standard scaler\n",
    "            scaler = StandardScaler()\n",
    "            scaler.fit(scaled_features)\n",
    "            scaled = scaler.transform(scaled_features)\n",
    "            standard_scaled = pd.DataFrame(scaled,columns = scaled_features.columns)\n",
    "            standard_scaled[cate_features.columns] = cate_features\n",
    "\n",
    "            return standard_scaled\n",
    "        else:\n",
    "            # MinMax scaler\n",
    "            scaler_M = MinMaxScaler()\n",
    "            scaler_M.fit(scaled_features)\n",
    "            scaled_M = scaler_M.transform(scaled_features)\n",
    "            min_max_scaled = pd.DataFrame(scaled_M,columns = scaled_features.columns)\n",
    "            min_max_scaled[cate_features.columns] = cate_features\n",
    "\n",
    "            return min_max_scaled"
   ]
  },
  {
   "cell_type": "code",
   "execution_count": null,
   "id": "591c9c79",
   "metadata": {},
   "outputs": [],
   "source": [
    "def labeling(df_scaling):\n",
    "    # 불필요한 컬럼 제거\n",
    "    if 'ID' in df_scaling:\n",
    "        df_scaling = df_scaling.drop(\"ID\", axis = 1)\n",
    "        if len(df_scaling.columns) == 1:\n",
    "            return df_scaling\n",
    "        \n",
    "        # Oral(=구강검사 여부) 특성값은 모두 Y 값이므로 삭제.\n",
    "        df_scaling = df_scaling.drop('oral', axis = 1) \n",
    "        \n",
    "        # 범주형 피처 레이블 인코딩 \n",
    "        cate_features = df_scaling[['gender','tartar']]\n",
    "\n",
    "        lbe = LabelEncoder()\n",
    "        lbe.fit_transform(df_scaling[\"gender\"])\n",
    "        df_scaling[\"gender\"] = lbe.fit_transform(df_scaling[\"gender\"])\n",
    "\n",
    "        lbe = LabelEncoder()\n",
    "        lbe.fit_transform(df_scaling[\"tartar\"])\n",
    "        df_scaling[\"tartar\"] = lbe.fit_transform(df_scaling[\"tartar\"])"
   ]
  },
  {
   "cell_type": "code",
   "execution_count": null,
   "id": "0b26bf45",
   "metadata": {},
   "outputs": [],
   "source": [
    "def scaling(df_scaling, scaled_form = 'MinMaxScaler()'):\n",
    "    # 형태별 특성 표준화 작업\n",
    "    cate_features = df_scaling[['gender', 'tartar', 'hearing(right)', 'hearing(left)', 'dental caries']]\n",
    "    scaled_features = df_scaling.drop(cate_features.columns, axis=1)\n",
    "    if scaled_form == 'StandardScaler()':\n",
    "        # Standard scaler\n",
    "        scaler = StandardScaler()\n",
    "        scaler.fit(scaled_features)\n",
    "        scaled = scaler.transform(scaled_features)\n",
    "        standard_scaled = pd.DataFrame(scaled,columns = scaled_features.columns)\n",
    "        standard_scaled[cate_features.columns] = cate_features\n",
    "\n",
    "        return standard_scaled\n",
    "    else:\n",
    "        # MinMax scaler : 데이터의 분포가 Gaussian Distribution 이 아닐 때 사용\n",
    "        scaler_M = MinMaxScaler()\n",
    "        scaler_M.fit(scaled_features)\n",
    "        scaled_M = scaler_M.transform(scaled_features)\n",
    "        min_max_scaled = pd.DataFrame(scaled_M,columns = scaled_features.columns)\n",
    "        min_max_scaled[cate_features.columns] = cate_features\n",
    "\n",
    "        return min_max_scaled"
   ]
  },
  {
   "cell_type": "code",
   "execution_count": null,
   "id": "94489786",
   "metadata": {},
   "outputs": [],
   "source": [
    "scaler = StandardScaler()\n",
    "scaler.fit(scaled_features)\n",
    "\n",
    "scaled = scaler.transform(scaled_features)\n",
    "standard_scaled = pd.DataFrame(scaled,columns = scaled_features.columns)\n",
    "standard_scaled[cate_features.columns] = cate_features"
   ]
  },
  {
   "cell_type": "code",
   "execution_count": null,
   "id": "1dd7b054",
   "metadata": {},
   "outputs": [],
   "source": [
    "def scaling(df_scaling, scaled_form = 'MinMaxScaler()'):\n",
    "    # 형태별 특성 표준화 작업\n",
    "    cate_features = df_scaling[['gender', 'tartar', 'hearing(right)', 'hearing(left)', 'dental caries']]\n",
    "    scaled_features = df_scaling.drop(cate_features.columns, axis=1)\n",
    "    if scaled_form == 'StandardScaler()':\n",
    "        # Standard scaler\n",
    "        scaler = StandardScaler()\n",
    "        scaler.fit(scaled_features)\n",
    "        scaled = scaler.transform(scaled_features)\n",
    "        standard_scaled = pd.DataFrame(scaled,columns = scaled_features.columns)\n",
    "        standard_scaled[cate_features.columns] = cate_features\n",
    "\n",
    "        return standard_scaled\n",
    "    else:\n",
    "        # MinMax scaler : 데이터의 분포가 Gaussian Distribution 이 아닐 때 사용\n",
    "        scaler_M = MinMaxScaler()\n",
    "        scaler_M.fit(scaled_features)\n",
    "        scaled_M = scaler_M.transform(scaled_features)\n",
    "        min_max_scaled = pd.DataFrame(scaled_M,columns = scaled_features.columns)\n",
    "        min_max_scaled[cate_features.columns] = cate_features\n",
    "\n",
    "        return min_max_scaled"
   ]
  },
  {
   "cell_type": "code",
   "execution_count": null,
   "id": "9703f76e",
   "metadata": {},
   "outputs": [],
   "source": []
  },
  {
   "cell_type": "code",
   "execution_count": null,
   "id": "a55fc995",
   "metadata": {},
   "outputs": [],
   "source": [
    "smoking = pd.read_csv('../data/Smoking_raw/smoking.csv')"
   ]
  },
  {
   "cell_type": "code",
   "execution_count": null,
   "id": "f039c53c",
   "metadata": {},
   "outputs": [],
   "source": [
    "scaled_data = preprocessing(smoking)"
   ]
  },
  {
   "cell_type": "code",
   "execution_count": null,
   "id": "ea2e36be",
   "metadata": {},
   "outputs": [],
   "source": [
    "scaled_data.drop('smoking',axis=1,inplace=True)"
   ]
  },
  {
   "cell_type": "code",
   "execution_count": null,
   "id": "e5c475c0",
   "metadata": {},
   "outputs": [],
   "source": [
    "target = scaled_data['smoking']"
   ]
  },
  {
   "cell_type": "code",
   "execution_count": null,
   "id": "819d5a2d",
   "metadata": {},
   "outputs": [],
   "source": [
    "scaler = StandardScaler()\n",
    "scaler.fit(scaled_features)"
   ]
  },
  {
   "cell_type": "code",
   "execution_count": null,
   "id": "18d32f52",
   "metadata": {},
   "outputs": [],
   "source": [
    "x_train, x_test, y_train, y_test = train_test_split(scaled_data, target, test_size = 0.1, random_state=0)"
   ]
  },
  {
   "cell_type": "code",
   "execution_count": null,
   "id": "c6c4f885",
   "metadata": {},
   "outputs": [],
   "source": [
    "scaled = scaler.transform(scaled_features)\n",
    "standard_scaled = pd.DataFrame(scaled,columns = scaled_features.columns)\n",
    "standard_scaled[cate_features.columns] = cate_features"
   ]
  },
  {
   "cell_type": "markdown",
   "id": "54aa4803",
   "metadata": {},
   "source": [
    "# competition_format"
   ]
  },
  {
   "cell_type": "code",
   "execution_count": null,
   "id": "f0203f97",
   "metadata": {},
   "outputs": [],
   "source": [
    "# competition_format\n",
    "x_train = pd.read_csv('../data/Smoking_raw/competition_format/x_train.csv')\n",
    "x_test = pd.read_csv('../data/Smoking_raw/competition_format/x_test.csv')\n",
    "y_train = pd.read_csv('../data/Smoking_raw/competition_format/y_train.csv')\n",
    "y_test = pd.read_csv('../data/Smoking_raw/competition_format/y_test.csv')"
   ]
  },
  {
   "cell_type": "code",
   "execution_count": null,
   "id": "9d0aacda",
   "metadata": {},
   "outputs": [],
   "source": [
    "x_train = preprocessing(x_train)\n",
    "x_test = preprocessing(x_test)\n",
    "y_train = preprocessing(y_train)\n",
    "y_test = preprocessing(y_test)"
   ]
  },
  {
   "cell_type": "code",
   "execution_count": null,
   "id": "72d6f583",
   "metadata": {},
   "outputs": [],
   "source": [
    "x_train"
   ]
  },
  {
   "cell_type": "code",
   "execution_count": null,
   "id": "c7c3391c",
   "metadata": {},
   "outputs": [],
   "source": [
    "x_train.columns"
   ]
  },
  {
   "cell_type": "code",
   "execution_count": null,
   "id": "efbe14e7",
   "metadata": {},
   "outputs": [],
   "source": [
    "x_test"
   ]
  },
  {
   "cell_type": "code",
   "execution_count": null,
   "id": "ec2ab153",
   "metadata": {},
   "outputs": [],
   "source": [
    "y_train"
   ]
  },
  {
   "cell_type": "code",
   "execution_count": null,
   "id": "3432fb2d",
   "metadata": {},
   "outputs": [],
   "source": [
    "y_test"
   ]
  },
  {
   "cell_type": "code",
   "execution_count": null,
   "id": "960ea0ee",
   "metadata": {},
   "outputs": [],
   "source": [
    "import xgboost as xgb\n",
    "from xgboost import plot_importance\n",
    "evals = [(x_test, y_test)] \n",
    "\n",
    "xgb_wrapper = XGBClassifier(n_estimators=400, learning_rate=0.1, max_depth=3)\n",
    "\n",
    "# 학습과 예측 수행 : fit(), predict(), predict_proba() 이용\n",
    "# fit()에서 early_stopping_rounds 설정\n",
    "xgb_wrapper.fit(x_train , y_train,  early_stopping_rounds=100,\n",
    "                eval_set=evals, eval_metric=\"logloss\",  verbose=True)\n",
    "\n",
    "w_preds = xgb_wrapper.predict(x_test)\n",
    "w_pred_proba = xgb_wrapper.predict_proba(x_test)[:, 1]"
   ]
  },
  {
   "cell_type": "code",
   "execution_count": null,
   "id": "5b34e295",
   "metadata": {
    "scrolled": true
   },
   "outputs": [],
   "source": [
    "scaled_features = np.array(scaled_data.columns)\n",
    "len(scaled_features)"
   ]
  },
  {
   "cell_type": "code",
   "execution_count": null,
   "id": "003d8cf7",
   "metadata": {},
   "outputs": [],
   "source": [
    "# 학습용/테스트용 모두 변환해야 함\n",
    "dtrain = xgb.DMatrix(data=x_train, label=y_train,feature_names=scaled_features)\n",
    "dtest = xgb.DMatrix(data=x_test, label=y_test,feature_names=scaled_features)"
   ]
  },
  {
   "cell_type": "code",
   "execution_count": null,
   "id": "733f9d69",
   "metadata": {},
   "outputs": [],
   "source": [
    "# 파라미터 설정\n",
    "params = { 'max_depth':3,\n",
    "           'eta': 0.1,  # learning_rate\n",
    "           'objective':'binary:logistic', \n",
    "           'eval_metric':'logloss',\n",
    "          'silent' : 0,\n",
    "           'verbosity':0\n",
    "        }"
   ]
  },
  {
   "cell_type": "code",
   "execution_count": null,
   "id": "4817a4dd",
   "metadata": {},
   "outputs": [],
   "source": [
    "# 모델 갯수\n",
    "num_rounds = 400"
   ]
  },
  {
   "cell_type": "code",
   "execution_count": null,
   "id": "e9a80ee6",
   "metadata": {},
   "outputs": [],
   "source": [
    "## train 데이터 셋은 ‘train’ , evaluation 데이터 셋은 ‘eval'로 명기\n",
    "wlist = [(dtrain,'train'),(dtest,'eval') ] # eval 평가용"
   ]
  },
  {
   "cell_type": "code",
   "execution_count": null,
   "id": "a6ca6eca",
   "metadata": {
    "scrolled": true
   },
   "outputs": [],
   "source": [
    "xgb_model = xgb.train(params=params, dtrain=dtrain, num_boost_round=num_rounds, early_stopping_rounds=100, evals=wlist)"
   ]
  },
  {
   "cell_type": "code",
   "execution_count": null,
   "id": "877b0e62",
   "metadata": {},
   "outputs": [],
   "source": [
    "pred_probs = xgb_model.predict(dtest)\n",
    "print('predict( ) 수행 결과값을 10개만 표시, 예측 확률 값으로 표시됨')\n",
    "print(np.round(pred_probs[:10],3))\n",
    "# 예측 확률이 0.5보다 크면 1, 그렇지 않으면 0으로 예측"
   ]
  },
  {
   "cell_type": "code",
   "execution_count": null,
   "id": "30063b0c",
   "metadata": {},
   "outputs": [],
   "source": [
    "# 예측 확률로 예측값이 반환 되므로 임계값을 정해 0또는 1로 변환해야 함\n",
    "preds = [1 if x > 0.5 else 0 for x in pred_probs]\n",
    "print(np.round(preds[:10]))"
   ]
  },
  {
   "cell_type": "code",
   "execution_count": null,
   "id": "10afa77d",
   "metadata": {},
   "outputs": [],
   "source": [
    "from sklearn.metrics import confusion_matrix, accuracy_score\n",
    "from sklearn.metrics import precision_score, recall_score\n",
    "from sklearn.metrics import f1_score, roc_auc_score\n",
    "\n",
    "# 수정된 get_clf_eval() 함수 \n",
    "def get_clf_eval(y_test, pred=None, pred_proba=None):\n",
    "    confusion = confusion_matrix( y_test, pred)\n",
    "    accuracy = accuracy_score(y_test , pred)\n",
    "    precision = precision_score(y_test , pred)\n",
    "    recall = recall_score(y_test , pred)\n",
    "    f1 = f1_score(y_test,pred)\n",
    "    # ROC-AUC 추가 \n",
    "    roc_auc = roc_auc_score(y_test, pred_proba)\n",
    "    print('오차 행렬')\n",
    "    print(confusion)\n",
    "    # ROC-AUC print 추가\n",
    "    print('정확도: {0:.4f}, 정밀도: {1:.4f}, 재현율: {2:.4f},\\\n",
    "    F1: {3:.4f}, AUC:{4:.4f}'.format(accuracy, precision, recall, f1, roc_auc))"
   ]
  },
  {
   "cell_type": "code",
   "execution_count": null,
   "id": "b75056b5",
   "metadata": {},
   "outputs": [],
   "source": [
    "get_clf_eval(y_test,preds,pred_probs)"
   ]
  },
  {
   "cell_type": "code",
   "execution_count": null,
   "id": "172c7f4a",
   "metadata": {},
   "outputs": [],
   "source": [
    "import matplotlib.pyplot as plt\n",
    "%matplotlib inline\n",
    "fig, ax = plt.subplots(figsize=(10,12)) # 축 반환\n",
    "plot_importance(xgb_model, ax=ax)"
   ]
  }
 ],
 "metadata": {
  "kernelspec": {
   "display_name": "Python 3 (ipykernel)",
   "language": "python",
   "name": "python3"
  },
  "language_info": {
   "codemirror_mode": {
    "name": "ipython",
    "version": 3
   },
   "file_extension": ".py",
   "mimetype": "text/x-python",
   "name": "python",
   "nbconvert_exporter": "python",
   "pygments_lexer": "ipython3",
   "version": "3.9.7"
  }
 },
 "nbformat": 4,
 "nbformat_minor": 5
}
