{
 "cells": [
  {
   "cell_type": "markdown",
   "id": "cdd80d3b",
   "metadata": {},
   "source": [
    "## 1. Data Preprocessing"
   ]
  },
  {
   "cell_type": "code",
   "execution_count": null,
   "id": "617d20de",
   "metadata": {},
   "outputs": [],
   "source": [
    "import pandas as pd  # for data manipulation operations\n",
    "import numpy as np  # for numeric operations on data\n",
    "import seaborn as sns  # for data visualization operations\n",
    "import matplotlib.pyplot as plt  # for data visualization operations\n",
    "%matplotlib inline\n",
    "\n",
    "from sklearn.preprocessing import LabelEncoder # for encoding\n",
    "from sklearn.preprocessing import MinMaxScaler, RobustScaler, StandardScaler # for standardization\n",
    "from sklearn.model_selection import train_test_split # for split the data into training and evaluation\n",
    "\n",
    "import warnings\n",
    "warnings.filterwarnings('ignore')\n",
    "\n",
    "import time # check time taken"
   ]
  },
  {
   "cell_type": "code",
   "execution_count": null,
   "id": "c421f181",
   "metadata": {},
   "outputs": [],
   "source": [
    "smoking = pd.read_csv(\"../data/Smoking_raw/smoking.csv\")\n",
    "smoking.head()"
   ]
  },
  {
   "cell_type": "code",
   "execution_count": null,
   "id": "8ffcfaef",
   "metadata": {},
   "outputs": [],
   "source": [
    "# to show all columns\n",
    "pd.set_option('display.max_columns', 30)\n",
    "desc = smoking.describe()"
   ]
  },
  {
   "cell_type": "code",
   "execution_count": null,
   "id": "3a288898",
   "metadata": {},
   "outputs": [],
   "source": [
    "desc.T[['min','max']]"
   ]
  },
  {
   "cell_type": "code",
   "execution_count": null,
   "id": "577350cc",
   "metadata": {},
   "outputs": [],
   "source": [
    "smoking.info()"
   ]
  },
  {
   "cell_type": "code",
   "execution_count": null,
   "id": "cf5b8c08",
   "metadata": {},
   "outputs": [],
   "source": [
    "print(\"\\nThere are totally {} null values in the dataset\".format(smoking.isnull().sum().sum())) # for checking null counts"
   ]
  },
  {
   "cell_type": "code",
   "execution_count": null,
   "id": "6f238855",
   "metadata": {},
   "outputs": [],
   "source": [
    "def preprocessing(df_scaling):\n",
    "    # Remove columns not necessary\n",
    "    if 'ID' in df_scaling:\n",
    "        df_scaling = df_scaling.drop(\"ID\", axis = 1)\n",
    "        if len(df_scaling.columns) == 1:\n",
    "            return df_scaling\n",
    "        \n",
    "        # Oral(=구강검사 여부) 특성값은 모두 Y 값이므로 삭제.\n",
    "        df_scaling = df_scaling.drop('oral', axis = 1) \n",
    "        \n",
    "        # Categorical features label encoding\n",
    "        cate_features = df_scaling[['gender','tartar']]\n",
    "\n",
    "        lbe = LabelEncoder()\n",
    "        lbe.fit_transform(df_scaling[\"gender\"])\n",
    "        df_scaling[\"gender\"] = lbe.fit_transform(df_scaling[\"gender\"])\n",
    "\n",
    "        lbe = LabelEncoder()\n",
    "        lbe.fit_transform(df_scaling[\"tartar\"])\n",
    "        df_scaling[\"tartar\"] = lbe.fit_transform(df_scaling[\"tartar\"])\n",
    "        \n",
    "        # hearing feature converting values 1, 2 => 1, 0\n",
    "        df_scaling['hearing(left)'] = df_scaling['hearing(left)'].apply(lambda x: x-2 if x == 2.0 else x )\n",
    "        df_scaling['hearing(right)'] = df_scaling['hearing(right)'].apply(lambda x: x-2 if x == 2.0 else x )\n",
    "        \n",
    "        # BMI 지수 계산 : bmi = kg/m^2\n",
    "        df_scaling['bmi'] = df_scaling['weight(kg)']/((df_scaling['height(cm)']*0.01)**2)\n",
    "        # wwi(비만 지수) 지수 계산 : wwi = cm/sqrt(kg)\n",
    "        df_scaling['wwi'] = df_scaling['waist(cm)']/(df_scaling['weight(kg)'].apply(np.sqrt))\n",
    "\n",
    "    return df_scaling"
   ]
  },
  {
   "cell_type": "code",
   "execution_count": null,
   "id": "7b754423",
   "metadata": {},
   "outputs": [],
   "source": [
    "def scaling(train_data, test_data, scaled_form = 'MinMaxScaler()'):\n",
    "    # 형태 별 특성 구분\n",
    "    train_data = preprocessing(train_data)\n",
    "    test_data = preprocessing(test_data)\n",
    "    tr_cate_features = train_data[['gender', 'tartar', 'hearing(right)', 'hearing(left)', 'dental caries']]\n",
    "    tr_scaled_features = train_data.drop(tr_cate_features.columns, axis=1)\n",
    "    \n",
    "    ts_cate_features = test_data[['gender', 'tartar', 'hearing(right)', 'hearing(left)', 'dental caries']]\n",
    "    ts_scaled_features = test_data.drop(ts_cate_features.columns, axis=1)\n",
    "    \n",
    "    if scaled_form == 'StandardScaler()':\n",
    "        # Standard scaler\n",
    "        scaler = StandardScaler()\n",
    "        scaler.fit(tr_scaled_features) # 훈련 데이터에 fit() 적용\n",
    "        \n",
    "        # 훈련 데이터와 테스트 데이터에 transform()을 통해 변환\n",
    "        tr_scaled = scaler.transform(tr_scaled_features)\n",
    "        ts_scaled = scaler.transform(ts_scaled_features)\n",
    "        \n",
    "        train_std_scaled = pd.DataFrame(tr_scaled, columns=tr_scaled_features.columns)\n",
    "        train_std_scaled[tr_cate_features.columns] = tr_cate_features\n",
    "        \n",
    "        test_std_scaled = pd.DataFrame(ts_scaled, columns=ts_scaled_features.columns)\n",
    "        test_std_scaled[ts_cate_features.columns] = ts_cate_features\n",
    "        \n",
    "        return train_std_scaled, test_std_scaled\n",
    "    \n",
    "    elif scaled_form == 'RobustScaler()':\n",
    "        # Robust scaler\n",
    "        scaler = RobustScaler()\n",
    "        scaler.fit(tr_scaled_features) # 훈련 데이터에 fit() 적용\n",
    "        \n",
    "        # 훈련 데이터와 테스트 데이터에 transform()을 통해 변환\n",
    "        tr_scaled = scaler.transform(tr_scaled_features)\n",
    "        ts_scaled = scaler.transform(ts_scaled_features)\n",
    "        \n",
    "        # 데이터 프레임 형태로 변환\n",
    "        train_robust_scaled = pd.DataFrame(tr_scaled, columns=tr_scaled_features.columns)\n",
    "        train_robust_scaled[tr_cate_features.columns] = tr_cate_features\n",
    "        \n",
    "        test_robust_scaled = pd.DataFrame(ts_scaled, columns=ts_scaled_features.columns)\n",
    "        test_robust_scaled[ts_cate_features.columns] = ts_cate_features\n",
    "        \n",
    "        return train_robust_scaled, test_robust_scaled\n",
    "        \n",
    "    else:\n",
    "        # MinMax scaler\n",
    "        scaler = MinMaxScaler()\n",
    "        scaler.fit(tr_scaled_features) # 훈련 데이터에 fit() 적용\n",
    "        \n",
    "        # 훈련 데이터와 테스트 데이터에 transform()을 통해 변환\n",
    "        tr_scaled = scaler.transform(tr_scaled_features)\n",
    "        ts_scaled = scaler.transform(ts_scaled_features)\n",
    "        \n",
    "        # 데이터 프레임 형태로 변환\n",
    "        train_mmx_scaled = pd.DataFrame(tr_scaled, columns = tr_scaled_features.columns)\n",
    "        train_mmx_scaled[tr_cate_features.columns] = tr_cate_features\n",
    "        \n",
    "        test_mmx_scaled = pd.DataFrame(ts_scaled,columns = ts_scaled_features.columns)\n",
    "        test_mmx_scaled[ts_cate_features.columns] = ts_cate_features\n",
    "\n",
    "        return train_mmx_scaled, test_mmx_scaled"
   ]
  },
  {
   "cell_type": "code",
   "execution_count": null,
   "id": "b392088e",
   "metadata": {},
   "outputs": [],
   "source": [
    "df = preprocessing(smoking)\n",
    "df"
   ]
  },
  {
   "cell_type": "code",
   "execution_count": null,
   "id": "bdbf421e",
   "metadata": {},
   "outputs": [],
   "source": [
    "df.corr().style.background_gradient(cmap = \"magma\")"
   ]
  },
  {
   "cell_type": "markdown",
   "id": "92161b28",
   "metadata": {},
   "source": [
    "- gender, hemoglobin, height(cm), weight(cm), triglyceride, Gtp, waist(cm), serum creatinine 가 0.2 이상의 상관계수 값을 가짐\n",
    "- 범주형 데이터를 전처리 과정을 통해 변환시켰기 때문에 연속형 데이터 간의 상관계수를 구할 수 있음\n",
    "    - biserial correlation : 범주형 데이터를 binary(0과 1)의 데이터로 변환 후 상관계수 계산"
   ]
  },
  {
   "cell_type": "code",
   "execution_count": null,
   "id": "c2808822",
   "metadata": {},
   "outputs": [],
   "source": []
  },
  {
   "cell_type": "markdown",
   "id": "fb6388e2",
   "metadata": {},
   "source": [
    "### Competition Format"
   ]
  },
  {
   "cell_type": "code",
   "execution_count": null,
   "id": "c4668424",
   "metadata": {},
   "outputs": [],
   "source": [
    "# competition_format\n",
    "x_train = pd.read_csv('../data/Smoking_raw/competition_format/x_train.csv')\n",
    "x_test = pd.read_csv('../data/Smoking_raw/competition_format/x_test.csv')\n",
    "y_train = pd.read_csv('../data/Smoking_raw/competition_format/y_train.csv')\n",
    "y_test = pd.read_csv('../data/Smoking_raw/competition_format/y_test.csv')"
   ]
  },
  {
   "cell_type": "code",
   "execution_count": null,
   "id": "b4e04bd0",
   "metadata": {},
   "outputs": [],
   "source": [
    "x_train = preprocessing(x_train)\n",
    "x_test = preprocessing(x_test)\n",
    "y_train = preprocessing(y_train)\n",
    "y_test = preprocessing(y_test)"
   ]
  },
  {
   "cell_type": "code",
   "execution_count": null,
   "id": "a120261f",
   "metadata": {},
   "outputs": [],
   "source": [
    "x_train, x_test = scaling(x_train, x_test, 'StandardScaler()')\n",
    "# x_train, x_test = scaling(x_train, x_test, 'RobustScaler()')\n",
    "# x_train, x_test = scaling(x_train, x_test)"
   ]
  },
  {
   "cell_type": "code",
   "execution_count": null,
   "id": "ce34579d",
   "metadata": {},
   "outputs": [],
   "source": [
    "x_train"
   ]
  },
  {
   "cell_type": "code",
   "execution_count": null,
   "id": "4163e188",
   "metadata": {},
   "outputs": [],
   "source": [
    "x_test"
   ]
  },
  {
   "cell_type": "code",
   "execution_count": null,
   "id": "f3119ab5",
   "metadata": {},
   "outputs": [],
   "source": [
    "y_train"
   ]
  },
  {
   "cell_type": "code",
   "execution_count": null,
   "id": "56ec4559",
   "metadata": {},
   "outputs": [],
   "source": [
    "y_test"
   ]
  },
  {
   "cell_type": "code",
   "execution_count": null,
   "id": "31255e74",
   "metadata": {},
   "outputs": [],
   "source": [
    "# x_train 시각화\n",
    "x_train.hist(figsize = (20, 20), bins = 12, legend=False)"
   ]
  },
  {
   "cell_type": "code",
   "execution_count": null,
   "id": "12090372",
   "metadata": {
    "collapsed": true
   },
   "outputs": [],
   "source": [
    "# x_test 시각화\n",
    "x_test.hist(figsize = (20, 20), bins = 12, legend=False)"
   ]
  },
  {
   "cell_type": "code",
   "execution_count": null,
   "id": "f08e1f75",
   "metadata": {
    "scrolled": false
   },
   "outputs": [],
   "source": [
    "sns.displot(\n",
    "    data = df, x = \"age\", hue = \"smoking\",\n",
    "    kind = \"hist\", height = 5, aspect = 1.5,\n",
    "    palette=\"ch:rot=-.25,hue=1,light=.50\").set(title =  \"density relationship between 'age' and 'smoking' variables\");\n",
    "\n",
    "\n",
    "sns.displot(\n",
    "    data = df, x = \"systolic\", hue = \"smoking\",\n",
    "    kind = \"kde\", height = 5, aspect = 1.5,\n",
    "    palette=\"ch:rot=-.25,hue=1,light=.50\").set(title = \"density relationship between 'systolic' and 'smoking' variables\");\n",
    "\n",
    "\n",
    "sns.displot(\n",
    "    data = df, x = \"waist(cm)\", hue = \"smoking\",\n",
    "    kind = \"kde\", height = 5, aspect = 1.5, multiple=\"fill\",\n",
    "    palette=\"ch:rot=-.25,hue=1,light=.50\").set(title = \"density relationship between 'waist(cm)' and 'smoking' variables\");\n",
    "\n",
    "sns.displot(\n",
    "    data = df, x = \"bmi\", hue = \"smoking\",\n",
    "    kind = \"kde\", height = 5, aspect = 1.5,\n",
    "    palette=\"ch:rot=-.25,hue=1,light=.50\").set(title = \"density relationship between 'bmi' and 'smoking' variables\");\n",
    "\n",
    "sns.displot(\n",
    "    data = df, x = \"wwi\", hue = \"smoking\",\n",
    "    kind = \"kde\", height = 5, aspect = 1.5,\n",
    "    palette=\"ch:rot=-.25,hue=1,light=.50\").set(title = \"density relationship between 'wwi' and 'smoking' variables\");"
   ]
  },
  {
   "cell_type": "code",
   "execution_count": null,
   "id": "31ba3a6d",
   "metadata": {},
   "outputs": [],
   "source": []
  },
  {
   "cell_type": "code",
   "execution_count": null,
   "id": "96319f21",
   "metadata": {},
   "outputs": [],
   "source": []
  },
  {
   "cell_type": "markdown",
   "id": "12f50b9b",
   "metadata": {},
   "source": [
    "## 2. XGBoost"
   ]
  },
  {
   "cell_type": "code",
   "execution_count": null,
   "id": "2d009c7c",
   "metadata": {},
   "outputs": [],
   "source": [
    "# select features (estimator)\n",
    "x = df.drop(\"smoking\", axis = 1)\n",
    "\n",
    "# target (label)\n",
    "y = df[\"smoking\"]"
   ]
  },
  {
   "cell_type": "code",
   "execution_count": null,
   "id": "83c25c60",
   "metadata": {},
   "outputs": [],
   "source": [
    "# x_train, x_test, y_train, y_test = train_test_split(x, y,\n",
    "#                                                     test_size = 0.1,\n",
    "#                                                     shuffle = True,\n",
    "#                                                     random_state = 1)"
   ]
  },
  {
   "cell_type": "markdown",
   "id": "95e66cb8",
   "metadata": {},
   "source": [
    "#### 2.1 Python wrapper를 사용한 XGB 모델"
   ]
  },
  {
   "cell_type": "code",
   "execution_count": null,
   "id": "46d95465",
   "metadata": {},
   "outputs": [],
   "source": [
    "import xgboost as xgb\n",
    "from xgboost import XGBClassifier\n",
    "from xgboost import plot_importance\n",
    "\n",
    "# adjusting data into DMatirx type\n",
    "dtrain = xgb.DMatrix(data=x_train,label=y_train,feature_names=x_train.columns)\n",
    "dtest = xgb.DMatrix(data=x_test,label=y_test,feature_names=x_train.columns)"
   ]
  },
  {
   "cell_type": "code",
   "execution_count": null,
   "id": "29882e08",
   "metadata": {},
   "outputs": [],
   "source": [
    "params = {'max-depth':3,\n",
    "          'eta':0.1, # XGBClassifier일 경우 learning_rate 로 쓴다\n",
    "          'objective':'binary:logistic', #목적함수 : 0 or 1 이므로 이진 로지스틱 사용\n",
    "          'eval_metric':'logloss', # 오류 함수의 평가 성능 지표 : logloss\n",
    "          'early_stoppings':100, #100회이상 시행시에도 오류가 내려가지않으면 중단\n",
    "          'silent' : 0,\n",
    "          'verbosity':0\n",
    "} # 트리 깊이 최대 3 , 학습률 0.1 , \n",
    "num_rounds = 2000"
   ]
  },
  {
   "cell_type": "code",
   "execution_count": null,
   "id": "82c7ede6",
   "metadata": {},
   "outputs": [],
   "source": [
    "wlist = [(dtrain,'train'),(dtest,'eval')]\n",
    "start = time.time()\n",
    "xgb_model = xgb.train(params = params, dtrain=dtrain,num_boost_round= num_rounds,\n",
    "                      early_stopping_rounds=100,evals = wlist)\n",
    "end = time.time()\n",
    "print(\"XGB 수행 시간: {0:.1f} 초 \".format(end - start)) # 29.1 sec\n",
    "pred_probs = xgb_model.predict(dtest)\n",
    "preds = [1 if x > 0.5 else 0 for x in pred_probs]\n",
    "print('분류 결과 : {0:.1f} '.format(accuracy_score(y_test,preds)))"
   ]
  },
  {
   "cell_type": "code",
   "execution_count": null,
   "id": "5cef5a63",
   "metadata": {
    "collapsed": true
   },
   "outputs": [],
   "source": [
    "# xgb_model.params"
   ]
  },
  {
   "cell_type": "code",
   "execution_count": null,
   "id": "b5a040ac",
   "metadata": {},
   "outputs": [],
   "source": [
    "from sklearn.metrics import confusion_matrix, accuracy_score\n",
    "from sklearn.metrics import roc_curve, auc, precision_score, recall_score\n",
    "from sklearn.metrics import f1_score, roc_auc_score\n",
    "\n",
    "def get_clf_eval(y_test, pred=None, pred_proba=None):\n",
    "    confusion = confusion_matrix(y_test,pred)\n",
    "    accuracy = accuracy_score(y_test,pred)\n",
    "    precision = precision_score(y_test,pred)\n",
    "    recall = recall_score(y_test,pred)\n",
    "    f1 = f1_score(y_test,pred)\n",
    "    # ROC-AUC 추가 \n",
    "    roc_auc = roc_auc_score(y_test,pred_proba)\n",
    "    print('오차 행렬')\n",
    "    print(confusion)\n",
    "    # ROC-AUC print 추가\n",
    "    print('정확도: {0:.4f}, 정밀도: {1:.4f}, 재현율: {2:.4f},\\\n",
    "    F1: {3:.4f}, AUC:{4:.4f}'.format(accuracy, precision, recall, f1, roc_auc))"
   ]
  },
  {
   "cell_type": "code",
   "execution_count": null,
   "id": "91647934",
   "metadata": {},
   "outputs": [],
   "source": [
    "get_clf_eval(y_test, preds, pred_probs)"
   ]
  },
  {
   "cell_type": "code",
   "execution_count": null,
   "id": "f822b420",
   "metadata": {},
   "outputs": [],
   "source": [
    "from sklearn.metrics import plot_confusion_matrix\n",
    "# plot_confusion_matrix(XGBClassifier(), x_test, y_test, cmap = plt.cm.Greens, normalize = \"true\")"
   ]
  },
  {
   "cell_type": "code",
   "execution_count": null,
   "id": "609a2573",
   "metadata": {},
   "outputs": [],
   "source": [
    "# Compute micro-average ROC curve and ROC area\n",
    "fpr, tpr, _ = roc_curve(y_test.values, pred_probs)\n",
    "roc_auc = auc(fpr, tpr)\n",
    "\n",
    "plt.figure()\n",
    "lw = 2\n",
    "plt.plot(fpr, tpr, color='red',\n",
    "         lw=lw, label='ROC curve (area = %0.2f)' % roc_auc)\n",
    "plt.plot([0, 1], [0, 1], color='blue', lw=lw, linestyle='--')\n",
    "plt.xlim([-0.02, 1.0])\n",
    "plt.ylim([0.0, 1.05])\n",
    "plt.xlabel('False Positive Rate')\n",
    "plt.ylabel('True Positive Rate')\n",
    "plt.title('ROC curve')\n",
    "plt.legend(loc=\"lower right\")\n",
    "plt.show()"
   ]
  },
  {
   "cell_type": "code",
   "execution_count": null,
   "id": "44fc2651",
   "metadata": {},
   "outputs": [],
   "source": [
    "fig, ax = plt.subplots(figsize=(10,12)) # 축 반환\n",
    "plot_importance(xgb_model,ax=ax)"
   ]
  },
  {
   "cell_type": "markdown",
   "id": "6659d269",
   "metadata": {},
   "source": [
    "- Triglyceride(중성지방)\n",
    "- WWI(비만지수)\n",
    "- Gtp(γ-Glutamyl transpeptidase)\n",
    "- Fasting Blood Sugar or Glucose(공복혈당)\n",
    "- LDL (저밀도지단백 콜레스테롤)\n",
    "- Cholesterol\n",
    "- Hemoglobin"
   ]
  },
  {
   "cell_type": "code",
   "execution_count": null,
   "id": "5c02b6dc",
   "metadata": {},
   "outputs": [],
   "source": [
    "import xgboost as xgb\n",
    "\n",
    "# num_trees : 그림을 여러개 그릴시 그림 번호\n",
    "# rankdir : 트리의 방향, 디폴트는 위아래 방향\n",
    "# rankdir=\"LR\" : 왼쪽에서 오른쪽 방향으로 트리를 보여준다.\n",
    "xgb.plot_tree(xgb_model, num_trees=0, rankdir='LR')\n",
    "\n",
    "fig = plt.gcf()\n",
    "fig.set_size_inches(150, 100)\n",
    "\n",
    "# 이미지 저장하고 싶다면\n",
    "fig.savefig('tree.png')\n",
    "\n",
    "plt.show()"
   ]
  },
  {
   "cell_type": "markdown",
   "id": "64d30ecd",
   "metadata": {},
   "source": [
    "#### 2.2 Scikit-learn wrapper를 사용한 XGB 모델"
   ]
  },
  {
   "cell_type": "code",
   "execution_count": null,
   "id": "6c427003",
   "metadata": {
    "scrolled": true
   },
   "outputs": [],
   "source": [
    "# Initiate XGBoost Classifier\n",
    "xgb = XGBClassifier(learning_rate=0.1,n_estimators=2000,max_depth=3,\n",
    "silent=True,\n",
    "objective='binary:logistic',\n",
    "booster='gbtree',\n",
    "n_jobs=1,\n",
    "nthread=None,\n",
    "gamma=0,\n",
    "min_child_weight=1,\n",
    "max_delta_step=0,\n",
    "subsample=1,\n",
    "colsample_bytree=1,\n",
    "colsample_bylevel=1,\n",
    "reg_alpha=0,\n",
    "reg_lambda=1,\n",
    "scale_pos_weight=1,\n",
    "base_score=0.5,\n",
    "random_state=0,\n",
    "seed=None,\n",
    "missing=None)\n",
    "# Print default setting\n",
    "xgb.get_params()"
   ]
  },
  {
   "cell_type": "code",
   "execution_count": null,
   "id": "1d9b4353",
   "metadata": {},
   "outputs": [],
   "source": [
    "# max_depth=3,\n",
    "# learning_rate=0.1,\n",
    "# n_estimators=100,\n",
    "# silent=True,\n",
    "# objective='binary:logistic',\n",
    "# booster='gbtree',\n",
    "# n_jobs=1,\n",
    "# nthread=None,\n",
    "# gamma=0,\n",
    "# min_child_weight=1,\n",
    "# max_delta_step=0,\n",
    "# subsample=1,\n",
    "# colsample_bytree=1,\n",
    "# colsample_bylevel=1,\n",
    "# reg_alpha=0,\n",
    "# reg_lambda=1,\n",
    "# scale_pos_weight=1,\n",
    "# base_score=0.5,\n",
    "# random_state=0,\n",
    "# seed=None,\n",
    "# missing=None"
   ]
  },
  {
   "cell_type": "code",
   "execution_count": null,
   "id": "a545f3e0",
   "metadata": {},
   "outputs": [],
   "source": [
    "xgb = XGBClassifier(learning_rate=0.1,n_estimators=2000,max_depth=3)"
   ]
  },
  {
   "cell_type": "code",
   "execution_count": null,
   "id": "7a2a2cf7",
   "metadata": {},
   "outputs": [],
   "source": [
    "# Train the model\n",
    "start = time.time()\n",
    "xgb = XGBClassifier().fit(x_train,y_train)\n",
    "# Make prediction\n",
    "xgb_pred = xgb.predict(x_test)\n",
    "# Get predicted probability\n",
    "xgb_pred_probs = xgb.predict_proba(x_test)[:,1]\n",
    "end = time.time()\n",
    "print(\"XGB 수행 시간: {0:.1f} 초 \".format(end - start)) # \n",
    "print('분류 결과 : {0:.1f} '.format(accuracy_score(y_test,xgb_pred)))"
   ]
  },
  {
   "cell_type": "code",
   "execution_count": null,
   "id": "1b37647a",
   "metadata": {},
   "outputs": [],
   "source": [
    "from sklearn.metrics import precision_recall_fscore_support as score\n",
    "# Get performance metrics\n",
    "precision, recall, fscore, support = score(y_test, xgb_pred)\n",
    "accuracy = accuracy_score(y_test,xgb_pred)\n",
    "# Print result\n",
    "print(f'The recall value for the baseline xgboost model is {recall[1]:.4f}')\n",
    "print(f'The accuracy value for the baseline xgboost model is {accuracy:.4f}')"
   ]
  },
  {
   "cell_type": "code",
   "execution_count": null,
   "id": "6519e8a4",
   "metadata": {},
   "outputs": [],
   "source": [
    "from sklearn.metrics import plot_confusion_matrix\n",
    "plot_confusion_matrix(xgb, x_test, y_test, cmap = plt.cm.Greens, normalize = \"true\")"
   ]
  },
  {
   "cell_type": "code",
   "execution_count": null,
   "id": "2dcdd49e",
   "metadata": {},
   "outputs": [],
   "source": []
  },
  {
   "cell_type": "code",
   "execution_count": null,
   "id": "f9b7c64f",
   "metadata": {},
   "outputs": [],
   "source": [
    "import xgboost as xgb\n",
    "\n",
    "# num_trees : 그림을 여러개 그릴시 그림 번호\n",
    "# rankdir : 트리의 방향, 디폴트는 위아래 방향\n",
    "# rankdir=\"LR\" : 왼쪽에서 오른쪽 방향으로 트리를 보여준다.\n",
    "xgb.plot_tree(xgb, num_trees=0, rankdir='LR')\n",
    "\n",
    "fig = plt.gcf()\n",
    "fig.set_size_inches(150, 100)\n",
    "\n",
    "# 이미지 저장하고 싶다면\n",
    "# fig.savefig('tree.png')\n",
    "\n",
    "plt.show()"
   ]
  },
  {
   "cell_type": "markdown",
   "id": "2f6faef1",
   "metadata": {},
   "source": [
    "#### Grid Search를 이용한 최적 하이퍼 파라미터 탐색"
   ]
  },
  {
   "cell_type": "code",
   "execution_count": null,
   "id": "8209538b",
   "metadata": {},
   "outputs": [],
   "source": [
    "from sklearn.model_selection import GridSearchCV\n",
    "# xgb 모델 생성\n",
    "xgb = XGBClassifier(learning_rate=0.1, \n",
    "                    n_estimators=2000,\n",
    "                    gamma=0, \n",
    "                    subsample=0.8, # 각 트리마다의 관측 데이터 샘플링 비율, default = 1, 일반적으로 0.5 ~ 1\n",
    "                    colsample_bytree=0.8, # 각 트리마다의 feature 샘플링 비율, default = 1, 일반적으로 0.5 ~ 1\n",
    "                    objective= 'binary:logistic', \n",
    "                    verbose=10)\n",
    "\n",
    "# parameter 들을 dictionary 형태로 설정\n",
    "xgb_params = { \n",
    "              'max_depth':range(3,13,3), \n",
    "              'min_child_weight':range(1,6,2)\n",
    "             }"
   ]
  },
  {
   "cell_type": "code",
   "execution_count": null,
   "id": "d0b9dbb1",
   "metadata": {},
   "outputs": [],
   "source": [
    "start = time.time()\n",
    "# GridSearch를 통해 최적 hyperparameter를 검색\n",
    "clf = GridSearchCV(xgb,xgb_params,scoring='accuracy',cv=5)\n",
    "clf.fit(x_train, y_train)\n",
    "print(clf.best_params_)\n",
    "pred = clf.predict(x_test)\n",
    "print('분류 결과 : {0:.1f} '.format(accuracy_score(y_test,pred)))\n",
    "end = time.time()\n",
    "print(\"XGB 수행 시간: {0:.1f} 초 \".format(end - start))"
   ]
  },
  {
   "cell_type": "code",
   "execution_count": null,
   "id": "9945c36c",
   "metadata": {},
   "outputs": [],
   "source": [
    "# xgb 모델 생성\n",
    "xgb = XGBClassifier(learning_rate=0.1, \n",
    "                    n_estimators=2000,\n",
    "                    max_depth=3,\n",
    "                    min_child_weight=3,\n",
    "                    gamma=0, \n",
    "                    subsample=0.8, # 각 트리마다의 관측 데이터 샘플링 비율, default = 1, 일반적으로 0.5 ~ 1\n",
    "                    colsample_bytree=0.8, # 각 트리마다의 feature 샘플링 비율, default = 1, 일반적으로 0.5 ~ 1\n",
    "                    objective= 'binary:logistic', \n",
    "                    verbose=10)\n",
    "\n",
    "# parameter 들을 dictionary 형태로 설정\n",
    "xgb_params = { \n",
    "              'gamma':[i/10.0 for i in range(0,5)]\n",
    "             }"
   ]
  },
  {
   "cell_type": "code",
   "execution_count": null,
   "id": "d5e20d4e",
   "metadata": {},
   "outputs": [],
   "source": [
    "start = time.time()\n",
    "# GridSearch를 통해 최적 hyperparameter를 검색\n",
    "clf = GridSearchCV(xgb,xgb_params,scoring='accuracy',cv=5)\n",
    "clf.fit(x_train, y_train)\n",
    "print(clf.best_params_)\n",
    "pred = clf.predict(x_test)\n",
    "print('분류 결과 : {0:.1f} '.format(accuracy_score(y_test,pred)))\n",
    "end = time.time()\n",
    "print(\"XGB 수행 시간: {0:.1f} 초 \".format(end - start))"
   ]
  },
  {
   "cell_type": "code",
   "execution_count": null,
   "id": "f12008a0",
   "metadata": {},
   "outputs": [],
   "source": [
    "# xgb 모델 생성\n",
    "xgb = XGBClassifier(learning_rate=0.1, \n",
    "                    n_estimators=2000,\n",
    "                    max_depth=3,\n",
    "                    min_child_weight=3,\n",
    "                    gamma=0, \n",
    "                    subsample=0.8, # 각 트리마다의 관측 데이터 샘플링 비율, default = 1, 일반적으로 0.5 ~ 1\n",
    "                    colsample_bytree=0.8, # 각 트리마다의 feature 샘플링 비율, default = 1, 일반적으로 0.5 ~ 1\n",
    "                    objective= 'binary:logistic', \n",
    "                    verbose=10)\n",
    "\n",
    "# parameter 들을 dictionary 형태로 설정\n",
    "xgb_params = { \n",
    "              'subsample':[i/10.0 for i in range(6,10)],\n",
    "              'colsample_bytree':[i/10.0 for i in range(6,10)]\n",
    "             }"
   ]
  },
  {
   "cell_type": "code",
   "execution_count": null,
   "id": "768e41d5",
   "metadata": {},
   "outputs": [],
   "source": [
    "start = time.time()\n",
    "# GridSearch를 통해 최적 hyperparameter를 검색\n",
    "clf = GridSearchCV(xgb,xgb_params,scoring='accuracy',cv=5)\n",
    "clf.fit(x_train, y_train)\n",
    "print(clf.best_params_)\n",
    "pred = clf.predict(x_test)\n",
    "print('분류 결과 : {0:.1f} '.format(accuracy_score(y_test,pred)))\n",
    "end = time.time()\n",
    "print(\"XGB 수행 시간: {0:.1f} 초 \".format(end - start))"
   ]
  },
  {
   "cell_type": "code",
   "execution_count": null,
   "id": "fc794e58",
   "metadata": {},
   "outputs": [],
   "source": [
    "# Train the model\n",
    "start = time.time()\n",
    "xgb_clf = XGBClassifier(learning_rate=0.1, \n",
    "                        n_estimators=2000,\n",
    "                        max_depth=6,\n",
    "                        min_child_weight=3,\n",
    "                        gamma=0, \n",
    "                        subsample=0.9, # 각 트리마다의 관측 데이터 샘플링 비율, default = 1, 일반적으로 0.5 ~ 1\n",
    "                        colsample_bytree=0.8, # 각 트리마다의 feature 샘플링 비율, default = 1, 일반적으로 0.5 ~ 1\n",
    "                        objective= 'binary:logistic', \n",
    "                        verbose=10).fit(x_train,y_train)\n",
    "# Make prediction\n",
    "xgb_pred = xgb_clf.predict(x_test)\n",
    "# Get predicted probability\n",
    "xgb_pred_probs = xgb_clf.predict_proba(x_test)[:,1]\n",
    "end = time.time()\n",
    "print(\"XGB 수행 시간: {0:.1f} 초 \".format(end - start)) # \n",
    "print('분류 결과 : {0:.1f} '.format(accuracy_score(y_test,xgb_pred)))"
   ]
  },
  {
   "cell_type": "code",
   "execution_count": null,
   "id": "8b4ab0ba",
   "metadata": {},
   "outputs": [],
   "source": [
    "get_clf_eval(y_test, xgb_pred, xgb_pred_probs)"
   ]
  },
  {
   "cell_type": "code",
   "execution_count": null,
   "id": "b6f039fc",
   "metadata": {},
   "outputs": [],
   "source": [
    "get_clf_eval(y_test, xgb_pred, xgb_pred_probs)"
   ]
  },
  {
   "cell_type": "code",
   "execution_count": null,
   "id": "754182af",
   "metadata": {},
   "outputs": [],
   "source": [
    "from sklearn.metrics import plot_confusion_matrix\n",
    "plot_confusion_matrix(xgb, x_test, y_test, cmap = 'summer', normalize = \"true\")"
   ]
  },
  {
   "cell_type": "code",
   "execution_count": null,
   "id": "5939873e",
   "metadata": {
    "scrolled": true
   },
   "outputs": [],
   "source": [
    "import xgboost as xgb\n",
    "\n",
    "# num_trees : 그림을 여러개 그릴시 그림 번호\n",
    "# rankdir : 트리의 방향, 디폴트는 위아래 방향\n",
    "# rankdir=\"LR\" : 왼쪽에서 오른쪽 방향으로 트리를 보여준다.\n",
    "xgb.plot_tree(xgb_clf, num_trees=0, rankdir='LR')\n",
    "\n",
    "fig = plt.gcf()\n",
    "fig.set_size_inches(150, 100)\n",
    "\n",
    "# 이미지 저장하고 싶다면\n",
    "fig.savefig('xgb_clf_tree.png')\n",
    "\n",
    "plt.show()"
   ]
  },
  {
   "cell_type": "code",
   "execution_count": null,
   "id": "ab1cb891",
   "metadata": {
    "scrolled": true
   },
   "outputs": [],
   "source": [
    "xgb.plot_tree(xgb_clf, num_trees=0, rankdir='LR')\n",
    "\n",
    "fig = plt.gcf()\n",
    "fig.set_size_inches(150, 100)\n",
    "\n",
    "# 이미지 저장하고 싶다면\n",
    "fig.savefig('xgb_clf_tree.png')\n",
    "\n",
    "plt.show()"
   ]
  },
  {
   "cell_type": "code",
   "execution_count": null,
   "id": "d85b303e",
   "metadata": {},
   "outputs": [],
   "source": [
    "# Compute micro-average ROC curve and ROC area\n",
    "fpr, tpr, _ = roc_curve(y_test.values, xgb_pred_probs)\n",
    "roc_auc = auc(fpr, tpr)\n",
    "\n",
    "plt.figure()\n",
    "lw = 2\n",
    "plt.plot(fpr, tpr, color='red',\n",
    "         lw=lw, label='ROC curve (area = %0.2f)' % roc_auc)\n",
    "plt.plot([0, 1], [0, 1], color='blue', lw=lw, linestyle='--')\n",
    "plt.xlim([-0.02, 1.0])\n",
    "plt.ylim([0.0, 1.05])\n",
    "plt.xlabel('False Positive Rate')\n",
    "plt.ylabel('True Positive Rate')\n",
    "plt.title('ROC curve')\n",
    "plt.legend(loc=\"lower right\")\n",
    "plt.show()"
   ]
  },
  {
   "cell_type": "markdown",
   "id": "6fc6156a",
   "metadata": {},
   "source": [
    "#### Random Search 최적 하이퍼 파라미터 탐색"
   ]
  },
  {
   "cell_type": "code",
   "execution_count": null,
   "id": "b5d587c8",
   "metadata": {},
   "outputs": [],
   "source": [
    "import xgboost as xgb\n",
    "# xgb 모델 생성\n",
    "xgb_clf = XGBClassifier(learning_rate=0.1, \n",
    "                        n_estimators=2000,\n",
    "                        max_depth=6,\n",
    "                        min_child_weight=3,\n",
    "                        gamma=0, \n",
    "                        subsample=0.9, # 각 트리마다의 관측 데이터 샘플링 비율, default = 1, 일반적으로 0.5 ~ 1\n",
    "                        colsample_bytree=0.8, # 각 트리마다의 feature 샘플링 비율, default = 1, 일반적으로 0.5 ~ 1\n",
    "                        objective= 'binary:logistic', \n",
    "                        verbose=10)"
   ]
  },
  {
   "cell_type": "code",
   "execution_count": null,
   "id": "e18aad96",
   "metadata": {},
   "outputs": [],
   "source": [
    "from sklearn.model_selection import StratifiedKFold\n",
    "# Define the search space\n",
    "param_grid = { \n",
    "    # Learning rate shrinks the weights to make the boosting process more conservative\n",
    "    \"learning_rate\": [0.001,0.005, 0.01,0.05, 0.1, 1] ,\n",
    "    # Maximum depth of the tree, increasing it increases the model complexity.\n",
    "    \"max_depth\": [3,6,9,12],\n",
    "    # Gamma specifies the minimum loss reduction required to make a split.\n",
    "    \"gamma\": [i/10.0 for i in range(0,5)],\n",
    "    # Percentage of columns to be randomly samples for each tree.\n",
    "    \"colsample_bytree\": [i/10.0 for i in range(3,10)],\n",
    "    # reg_alpha provides l1 regularization to the weight, higher values result in more conservative models\n",
    "    \"reg_alpha\": [1e-5, 1e-2, 0.1, 1, 10, 100],\n",
    "    # reg_lambda provides l2 regularization to the weight, higher values result in more conservative models\n",
    "    \"reg_lambda\": [1e-5, 1e-2, 0.1, 1, 10, 100]}\n",
    "# Set up score\n",
    "scoring = ['recall']\n",
    "# Set up the k-fold cross-validation\n",
    "# kfold = StratifiedKFold(n_splits=5, shuffle=True, random_state=0)"
   ]
  },
  {
   "cell_type": "code",
   "execution_count": null,
   "id": "81db144b",
   "metadata": {},
   "outputs": [],
   "source": [
    "from sklearn.model_selection import RandomizedSearchCV\n",
    "# Define random search\n",
    "random_search = RandomizedSearchCV(estimator=xgb_clf, \n",
    "                                   param_distributions=param_grid, \n",
    "                                   n_iter=48,\n",
    "                                   scoring=scoring, \n",
    "                                   refit='recall', \n",
    "                                   n_jobs=-1, \n",
    "                                   cv=5, \n",
    "                                   verbose=0)\n",
    "# Fit grid search\n",
    "random_result = random_search.fit(x_train, y_train)\n",
    "# Print grid search summary\n",
    "random_result"
   ]
  },
  {
   "cell_type": "code",
   "execution_count": null,
   "id": "8788cb66",
   "metadata": {},
   "outputs": [],
   "source": [
    "# Print the best score and the corresponding hyperparameters\n",
    "print(f'The best score is {random_result.best_score_:.4f}')\n",
    "print('The best score standard deviation is', round(random_result.cv_results_['std_test_recall'][random_result.best_index_], 4))\n",
    "print(f'The best hyperparameters are {random_result.best_params_}')"
   ]
  },
  {
   "cell_type": "code",
   "execution_count": null,
   "id": "8b1b880b",
   "metadata": {},
   "outputs": [],
   "source": [
    "start = time.time()\n",
    "xgb_clf = XGBClassifier(learning_rate=0.001, \n",
    "                        n_estimators=8000,\n",
    "                        max_depth=6,\n",
    "                        min_child_weight=3,\n",
    "                        gamma=0.1, \n",
    "                        subsample=0.9, # 각 트리마다의 관측 데이터 샘플링 비율, default = 1, 일반적으로 0.5 ~ 1\n",
    "                        colsample_bytree=0.9, # 각 트리마다의 feature 샘플링 비율, default = 1, 일반적으로 0.5 ~ 1\n",
    "                        objective= 'binary:logistic',\n",
    "                        reg_lambda=10,\n",
    "                        reg_alpha=1e-05,\n",
    "                        verbose=10).fit(x_train,y_train)\n",
    "# Make prediction\n",
    "xgb_pred = xgb_clf.predict(x_test)\n",
    "# Get predicted probability\n",
    "xgb_pred_probs = xgb_clf.predict_proba(x_test)[:,1]\n",
    "end = time.time()\n",
    "print(\"XGB 수행 시간: {0:.1f} 초 \".format(end - start)) # \n",
    "print('분류 결과 : {0:.1f} '.format(accuracy_score(y_test,xgb_pred)))"
   ]
  },
  {
   "cell_type": "code",
   "execution_count": null,
   "id": "9c83fcf7",
   "metadata": {},
   "outputs": [],
   "source": [
    "get_clf_eval(y_test, xgb_pred, xgb_pred_probs) # n_estimators = 1000"
   ]
  },
  {
   "cell_type": "code",
   "execution_count": null,
   "id": "b308ee1a",
   "metadata": {
    "scrolled": true
   },
   "outputs": [],
   "source": [
    "get_clf_eval(y_test, xgb_pred, xgb_pred_probs) # n_estimators = 2000"
   ]
  },
  {
   "cell_type": "code",
   "execution_count": null,
   "id": "9fc323f4",
   "metadata": {},
   "outputs": [],
   "source": [
    "get_clf_eval(y_test, xgb_pred, xgb_pred_probs) # n_estimators = 5000"
   ]
  },
  {
   "cell_type": "code",
   "execution_count": null,
   "id": "dd577bd3",
   "metadata": {},
   "outputs": [],
   "source": [
    "get_clf_eval(y_test, xgb_pred, xgb_pred_probs) # n_estimators = 8000"
   ]
  },
  {
   "cell_type": "code",
   "execution_count": null,
   "id": "ac45d054",
   "metadata": {},
   "outputs": [],
   "source": [
    "from sklearn.metrics import plot_confusion_matrix\n",
    "plot_confusion_matrix(xgb_clf, x_test, y_test, cmap = plt.cm.Blues, normalize = \"true\")"
   ]
  },
  {
   "cell_type": "code",
   "execution_count": null,
   "id": "4a1d713c",
   "metadata": {},
   "outputs": [],
   "source": [
    "# Compute micro-average ROC curve and ROC area\n",
    "fpr, tpr, _ = roc_curve(y_test.values, xgb_pred_probs)\n",
    "roc_auc = auc(fpr, tpr)\n",
    "\n",
    "plt.figure()\n",
    "lw = 2\n",
    "plt.plot(fpr, tpr, color='red',\n",
    "         lw=lw, label='ROC curve (area = %0.2f)' % roc_auc)\n",
    "plt.plot([0, 1], [0, 1], color='blue', lw=lw, linestyle='--')\n",
    "plt.xlim([-0.02, 1.0])\n",
    "plt.ylim([0.0, 1.05])\n",
    "plt.xlabel('False Positive Rate')\n",
    "plt.ylabel('True Positive Rate')\n",
    "plt.title('ROC curve')\n",
    "plt.legend(loc=\"lower right\")\n",
    "plt.show()"
   ]
  },
  {
   "cell_type": "code",
   "execution_count": null,
   "id": "75d64f4d",
   "metadata": {},
   "outputs": [],
   "source": []
  },
  {
   "cell_type": "code",
   "execution_count": null,
   "id": "bbbe79b7",
   "metadata": {},
   "outputs": [],
   "source": [
    "# Compute micro-average ROC curve and ROC area\n",
    "fpr, tpr, _ = roc_curve(y_test.values, xgb_pred_probs)\n",
    "roc_auc = auc(fpr, tpr)\n",
    "\n",
    "plt.figure()\n",
    "lw = 2\n",
    "plt.plot(fpr, tpr, color='red',\n",
    "         lw=lw, label='ROC curve (area = %0.2f)' % roc_auc)\n",
    "plt.plot([0, 1], [0, 1], color='blue', lw=lw, linestyle='--')\n",
    "plt.xlim([-0.02, 1.0])\n",
    "plt.ylim([0.0, 1.05])\n",
    "plt.xlabel('False Positive Rate')\n",
    "plt.ylabel('True Positive Rate')\n",
    "plt.title('ROC curve')\n",
    "plt.legend(loc=\"lower right\")\n",
    "plt.show()"
   ]
  },
  {
   "cell_type": "markdown",
   "id": "e3eb4436",
   "metadata": {},
   "source": [
    "## 3. Light GBM"
   ]
  },
  {
   "cell_type": "code",
   "execution_count": null,
   "id": "b53a5150",
   "metadata": {},
   "outputs": [],
   "source": [
    "import lightgbm as lgb\n",
    "from lightgbm import LGBMClassifier\n",
    "from lightgbm import plot_importance # for visualization about features' importance by using plot_importance()\n",
    "\n",
    "lgbm = LGBMClassifier(n_estimators=2000)\n",
    "evals = [(x_test,y_test)]\n",
    "\n",
    "start = time.time()\n",
    "# 학습 : 조기중단 수행(100)\n",
    "lgbm.fit(x_train,y_train, early_stopping_rounds=100, eval_metric='logloss', eval_set=evals, verbose=True)\n",
    "\n",
    "# 예측\n",
    "preds = lgbm.predict(x_test)\n",
    "pred_probs = lgbm.predict_proba(x_test)[:, 1]\n",
    "end = time.time()\n",
    "print(\"LGBM 수행 시간: {0:.1f} 초 \".format(end - start)) # 3.5 sec\n",
    "print('분류 결과 : {0:.1f} '.format(accuracy_score(y_test,preds)))"
   ]
  },
  {
   "cell_type": "code",
   "execution_count": null,
   "id": "5cc047b0",
   "metadata": {},
   "outputs": [],
   "source": [
    "lgbm.get_params()"
   ]
  },
  {
   "cell_type": "markdown",
   "id": "a8e17aef",
   "metadata": {},
   "source": [
    "#### 지표 : 오차배열 및 ROC curve 시각화"
   ]
  },
  {
   "cell_type": "code",
   "execution_count": null,
   "id": "7df44929",
   "metadata": {},
   "outputs": [],
   "source": [
    "def get_clf_eval(y_test, pred=None, pred_proba=None):\n",
    "    confusion = confusion_matrix(y_test,pred)\n",
    "    accuracy = accuracy_score(y_test,pred)\n",
    "    precision = precision_score(y_test,pred)\n",
    "    recall = recall_score(y_test,pred)\n",
    "    f1 = f1_score(y_test,pred)\n",
    "    # ROC-AUC 추가 \n",
    "    roc_auc = roc_auc_score(y_test, pred_proba)\n",
    "    print('오차 행렬')\n",
    "    print(confusion)\n",
    "    # ROC-AUC print 추가\n",
    "    print('정확도: {0:.4f}, 정밀도: {1:.4f}, 재현율: {2:.4f},F1: {3:.4f}, AUC:{4:.4f}'.format(accuracy, precision, recall, f1, roc_auc))"
   ]
  },
  {
   "cell_type": "code",
   "execution_count": null,
   "id": "a5da17f0",
   "metadata": {},
   "outputs": [],
   "source": [
    "get_clf_eval(y_test, preds, pred_probs)"
   ]
  },
  {
   "cell_type": "code",
   "execution_count": null,
   "id": "3fdbff1c",
   "metadata": {},
   "outputs": [],
   "source": [
    "from sklearn.metrics import plot_confusion_matrix\n",
    "plot_confusion_matrix(lgbm, x_test, y_test, cmap = plt.cm.Greens, normalize = \"true\")"
   ]
  },
  {
   "cell_type": "code",
   "execution_count": null,
   "id": "6e878fbb",
   "metadata": {},
   "outputs": [],
   "source": [
    "# Compute micro-average ROC curve and ROC area\n",
    "fpr, tpr, _ = roc_curve(y_test.values, pred_probs)\n",
    "roc_auc = auc(fpr, tpr)\n",
    "\n",
    "plt.figure(figsize=(15,15))\n",
    "lw = 2\n",
    "plt.plot(fpr, tpr, color='red',\n",
    "         lw=lw, label='ROC curve (area = %0.2f)' % roc_auc)\n",
    "plt.plot([0, 1], [0, 1], color='blue', lw=lw, linestyle='--')\n",
    "plt.xlim([-0.02, 1.0])\n",
    "plt.ylim([0.0, 1.05])\n",
    "plt.xlabel('False Positive Rate')\n",
    "plt.ylabel('True Positive Rate')\n",
    "plt.title('ROC curve')\n",
    "plt.legend(loc=\"lower right\")\n",
    "plt.show()"
   ]
  },
  {
   "cell_type": "code",
   "execution_count": null,
   "id": "4f4aabdc",
   "metadata": {},
   "outputs": [],
   "source": [
    "fig, ax = plt.subplots(figsize=(10, 12))\n",
    "plot_importance(lgbm_wrapper, ax=ax,importance_type='split')"
   ]
  },
  {
   "cell_type": "code",
   "execution_count": null,
   "id": "1e97fba7",
   "metadata": {},
   "outputs": [],
   "source": [
    "import lightgbm as lgb\n",
    "lgb.plot_tree(lgbm)\n",
    "\n",
    "fig = plt.gcf()\n",
    "fig.set_size_inches(150, 100)\n",
    "\n",
    "# 이미지 저장하고 싶다면\n",
    "fig.savefig('lgbm_tree.png')\n",
    "\n",
    "plt.show()"
   ]
  },
  {
   "cell_type": "code",
   "execution_count": null,
   "id": "c0ad3e4c",
   "metadata": {},
   "outputs": [],
   "source": []
  },
  {
   "cell_type": "code",
   "execution_count": null,
   "id": "3d2fe864",
   "metadata": {},
   "outputs": [],
   "source": []
  },
  {
   "cell_type": "code",
   "execution_count": null,
   "id": "488b737b",
   "metadata": {},
   "outputs": [],
   "source": []
  },
  {
   "cell_type": "markdown",
   "id": "6c1ea82d",
   "metadata": {},
   "source": [
    "#### Grid Search를 이용한 최적 하이퍼 파라미터 탐색"
   ]
  },
  {
   "cell_type": "code",
   "execution_count": null,
   "id": "f2e62b63",
   "metadata": {},
   "outputs": [],
   "source": [
    "from sklearn.model_selection import GridSearchCV\n",
    "\n",
    "# Generate the Light GBM model\n",
    "lgb = LGBMClassifier(learning_rate=0.1, \n",
    "                       n_estimators=2000,\n",
    "                       subsample=0.8, # 각 트리마다의 관측 데이터 샘플링 비율, default = 1, 일반적으로 0.5 ~ 1\n",
    "                       colsample_bytree=0.8, # 각 트리마다의 feature 샘플링 비율, default = 1, 일반적으로 0.5 ~ 1\n",
    "                       verbose=10)\n",
    "\n",
    "# parameter 들을 dictionary 형태로 설정\n",
    "lgb_params = {'num_leaves':[33,65,97,129], #  num_leaves = 2^(max_depth)는 depth-wise tree와 같은 수의 leaves를 가지게 하여, 이보다 작게 설정해야 오버피팅을 줄일 수 있다.\n",
    "              'max_depth':[-1,3,6,9,12], \n",
    "              'min_child_samples':[5,10,15],\n",
    "              'min_child_weight':[1,3,5,7],\n",
    "              'reg_alpha':[0,0.01,0.03]}"
   ]
  },
  {
   "cell_type": "code",
   "execution_count": null,
   "id": "25b0a1a0",
   "metadata": {},
   "outputs": [],
   "source": [
    "start = time.time()\n",
    "# GridSearch를 통해 최적 hyperparameter를 검색\n",
    "clf = GridSearchCV(lgb,lgb_params,scoring='accuracy',cv=5)\n",
    "clf.fit(x_train, y_train)\n",
    "print(clf.best_params_)\n",
    "pred = clf.predict(x_test)\n",
    "print('분류 결과 : {0:.1f} '.format(accuracy_score(y_test,pred)))\n",
    "end = time.time()\n",
    "print(\"LGBM 수행 시간: {0:.1f} 초 \".format(end - start))"
   ]
  },
  {
   "cell_type": "code",
   "execution_count": null,
   "id": "9f077a94",
   "metadata": {},
   "outputs": [],
   "source": [
    "lgbm_wrapper = LGBMClassifier(n_estimators=2000,max_depth=3,min_child_smaples=1,min_child_weight=5,num_leaves=20,reg_alpha=0)\n",
    "evals = [(x_test,y_test)]\n",
    "\n",
    "start = time.time()\n",
    "# 학습 : 조기중단 수행(100)\n",
    "lgbm_wrapper.fit(x_train,y_train,early_stopping_rounds=100,\n",
    "                eval_metric='logloss',eval_set=evals, verbose=True)\n",
    "\n",
    "# 예측\n",
    "preds = lgbm_wrapper.predict(x_test)\n",
    "pred_proba = lgbm_wrapper.predict_proba(x_test)[:, 1]\n",
    "end = time.time()\n",
    "print(\"LGBM 수행 시간: {0:.1f} 초 \".format(end - start))\n",
    "print('분류 결과 : {0:.1f} '.format(accuracy_score(y_test,preds)))"
   ]
  },
  {
   "cell_type": "code",
   "execution_count": null,
   "id": "83c27c5c",
   "metadata": {},
   "outputs": [],
   "source": [
    "def get_clf_eval(y_test, pred=None, pred_proba=None):\n",
    "    confusion = confusion_matrix(y_test,pred)\n",
    "    accuracy = accuracy_score(y_test,pred)\n",
    "    precision = precision_score(y_test,pred)\n",
    "    recall = recall_score(y_test,pred)\n",
    "    f1 = f1_score(y_test,pred)\n",
    "    # ROC-AUC 추가 \n",
    "    roc_auc = roc_auc_score(y_test, pred_proba)\n",
    "    print('오차 행렬')\n",
    "    print(confusion)\n",
    "    # ROC-AUC print 추가\n",
    "    print('정확도: {0:.4f}, 정밀도: {1:.4f}, 재현율: {2:.4f},F1: {3:.4f}, AUC:{4:.4f}'.format(accuracy, precision, recall, f1, roc_auc))"
   ]
  },
  {
   "cell_type": "code",
   "execution_count": null,
   "id": "b562bba8",
   "metadata": {},
   "outputs": [],
   "source": [
    "get_clf_eval(y_test, preds, pred_proba)"
   ]
  },
  {
   "cell_type": "markdown",
   "id": "6d5e1307",
   "metadata": {},
   "source": [
    "#### LGBM scaler 별 결과\n",
    "- Standard Scaler : 수행 시간 =  초, 정확도 = 1.0\n",
    "- Robust Scaler : 수행 시간 =  초, 정확도 = 1.0\n",
    "- Min Max Scaler : 수행 시간 = 3.9 초, 정확도 = 1.0\n",
    "\n",
    "#### 각 Scaler 별 최적 하이퍼 파라미터 수치\n",
    "- Standard Scaler : \n",
    "- Robust Scaler : max_depth=10, min_child_smaples=10, num_leaves=40, reg_alpha=0\n",
    "- Min Max Scaler : "
   ]
  },
  {
   "cell_type": "code",
   "execution_count": null,
   "id": "b5c98007",
   "metadata": {},
   "outputs": [],
   "source": []
  },
  {
   "cell_type": "code",
   "execution_count": null,
   "id": "2766b8e3",
   "metadata": {},
   "outputs": [],
   "source": []
  },
  {
   "cell_type": "code",
   "execution_count": null,
   "id": "38f6e14a",
   "metadata": {},
   "outputs": [],
   "source": []
  },
  {
   "cell_type": "code",
   "execution_count": null,
   "id": "2ffb723f",
   "metadata": {},
   "outputs": [],
   "source": []
  }
 ],
 "metadata": {
  "kernelspec": {
   "display_name": "Python 3 (ipykernel)",
   "language": "python",
   "name": "python3"
  },
  "language_info": {
   "codemirror_mode": {
    "name": "ipython",
    "version": 3
   },
   "file_extension": ".py",
   "mimetype": "text/x-python",
   "name": "python",
   "nbconvert_exporter": "python",
   "pygments_lexer": "ipython3",
   "version": "3.9.7"
  }
 },
 "nbformat": 4,
 "nbformat_minor": 5
}
