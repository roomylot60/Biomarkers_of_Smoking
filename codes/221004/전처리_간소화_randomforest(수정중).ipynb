{
 "cells": [
  {
   "cell_type": "markdown",
   "id": "0f050fc0",
   "metadata": {
    "id": "0f050fc0"
   },
   "source": [
    "- smoking.csv와 competition_format에 있는 데이터에 전처리를 모두 적용하고자 전처리 코드 함수화 후 재업로드합니다.\n",
    "- 추가하거나 수정하실 사항 있으시면 자유롭게 첨삭해주시면 감사하겠습니다.\n",
    "- bmi 컬럼 추가를 위해 계산식을 포함시키고 주석처리 해뒀습니다 - 22/9/27\n",
    "- wwi 컬럼 추가를 위해 계산식을 포함시키고 주석처리 해뒀습니다 - 22/9/28\n",
    "    - 허리둘레를 체중의 제곱근으로 나눈 값\n",
    "    - \"waist(cm)\"/sqrt(\"weight(kg)\")\n",
    "    - WWI 수치가 높으면 지방이 많은 비만 환자이고 수치가 낮으면 근육이 상대적으로 많은 정상 체중이라는 의미\n",
    "- hearing(left), hearing(right) 피처 1, 2 => 1, 0 으로 변환 -22/9/28"
   ]
  },
  {
   "cell_type": "code",
   "execution_count": null,
   "id": "aaf04e99",
   "metadata": {
    "id": "aaf04e99"
   },
   "outputs": [],
   "source": [
    "import pandas as pd\n",
    "import numpy as np\n",
    "from sklearn.ensemble import RandomForestClassifier # for modeling\n",
    "from sklearn.preprocessing import LabelEncoder # for encoding\n",
    "from sklearn.preprocessing import MinMaxScaler, RobustScaler, StandardScaler #for standardization\n",
    "from sklearn.model_selection import train_test_split\n",
    "from sklearn.metrics import roc_auc_score, roc_curve\n",
    "from sklearn.metrics import plot_confusion_matrix"
   ]
  },
  {
   "cell_type": "code",
   "execution_count": null,
   "id": "70599c4c",
   "metadata": {
    "id": "70599c4c"
   },
   "outputs": [],
   "source": [
    "def preprocessing(df_scaling, scaled_form = 'MinMaxScaler()'):\n",
    "    # 불필요한 컬럼 제거\n",
    "    if 'ID' in df_scaling:\n",
    "        df_scaling = df_scaling.drop(\"ID\", axis = 1)\n",
    "        if len(df_scaling.columns) == 1:\n",
    "            return df_scaling\n",
    "        \n",
    "        df_scaling = df_scaling.drop('oral', axis = 1) \n",
    "        # 범주형 피처 레이블 인코딩 \n",
    "        cate_features = df_scaling[['gender','tartar']]\n",
    "\n",
    "        lbe = LabelEncoder()\n",
    "        lbe.fit_transform(df_scaling[\"gender\"])\n",
    "        df_scaling[\"gender\"] = lbe.fit_transform(df_scaling[\"gender\"])\n",
    "\n",
    "        lbe = LabelEncoder()\n",
    "        lbe.fit_transform(df_scaling[\"tartar\"])\n",
    "        df_scaling[\"tartar\"] = lbe.fit_transform(df_scaling[\"tartar\"])\n",
    "        # hearing 피처 1, 2 => 1, 0으로 변환\n",
    "        df_scaling['hearing(left)'] = df_scaling['hearing(left)'].apply(lambda x: x-2 if x ==2.0 else x )\n",
    "        df_scaling['hearing(right)'] = df_scaling['hearing(right)'].apply(lambda x: x-2 if x ==2.0 else x )\n",
    "        \n",
    "#         # BMI 지수 계산\n",
    "#         # bmi = kg/m^2\n",
    "#         df_scaling['bmi'] = df_scaling['weight(kg)']/((df_scaling['height(cm)']*0.01)**2)\n",
    "#         # wwi(비만 지수) 지수 계산\n",
    "#         df_scaling['wwi'] = df_scaling['waist(cm)']/(df_scaling['weight(kg)'].apply(np.sqrt))\n",
    "\n",
    "        # 정규화 작업\n",
    "        cate_features = df_scaling[['gender', 'tartar', 'hearing(right)', 'hearing(left)', 'dental caries']]\n",
    "        scaled_features = df_scaling.drop(cate_features.columns, axis=1)\n",
    "        if scaled_form == 'StandardScaler()':\n",
    "            # Standard scaler\n",
    "            scaler = StandardScaler()\n",
    "            scaler.fit(scaled_features)\n",
    "            scaled = scaler.transform(scaled_features)\n",
    "            standard_scaled = pd.DataFrame(scaled,columns = scaled_features.columns)\n",
    "            standard_scaled[cate_features.columns] = cate_features\n",
    "\n",
    "            return standard_scaled\n",
    "        else:\n",
    "            # MinMax scaler\n",
    "            scaler_M = MinMaxScaler()\n",
    "            scaler_M.fit(scaled_features)\n",
    "            scaled_M = scaler_M.transform(scaled_features)\n",
    "            min_max_scaled = pd.DataFrame(scaled_M,columns = scaled_features.columns)\n",
    "            min_max_scaled[cate_features.columns] = cate_features\n",
    "\n",
    "            return min_max_scaled"
   ]
  },
  {
   "cell_type": "code",
   "execution_count": null,
   "id": "a55fc995",
   "metadata": {
    "id": "a55fc995"
   },
   "outputs": [],
   "source": [
    "smoking = pd.read_csv('./Smoking_raw/smoking.csv')"
   ]
  },
  {
   "cell_type": "code",
   "execution_count": null,
   "id": "f039c53c",
   "metadata": {
    "id": "f039c53c"
   },
   "outputs": [],
   "source": [
    "# scaled_data = preprocessing(smoking)"
   ]
  },
  {
   "cell_type": "code",
   "execution_count": null,
   "id": "fac03826",
   "metadata": {
    "id": "fac03826"
   },
   "outputs": [],
   "source": [
    "scaled_data = smoking"
   ]
  },
  {
   "cell_type": "code",
   "execution_count": null,
   "id": "e5c475c0",
   "metadata": {
    "id": "e5c475c0"
   },
   "outputs": [],
   "source": [
    "target = scaled_data['smoking']"
   ]
  },
  {
   "cell_type": "code",
   "execution_count": null,
   "id": "18d32f52",
   "metadata": {
    "id": "18d32f52"
   },
   "outputs": [],
   "source": [
    "x_train, x_test, y_train, y_test = train_test_split(scaled_data, target, test_size = 0.1, random_state=0)"
   ]
  },
  {
   "cell_type": "markdown",
   "id": "54aa4803",
   "metadata": {
    "id": "54aa4803"
   },
   "source": [
    "# competition_format"
   ]
  },
  {
   "cell_type": "code",
   "execution_count": null,
   "id": "f0203f97",
   "metadata": {
    "id": "f0203f97"
   },
   "outputs": [],
   "source": [
    "# competition_format\n",
    "x_train = pd.read_csv('./Smoking_raw/competition_format/x_train.csv')\n",
    "x_test = pd.read_csv('./Smoking_raw/competition_format/x_test.csv')\n",
    "y_train = pd.read_csv('./Smoking_raw/competition_format/y_train.csv')\n",
    "y_test = pd.read_csv('./Smoking_raw/competition_format/y_test.csv')"
   ]
  },
  {
   "cell_type": "code",
   "execution_count": null,
   "id": "9d0aacda",
   "metadata": {
    "id": "9d0aacda"
   },
   "outputs": [],
   "source": [
    "# x_train = preprocessing(x_train)\n",
    "# x_test = preprocessing(x_test)\n",
    "# y_train = preprocessing(y_train)\n",
    "# y_test = preprocessing(y_test)"
   ]
  },
  {
   "cell_type": "code",
   "execution_count": null,
   "id": "efbe14e7",
   "metadata": {
    "id": "efbe14e7",
    "outputId": "b7efac7b-1d17-4d70-8200-98459718f161"
   },
   "outputs": [],
   "source": [
    "x_test"
   ]
  },
  {
   "cell_type": "code",
   "execution_count": null,
   "id": "ec2ab153",
   "metadata": {
    "id": "ec2ab153",
    "outputId": "77b17fc1-9da4-41a3-ecc8-96817aef3951"
   },
   "outputs": [],
   "source": [
    "y_train"
   ]
  },
  {
   "cell_type": "code",
   "execution_count": null,
   "id": "3432fb2d",
   "metadata": {
    "id": "3432fb2d",
    "outputId": "a4db6b5a-fa27-49f3-c5b2-9d2a4039ab50"
   },
   "outputs": [],
   "source": [
    "y_test"
   ]
  },
  {
   "cell_type": "code",
   "execution_count": null,
   "id": "003d8cf7",
   "metadata": {
    "id": "003d8cf7",
    "outputId": "c45dd364-6086-4ca4-9589-2d1fff2d4042"
   },
   "outputs": [],
   "source": [
    "# x_train 시각화\n",
    "x_train.hist(figsize = (20, 20), bins = 12, legend=False)"
   ]
  },
  {
   "cell_type": "code",
   "execution_count": null,
   "id": "647e3027",
   "metadata": {
    "id": "647e3027",
    "outputId": "c0674e01-7036-4af7-e55f-94b2b316072c"
   },
   "outputs": [],
   "source": [
    "x_train['eyesight(right)'].max()"
   ]
  },
  {
   "cell_type": "markdown",
   "id": "21cc7481",
   "metadata": {
    "id": "21cc7481"
   },
   "source": [
    "### 랜덤포레스트(Random Forest) 적용"
   ]
  },
  {
   "cell_type": "code",
   "execution_count": null,
   "id": "706eb108",
   "metadata": {
    "id": "706eb108"
   },
   "outputs": [],
   "source": [
    "# 독립변수 설정\n",
    "x = smoking.drop(\"smoking\", axis = 1)\n",
    "# 종속변수 설정\n",
    "y = smoking[\"smoking\"]"
   ]
  },
  {
   "cell_type": "code",
   "execution_count": null,
   "id": "07bd8d4c",
   "metadata": {
    "id": "07bd8d4c",
    "outputId": "9127d705-0b09-4fc8-e961-656b0f11c76b"
   },
   "outputs": [],
   "source": [
    "# 랜덤포레스트 객체 생성\n",
    "from sklearn.metrics import accuracy_score, precision_score , recall_score\n",
    "rf_clf_2000 = RandomForestClassifier(random_state=0, n_estimators=2000)\n",
    "rf_clf_2000.fit(x_train, y_train)\n",
    "pred = rf_clf_2000.predict(x_test)\n",
    "accuracy = accuracy_score(y_test, pred)\n",
    "print('랜덤 포레스트 정확도: {0:.4f}'.format(accuracy))"
   ]
  },
  {
   "cell_type": "code",
   "execution_count": null,
   "id": "877a4c96",
   "metadata": {
    "id": "877a4c96",
    "outputId": "e524f0e9-817e-4aa5-c246-a2f83a3cb8d1"
   },
   "outputs": [],
   "source": [
    "# 정확도 / 정밀도 / 재현율\n",
    "print(\"정확도 : \", accuracy_score(y_test, pred))\n",
    "print(\"정밀도 : \", precision_score(y_test, pred))\n",
    "print(\"재현율 : \", recall_score(y_test, pred))"
   ]
  },
  {
   "cell_type": "markdown",
   "id": "b6d38a39",
   "metadata": {
    "id": "b6d38a39"
   },
   "source": [
    "### GridSearchCV로 교차검증 및 하이퍼 파라미터 튜닝"
   ]
  },
  {
   "cell_type": "code",
   "execution_count": null,
   "id": "cb839a3e",
   "metadata": {
    "id": "cb839a3e",
    "outputId": "1dde5be3-7c24-441a-9a0d-333667da54b5"
   },
   "outputs": [],
   "source": [
    "from sklearn.model_selection import GridSearchCV\n",
    "\n",
    "params = {\n",
    "    'n_estimators':[2000],\n",
    "    'max_depth' : [6,8,10,12],\n",
    "    'min_samples_leaf' : [8,12,18],\n",
    "    'min_samples_split' : [8,16,20]\n",
    "}\n",
    "\n",
    "rf_clf = RandomForestClassifier(random_state=0, n_jobs=-1)\n",
    "\n",
    "grid_cv = GridSearchCV(rf_clf, param_grid=params, cv=2, n_jobs=-1)\n",
    "grid_cv.fit(x_train, y_train)\n",
    "\n",
    "print('최적 하이퍼 파라미터:\\n', grid_cv.best_params_)\n",
    "print('최고 예측 정확도: {0:.4f}'.format(grid_cv.best_score_))"
   ]
  },
  {
   "cell_type": "code",
   "execution_count": null,
   "id": "500db4b1",
   "metadata": {
    "id": "500db4b1",
    "outputId": "b26c2a16-533b-41fd-d911-ec8d67692b11"
   },
   "outputs": [],
   "source": [
    "# 튜닝된 하이퍼파라미터로 재학습/예측/평가 - 분류기 수를 확장\n",
    "rf_clf = RandomForestClassifier(n_estimators=2000, max_depth=10, min_samples_leaf=8, \\\n",
    "                                 min_samples_split=8, random_state=0)\n",
    "rf_clf.fit(x_train,y_train)\n",
    "pred= rf_clf.predict(x_test)\n",
    "print('예측 정확도: {0:.4f}'.format(accuracy_score(y_test, pred)))"
   ]
  },
  {
   "cell_type": "markdown",
   "id": "cd06d5ee",
   "metadata": {
    "id": "cd06d5ee"
   },
   "source": [
    "### 개별 feature들의 중요도 시각화"
   ]
  },
  {
   "cell_type": "code",
   "execution_count": null,
   "id": "b2ea2da7",
   "metadata": {
    "id": "b2ea2da7"
   },
   "outputs": [],
   "source": [
    "# gender 원-핫 인코딩\n",
    "from sklearn.preprocessing import OneHotEncoder\n",
    "oh_encoder = OneHotEncoder()\n",
    "oh_labels= oh_encoder.fit_transform(x_train[[\"gender\"]])\n",
    "oh_labels.toarray()\n",
    "gender = oh_labels.toarray()\n",
    "pd.DataFrame(gender)\n",
    "test = pd.DataFrame(gender)\n",
    "test.columns = ['M','F']\n",
    "test\n",
    "x_train['M'] = test['M']\n",
    "x_train['F'] = test['F']"
   ]
  },
  {
   "cell_type": "code",
   "execution_count": null,
   "id": "f5baa342",
   "metadata": {
    "id": "f5baa342",
    "outputId": "9d7be30b-3c68-4fc2-dc9c-4ae6f409c975"
   },
   "outputs": [],
   "source": [
    "test"
   ]
  },
  {
   "cell_type": "code",
   "execution_count": null,
   "id": "215f5074",
   "metadata": {
    "id": "215f5074",
    "outputId": "a7f9784d-78fb-4d89-ef8d-718cf8e6518b"
   },
   "outputs": [],
   "source": [
    "import matplotlib.pyplot as plt\n",
    "import seaborn as sns\n",
    "%matplotlib inline\n",
    "\n",
    "ftr_import = rf_clf.feature_importances_\n",
    "ftr_import_se = pd.Series(ftr_import, index=x_train.columns)\n",
    "ftr_import_20 = ftr_import_se.sort_values(ascending=False)#[:20] # 중요도가 높은 20개의 피처만 추출\n",
    "\n",
    "plt.figure(figsize=(8,6))\n",
    "plt.title('Feature importances Top 20')\n",
    "# x축은 중요도 값, y축은 ftr_top20 시리즈의 index\n",
    "sns.barplot(x=ftr_import_20,y=ftr_import_20.index) # 가로막대 그래프\n",
    "plt.show()"
   ]
  },
  {
   "cell_type": "markdown",
   "id": "a9718802",
   "metadata": {
    "id": "a9718802"
   },
   "source": [
    "### ROC AUC Curve"
   ]
  },
  {
   "cell_type": "code",
   "execution_count": null,
   "id": "5b34e295",
   "metadata": {
    "id": "5b34e295",
    "outputId": "5742c5f1-f886-4c99-f37a-3df375d930fa"
   },
   "outputs": [],
   "source": [
    "rf_roc_auc = roc_auc_score(y_test, rf_clf.predict(x_test))\n",
    "fpr, tpr, thresholds = roc_curve(y_test, rf_clf.predict_proba(x_test)[:,1])\n",
    "\n",
    "plt.figure()\n",
    "plt.plot(fpr, tpr, label = 'AUC (area = %0.2f)' % rf_roc_auc)\n",
    "plt.plot([0, 1], [0, 1],'g--')\n",
    "plt.xlim([0.0, 1.0])\n",
    "plt.ylim([0.0, 1.05])\n",
    "plt.xlabel('False Positive Rate')\n",
    "plt.ylabel('True Positive Rate')\n",
    "plt.title('ROC')\n",
    "plt.show()"
   ]
  },
  {
   "cell_type": "markdown",
   "id": "89917b5d",
   "metadata": {
    "id": "89917b5d"
   },
   "source": [
    "### Confusion Matrix"
   ]
  },
  {
   "cell_type": "code",
   "execution_count": null,
   "id": "5f54ad8b",
   "metadata": {
    "id": "5f54ad8b",
    "outputId": "4eead0fa-436c-48f9-a87a-eaff3d72ace6"
   },
   "outputs": [],
   "source": [
    "plot_confusion_matrix(rf_clf, x_test, y_test, cmap = plt.cm.Greens, normalize = \"true\");"
   ]
  }
 ],
 "metadata": {
  "colab": {
   "collapsed_sections": [],
   "provenance": []
  },
  "kernelspec": {
   "display_name": "Python 3 (ipykernel)",
   "language": "python",
   "name": "python3"
  },
  "language_info": {
   "codemirror_mode": {
    "name": "ipython",
    "version": 3
   },
   "file_extension": ".py",
   "mimetype": "text/x-python",
   "name": "python",
   "nbconvert_exporter": "python",
   "pygments_lexer": "ipython3",
   "version": "3.9.7"
  }
 },
 "nbformat": 4,
 "nbformat_minor": 5
}
