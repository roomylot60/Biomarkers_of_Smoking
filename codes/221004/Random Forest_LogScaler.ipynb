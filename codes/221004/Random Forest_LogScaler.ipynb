{
 "cells": [
  {
   "cell_type": "code",
   "execution_count": null,
   "id": "0468a263",
   "metadata": {},
   "outputs": [],
   "source": [
    "import pandas as pd\n",
    "import numpy as np\n",
    "from sklearn.ensemble import RandomForestClassifier # for modeling\n",
    "from sklearn.preprocessing import LabelEncoder # for encoding\n",
    "from sklearn.preprocessing import MinMaxScaler, RobustScaler, StandardScaler #for standardization\n",
    "from sklearn.model_selection import train_test_split\n",
    "from sklearn.metrics import roc_auc_score, roc_curve\n",
    "from sklearn.metrics import plot_confusion_matrix"
   ]
  },
  {
   "cell_type": "code",
   "execution_count": null,
   "id": "53d597dc",
   "metadata": {},
   "outputs": [],
   "source": [
    "def preprocessing(df_scaling):\n",
    "    # 불필요한 컬럼 제거\n",
    "    if 'ID' in df_scaling:\n",
    "        df_scaling = df_scaling.drop(\"ID\", axis = 1)\n",
    "        if len(df_scaling.columns) == 1:\n",
    "            return df_scaling\n",
    "        \n",
    "    # 시력(eyesight) 데이터 범주화\n",
    "    # 시력 기준\n",
    "    # (0.1~0.9): 나쁨(1)\n",
    "    # (1.0~1.5): 보통(2)\n",
    "    # (1.6~2.0): 좋음(3)\n",
    "    # (9.9): 실명(4)\n",
    "\n",
    "    def func(x):\n",
    "        if x < 1.0 :\n",
    "            return 1\n",
    "        elif x < 1.6 :\n",
    "            return 2\n",
    "        elif x <= 2.0 :\n",
    "            return 3\n",
    "        else : \n",
    "            return 4\n",
    "    df_scaling['eyesight(left)'] = df_scaling['eyesight(left)'].apply(lambda x:func(x))    \n",
    "    df_scaling['eyesight(right)'] = df_scaling['eyesight(right)'].apply(lambda x:func(x))\n",
    "    \n",
    "    df_scaling = df_scaling.drop('oral', axis = 1) \n",
    "    # 범주형 피처 레이블 인코딩 \n",
    "    cate_features = df_scaling[['gender','tartar']]\n",
    "\n",
    "    lbe = LabelEncoder()\n",
    "    lbe.fit_transform(df_scaling[\"gender\"])\n",
    "    df_scaling[\"gender\"] = lbe.fit_transform(df_scaling[\"gender\"])\n",
    "\n",
    "    lbe = LabelEncoder()\n",
    "    lbe.fit_transform(df_scaling[\"tartar\"])\n",
    "    df_scaling[\"tartar\"] = lbe.fit_transform(df_scaling[\"tartar\"])\n",
    "    # hearing 피처 1, 2 => 1, 0으로 변환\n",
    "    df_scaling['hearing(left)'] = df_scaling['hearing(left)'].apply(lambda x: x-2 if x ==2.0 else x )\n",
    "    df_scaling['hearing(right)'] = df_scaling['hearing(right)'].apply(lambda x: x-2 if x ==2.0 else x )\n",
    "\n",
    "    # BMI 지수 계산\n",
    "    # bmi = kg/m^2\n",
    "    df_scaling['bmi'] = df_scaling['weight(kg)']/((df_scaling['height(cm)']*0.01)**2)\n",
    "    # wwi(비만 지수) 지수 계산\n",
    "    df_scaling['wwi'] = df_scaling['waist(cm)']/(df_scaling['weight(kg)'].apply(np.sqrt))\n",
    "    return df_scaling"
   ]
  },
  {
   "cell_type": "code",
   "execution_count": null,
   "id": "2a410c13",
   "metadata": {},
   "outputs": [],
   "source": [
    "def scaling(train_data, test_data, scaled_form = 'MinMaxScaler()'):\n",
    "    # 형태 별 특성 구분\n",
    "    train_data = preprocessing(train_data)\n",
    "    test_data = preprocessing(test_data)\n",
    "    tr_cate_features = train_data[['gender', 'tartar', 'hearing(right)', 'hearing(left)', 'dental caries','eyesight(left)','eyesight(right)']]\n",
    "    tr_scaled_features = train_data.drop(tr_cate_features.columns, axis=1)\n",
    "    \n",
    "    ts_cate_features = test_data[['gender', 'tartar', 'hearing(right)', 'hearing(left)', 'dental caries','eyesight(left)','eyesight(right)']]\n",
    "    ts_scaled_features = test_data.drop(ts_cate_features.columns, axis=1)\n",
    "    \n",
    "    if scaled_form == 'StandardScaler()':\n",
    "        # Standard scaler\n",
    "        scaler = StandardScaler()\n",
    "        scaler.fit(tr_scaled_features) # 훈련 데이터에 fit() 적용\n",
    "        \n",
    "        # 훈련 데이터와 테스트 데이터에 transform()을 통해 변환\n",
    "        tr_scaled = scaler.transform(tr_scaled_features)\n",
    "        ts_scaled = scaler.transform(ts_scaled_features)\n",
    "        \n",
    "        train_std_scaled = pd.DataFrame(tr_scaled, columns=tr_scaled_features.columns)\n",
    "        train_std_scaled[tr_cate_features.columns] = tr_cate_features\n",
    "        \n",
    "        test_std_scaled = pd.DataFrame(ts_scaled, columns=ts_scaled_features.columns)\n",
    "        test_std_scaled[ts_cate_features.columns] = ts_cate_features\n",
    "        \n",
    "        return train_std_scaled, test_std_scaled\n",
    "    \n",
    "    elif scaled_form == 'RobustScaler()':\n",
    "        # Robust scaler\n",
    "        scaler = RobustScaler()\n",
    "        scaler.fit(tr_scaled_features) # 훈련 데이터에 fit() 적용\n",
    "        \n",
    "        # 훈련 데이터와 테스트 데이터에 transform()을 통해 변환\n",
    "        tr_scaled = scaler.transform(tr_scaled_features)\n",
    "        ts_scaled = scaler.transform(ts_scaled_features)\n",
    "        \n",
    "        # 데이터 프레임 형태로 변환\n",
    "        train_robust_scaled = pd.DataFrame(tr_scaled, columns=tr_scaled_features.columns)\n",
    "        train_robust_scaled[tr_cate_features.columns] = tr_cate_features\n",
    "        \n",
    "        test_robust_scaled = pd.DataFrame(ts_scaled, columns=ts_scaled_features.columns)\n",
    "        test_robust_scaled[ts_cate_features.columns] = ts_cate_features\n",
    "        \n",
    "        return train_robust_scaled, test_robust_scaled\n",
    "    \n",
    "    elif scaled_form == 'logScaler' :\n",
    "        tr_scaled = np.log1p(tr_scaled_features)\n",
    "        ts_scaled = np.log1p(ts_scaled_features)\n",
    "         # 데이터 프레임 형태로 변환\n",
    "        train_log_scaled = pd.DataFrame(tr_scaled, columns = tr_scaled_features.columns)\n",
    "        train_log_scaled[tr_cate_features.columns] = tr_cate_features\n",
    "        \n",
    "        test_log_scaled = pd.DataFrame(ts_scaled,columns = ts_scaled_features.columns)\n",
    "        test_log_scaled[ts_cate_features.columns] = ts_cate_features \n",
    "        \n",
    "        return train_log_scaled, test_log_scaled\n",
    "    else:\n",
    "        # MinMax scaler\n",
    "        scaler = MinMaxScaler()\n",
    "        scaler.fit(tr_scaled_features) # 훈련 데이터에 fit() 적용\n",
    "        \n",
    "        # 훈련 데이터와 테스트 데이터에 transform()을 통해 변환\n",
    "        tr_scaled = scaler.transform(tr_scaled_features)\n",
    "        ts_scaled = scaler.transform(ts_scaled_features)\n",
    "        \n",
    "        # 데이터 프레임 형태로 변환\n",
    "        train_mmx_scaled = pd.DataFrame(tr_scaled, columns = tr_scaled_features.columns)\n",
    "        train_mmx_scaled[tr_cate_features.columns] = tr_cate_features\n",
    "        \n",
    "        test_mmx_scaled = pd.DataFrame(ts_scaled,columns = ts_scaled_features.columns)\n",
    "        test_mmx_scaled[ts_cate_features.columns] = ts_cate_features\n",
    "\n",
    "        return train_mmx_scaled, test_mmx_scaled"
   ]
  },
  {
   "cell_type": "code",
   "execution_count": null,
   "id": "e4af9c90",
   "metadata": {},
   "outputs": [],
   "source": [
    "# 파일 로드\n",
    "x_train = pd.read_csv('./Smoking_raw/competition_format/x_train.csv')\n",
    "x_test = pd.read_csv('./Smoking_raw/competition_format/x_test.csv')\n",
    "y_train = pd.read_csv('./Smoking_raw/competition_format/y_train.csv')\n",
    "y_test = pd.read_csv('./Smoking_raw/competition_format/y_test.csv')"
   ]
  },
  {
   "cell_type": "markdown",
   "id": "1ddbcf9c",
   "metadata": {},
   "source": [
    "- logScaler 변환 후 모델링"
   ]
  },
  {
   "cell_type": "code",
   "execution_count": null,
   "id": "644871fe",
   "metadata": {},
   "outputs": [],
   "source": [
    "scaled = scaling(x_train, x_test,scaled_form = 'logScaler')\n",
    "\n",
    "x_train_log = pd.DataFrame(scaled[0])\n",
    "x_test_log = pd.DataFrame(scaled[1])\n",
    "\n",
    "y_train = preprocessing(y_train) # id 제거 \n",
    "y_test = preprocessing(y_test) # id 제거 "
   ]
  },
  {
   "cell_type": "code",
   "execution_count": null,
   "id": "84329410",
   "metadata": {},
   "outputs": [],
   "source": [
    "x_train_log"
   ]
  },
  {
   "cell_type": "code",
   "execution_count": null,
   "id": "de8dc5bc",
   "metadata": {},
   "outputs": [],
   "source": [
    "# x_train 시각화\n",
    "x_train_log.hist(figsize = (20, 20), bins = 12, legend=False)"
   ]
  },
  {
   "cell_type": "markdown",
   "id": "47b6dfdd",
   "metadata": {},
   "source": [
    "### 랜덤포레스트(Random Forest) 적용"
   ]
  },
  {
   "cell_type": "code",
   "execution_count": null,
   "id": "82347952",
   "metadata": {},
   "outputs": [],
   "source": [
    "# 랜덤포레스트 객체 생성\n",
    "from sklearn.metrics import accuracy_score, precision_score , recall_score\n",
    "rf_clf_100 = RandomForestClassifier(random_state=0, n_estimators=50)\n",
    "rf_clf_100.fit(x_train_log, y_train)\n",
    "pred = rf_clf_100.predict(x_test_log)\n",
    "accuracy = accuracy_score(y_test, pred)\n",
    "print('랜덤 포레스트 정확도: {0:.4f}'.format(accuracy))"
   ]
  },
  {
   "cell_type": "code",
   "execution_count": null,
   "id": "f155642e",
   "metadata": {},
   "outputs": [],
   "source": [
    "# 정확도 / 정밀도 / 재현율\n",
    "print(\"정확도 : \", accuracy_score(y_test, pred))\n",
    "print(\"정밀도 : \", precision_score(y_test, pred))\n",
    "print(\"재현율 : \", recall_score(y_test, pred))"
   ]
  },
  {
   "cell_type": "markdown",
   "id": "6985fe9b",
   "metadata": {},
   "source": [
    "### GridSearchCV로 교차검증 및 하이퍼 파라미터 튜닝"
   ]
  },
  {
   "cell_type": "code",
   "execution_count": null,
   "id": "3b6a79c4",
   "metadata": {},
   "outputs": [],
   "source": [
    "from sklearn.model_selection import GridSearchCV\n",
    "\n",
    "params = {\n",
    "    'n_estimators':[50],\n",
    "    'max_depth' : [6,8,10,12],\n",
    "    'min_samples_leaf' : [8,12,18],\n",
    "    'min_samples_split' : [8,16,20]\n",
    "}\n",
    "\n",
    "rf_clf = RandomForestClassifier(random_state=0, n_jobs=-1)\n",
    "\n",
    "grid_cv = GridSearchCV(rf_clf, param_grid=params, cv=2, n_jobs=-1)\n",
    "grid_cv.fit(x_train_log, y_train)\n",
    "\n",
    "print('최적 하이퍼 파라미터:\\n', grid_cv.best_params_)\n",
    "print('최고 예측 정확도: {0:.4f}'.format(grid_cv.best_score_))"
   ]
  },
  {
   "cell_type": "code",
   "execution_count": null,
   "id": "3f93f4c0",
   "metadata": {},
   "outputs": [],
   "source": [
    "# 튜닝된 하이퍼파라미터로 재학습/예측/평가 - 분류기 수를 확장\n",
    "rf_clf = RandomForestClassifier(n_estimators=50, max_depth=12, min_samples_leaf=8, \\\n",
    "                                 min_samples_split=8, random_state=0)\n",
    "rf_clf.fit(x_train_log,y_train)\n",
    "pred= rf_clf.predict(x_test_log)\n",
    "print('예측 정확도: {0:.4f}'.format(accuracy_score(y_test, pred)))"
   ]
  },
  {
   "cell_type": "code",
   "execution_count": null,
   "id": "c9855243",
   "metadata": {},
   "outputs": [],
   "source": [
    "rf_clf.score(x_train_log, y_train)"
   ]
  },
  {
   "cell_type": "markdown",
   "id": "6d8f6ed8",
   "metadata": {},
   "source": [
    "### 개별 feature들의 중요도 시각화"
   ]
  },
  {
   "cell_type": "code",
   "execution_count": null,
   "id": "d47646c0",
   "metadata": {},
   "outputs": [],
   "source": [
    "import matplotlib.pyplot as plt\n",
    "import seaborn as sns\n",
    "%matplotlib inline\n",
    "\n",
    "ftr_import = rf_clf.feature_importances_\n",
    "ftr_import_se = pd.Series(ftr_import, index=x_train_log.columns)\n",
    "ftr_import = ftr_import_se.sort_values(ascending=False)#[:20] # 중요도가 높은 20개의 피처만 추출\n",
    "ftr_import = ftr_import[1:]\n",
    "\n",
    "plt.figure(figsize=(8,6))\n",
    "plt.title('Feature importances')\n",
    "# x축은 중요도 값, y축은 ftr_top20 시리즈의 index\n",
    "sns.barplot(x=ftr_import,y=ftr_import.index) # 가로막대 그래프\n",
    "plt.show()"
   ]
  },
  {
   "cell_type": "markdown",
   "id": "d1e6b3e6",
   "metadata": {},
   "source": [
    "### ROC AUC Curve"
   ]
  },
  {
   "cell_type": "code",
   "execution_count": null,
   "id": "0aa4b52c",
   "metadata": {},
   "outputs": [],
   "source": [
    "rf_roc_auc = roc_auc_score(y_test, rf_clf.predict(x_test_log))\n",
    "fpr, tpr, thresholds = roc_curve(y_test, rf_clf.predict_proba(x_test_log)[:,1])\n",
    "\n",
    "plt.figure()\n",
    "plt.plot(fpr, tpr, label = 'AUC (area = %0.2f)' % rf_roc_auc)\n",
    "plt.plot([0, 1], [0, 1],'g--')\n",
    "plt.xlim([0.0, 1.0])\n",
    "plt.ylim([0.0, 1.05])\n",
    "plt.xlabel('False Positive Rate')\n",
    "plt.ylabel('True Positive Rate')\n",
    "plt.title('ROC')\n",
    "plt.show()"
   ]
  },
  {
   "cell_type": "markdown",
   "id": "0ef1765c",
   "metadata": {},
   "source": [
    "### Confusion Matrix"
   ]
  },
  {
   "cell_type": "code",
   "execution_count": null,
   "id": "0e4009ae",
   "metadata": {},
   "outputs": [],
   "source": [
    "plot_confusion_matrix(rf_clf, x_test_log, y_test, cmap = plt.cm.Greens, normalize = \"true\");"
   ]
  }
 ],
 "metadata": {
  "kernelspec": {
   "display_name": "Python 3 (ipykernel)",
   "language": "python",
   "name": "python3"
  },
  "language_info": {
   "codemirror_mode": {
    "name": "ipython",
    "version": 3
   },
   "file_extension": ".py",
   "mimetype": "text/x-python",
   "name": "python",
   "nbconvert_exporter": "python",
   "pygments_lexer": "ipython3",
   "version": "3.9.12"
  }
 },
 "nbformat": 4,
 "nbformat_minor": 5
}
