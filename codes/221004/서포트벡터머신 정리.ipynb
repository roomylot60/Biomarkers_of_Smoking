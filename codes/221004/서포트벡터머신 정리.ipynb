{
 "cells": [
  {
   "cell_type": "markdown",
   "id": "303fb553",
   "metadata": {},
   "source": [
    "# 서포트벡터머신 개념 정리"
   ]
  },
  {
   "cell_type": "markdown",
   "id": "69a2395c",
   "metadata": {},
   "source": [
    "**서포트벡터머신** : 머신러닝 기법의 하나로 패턴인식,이진분류를 위한 비확률적 지도학습 모델\n",
    "    (주로 회귀와 분류문제 해결에 사용)\n",
    "- 장점\n",
    "    - 회귀와 분류에 모두 적용할 수 있음.\n",
    "    - 라벨을 직접 추정하기때문에 조건부확률로 예측하는 모형에 비해 예측력이 높음.\n",
    "    - 과적합의 가능성이 낮음.\n",
    "\n",
    "- 단점\n",
    "    - 데이터 스케일링에 민감함.\n",
    "    - 고차원으로 갈수록 여러 연산이 필요해서 학습속도가 느림.\n",
    "    - 다양한 하이퍼파라미터(커널,C,gamma)값을 여러 번 조합해 최적의 모델을 구해야함.\n",
    "    - 모형이 복잡해 결과에 대한 설명이 어려움.\n",
    "    \n",
    "\n",
    "**중요 하이퍼 파라미터**\n",
    "* Kernel : 주어진 데이터를 공간 상에서 분류하는 함수를 지정(linear,poly,RBF가 있음, 고차원 데이터는 선형분류로는 예측력이 매우 낮음)\n",
    "* C : 서포트벡터와 결정경계 사이의 마진(거리)을 설정(C가 클수록 마진이 좁아짐,하드마진)\n",
    "* gamma : 비선형 커널에서 결정경계의 곡률을 설정(높을수록 곡률이 큼,오차를 적게 허용)\n",
    "\n",
    "C와 gamma를 높게 설정할수록 오류를 덜 허용하여 과적합될 수도 있음"
   ]
  },
  {
   "cell_type": "markdown",
   "id": "b04fa75a",
   "metadata": {},
   "source": [
    "## 전처리"
   ]
  },
  {
   "cell_type": "code",
   "execution_count": null,
   "id": "1f49c88e",
   "metadata": {
    "execution": {
     "iopub.execute_input": "2022-09-27T02:42:06.419644Z",
     "iopub.status.busy": "2022-09-27T02:42:06.419157Z",
     "iopub.status.idle": "2022-09-27T02:42:07.000417Z",
     "shell.execute_reply": "2022-09-27T02:42:06.999011Z",
     "shell.execute_reply.started": "2022-09-27T02:42:06.419597Z"
    }
   },
   "outputs": [],
   "source": [
    "import pandas as pd\n",
    "import numpy as np\n",
    "from sklearn.preprocessing import LabelEncoder # for encoding\n",
    "from sklearn.preprocessing import MinMaxScaler, RobustScaler, StandardScaler #for standardization\n",
    "from sklearn.model_selection import train_test_split\n",
    "import time"
   ]
  },
  {
   "cell_type": "code",
   "execution_count": null,
   "id": "2a4eb060",
   "metadata": {
    "execution": {
     "iopub.execute_input": "2022-09-27T02:42:08.209431Z",
     "iopub.status.busy": "2022-09-27T02:42:08.209024Z",
     "iopub.status.idle": "2022-09-27T02:42:08.221475Z",
     "shell.execute_reply": "2022-09-27T02:42:08.219997Z",
     "shell.execute_reply.started": "2022-09-27T02:42:08.209399Z"
    }
   },
   "outputs": [],
   "source": [
    "def preprocessing(df_scaling, scaled_form = 'MinMaxScaler()'):\n",
    "    # 불필요한 컬럼 제거\n",
    "    if 'ID' in df_scaling:\n",
    "        df_scaling = df_scaling.drop(\"ID\", axis = 1)\n",
    "        if len(df_scaling.columns) == 1:\n",
    "            return df_scaling\n",
    "        \n",
    "        df_scaling = df_scaling.drop('oral', axis = 1) \n",
    "        # 범주형 피처 레이블 인코딩 \n",
    "        cate_features = df_scaling[['gender','tartar']]\n",
    "\n",
    "        lbe = LabelEncoder()\n",
    "        lbe.fit_transform(df_scaling[\"gender\"])\n",
    "        df_scaling[\"gender\"] = lbe.fit_transform(df_scaling[\"gender\"])\n",
    "\n",
    "        lbe = LabelEncoder()\n",
    "        lbe.fit_transform(df_scaling[\"tartar\"])\n",
    "        df_scaling[\"tartar\"] = lbe.fit_transform(df_scaling[\"tartar\"])\n",
    "        # hearing 피처 1, 2 => 1, 0으로 변환\n",
    "        df_scaling['hearing(left)'] = df_scaling['hearing(left)'].apply(lambda x: x-2 if x ==2.0 else x )\n",
    "        df_scaling['hearing(right)'] = df_scaling['hearing(right)'].apply(lambda x: x-2 if x ==2.0 else x )\n",
    "        \n",
    "        # BMI 지수 계산\n",
    "        # bmi = kg/m^2\n",
    "        #df_scaling['bmi'] = df_scaling['weight(kg)']/((df_scaling['height(cm)']*0.01)**2)\n",
    "        # wwi(비만 지수) 지수 계산\n",
    "        #df_scaling['wwi'] = df_scaling['waist(cm)']/(df_scaling['weight(kg)'].apply(np.sqrt))\n",
    "        return df_scaling"
   ]
  },
  {
   "cell_type": "code",
   "execution_count": null,
   "id": "58b17048",
   "metadata": {},
   "outputs": [],
   "source": [
    "def scaling(train_data, test_data, scaled_form = 'MinMaxScaler()'):\n",
    "    # 형태 별 특성 구분\n",
    "    train_data = preprocessing(train_data)\n",
    "    test_data = preprocessing(test_data)\n",
    "    tr_cate_features = train_data[['gender', 'tartar', 'hearing(right)', 'hearing(left)', 'dental caries']]\n",
    "    tr_scaled_features = train_data.drop(tr_cate_features.columns, axis=1)\n",
    "    \n",
    "    ts_cate_features = test_data[['gender', 'tartar', 'hearing(right)', 'hearing(left)', 'dental caries']]\n",
    "    ts_scaled_features = test_data.drop(ts_cate_features.columns, axis=1)\n",
    "    \n",
    "    if scaled_form == 'StandardScaler()':\n",
    "        # Standard scaler\n",
    "        scaler = StandardScaler()\n",
    "        scaler.fit(tr_scaled_features) # 훈련 데이터에 fit() 적용\n",
    "        \n",
    "        # 훈련 데이터와 테스트 데이터에 transform()을 통해 변환\n",
    "        tr_scaled = scaler.transform(tr_scaled_features)\n",
    "        ts_scaled = scaler.transform(ts_scaled_features)\n",
    "        \n",
    "        train_std_scaled = pd.DataFrame(tr_scaled, columns=tr_scaled_features.columns)\n",
    "        train_std_scaled[tr_cate_features.columns] = tr_cate_features\n",
    "        \n",
    "        test_std_scaled = pd.DataFrame(ts_scaled, columns=ts_scaled_features.columns)\n",
    "        test_std_scaled[ts_cate_features.columns] = ts_cate_features\n",
    "        \n",
    "        return train_std_scaled, test_std_scaled\n",
    "    \n",
    "    elif scaled_form == 'RobustScaler()':\n",
    "        # Robust scaler\n",
    "        scaler = RobustScaler()\n",
    "        scaler.fit(tr_scaled_features) # 훈련 데이터에 fit() 적용\n",
    "        \n",
    "        # 훈련 데이터와 테스트 데이터에 transform()을 통해 변환\n",
    "        tr_scaled = scaler.transform(tr_scaled_features)\n",
    "        ts_scaled = scaler.transform(ts_scaled_features)\n",
    "        \n",
    "        # 데이터 프레임 형태로 변환\n",
    "        train_robust_scaled = pd.DataFrame(tr_scaled, columns=tr_scaled_features.columns)\n",
    "        train_robust_scaled[tr_cate_features.columns] = tr_cate_features\n",
    "        \n",
    "        test_robust_scaled = pd.DataFrame(ts_scaled, columns=ts_scaled_features.columns)\n",
    "        test_robust_scaled[ts_cate_features.columns] = ts_cate_features\n",
    "        \n",
    "        return train_robust_scaled, test_robust_scaled\n",
    "        \n",
    "    else:\n",
    "        # MinMax scaler\n",
    "        scaler = MinMaxScaler()\n",
    "        scaler.fit(tr_scaled_features) # 훈련 데이터에 fit() 적용\n",
    "        \n",
    "        # 훈련 데이터와 테스트 데이터에 transform()을 통해 변환\n",
    "        tr_scaled = scaler.transform(tr_scaled_features)\n",
    "        ts_scaled = scaler.transform(ts_scaled_features)\n",
    "        \n",
    "        # 데이터 프레임 형태로 변환\n",
    "        train_mmx_scaled = pd.DataFrame(tr_scaled, columns = tr_scaled_features.columns)\n",
    "        train_mmx_scaled[tr_cate_features.columns] = tr_cate_features\n",
    "        \n",
    "        test_mmx_scaled = pd.DataFrame(ts_scaled,columns = ts_scaled_features.columns)\n",
    "        test_mmx_scaled[ts_cate_features.columns] = ts_cate_features\n",
    "\n",
    "        return train_mmx_scaled, test_mmx_scaled"
   ]
  },
  {
   "cell_type": "code",
   "execution_count": null,
   "id": "17c9d278",
   "metadata": {
    "execution": {
     "iopub.execute_input": "2022-09-27T02:42:12.338846Z",
     "iopub.status.busy": "2022-09-27T02:42:12.338436Z",
     "iopub.status.idle": "2022-09-27T02:42:12.632754Z",
     "shell.execute_reply": "2022-09-27T02:42:12.631426Z",
     "shell.execute_reply.started": "2022-09-27T02:42:12.338815Z"
    },
    "scrolled": true
   },
   "outputs": [],
   "source": [
    "# competition_format\n",
    "x_train = pd.read_csv('./data/Smoking_raw/competition_format/x_train.csv')\n",
    "x_test = pd.read_csv('./data/Smoking_raw/competition_format/x_test.csv')\n",
    "y_train = pd.read_csv('./data/Smoking_raw/competition_format/y_train.csv')\n",
    "y_test = pd.read_csv('./data/Smoking_raw/competition_format/y_test.csv')"
   ]
  },
  {
   "cell_type": "code",
   "execution_count": null,
   "id": "054a555f",
   "metadata": {
    "execution": {
     "iopub.execute_input": "2022-09-27T02:42:40.108817Z",
     "iopub.status.busy": "2022-09-27T02:42:40.108386Z",
     "iopub.status.idle": "2022-09-27T02:42:40.224687Z",
     "shell.execute_reply": "2022-09-27T02:42:40.223155Z",
     "shell.execute_reply.started": "2022-09-27T02:42:40.108787Z"
    }
   },
   "outputs": [],
   "source": [
    "scaled = scaling(x_train, x_test,scaled_form='StandardScaler()')"
   ]
  },
  {
   "cell_type": "code",
   "execution_count": null,
   "id": "25232c63",
   "metadata": {
    "execution": {
     "iopub.execute_input": "2022-09-27T02:42:40.108817Z",
     "iopub.status.busy": "2022-09-27T02:42:40.108386Z",
     "iopub.status.idle": "2022-09-27T02:42:40.224687Z",
     "shell.execute_reply": "2022-09-27T02:42:40.223155Z",
     "shell.execute_reply.started": "2022-09-27T02:42:40.108787Z"
    }
   },
   "outputs": [],
   "source": [
    "x_train_s = pd.DataFrame(scaled[0])\n",
    "x_test_s = pd.DataFrame(scaled[1])\n",
    "y_train_s = preprocessing(y_train)\n",
    "y_test_s = preprocessing(y_test)"
   ]
  },
  {
   "cell_type": "code",
   "execution_count": null,
   "id": "5160c304",
   "metadata": {
    "scrolled": true
   },
   "outputs": [],
   "source": [
    "x_train_s.head()"
   ]
  },
  {
   "cell_type": "code",
   "execution_count": null,
   "id": "b0a014a8",
   "metadata": {},
   "outputs": [],
   "source": [
    "x_train_s.info()"
   ]
  },
  {
   "cell_type": "code",
   "execution_count": null,
   "id": "60f1b50c",
   "metadata": {},
   "outputs": [],
   "source": [
    "x_test_s.head()"
   ]
  },
  {
   "cell_type": "markdown",
   "id": "b93e6fdc",
   "metadata": {},
   "source": [
    "## 모델링"
   ]
  },
  {
   "cell_type": "markdown",
   "id": "27f5876e",
   "metadata": {},
   "source": [
    "### Standard Scaler"
   ]
  },
  {
   "cell_type": "code",
   "execution_count": null,
   "id": "92c5e769",
   "metadata": {
    "execution": {
     "iopub.execute_input": "2022-09-27T02:42:53.155640Z",
     "iopub.status.busy": "2022-09-27T02:42:53.155246Z",
     "iopub.status.idle": "2022-09-27T02:42:53.229763Z",
     "shell.execute_reply": "2022-09-27T02:42:53.228488Z",
     "shell.execute_reply.started": "2022-09-27T02:42:53.155611Z"
    }
   },
   "outputs": [],
   "source": [
    "from sklearn.metrics import accuracy_score,f1_score, confusion_matrix, precision_recall_curve\n",
    "from sklearn.metrics import roc_curve,precision_score, recall_score, roc_auc_score\n",
    "from sklearn.svm import SVC\n"
   ]
  },
  {
   "cell_type": "markdown",
   "id": "d98b8b1d",
   "metadata": {},
   "source": [
    "### 선형 커널(linear)"
   ]
  },
  {
   "cell_type": "markdown",
   "id": "39b210d6",
   "metadata": {},
   "source": [
    "C만 설정"
   ]
  },
  {
   "cell_type": "code",
   "execution_count": null,
   "id": "fdc57529",
   "metadata": {
    "execution": {
     "iopub.execute_input": "2022-09-27T02:37:41.251139Z",
     "iopub.status.busy": "2022-09-27T02:37:41.250428Z"
    },
    "scrolled": true
   },
   "outputs": [],
   "source": [
    "model1_s=SVC(kernel='linear',C=1.0).fit(x_train_s,y_train_s)\n",
    "score1=model1_s.score (x_train_s, y_train_s)\n",
    "score1_t=model1_s.score (x_test_s, y_test_s)\n",
    "print('model 훈련 점수 : {: .3f}'.format(score1))\n",
    "print('model 테스트 점수 : {: .3f}'.format(score1_t))"
   ]
  },
  {
   "cell_type": "code",
   "execution_count": null,
   "id": "0e7a9a07",
   "metadata": {
    "execution": {
     "iopub.execute_input": "2022-09-27T02:25:46.887579Z",
     "iopub.status.busy": "2022-09-27T02:25:46.886343Z",
     "iopub.status.idle": "2022-09-27T02:27:50.624905Z",
     "shell.execute_reply": "2022-09-27T02:27:50.623484Z",
     "shell.execute_reply.started": "2022-09-27T02:25:46.887536Z"
    },
    "scrolled": true
   },
   "outputs": [],
   "source": [
    "# C=0.1\n",
    "model2_s=SVC(kernel='linear',C=0.1).fit(x_train_s,y_train_s)\n",
    "score2=model2_s.score (x_train_s, y_train_s)\n",
    "score2_t=model2_s.score (x_test_s, y_test_s)\n",
    "print('model 훈련 점수 : {: .3f}'.format(score2))\n",
    "print('model 테스트 점수 : {: .3f}'.format(score2_t))"
   ]
  },
  {
   "cell_type": "markdown",
   "id": "ed88a99d",
   "metadata": {},
   "source": [
    "### RBF 커널(RBF)"
   ]
  },
  {
   "cell_type": "markdown",
   "id": "edcdf090",
   "metadata": {},
   "source": [
    "C와 gamma 설정"
   ]
  },
  {
   "cell_type": "code",
   "execution_count": null,
   "id": "27d3264b",
   "metadata": {
    "scrolled": true
   },
   "outputs": [],
   "source": [
    "model3_s=SVC(kernel='rbf',C=5,gamma=3).fit(x_train_s,y_train_s)\n",
    "score3=model3_s.score (x_train_s, y_train_s)\n",
    "score3_t=model3_s.score (x_test_s, y_test_s)\n",
    "print('model 훈련 점수 : {: .3f}'.format(score3))\n",
    "print('model 테스트 점수 : {: .3f}'.format(score3_t))"
   ]
  },
  {
   "cell_type": "code",
   "execution_count": null,
   "id": "83ea8c0c",
   "metadata": {
    "execution": {
     "iopub.execute_input": "2022-09-27T02:32:10.504904Z",
     "iopub.status.busy": "2022-09-27T02:32:10.504110Z",
     "iopub.status.idle": "2022-09-27T02:32:10.581819Z",
     "shell.execute_reply": "2022-09-27T02:32:10.580293Z",
     "shell.execute_reply.started": "2022-09-27T02:32:10.504808Z"
    },
    "scrolled": true
   },
   "outputs": [],
   "source": [
    "# rbf\n",
    "# c=1 gamma=3\n",
    "model5_s=SVC(kernel='rbf',C=1.0,gamma=3).fit(x_train_s,y_train_s)\n",
    "score5=model5_s.score (x_train_s, y_train_s)\n",
    "score5_t=model5_s.score (x_test_s, y_test_s)\n",
    "\n",
    "print('model 훈련 점수 : {: .3f}'.format(score5))\n",
    "print('model 테스트 점수 : {: .3f}'.format(score5_t))"
   ]
  },
  {
   "cell_type": "markdown",
   "id": "75b63bdf",
   "metadata": {},
   "source": [
    "## 성능비교"
   ]
  },
  {
   "cell_type": "markdown",
   "id": "8035ec67",
   "metadata": {},
   "source": [
    "### 하드마진"
   ]
  },
  {
   "cell_type": "markdown",
   "id": "67ea33b8",
   "metadata": {},
   "source": [
    "### 비교적 성능(연산속도 and 정확도) 좋음(C=1,gamma=3)"
   ]
  },
  {
   "cell_type": "code",
   "execution_count": null,
   "id": "6c6cd23f",
   "metadata": {
    "scrolled": false
   },
   "outputs": [],
   "source": [
    "start = time.time()\n",
    "model5_s=SVC(kernel='rbf',C=1.0,gamma=3).fit(x_train_s,y_train_s)\n",
    "print(\"time :\", time.time() - start)"
   ]
  },
  {
   "cell_type": "code",
   "execution_count": null,
   "id": "bf62ca68",
   "metadata": {
    "scrolled": true
   },
   "outputs": [],
   "source": [
    "start = time.time()\n",
    "print('model 훈련 점수 : {: .3f}'.format(model5_s.score (x_train_s, y_train_s)))\n",
    "print('model 테스트 점수 : {: .3f}'.format(model5_s.score (x_test_s, y_test_s)))\n",
    "print(\"time :\", time.time() - start)"
   ]
  },
  {
   "cell_type": "markdown",
   "id": "0a103703",
   "metadata": {},
   "source": [
    "### 성능(연산속도 or 정확도) 낮음"
   ]
  },
  {
   "cell_type": "code",
   "execution_count": null,
   "id": "82ac79bf",
   "metadata": {
    "scrolled": true
   },
   "outputs": [],
   "source": [
    "start = time.time()\n",
    "model3_s=SVC(kernel='rbf',C=5,gamma=3).fit(x_train_s,y_train_s)\n",
    "print(\"time :\", time.time() - start)"
   ]
  },
  {
   "cell_type": "code",
   "execution_count": null,
   "id": "70d40b3d",
   "metadata": {
    "scrolled": false
   },
   "outputs": [],
   "source": [
    "start = time.time()\n",
    "print('model 훈련 점수 : {: .3f}'.format(model3_s.score (x_train_s, y_train_s)))\n",
    "print('model 테스트 점수 : {: .3f}'.format(model3_s.score (x_test_s, y_test_s)))\n",
    "print(\"time :\", time.time() - start)"
   ]
  },
  {
   "cell_type": "markdown",
   "id": "f756fdb1",
   "metadata": {},
   "source": [
    "### 소프트마진"
   ]
  },
  {
   "cell_type": "code",
   "execution_count": null,
   "id": "e1004d88",
   "metadata": {
    "scrolled": true
   },
   "outputs": [],
   "source": [
    "start = time.time()\n",
    "model4_s=SVC(kernel='rbf',C=0.5,gamma=1).fit(x_train_s,y_train_s)\n",
    "print(\"time :\", time.time() - start)"
   ]
  },
  {
   "cell_type": "code",
   "execution_count": null,
   "id": "0e5fa8cd",
   "metadata": {
    "scrolled": false
   },
   "outputs": [],
   "source": [
    "start = time.time()\n",
    "print('model 훈련 점수 : {: .3f}'.format(model4_s.score (x_train_s, y_train_s)))\n",
    "print('model 테스트 점수 : {: .3f}'.format(model4_s.score (x_test_s, y_test_s)))\n",
    "print(\"time :\", time.time() - start)"
   ]
  },
  {
   "cell_type": "markdown",
   "id": "35b3695f",
   "metadata": {},
   "source": [
    "# 모델 평가(모든 피처 포함)"
   ]
  },
  {
   "cell_type": "markdown",
   "id": "78221c40",
   "metadata": {},
   "source": [
    "하이퍼파라미터: kernel=rbf, C=1, gamma=3"
   ]
  },
  {
   "cell_type": "code",
   "execution_count": null,
   "id": "fcb5e875",
   "metadata": {},
   "outputs": [],
   "source": [
    "model5_s"
   ]
  },
  {
   "cell_type": "code",
   "execution_count": null,
   "id": "4853bda5",
   "metadata": {},
   "outputs": [],
   "source": [
    "import seaborn as sns"
   ]
  },
  {
   "cell_type": "code",
   "execution_count": null,
   "id": "6007947e",
   "metadata": {},
   "outputs": [],
   "source": [
    "cm_t = pd.DataFrame(data=confusion_m, columns=['Actual Positive:1', 'Actual Negative:0'], \n",
    "                                 index=['Predict Positive:1', 'Predict Negative:0'])\n",
    "cm_t"
   ]
  },
  {
   "cell_type": "code",
   "execution_count": null,
   "id": "85b9f8d3",
   "metadata": {},
   "outputs": [],
   "source": [
    "sns.heatmap(cm_t, annot=True, fmt='d', cmap='BuGn_r')"
   ]
  },
  {
   "cell_type": "code",
   "execution_count": null,
   "id": "1b3a1547",
   "metadata": {},
   "outputs": [],
   "source": [
    "score=[acc,pre,rec,f1,auc]"
   ]
  },
  {
   "cell_type": "code",
   "execution_count": null,
   "id": "56482d2d",
   "metadata": {
    "scrolled": true
   },
   "outputs": [],
   "source": [
    "pd.DataFrame(score,index=['정확도','정밀도','재현율','F1_score','ROC_auc_score'],columns=['summary'])"
   ]
  },
  {
   "cell_type": "markdown",
   "id": "65ad6359",
   "metadata": {},
   "source": [
    "# 피처선택 후 모델링"
   ]
  },
  {
   "cell_type": "code",
   "execution_count": null,
   "id": "796876a3",
   "metadata": {},
   "outputs": [],
   "source": [
    "# 기본 모델에서 가장 성능이 좋았던 하이퍼 파라미터\n",
    "svm=SVC(kernel='rbf',C=1.0,gamma=3)"
   ]
  },
  {
   "cell_type": "code",
   "execution_count": null,
   "id": "1552984f",
   "metadata": {},
   "outputs": [],
   "source": [
    "from sklearn.feature_selection import SelectKBest\n",
    "from sklearn.feature_selection import f_classif"
   ]
  },
  {
   "cell_type": "code",
   "execution_count": null,
   "id": "ac22c3ba",
   "metadata": {
    "scrolled": true
   },
   "outputs": [],
   "source": [
    "# accuracy_list_train = []\n",
    "# k=np.arange(1,24,1)\n",
    "# for each in k:\n",
    "#     # 1~23개의 피처를 이용해  피처 개수마다 서포트벡터머신 적용\n",
    "#     x_new = SelectKBest(f_classif, k=each).fit_transform(x_train_s, y_train_s)\n",
    "#     svm.fit(x_new,y_train_s)\n",
    "#     # 1~23개 이용할 때 마다 계산된 정확도를 저장\n",
    "#     accuracy_list_train.append(svm.score(x_new,y_train_s))   "
   ]
  },
  {
   "cell_type": "markdown",
   "id": "c21b249b",
   "metadata": {},
   "source": [
    "## 피처데이터 개수에 따른 정확도"
   ]
  },
  {
   "cell_type": "code",
   "execution_count": null,
   "id": "a0e829f7",
   "metadata": {},
   "outputs": [],
   "source": [
    "#select=pd.DataFrame({'features':k,'train accuracy':accuracy_list_train})"
   ]
  },
  {
   "cell_type": "code",
   "execution_count": null,
   "id": "bafe437c",
   "metadata": {},
   "outputs": [],
   "source": [
    "#select.to_csv('./select.csv')"
   ]
  },
  {
   "cell_type": "code",
   "execution_count": null,
   "id": "f3e04e85",
   "metadata": {},
   "outputs": [],
   "source": [
    "select_f=pd.read_csv('./select.csv',index_col=0)"
   ]
  },
  {
   "cell_type": "markdown",
   "id": "531c517d",
   "metadata": {},
   "source": [
    "### train data에서 feature 9개만으로 정확도가 90%를 넘고, 17개에서 100%"
   ]
  },
  {
   "cell_type": "code",
   "execution_count": null,
   "id": "b403b91f",
   "metadata": {},
   "outputs": [],
   "source": [
    "import seaborn as sns\n",
    "import matplotlib.pyplot as plt"
   ]
  },
  {
   "cell_type": "code",
   "execution_count": null,
   "id": "42920c5f",
   "metadata": {
    "scrolled": false
   },
   "outputs": [],
   "source": [
    "select_f"
   ]
  },
  {
   "cell_type": "code",
   "execution_count": null,
   "id": "2cf0897e",
   "metadata": {},
   "outputs": [],
   "source": [
    "# 베스트 피처개수에 따른 정확도 그래프\n",
    "plt.figure(figsize=(10,8))\n",
    "plt.plot(select_f['features'],select_f['train accuracy'])\n",
    "plt.xlabel(\"features\")\n",
    "plt.ylabel(\"train accuracy\")\n",
    "plt.legend(['train'])\n",
    "plt.show()"
   ]
  },
  {
   "cell_type": "markdown",
   "id": "a2a96796",
   "metadata": {},
   "source": [
    "## 변수선택 함수"
   ]
  },
  {
   "cell_type": "code",
   "execution_count": null,
   "id": "c78abb5e",
   "metadata": {},
   "outputs": [],
   "source": [
    "def sel_f(x_train,y_train,k=None):\n",
    "    sel = SelectKBest(f_classif, k = k )\n",
    "    x_new = sel.fit_transform(x_train, y_train)\n",
    "    #x_new_t=sel.fit_transform(x_test_s,y_test_s)\n",
    "    feat_tr = x_train.columns.values[sel.get_support()]\n",
    "    #feat_te = x_test_s.columns.values[sel.get_support()]\n",
    "    #print(\"x train features:\",feat_tr)\n",
    "    #print(\"x test features:\",feat_te)\n",
    "    return feat_tr\n"
   ]
  },
  {
   "cell_type": "code",
   "execution_count": null,
   "id": "6e0599a5",
   "metadata": {},
   "outputs": [],
   "source": [
    "f9=sel_f(x_train_s,y_train_s,k=9)"
   ]
  },
  {
   "cell_type": "markdown",
   "id": "b98b270a",
   "metadata": {},
   "source": [
    "## 모델링 및 정확도 계산 함수"
   ]
  },
  {
   "cell_type": "code",
   "execution_count": null,
   "id": "8e6858ee",
   "metadata": {},
   "outputs": [],
   "source": [
    "def modeling(x_tr,y_tr,x_te,y_te,C=None,gamma=None):\n",
    "    start=time.time()\n",
    "    model=SVC(kernel='rbf',C=C,gamma=gamma).fit(x_tr,y_tr)\n",
    "    print(''time.time()-start)\n",
    "    start2=time.time()\n",
    "    score_tr=model.score(x_tr, y_tr)\n",
    "    score_te=model.score(x_te, y_te)\n",
    "    print('train accuracy : {: .3f}'.format(score_tr))\n",
    "    print('test accuracy : {: .3f}'.format(score_te))\n",
    "    print(time.time()-start2)\n",
    "    return model,score_tr,score_te"
   ]
  },
  {
   "cell_type": "markdown",
   "id": "e32760bb",
   "metadata": {},
   "source": [
    "## 정확도 계산 예시"
   ]
  },
  {
   "cell_type": "markdown",
   "id": "c156512a",
   "metadata": {},
   "source": [
    "### k=16"
   ]
  },
  {
   "cell_type": "code",
   "execution_count": null,
   "id": "c066989f",
   "metadata": {},
   "outputs": [],
   "source": [
    "f16=sel_f(x_train_s,y_train_s,k=16)"
   ]
  },
  {
   "cell_type": "code",
   "execution_count": null,
   "id": "b370dd99",
   "metadata": {},
   "outputs": [],
   "source": [
    "f16"
   ]
  },
  {
   "cell_type": "code",
   "execution_count": null,
   "id": "9be96b64",
   "metadata": {},
   "outputs": [],
   "source": [
    "sel_x_tr=x_train_s[f16]\n",
    "sel_x_te=x_test_s[f16]"
   ]
  },
  {
   "cell_type": "code",
   "execution_count": null,
   "id": "457ee893",
   "metadata": {
    "scrolled": true
   },
   "outputs": [],
   "source": [
    "sel_x_tr.head()"
   ]
  },
  {
   "cell_type": "code",
   "execution_count": null,
   "id": "f3b5105e",
   "metadata": {},
   "outputs": [],
   "source": [
    "sel_x_te.head()"
   ]
  },
  {
   "cell_type": "code",
   "execution_count": null,
   "id": "600d72af",
   "metadata": {
    "scrolled": true
   },
   "outputs": [],
   "source": [
    "model,score_tr,score_te=modeling(sel_x_tr,y_train_s,sel_x_te,y_test_s,C=1,gamma=3)"
   ]
  },
  {
   "cell_type": "code",
   "execution_count": null,
   "id": "e00bcb6d",
   "metadata": {
    "scrolled": true
   },
   "outputs": [],
   "source": [
    "print(model,score_tr,score_te)"
   ]
  },
  {
   "cell_type": "code",
   "execution_count": null,
   "id": "fe051cb2",
   "metadata": {
    "scrolled": true
   },
   "outputs": [],
   "source": [
    "print('{:0.3f}'.format(score_tr))"
   ]
  },
  {
   "cell_type": "code",
   "execution_count": null,
   "id": "b06ce381",
   "metadata": {},
   "outputs": [],
   "source": [
    "print('{}'.format(score_tr))"
   ]
  },
  {
   "cell_type": "markdown",
   "id": "53418215",
   "metadata": {},
   "source": [
    "## 평가지표"
   ]
  },
  {
   "cell_type": "code",
   "execution_count": null,
   "id": "bf548d0d",
   "metadata": {
    "scrolled": false
   },
   "outputs": [],
   "source": [
    "start = time.time()\n",
    "\n",
    "pred_t=model.predict(sel_x_te)\n",
    "confusion_m=confusion_matrix(y_test_s, pred_t)\n",
    "\n",
    "print(\"time :\", time.time() - start)"
   ]
  },
  {
   "cell_type": "code",
   "execution_count": null,
   "id": "1d187d5c",
   "metadata": {},
   "outputs": [],
   "source": [
    "import seaborn as sns"
   ]
  },
  {
   "cell_type": "code",
   "execution_count": null,
   "id": "2c5c3c69",
   "metadata": {},
   "outputs": [],
   "source": [
    "cm_t = pd.DataFrame(data=confusion_m, columns=['Actual Positive:1', 'Actual Negative:0'], \n",
    "                                 index=['Predict Positive:1', 'Predict Negative:0'])\n",
    "cm_t"
   ]
  },
  {
   "cell_type": "code",
   "execution_count": null,
   "id": "5dd01306",
   "metadata": {},
   "outputs": [],
   "source": [
    "sns.heatmap(cm_t, annot=True, fmt='d', cmap='BuGn_r')"
   ]
  },
  {
   "cell_type": "markdown",
   "id": "61fe3f85",
   "metadata": {},
   "source": [
    "### 정밀도 재현율 f1score"
   ]
  },
  {
   "cell_type": "code",
   "execution_count": null,
   "id": "15f1b99b",
   "metadata": {
    "scrolled": false
   },
   "outputs": [],
   "source": [
    "acc=accuracy_score(y_test_s,pred_t)\n",
    "pre=precision_score(y_test_s , pred_t)\n",
    "rec=recall_score(y_test_s , pred_t)\n",
    "f1=f1_score(y_test_s,pred_t)\n",
    "auc=roc_auc_score(y_test_s, pred_t)"
   ]
  },
  {
   "cell_type": "code",
   "execution_count": null,
   "id": "270631fc",
   "metadata": {
    "scrolled": true
   },
   "outputs": [],
   "source": [
    "print('정확도 : {:.4f}'.format(acc))\n",
    "# 정밀도\n",
    "print('정밀도 : {:.4f}'.format(pre))\n",
    "# 재현율\n",
    "print('재현율 : {:.4f}'.format(rec))\n",
    "# f1_score\n",
    "print('F1_score : {:.4f}'.format(f1))\n",
    "# AUC score \n",
    "print('ROC_AUC_score : {:.4f}'.format(auc))"
   ]
  },
  {
   "cell_type": "code",
   "execution_count": null,
   "id": "e1f284f1",
   "metadata": {},
   "outputs": [],
   "source": [
    "import joblib"
   ]
  },
  {
   "cell_type": "code",
   "execution_count": null,
   "id": "1fa408db",
   "metadata": {},
   "outputs": [],
   "source": [
    "joblib.dump(model, './model_k16.pkl')"
   ]
  },
  {
   "cell_type": "code",
   "execution_count": null,
   "id": "ddb6934e",
   "metadata": {
    "scrolled": true
   },
   "outputs": [],
   "source": [
    "dir(model)"
   ]
  },
  {
   "cell_type": "code",
   "execution_count": null,
   "id": "2f736741",
   "metadata": {},
   "outputs": [],
   "source": [
    "model.feature_names_in_"
   ]
  },
  {
   "cell_type": "markdown",
   "id": "a3e849fe",
   "metadata": {},
   "source": [
    "### k=17"
   ]
  },
  {
   "cell_type": "code",
   "execution_count": null,
   "id": "47afbb7c",
   "metadata": {
    "scrolled": true
   },
   "outputs": [],
   "source": [
    "f17=sel_f(x_train_s,y_train_s,k=17)"
   ]
  },
  {
   "cell_type": "code",
   "execution_count": null,
   "id": "9cc2aca9",
   "metadata": {},
   "outputs": [],
   "source": [
    "f17"
   ]
  },
  {
   "cell_type": "code",
   "execution_count": null,
   "id": "1545d2cf",
   "metadata": {},
   "outputs": [],
   "source": [
    "sel_x_tr=x_train_s[f17]\n",
    "sel_x_te=x_test_s[f17]"
   ]
  },
  {
   "cell_type": "code",
   "execution_count": null,
   "id": "31598072",
   "metadata": {
    "scrolled": true
   },
   "outputs": [],
   "source": [
    "sel_x_tr.head()"
   ]
  },
  {
   "cell_type": "code",
   "execution_count": null,
   "id": "dea7fcce",
   "metadata": {},
   "outputs": [],
   "source": [
    "sel_x_tr.shape"
   ]
  },
  {
   "cell_type": "code",
   "execution_count": null,
   "id": "d6ae3175",
   "metadata": {},
   "outputs": [],
   "source": [
    "sel_x_te.head()"
   ]
  },
  {
   "cell_type": "code",
   "execution_count": null,
   "id": "969ab9da",
   "metadata": {},
   "outputs": [],
   "source": [
    "sel_x_te.shape"
   ]
  },
  {
   "cell_type": "code",
   "execution_count": null,
   "id": "96c3f5d8",
   "metadata": {},
   "outputs": [],
   "source": [
    "model2,score_tr2,score_te2=modeling(sel_x_tr,y_train_s,sel_x_te,y_test_s,C=1,gamma=3)"
   ]
  },
  {
   "cell_type": "code",
   "execution_count": null,
   "id": "7a78312b",
   "metadata": {},
   "outputs": [],
   "source": [
    "print(model2,score_tr2,score_te2)"
   ]
  },
  {
   "cell_type": "code",
   "execution_count": null,
   "id": "f708f106",
   "metadata": {
    "scrolled": true
   },
   "outputs": [],
   "source": [
    "model2.feature_names_in_"
   ]
  },
  {
   "cell_type": "markdown",
   "id": "a5dc06eb",
   "metadata": {},
   "source": [
    "## 평가지표"
   ]
  },
  {
   "cell_type": "code",
   "execution_count": null,
   "id": "ed1ca775",
   "metadata": {
    "scrolled": false
   },
   "outputs": [],
   "source": [
    "start = time.time()\n",
    "\n",
    "pred_t2=model2.predict(sel_x_te)\n",
    "confusion_m2=confusion_matrix(y_test_s, pred_t2)\n",
    "\n",
    "print(\"time :\", time.time() - start)"
   ]
  },
  {
   "cell_type": "code",
   "execution_count": null,
   "id": "47081a40",
   "metadata": {},
   "outputs": [],
   "source": [
    "import seaborn as sns"
   ]
  },
  {
   "cell_type": "code",
   "execution_count": null,
   "id": "2b8eaced",
   "metadata": {},
   "outputs": [],
   "source": [
    "cm_t2 = pd.DataFrame(data=confusion_m2, columns=['Actual Positive:1', 'Actual Negative:0'], \n",
    "                                 index=['Predict Positive:1', 'Predict Negative:0'])\n",
    "cm_t2"
   ]
  },
  {
   "cell_type": "code",
   "execution_count": null,
   "id": "6b8d0692",
   "metadata": {},
   "outputs": [],
   "source": [
    "sns.heatmap(cm_t2, annot=True, fmt='d', cmap='BuGn_r')"
   ]
  },
  {
   "cell_type": "markdown",
   "id": "ac728e90",
   "metadata": {},
   "source": [
    "### 정밀도 재현율 f1score"
   ]
  },
  {
   "cell_type": "code",
   "execution_count": null,
   "id": "241a8c7b",
   "metadata": {
    "scrolled": false
   },
   "outputs": [],
   "source": [
    "acc2=accuracy_score(y_test_s,pred_t2)\n",
    "pre2=precision_score(y_test_s , pred_t2)\n",
    "rec2=recall_score(y_test_s , pred_t2)\n",
    "f12=f1_score(y_test_s,pred_t2)\n",
    "auc2=roc_auc_score(y_test_s, pred_t2)"
   ]
  },
  {
   "cell_type": "code",
   "execution_count": null,
   "id": "f6b8e1be",
   "metadata": {
    "scrolled": false
   },
   "outputs": [],
   "source": [
    "print('정확도 : {:.4f}'.format(acc2))\n",
    "# 정밀도\n",
    "print('정밀도 : {:.4f}'.format(pre2))\n",
    "# 재현율\n",
    "print('재현율 : {:.4f}'.format(rec2))\n",
    "# f1_score\n",
    "print('F1_score : {:.4f}'.format(f12))\n",
    "# AUC score \n",
    "print('ROC_AUC_score : {:.4f}'.format(auc2))"
   ]
  },
  {
   "cell_type": "code",
   "execution_count": null,
   "id": "ebfdbcb1",
   "metadata": {
    "scrolled": true
   },
   "outputs": [],
   "source": [
    "joblib.dump(model2, './model_k17.pkl')"
   ]
  },
  {
   "cell_type": "code",
   "execution_count": null,
   "id": "62f7546e",
   "metadata": {},
   "outputs": [],
   "source": []
  },
  {
   "cell_type": "code",
   "execution_count": null,
   "id": "757df804",
   "metadata": {},
   "outputs": [],
   "source": []
  },
  {
   "cell_type": "code",
   "execution_count": null,
   "id": "f93059d1",
   "metadata": {},
   "outputs": [],
   "source": []
  },
  {
   "cell_type": "code",
   "execution_count": null,
   "id": "07360e97",
   "metadata": {},
   "outputs": [],
   "source": []
  },
  {
   "cell_type": "markdown",
   "id": "e0039116",
   "metadata": {},
   "source": [
    "### k=9"
   ]
  },
  {
   "cell_type": "code",
   "execution_count": null,
   "id": "7af85ae6",
   "metadata": {},
   "outputs": [],
   "source": [
    "sel_x_tr=x_train_s[f9]\n",
    "sel_x_te=x_test_s[f9]\n"
   ]
  },
  {
   "cell_type": "code",
   "execution_count": null,
   "id": "ff89523c",
   "metadata": {},
   "outputs": [],
   "source": [
    "sel_x_tr.head()"
   ]
  },
  {
   "cell_type": "code",
   "execution_count": null,
   "id": "88fcceeb",
   "metadata": {},
   "outputs": [],
   "source": [
    "sel_x_te.head()"
   ]
  },
  {
   "cell_type": "code",
   "execution_count": null,
   "id": "efb63ba3",
   "metadata": {
    "scrolled": true
   },
   "outputs": [],
   "source": [
    "modeling(sel_x_tr,y_train_s,sel_x_te,y_test_s,C=1,gamma=3)"
   ]
  },
  {
   "cell_type": "markdown",
   "id": "090375df",
   "metadata": {},
   "source": [
    "## gender 제거 후 모델링"
   ]
  },
  {
   "cell_type": "code",
   "execution_count": null,
   "id": "e9ea3e19",
   "metadata": {
    "scrolled": true
   },
   "outputs": [],
   "source": [
    "x_train_g=x_train_s.drop('gender',axis=1)"
   ]
  },
  {
   "cell_type": "code",
   "execution_count": null,
   "id": "68c9d8f8",
   "metadata": {},
   "outputs": [],
   "source": [
    "x_train_g"
   ]
  },
  {
   "cell_type": "code",
   "execution_count": null,
   "id": "e1c53f5a",
   "metadata": {},
   "outputs": [],
   "source": [
    "x_test_g=x_test_s.drop('gender',axis=1)"
   ]
  },
  {
   "cell_type": "code",
   "execution_count": null,
   "id": "fe604a9f",
   "metadata": {
    "scrolled": false
   },
   "outputs": [],
   "source": [
    "x_test_g"
   ]
  },
  {
   "cell_type": "code",
   "execution_count": null,
   "id": "fbab643d",
   "metadata": {
    "scrolled": true
   },
   "outputs": [],
   "source": [
    "model_ex=SVC(kernel='rbf',C=1,gamma=3).fit(x_train_g,y_train_s)\n",
    "score_tr_g=model_ex.score (x_train_g, y_train_s)\n",
    "score_te_g=model_ex.score (x_test_g, y_test_s)\n",
    "print('model 훈련 점수 : {: .3f}'.format(score_tr_g))\n",
    "print('model 테스트 점수 : {: .3f}'.format(score_te_g))"
   ]
  },
  {
   "cell_type": "code",
   "execution_count": null,
   "id": "ab2be97f",
   "metadata": {},
   "outputs": [],
   "source": [
    "model_ex.feature_names_in_"
   ]
  },
  {
   "cell_type": "code",
   "execution_count": null,
   "id": "89780da3",
   "metadata": {},
   "outputs": [],
   "source": [
    "score_tr_g"
   ]
  },
  {
   "cell_type": "code",
   "execution_count": null,
   "id": "e29e887f",
   "metadata": {},
   "outputs": [],
   "source": [
    "score_te_g"
   ]
  }
 ],
 "metadata": {
  "kernelspec": {
   "display_name": "Python 3 (ipykernel)",
   "language": "python",
   "name": "python3"
  },
  "language_info": {
   "codemirror_mode": {
    "name": "ipython",
    "version": 3
   },
   "file_extension": ".py",
   "mimetype": "text/x-python",
   "name": "python",
   "nbconvert_exporter": "python",
   "pygments_lexer": "ipython3",
   "version": "3.9.12"
  }
 },
 "nbformat": 4,
 "nbformat_minor": 5
}
