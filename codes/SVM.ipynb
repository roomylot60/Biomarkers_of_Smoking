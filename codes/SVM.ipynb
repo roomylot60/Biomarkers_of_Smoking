{
 "cells": [
  {
   "cell_type": "markdown",
   "id": "69a2395c",
   "metadata": {},
   "source": [
    "**서포트벡터머신** : 머신러닝 기법의 하나로 패턴인식,이진분류를 위한 비확률적 지도학습 모델\n",
    "    (주로 회귀와 분류문제 해결에 사용)\n",
    "- 장점\n",
    "    - 회귀와 분류에 모두 적용할 수 있음.\n",
    "    - 라벨을 직접 추정하기때문에 조건부확률로 예측하는 모형에 비해 예측력이 높음.\n",
    "    - 과적합의 가능성이 낮음.\n",
    "\n",
    "- 단점\n",
    "    - 데이터 스케일링에 민감함.\n",
    "    - 고차원으로 갈수록 여러 연산이 필요해서 학습속도가 느림.\n",
    "    - 다양한 하이퍼파라미터(커널,C,gamma)값을 여러 번 조합해 최적의 모델을 구해야함.\n",
    "    - 모형이 복잡해 결과에 대한 설명이 어려움.\n",
    "    \n",
    "\n",
    "**중요 하이퍼 파라미터**\n",
    "* Kernel : 주어진 데이터를 공간 상에서 분류하는 함수를 지정(linear,poly,RBF가 있음, 고차원 데이터는 선형분류로는 예측력이 매우 낮음)\n",
    "* C : 서포트벡터와 결정경계 사이의 마진(거리)을 설정(C가 클수록 마진이 좁아짐,하드마진)\n",
    "* gamma : 비선형 커널에서 결정경계의 곡률을 설정(높을수록 곡률이 큼,오차를 적게 허용)\n",
    "\n",
    "C와 gamma를 높게 설정할수록 오류를 덜 허용하여 과적합될 수도 있음"
   ]
  },
  {
   "cell_type": "markdown",
   "id": "aee898a7",
   "metadata": {},
   "source": []
  },
  {
   "cell_type": "markdown",
   "id": "b04fa75a",
   "metadata": {},
   "source": [
    "## 전처리"
   ]
  },
  {
   "cell_type": "code",
   "execution_count": 1,
   "id": "1f49c88e",
   "metadata": {
    "execution": {
     "iopub.execute_input": "2022-09-27T02:42:06.419644Z",
     "iopub.status.busy": "2022-09-27T02:42:06.419157Z",
     "iopub.status.idle": "2022-09-27T02:42:07.000417Z",
     "shell.execute_reply": "2022-09-27T02:42:06.999011Z",
     "shell.execute_reply.started": "2022-09-27T02:42:06.419597Z"
    }
   },
   "outputs": [],
   "source": [
    "import pandas as pd\n",
    "import numpy as np\n",
    "from sklearn.preprocessing import LabelEncoder # for encoding\n",
    "from sklearn.preprocessing import MinMaxScaler, RobustScaler, StandardScaler #for standardization\n",
    "from sklearn.model_selection import train_test_split\n",
    "import time"
   ]
  },
  {
   "cell_type": "code",
   "execution_count": 2,
   "id": "2a4eb060",
   "metadata": {
    "execution": {
     "iopub.execute_input": "2022-09-27T02:42:08.209431Z",
     "iopub.status.busy": "2022-09-27T02:42:08.209024Z",
     "iopub.status.idle": "2022-09-27T02:42:08.221475Z",
     "shell.execute_reply": "2022-09-27T02:42:08.219997Z",
     "shell.execute_reply.started": "2022-09-27T02:42:08.209399Z"
    }
   },
   "outputs": [],
   "source": [
    "def preprocessing(df_scaling, scaled_form = 'MinMaxScaler()'):\n",
    "    # 불필요한 컬럼 제거\n",
    "    if 'ID' in df_scaling:\n",
    "        df_scaling = df_scaling.drop(\"ID\", axis = 1)\n",
    "        if len(df_scaling.columns) == 1:\n",
    "            return df_scaling\n",
    "        \n",
    "        def func(x):\n",
    "            if x < 1.0 :\n",
    "                return 1\n",
    "            elif x < 1.6 :\n",
    "                return 2\n",
    "            elif x <= 2.0 :\n",
    "                return 3\n",
    "            else : \n",
    "                return 4\n",
    "        df_scaling['eyesight(left)'] = df_scaling['eyesight(left)'].apply(lambda x:func(x))    \n",
    "        df_scaling['eyesight(right)'] = df_scaling['eyesight(right)'].apply(lambda x:func(x))\n",
    "        \n",
    "        # Urine protein 범주화\n",
    "        x = df_scaling['Urine protein']\n",
    "        for i in range(len(x)):\n",
    "            if(x[i] == 1.0):\n",
    "                x[i] = 0\n",
    "            elif(x[i] == 2.0):\n",
    "                x[i] = 1\n",
    "            else:\n",
    "                x[i] = 2\n",
    "        df_scaling['Urine protein'] = x\n",
    "        \n",
    "        df_scaling = df_scaling.drop('oral', axis = 1) \n",
    "        # 범주형 피처 레이블 인코딩 \n",
    "        cate_features = df_scaling[['gender','tartar']]\n",
    "\n",
    "        lbe = LabelEncoder()\n",
    "        lbe.fit_transform(df_scaling[\"gender\"])\n",
    "        df_scaling[\"gender\"] = lbe.fit_transform(df_scaling[\"gender\"])\n",
    "\n",
    "        lbe = LabelEncoder()\n",
    "        lbe.fit_transform(df_scaling[\"tartar\"])\n",
    "        df_scaling[\"tartar\"] = lbe.fit_transform(df_scaling[\"tartar\"])\n",
    "        # hearing 피처 1, 2 => 1, 0으로 변환\n",
    "        df_scaling['hearing(left)'] = df_scaling['hearing(left)'].apply(lambda x: x-2 if x ==2.0 else x )\n",
    "        df_scaling['hearing(right)'] = df_scaling['hearing(right)'].apply(lambda x: x-2 if x ==2.0 else x )\n",
    "        \n",
    "        # BMI 지수 계산\n",
    "        # bmi = kg/m^2\n",
    "        #df_scaling['bmi'] = df_scaling['weight(kg)']/((df_scaling['height(cm)']*0.01)**2)\n",
    "        # wwi(비만 지수) 지수 계산\n",
    "        #df_scaling['wwi'] = df_scaling['waist(cm)']/(df_scaling['weight(kg)'].apply(np.sqrt))\n",
    "        return df_scaling"
   ]
  },
  {
   "cell_type": "code",
   "execution_count": 3,
   "id": "58b17048",
   "metadata": {},
   "outputs": [],
   "source": [
    "def scaling(train_data, test_data, scaled_form = 'MinMaxScaler()'):\n",
    "    # 형태 별 특성 구분\n",
    "    train_data = preprocessing(train_data)\n",
    "    test_data = preprocessing(test_data)\n",
    "    tr_cate_features = train_data[['gender', 'tartar', 'hearing(right)', 'hearing(left)', 'dental caries']]\n",
    "    tr_scaled_features = train_data.drop(tr_cate_features.columns, axis=1)\n",
    "    \n",
    "    ts_cate_features = test_data[['gender', 'tartar', 'hearing(right)', 'hearing(left)', 'dental caries']]\n",
    "    ts_scaled_features = test_data.drop(ts_cate_features.columns, axis=1)\n",
    "    \n",
    "    if scaled_form == 'StandardScaler()':\n",
    "        # Standard scaler\n",
    "        scaler = StandardScaler()\n",
    "        scaler.fit(tr_scaled_features) # 훈련 데이터에 fit() 적용\n",
    "        \n",
    "        # 훈련 데이터와 테스트 데이터에 transform()을 통해 변환\n",
    "        tr_scaled = scaler.transform(tr_scaled_features)\n",
    "        ts_scaled = scaler.transform(ts_scaled_features)\n",
    "        \n",
    "        train_std_scaled = pd.DataFrame(tr_scaled, columns=tr_scaled_features.columns)\n",
    "        train_std_scaled[tr_cate_features.columns] = tr_cate_features\n",
    "        \n",
    "        test_std_scaled = pd.DataFrame(ts_scaled, columns=ts_scaled_features.columns)\n",
    "        test_std_scaled[ts_cate_features.columns] = ts_cate_features\n",
    "        \n",
    "        return train_std_scaled, test_std_scaled\n",
    "    \n",
    "    elif scaled_form == 'RobustScaler()':\n",
    "        # Robust scaler\n",
    "        scaler = RobustScaler()\n",
    "        scaler.fit(tr_scaled_features) # 훈련 데이터에 fit() 적용\n",
    "        \n",
    "        # 훈련 데이터와 테스트 데이터에 transform()을 통해 변환\n",
    "        tr_scaled = scaler.transform(tr_scaled_features)\n",
    "        ts_scaled = scaler.transform(ts_scaled_features)\n",
    "        \n",
    "        # 데이터 프레임 형태로 변환\n",
    "        train_robust_scaled = pd.DataFrame(tr_scaled, columns=tr_scaled_features.columns)\n",
    "        train_robust_scaled[tr_cate_features.columns] = tr_cate_features\n",
    "        \n",
    "        test_robust_scaled = pd.DataFrame(ts_scaled, columns=ts_scaled_features.columns)\n",
    "        test_robust_scaled[ts_cate_features.columns] = ts_cate_features\n",
    "        \n",
    "        return train_robust_scaled, test_robust_scaled\n",
    "\n",
    "    \n",
    "    elif scaled_form == 'logScaler()' :\n",
    "        tr_scaled = np.log1p(tr_scaled_features)\n",
    "        ts_scaled = np.log1p(ts_scaled_features)\n",
    "         # 데이터 프레임 형태로 변환\n",
    "        train_log_scaled = pd.DataFrame(tr_scaled, columns = tr_scaled_features.columns)\n",
    "        train_log_scaled[tr_cate_features.columns] = tr_cate_features\n",
    "        \n",
    "        test_log_scaled = pd.DataFrame(ts_scaled,columns = ts_scaled_features.columns)\n",
    "        test_log_scaled[ts_cate_features.columns] = ts_cate_features \n",
    "        \n",
    "        return train_log_scaled, test_log_scaled\n",
    "        \n",
    "    else:\n",
    "        # MinMax scaler\n",
    "        scaler = MinMaxScaler()\n",
    "        scaler.fit(tr_scaled_features) # 훈련 데이터에 fit() 적용\n",
    "        \n",
    "        # 훈련 데이터와 테스트 데이터에 transform()을 통해 변환\n",
    "        tr_scaled = scaler.transform(tr_scaled_features)\n",
    "        ts_scaled = scaler.transform(ts_scaled_features)\n",
    "        \n",
    "        # 데이터 프레임 형태로 변환\n",
    "        train_mmx_scaled = pd.DataFrame(tr_scaled, columns = tr_scaled_features.columns)\n",
    "        train_mmx_scaled[tr_cate_features.columns] = tr_cate_features\n",
    "        \n",
    "        test_mmx_scaled = pd.DataFrame(ts_scaled,columns = ts_scaled_features.columns)\n",
    "        test_mmx_scaled[ts_cate_features.columns] = ts_cate_features\n",
    "\n",
    "        return train_mmx_scaled, test_mmx_scaled"
   ]
  },
  {
   "cell_type": "code",
   "execution_count": 4,
   "id": "17c9d278",
   "metadata": {
    "execution": {
     "iopub.execute_input": "2022-09-27T02:42:12.338846Z",
     "iopub.status.busy": "2022-09-27T02:42:12.338436Z",
     "iopub.status.idle": "2022-09-27T02:42:12.632754Z",
     "shell.execute_reply": "2022-09-27T02:42:12.631426Z",
     "shell.execute_reply.started": "2022-09-27T02:42:12.338815Z"
    },
    "scrolled": true
   },
   "outputs": [],
   "source": [
    "# competition_format\n",
    "x_train = pd.read_csv('./data/Smoking_raw/competition_format/x_train.csv')\n",
    "x_test = pd.read_csv('./data/Smoking_raw/competition_format/x_test.csv')\n",
    "y_train = pd.read_csv('./data/Smoking_raw/competition_format/y_train.csv')\n",
    "y_test = pd.read_csv('./data/Smoking_raw/competition_format/y_test.csv')"
   ]
  },
  {
   "cell_type": "code",
   "execution_count": 59,
   "id": "8fb18a5a",
   "metadata": {
    "scrolled": true
   },
   "outputs": [
    {
     "name": "stderr",
     "output_type": "stream",
     "text": [
      "C:\\Users\\JungHun.DESKTOP-JRGUSS9\\AppData\\Local\\Temp\\ipykernel_13756\\2673988547.py:24: SettingWithCopyWarning: \n",
      "A value is trying to be set on a copy of a slice from a DataFrame\n",
      "\n",
      "See the caveats in the documentation: https://pandas.pydata.org/pandas-docs/stable/user_guide/indexing.html#returning-a-view-versus-a-copy\n",
      "  x[i] = 0\n",
      "C:\\Users\\JungHun.DESKTOP-JRGUSS9\\AppData\\Local\\Temp\\ipykernel_13756\\2673988547.py:28: SettingWithCopyWarning: \n",
      "A value is trying to be set on a copy of a slice from a DataFrame\n",
      "\n",
      "See the caveats in the documentation: https://pandas.pydata.org/pandas-docs/stable/user_guide/indexing.html#returning-a-view-versus-a-copy\n",
      "  x[i] = 2\n",
      "C:\\Users\\JungHun.DESKTOP-JRGUSS9\\AppData\\Local\\Temp\\ipykernel_13756\\2673988547.py:26: SettingWithCopyWarning: \n",
      "A value is trying to be set on a copy of a slice from a DataFrame\n",
      "\n",
      "See the caveats in the documentation: https://pandas.pydata.org/pandas-docs/stable/user_guide/indexing.html#returning-a-view-versus-a-copy\n",
      "  x[i] = 1\n"
     ]
    },
    {
     "data": {
      "text/html": [
       "<div>\n",
       "<style scoped>\n",
       "    .dataframe tbody tr th:only-of-type {\n",
       "        vertical-align: middle;\n",
       "    }\n",
       "\n",
       "    .dataframe tbody tr th {\n",
       "        vertical-align: top;\n",
       "    }\n",
       "\n",
       "    .dataframe thead th {\n",
       "        text-align: right;\n",
       "    }\n",
       "</style>\n",
       "<table border=\"1\" class=\"dataframe\">\n",
       "  <thead>\n",
       "    <tr style=\"text-align: right;\">\n",
       "      <th></th>\n",
       "      <th>gender</th>\n",
       "      <th>age</th>\n",
       "      <th>height(cm)</th>\n",
       "      <th>weight(kg)</th>\n",
       "      <th>waist(cm)</th>\n",
       "      <th>eyesight(left)</th>\n",
       "      <th>eyesight(right)</th>\n",
       "      <th>hearing(left)</th>\n",
       "      <th>hearing(right)</th>\n",
       "      <th>systolic</th>\n",
       "      <th>...</th>\n",
       "      <th>HDL</th>\n",
       "      <th>LDL</th>\n",
       "      <th>hemoglobin</th>\n",
       "      <th>Urine protein</th>\n",
       "      <th>serum creatinine</th>\n",
       "      <th>AST</th>\n",
       "      <th>ALT</th>\n",
       "      <th>Gtp</th>\n",
       "      <th>dental caries</th>\n",
       "      <th>tartar</th>\n",
       "    </tr>\n",
       "  </thead>\n",
       "  <tbody>\n",
       "    <tr>\n",
       "      <th>0</th>\n",
       "      <td>0</td>\n",
       "      <td>40</td>\n",
       "      <td>155</td>\n",
       "      <td>60</td>\n",
       "      <td>81.3</td>\n",
       "      <td>2</td>\n",
       "      <td>2</td>\n",
       "      <td>1.0</td>\n",
       "      <td>1.0</td>\n",
       "      <td>114.0</td>\n",
       "      <td>...</td>\n",
       "      <td>73.0</td>\n",
       "      <td>126.0</td>\n",
       "      <td>12.9</td>\n",
       "      <td>0.0</td>\n",
       "      <td>0.7</td>\n",
       "      <td>18.0</td>\n",
       "      <td>19.0</td>\n",
       "      <td>27.0</td>\n",
       "      <td>0.0</td>\n",
       "      <td>1</td>\n",
       "    </tr>\n",
       "    <tr>\n",
       "      <th>1</th>\n",
       "      <td>0</td>\n",
       "      <td>40</td>\n",
       "      <td>160</td>\n",
       "      <td>60</td>\n",
       "      <td>81.0</td>\n",
       "      <td>1</td>\n",
       "      <td>1</td>\n",
       "      <td>1.0</td>\n",
       "      <td>1.0</td>\n",
       "      <td>119.0</td>\n",
       "      <td>...</td>\n",
       "      <td>42.0</td>\n",
       "      <td>127.0</td>\n",
       "      <td>12.7</td>\n",
       "      <td>0.0</td>\n",
       "      <td>0.6</td>\n",
       "      <td>22.0</td>\n",
       "      <td>19.0</td>\n",
       "      <td>18.0</td>\n",
       "      <td>0.0</td>\n",
       "      <td>1</td>\n",
       "    </tr>\n",
       "    <tr>\n",
       "      <th>2</th>\n",
       "      <td>1</td>\n",
       "      <td>55</td>\n",
       "      <td>170</td>\n",
       "      <td>60</td>\n",
       "      <td>80.0</td>\n",
       "      <td>1</td>\n",
       "      <td>1</td>\n",
       "      <td>1.0</td>\n",
       "      <td>1.0</td>\n",
       "      <td>138.0</td>\n",
       "      <td>...</td>\n",
       "      <td>55.0</td>\n",
       "      <td>151.0</td>\n",
       "      <td>15.8</td>\n",
       "      <td>0.0</td>\n",
       "      <td>1.0</td>\n",
       "      <td>21.0</td>\n",
       "      <td>16.0</td>\n",
       "      <td>22.0</td>\n",
       "      <td>0.0</td>\n",
       "      <td>0</td>\n",
       "    </tr>\n",
       "    <tr>\n",
       "      <th>3</th>\n",
       "      <td>1</td>\n",
       "      <td>40</td>\n",
       "      <td>165</td>\n",
       "      <td>70</td>\n",
       "      <td>88.0</td>\n",
       "      <td>2</td>\n",
       "      <td>2</td>\n",
       "      <td>1.0</td>\n",
       "      <td>1.0</td>\n",
       "      <td>100.0</td>\n",
       "      <td>...</td>\n",
       "      <td>45.0</td>\n",
       "      <td>226.0</td>\n",
       "      <td>14.7</td>\n",
       "      <td>0.0</td>\n",
       "      <td>1.0</td>\n",
       "      <td>19.0</td>\n",
       "      <td>26.0</td>\n",
       "      <td>18.0</td>\n",
       "      <td>0.0</td>\n",
       "      <td>1</td>\n",
       "    </tr>\n",
       "    <tr>\n",
       "      <th>4</th>\n",
       "      <td>0</td>\n",
       "      <td>40</td>\n",
       "      <td>155</td>\n",
       "      <td>60</td>\n",
       "      <td>86.0</td>\n",
       "      <td>2</td>\n",
       "      <td>2</td>\n",
       "      <td>1.0</td>\n",
       "      <td>1.0</td>\n",
       "      <td>120.0</td>\n",
       "      <td>...</td>\n",
       "      <td>62.0</td>\n",
       "      <td>107.0</td>\n",
       "      <td>12.5</td>\n",
       "      <td>0.0</td>\n",
       "      <td>0.6</td>\n",
       "      <td>16.0</td>\n",
       "      <td>14.0</td>\n",
       "      <td>22.0</td>\n",
       "      <td>0.0</td>\n",
       "      <td>0</td>\n",
       "    </tr>\n",
       "    <tr>\n",
       "      <th>...</th>\n",
       "      <td>...</td>\n",
       "      <td>...</td>\n",
       "      <td>...</td>\n",
       "      <td>...</td>\n",
       "      <td>...</td>\n",
       "      <td>...</td>\n",
       "      <td>...</td>\n",
       "      <td>...</td>\n",
       "      <td>...</td>\n",
       "      <td>...</td>\n",
       "      <td>...</td>\n",
       "      <td>...</td>\n",
       "      <td>...</td>\n",
       "      <td>...</td>\n",
       "      <td>...</td>\n",
       "      <td>...</td>\n",
       "      <td>...</td>\n",
       "      <td>...</td>\n",
       "      <td>...</td>\n",
       "      <td>...</td>\n",
       "      <td>...</td>\n",
       "    </tr>\n",
       "    <tr>\n",
       "      <th>44548</th>\n",
       "      <td>1</td>\n",
       "      <td>50</td>\n",
       "      <td>170</td>\n",
       "      <td>65</td>\n",
       "      <td>88.0</td>\n",
       "      <td>2</td>\n",
       "      <td>2</td>\n",
       "      <td>1.0</td>\n",
       "      <td>1.0</td>\n",
       "      <td>148.0</td>\n",
       "      <td>...</td>\n",
       "      <td>40.0</td>\n",
       "      <td>108.0</td>\n",
       "      <td>15.2</td>\n",
       "      <td>0.0</td>\n",
       "      <td>1.0</td>\n",
       "      <td>45.0</td>\n",
       "      <td>49.0</td>\n",
       "      <td>51.0</td>\n",
       "      <td>0.0</td>\n",
       "      <td>1</td>\n",
       "    </tr>\n",
       "    <tr>\n",
       "      <th>44549</th>\n",
       "      <td>1</td>\n",
       "      <td>35</td>\n",
       "      <td>175</td>\n",
       "      <td>70</td>\n",
       "      <td>84.0</td>\n",
       "      <td>1</td>\n",
       "      <td>1</td>\n",
       "      <td>1.0</td>\n",
       "      <td>1.0</td>\n",
       "      <td>105.0</td>\n",
       "      <td>...</td>\n",
       "      <td>57.0</td>\n",
       "      <td>118.0</td>\n",
       "      <td>15.2</td>\n",
       "      <td>0.0</td>\n",
       "      <td>0.9</td>\n",
       "      <td>20.0</td>\n",
       "      <td>14.0</td>\n",
       "      <td>16.0</td>\n",
       "      <td>0.0</td>\n",
       "      <td>1</td>\n",
       "    </tr>\n",
       "    <tr>\n",
       "      <th>44550</th>\n",
       "      <td>1</td>\n",
       "      <td>35</td>\n",
       "      <td>175</td>\n",
       "      <td>70</td>\n",
       "      <td>70.9</td>\n",
       "      <td>2</td>\n",
       "      <td>2</td>\n",
       "      <td>1.0</td>\n",
       "      <td>1.0</td>\n",
       "      <td>116.0</td>\n",
       "      <td>...</td>\n",
       "      <td>41.0</td>\n",
       "      <td>92.0</td>\n",
       "      <td>13.4</td>\n",
       "      <td>0.0</td>\n",
       "      <td>1.0</td>\n",
       "      <td>18.0</td>\n",
       "      <td>19.0</td>\n",
       "      <td>10.0</td>\n",
       "      <td>0.0</td>\n",
       "      <td>1</td>\n",
       "    </tr>\n",
       "    <tr>\n",
       "      <th>44551</th>\n",
       "      <td>1</td>\n",
       "      <td>50</td>\n",
       "      <td>165</td>\n",
       "      <td>90</td>\n",
       "      <td>106.8</td>\n",
       "      <td>1</td>\n",
       "      <td>1</td>\n",
       "      <td>1.0</td>\n",
       "      <td>1.0</td>\n",
       "      <td>122.0</td>\n",
       "      <td>...</td>\n",
       "      <td>47.0</td>\n",
       "      <td>104.0</td>\n",
       "      <td>14.5</td>\n",
       "      <td>0.0</td>\n",
       "      <td>0.9</td>\n",
       "      <td>30.0</td>\n",
       "      <td>49.0</td>\n",
       "      <td>40.0</td>\n",
       "      <td>0.0</td>\n",
       "      <td>1</td>\n",
       "    </tr>\n",
       "    <tr>\n",
       "      <th>44552</th>\n",
       "      <td>1</td>\n",
       "      <td>25</td>\n",
       "      <td>175</td>\n",
       "      <td>80</td>\n",
       "      <td>93.2</td>\n",
       "      <td>2</td>\n",
       "      <td>2</td>\n",
       "      <td>1.0</td>\n",
       "      <td>1.0</td>\n",
       "      <td>124.0</td>\n",
       "      <td>...</td>\n",
       "      <td>49.0</td>\n",
       "      <td>138.0</td>\n",
       "      <td>11.4</td>\n",
       "      <td>0.0</td>\n",
       "      <td>1.0</td>\n",
       "      <td>23.0</td>\n",
       "      <td>11.0</td>\n",
       "      <td>20.0</td>\n",
       "      <td>0.0</td>\n",
       "      <td>1</td>\n",
       "    </tr>\n",
       "  </tbody>\n",
       "</table>\n",
       "<p>44553 rows × 24 columns</p>\n",
       "</div>"
      ],
      "text/plain": [
       "       gender  age  height(cm)  weight(kg)  waist(cm)  eyesight(left)  \\\n",
       "0           0   40         155          60       81.3               2   \n",
       "1           0   40         160          60       81.0               1   \n",
       "2           1   55         170          60       80.0               1   \n",
       "3           1   40         165          70       88.0               2   \n",
       "4           0   40         155          60       86.0               2   \n",
       "...       ...  ...         ...         ...        ...             ...   \n",
       "44548       1   50         170          65       88.0               2   \n",
       "44549       1   35         175          70       84.0               1   \n",
       "44550       1   35         175          70       70.9               2   \n",
       "44551       1   50         165          90      106.8               1   \n",
       "44552       1   25         175          80       93.2               2   \n",
       "\n",
       "       eyesight(right)  hearing(left)  hearing(right)  systolic  ...   HDL  \\\n",
       "0                    2            1.0             1.0     114.0  ...  73.0   \n",
       "1                    1            1.0             1.0     119.0  ...  42.0   \n",
       "2                    1            1.0             1.0     138.0  ...  55.0   \n",
       "3                    2            1.0             1.0     100.0  ...  45.0   \n",
       "4                    2            1.0             1.0     120.0  ...  62.0   \n",
       "...                ...            ...             ...       ...  ...   ...   \n",
       "44548                2            1.0             1.0     148.0  ...  40.0   \n",
       "44549                1            1.0             1.0     105.0  ...  57.0   \n",
       "44550                2            1.0             1.0     116.0  ...  41.0   \n",
       "44551                1            1.0             1.0     122.0  ...  47.0   \n",
       "44552                2            1.0             1.0     124.0  ...  49.0   \n",
       "\n",
       "         LDL  hemoglobin  Urine protein  serum creatinine   AST   ALT   Gtp  \\\n",
       "0      126.0        12.9            0.0               0.7  18.0  19.0  27.0   \n",
       "1      127.0        12.7            0.0               0.6  22.0  19.0  18.0   \n",
       "2      151.0        15.8            0.0               1.0  21.0  16.0  22.0   \n",
       "3      226.0        14.7            0.0               1.0  19.0  26.0  18.0   \n",
       "4      107.0        12.5            0.0               0.6  16.0  14.0  22.0   \n",
       "...      ...         ...            ...               ...   ...   ...   ...   \n",
       "44548  108.0        15.2            0.0               1.0  45.0  49.0  51.0   \n",
       "44549  118.0        15.2            0.0               0.9  20.0  14.0  16.0   \n",
       "44550   92.0        13.4            0.0               1.0  18.0  19.0  10.0   \n",
       "44551  104.0        14.5            0.0               0.9  30.0  49.0  40.0   \n",
       "44552  138.0        11.4            0.0               1.0  23.0  11.0  20.0   \n",
       "\n",
       "       dental caries  tartar  \n",
       "0                0.0       1  \n",
       "1                0.0       1  \n",
       "2                0.0       0  \n",
       "3                0.0       1  \n",
       "4                0.0       0  \n",
       "...              ...     ...  \n",
       "44548            0.0       1  \n",
       "44549            0.0       1  \n",
       "44550            0.0       1  \n",
       "44551            0.0       1  \n",
       "44552            0.0       1  \n",
       "\n",
       "[44553 rows x 24 columns]"
      ]
     },
     "execution_count": 59,
     "metadata": {},
     "output_type": "execute_result"
    }
   ],
   "source": [
    "x_train=preprocessing(x_train)\n",
    "x_train"
   ]
  },
  {
   "cell_type": "code",
   "execution_count": 58,
   "id": "945db308",
   "metadata": {},
   "outputs": [
    {
     "data": {
      "text/html": [
       "<div>\n",
       "<style scoped>\n",
       "    .dataframe tbody tr th:only-of-type {\n",
       "        vertical-align: middle;\n",
       "    }\n",
       "\n",
       "    .dataframe tbody tr th {\n",
       "        vertical-align: top;\n",
       "    }\n",
       "\n",
       "    .dataframe thead th {\n",
       "        text-align: right;\n",
       "    }\n",
       "</style>\n",
       "<table border=\"1\" class=\"dataframe\">\n",
       "  <thead>\n",
       "    <tr style=\"text-align: right;\">\n",
       "      <th></th>\n",
       "      <th>ID</th>\n",
       "      <th>gender</th>\n",
       "      <th>age</th>\n",
       "      <th>height(cm)</th>\n",
       "      <th>weight(kg)</th>\n",
       "      <th>waist(cm)</th>\n",
       "      <th>eyesight(left)</th>\n",
       "      <th>eyesight(right)</th>\n",
       "      <th>hearing(left)</th>\n",
       "      <th>hearing(right)</th>\n",
       "      <th>...</th>\n",
       "      <th>LDL</th>\n",
       "      <th>hemoglobin</th>\n",
       "      <th>Urine protein</th>\n",
       "      <th>serum creatinine</th>\n",
       "      <th>AST</th>\n",
       "      <th>ALT</th>\n",
       "      <th>Gtp</th>\n",
       "      <th>oral</th>\n",
       "      <th>dental caries</th>\n",
       "      <th>tartar</th>\n",
       "    </tr>\n",
       "  </thead>\n",
       "  <tbody>\n",
       "    <tr>\n",
       "      <th>0</th>\n",
       "      <td>0</td>\n",
       "      <td>F</td>\n",
       "      <td>40</td>\n",
       "      <td>155</td>\n",
       "      <td>60</td>\n",
       "      <td>81.3</td>\n",
       "      <td>1.2</td>\n",
       "      <td>1.0</td>\n",
       "      <td>1.0</td>\n",
       "      <td>1.0</td>\n",
       "      <td>...</td>\n",
       "      <td>126.0</td>\n",
       "      <td>12.9</td>\n",
       "      <td>1.0</td>\n",
       "      <td>0.7</td>\n",
       "      <td>18.0</td>\n",
       "      <td>19.0</td>\n",
       "      <td>27.0</td>\n",
       "      <td>Y</td>\n",
       "      <td>0.0</td>\n",
       "      <td>Y</td>\n",
       "    </tr>\n",
       "    <tr>\n",
       "      <th>1</th>\n",
       "      <td>1</td>\n",
       "      <td>F</td>\n",
       "      <td>40</td>\n",
       "      <td>160</td>\n",
       "      <td>60</td>\n",
       "      <td>81.0</td>\n",
       "      <td>0.8</td>\n",
       "      <td>0.6</td>\n",
       "      <td>1.0</td>\n",
       "      <td>1.0</td>\n",
       "      <td>...</td>\n",
       "      <td>127.0</td>\n",
       "      <td>12.7</td>\n",
       "      <td>1.0</td>\n",
       "      <td>0.6</td>\n",
       "      <td>22.0</td>\n",
       "      <td>19.0</td>\n",
       "      <td>18.0</td>\n",
       "      <td>Y</td>\n",
       "      <td>0.0</td>\n",
       "      <td>Y</td>\n",
       "    </tr>\n",
       "    <tr>\n",
       "      <th>2</th>\n",
       "      <td>2</td>\n",
       "      <td>M</td>\n",
       "      <td>55</td>\n",
       "      <td>170</td>\n",
       "      <td>60</td>\n",
       "      <td>80.0</td>\n",
       "      <td>0.8</td>\n",
       "      <td>0.8</td>\n",
       "      <td>1.0</td>\n",
       "      <td>1.0</td>\n",
       "      <td>...</td>\n",
       "      <td>151.0</td>\n",
       "      <td>15.8</td>\n",
       "      <td>1.0</td>\n",
       "      <td>1.0</td>\n",
       "      <td>21.0</td>\n",
       "      <td>16.0</td>\n",
       "      <td>22.0</td>\n",
       "      <td>Y</td>\n",
       "      <td>0.0</td>\n",
       "      <td>N</td>\n",
       "    </tr>\n",
       "    <tr>\n",
       "      <th>3</th>\n",
       "      <td>3</td>\n",
       "      <td>M</td>\n",
       "      <td>40</td>\n",
       "      <td>165</td>\n",
       "      <td>70</td>\n",
       "      <td>88.0</td>\n",
       "      <td>1.5</td>\n",
       "      <td>1.5</td>\n",
       "      <td>1.0</td>\n",
       "      <td>1.0</td>\n",
       "      <td>...</td>\n",
       "      <td>226.0</td>\n",
       "      <td>14.7</td>\n",
       "      <td>1.0</td>\n",
       "      <td>1.0</td>\n",
       "      <td>19.0</td>\n",
       "      <td>26.0</td>\n",
       "      <td>18.0</td>\n",
       "      <td>Y</td>\n",
       "      <td>0.0</td>\n",
       "      <td>Y</td>\n",
       "    </tr>\n",
       "    <tr>\n",
       "      <th>4</th>\n",
       "      <td>4</td>\n",
       "      <td>F</td>\n",
       "      <td>40</td>\n",
       "      <td>155</td>\n",
       "      <td>60</td>\n",
       "      <td>86.0</td>\n",
       "      <td>1.0</td>\n",
       "      <td>1.0</td>\n",
       "      <td>1.0</td>\n",
       "      <td>1.0</td>\n",
       "      <td>...</td>\n",
       "      <td>107.0</td>\n",
       "      <td>12.5</td>\n",
       "      <td>1.0</td>\n",
       "      <td>0.6</td>\n",
       "      <td>16.0</td>\n",
       "      <td>14.0</td>\n",
       "      <td>22.0</td>\n",
       "      <td>Y</td>\n",
       "      <td>0.0</td>\n",
       "      <td>N</td>\n",
       "    </tr>\n",
       "    <tr>\n",
       "      <th>...</th>\n",
       "      <td>...</td>\n",
       "      <td>...</td>\n",
       "      <td>...</td>\n",
       "      <td>...</td>\n",
       "      <td>...</td>\n",
       "      <td>...</td>\n",
       "      <td>...</td>\n",
       "      <td>...</td>\n",
       "      <td>...</td>\n",
       "      <td>...</td>\n",
       "      <td>...</td>\n",
       "      <td>...</td>\n",
       "      <td>...</td>\n",
       "      <td>...</td>\n",
       "      <td>...</td>\n",
       "      <td>...</td>\n",
       "      <td>...</td>\n",
       "      <td>...</td>\n",
       "      <td>...</td>\n",
       "      <td>...</td>\n",
       "      <td>...</td>\n",
       "    </tr>\n",
       "    <tr>\n",
       "      <th>44548</th>\n",
       "      <td>55686</td>\n",
       "      <td>M</td>\n",
       "      <td>50</td>\n",
       "      <td>170</td>\n",
       "      <td>65</td>\n",
       "      <td>88.0</td>\n",
       "      <td>1.2</td>\n",
       "      <td>1.2</td>\n",
       "      <td>1.0</td>\n",
       "      <td>1.0</td>\n",
       "      <td>...</td>\n",
       "      <td>108.0</td>\n",
       "      <td>15.2</td>\n",
       "      <td>1.0</td>\n",
       "      <td>1.0</td>\n",
       "      <td>45.0</td>\n",
       "      <td>49.0</td>\n",
       "      <td>51.0</td>\n",
       "      <td>Y</td>\n",
       "      <td>0.0</td>\n",
       "      <td>Y</td>\n",
       "    </tr>\n",
       "    <tr>\n",
       "      <th>44549</th>\n",
       "      <td>55687</td>\n",
       "      <td>M</td>\n",
       "      <td>35</td>\n",
       "      <td>175</td>\n",
       "      <td>70</td>\n",
       "      <td>84.0</td>\n",
       "      <td>0.6</td>\n",
       "      <td>0.7</td>\n",
       "      <td>1.0</td>\n",
       "      <td>1.0</td>\n",
       "      <td>...</td>\n",
       "      <td>118.0</td>\n",
       "      <td>15.2</td>\n",
       "      <td>1.0</td>\n",
       "      <td>0.9</td>\n",
       "      <td>20.0</td>\n",
       "      <td>14.0</td>\n",
       "      <td>16.0</td>\n",
       "      <td>Y</td>\n",
       "      <td>0.0</td>\n",
       "      <td>Y</td>\n",
       "    </tr>\n",
       "    <tr>\n",
       "      <th>44550</th>\n",
       "      <td>55688</td>\n",
       "      <td>M</td>\n",
       "      <td>35</td>\n",
       "      <td>175</td>\n",
       "      <td>70</td>\n",
       "      <td>70.9</td>\n",
       "      <td>1.5</td>\n",
       "      <td>1.5</td>\n",
       "      <td>1.0</td>\n",
       "      <td>1.0</td>\n",
       "      <td>...</td>\n",
       "      <td>92.0</td>\n",
       "      <td>13.4</td>\n",
       "      <td>1.0</td>\n",
       "      <td>1.0</td>\n",
       "      <td>18.0</td>\n",
       "      <td>19.0</td>\n",
       "      <td>10.0</td>\n",
       "      <td>Y</td>\n",
       "      <td>0.0</td>\n",
       "      <td>Y</td>\n",
       "    </tr>\n",
       "    <tr>\n",
       "      <th>44551</th>\n",
       "      <td>55689</td>\n",
       "      <td>M</td>\n",
       "      <td>50</td>\n",
       "      <td>165</td>\n",
       "      <td>90</td>\n",
       "      <td>106.8</td>\n",
       "      <td>0.8</td>\n",
       "      <td>0.5</td>\n",
       "      <td>1.0</td>\n",
       "      <td>1.0</td>\n",
       "      <td>...</td>\n",
       "      <td>104.0</td>\n",
       "      <td>14.5</td>\n",
       "      <td>1.0</td>\n",
       "      <td>0.9</td>\n",
       "      <td>30.0</td>\n",
       "      <td>49.0</td>\n",
       "      <td>40.0</td>\n",
       "      <td>Y</td>\n",
       "      <td>0.0</td>\n",
       "      <td>Y</td>\n",
       "    </tr>\n",
       "    <tr>\n",
       "      <th>44552</th>\n",
       "      <td>55690</td>\n",
       "      <td>M</td>\n",
       "      <td>25</td>\n",
       "      <td>175</td>\n",
       "      <td>80</td>\n",
       "      <td>93.2</td>\n",
       "      <td>1.2</td>\n",
       "      <td>1.5</td>\n",
       "      <td>1.0</td>\n",
       "      <td>1.0</td>\n",
       "      <td>...</td>\n",
       "      <td>138.0</td>\n",
       "      <td>11.4</td>\n",
       "      <td>1.0</td>\n",
       "      <td>1.0</td>\n",
       "      <td>23.0</td>\n",
       "      <td>11.0</td>\n",
       "      <td>20.0</td>\n",
       "      <td>Y</td>\n",
       "      <td>0.0</td>\n",
       "      <td>Y</td>\n",
       "    </tr>\n",
       "  </tbody>\n",
       "</table>\n",
       "<p>44553 rows × 26 columns</p>\n",
       "</div>"
      ],
      "text/plain": [
       "          ID gender  age  height(cm)  weight(kg)  waist(cm)  eyesight(left)  \\\n",
       "0          0      F   40         155          60       81.3             1.2   \n",
       "1          1      F   40         160          60       81.0             0.8   \n",
       "2          2      M   55         170          60       80.0             0.8   \n",
       "3          3      M   40         165          70       88.0             1.5   \n",
       "4          4      F   40         155          60       86.0             1.0   \n",
       "...      ...    ...  ...         ...         ...        ...             ...   \n",
       "44548  55686      M   50         170          65       88.0             1.2   \n",
       "44549  55687      M   35         175          70       84.0             0.6   \n",
       "44550  55688      M   35         175          70       70.9             1.5   \n",
       "44551  55689      M   50         165          90      106.8             0.8   \n",
       "44552  55690      M   25         175          80       93.2             1.2   \n",
       "\n",
       "       eyesight(right)  hearing(left)  hearing(right)  ...    LDL  hemoglobin  \\\n",
       "0                  1.0            1.0             1.0  ...  126.0        12.9   \n",
       "1                  0.6            1.0             1.0  ...  127.0        12.7   \n",
       "2                  0.8            1.0             1.0  ...  151.0        15.8   \n",
       "3                  1.5            1.0             1.0  ...  226.0        14.7   \n",
       "4                  1.0            1.0             1.0  ...  107.0        12.5   \n",
       "...                ...            ...             ...  ...    ...         ...   \n",
       "44548              1.2            1.0             1.0  ...  108.0        15.2   \n",
       "44549              0.7            1.0             1.0  ...  118.0        15.2   \n",
       "44550              1.5            1.0             1.0  ...   92.0        13.4   \n",
       "44551              0.5            1.0             1.0  ...  104.0        14.5   \n",
       "44552              1.5            1.0             1.0  ...  138.0        11.4   \n",
       "\n",
       "       Urine protein  serum creatinine   AST   ALT   Gtp  oral  dental caries  \\\n",
       "0                1.0               0.7  18.0  19.0  27.0     Y            0.0   \n",
       "1                1.0               0.6  22.0  19.0  18.0     Y            0.0   \n",
       "2                1.0               1.0  21.0  16.0  22.0     Y            0.0   \n",
       "3                1.0               1.0  19.0  26.0  18.0     Y            0.0   \n",
       "4                1.0               0.6  16.0  14.0  22.0     Y            0.0   \n",
       "...              ...               ...   ...   ...   ...   ...            ...   \n",
       "44548            1.0               1.0  45.0  49.0  51.0     Y            0.0   \n",
       "44549            1.0               0.9  20.0  14.0  16.0     Y            0.0   \n",
       "44550            1.0               1.0  18.0  19.0  10.0     Y            0.0   \n",
       "44551            1.0               0.9  30.0  49.0  40.0     Y            0.0   \n",
       "44552            1.0               1.0  23.0  11.0  20.0     Y            0.0   \n",
       "\n",
       "       tartar  \n",
       "0           Y  \n",
       "1           Y  \n",
       "2           N  \n",
       "3           Y  \n",
       "4           N  \n",
       "...       ...  \n",
       "44548       Y  \n",
       "44549       Y  \n",
       "44550       Y  \n",
       "44551       Y  \n",
       "44552       Y  \n",
       "\n",
       "[44553 rows x 26 columns]"
      ]
     },
     "execution_count": 58,
     "metadata": {},
     "output_type": "execute_result"
    }
   ],
   "source": [
    "x_train"
   ]
  },
  {
   "cell_type": "code",
   "execution_count": 346,
   "id": "69ff4881",
   "metadata": {},
   "outputs": [
    {
     "data": {
      "text/html": [
       "<div>\n",
       "<style scoped>\n",
       "    .dataframe tbody tr th:only-of-type {\n",
       "        vertical-align: middle;\n",
       "    }\n",
       "\n",
       "    .dataframe tbody tr th {\n",
       "        vertical-align: top;\n",
       "    }\n",
       "\n",
       "    .dataframe thead th {\n",
       "        text-align: right;\n",
       "    }\n",
       "</style>\n",
       "<table border=\"1\" class=\"dataframe\">\n",
       "  <thead>\n",
       "    <tr style=\"text-align: right;\">\n",
       "      <th></th>\n",
       "      <th>smoking</th>\n",
       "    </tr>\n",
       "  </thead>\n",
       "  <tbody>\n",
       "    <tr>\n",
       "      <th>0</th>\n",
       "      <td>0</td>\n",
       "    </tr>\n",
       "    <tr>\n",
       "      <th>1</th>\n",
       "      <td>0</td>\n",
       "    </tr>\n",
       "    <tr>\n",
       "      <th>2</th>\n",
       "      <td>1</td>\n",
       "    </tr>\n",
       "    <tr>\n",
       "      <th>3</th>\n",
       "      <td>0</td>\n",
       "    </tr>\n",
       "    <tr>\n",
       "      <th>4</th>\n",
       "      <td>0</td>\n",
       "    </tr>\n",
       "    <tr>\n",
       "      <th>...</th>\n",
       "      <td>...</td>\n",
       "    </tr>\n",
       "    <tr>\n",
       "      <th>44548</th>\n",
       "      <td>0</td>\n",
       "    </tr>\n",
       "    <tr>\n",
       "      <th>44549</th>\n",
       "      <td>0</td>\n",
       "    </tr>\n",
       "    <tr>\n",
       "      <th>44550</th>\n",
       "      <td>0</td>\n",
       "    </tr>\n",
       "    <tr>\n",
       "      <th>44551</th>\n",
       "      <td>1</td>\n",
       "    </tr>\n",
       "    <tr>\n",
       "      <th>44552</th>\n",
       "      <td>0</td>\n",
       "    </tr>\n",
       "  </tbody>\n",
       "</table>\n",
       "<p>44553 rows × 1 columns</p>\n",
       "</div>"
      ],
      "text/plain": [
       "       smoking\n",
       "0            0\n",
       "1            0\n",
       "2            1\n",
       "3            0\n",
       "4            0\n",
       "...        ...\n",
       "44548        0\n",
       "44549        0\n",
       "44550        0\n",
       "44551        1\n",
       "44552        0\n",
       "\n",
       "[44553 rows x 1 columns]"
      ]
     },
     "execution_count": 346,
     "metadata": {},
     "output_type": "execute_result"
    }
   ],
   "source": [
    "y_train=preprocessing(y_train)\n",
    "y_train"
   ]
  },
  {
   "cell_type": "code",
   "execution_count": 60,
   "id": "1a293971",
   "metadata": {},
   "outputs": [
    {
     "name": "stderr",
     "output_type": "stream",
     "text": [
      "C:\\Users\\JungHun.DESKTOP-JRGUSS9\\AppData\\Local\\Temp\\ipykernel_13756\\2673988547.py:24: SettingWithCopyWarning: \n",
      "A value is trying to be set on a copy of a slice from a DataFrame\n",
      "\n",
      "See the caveats in the documentation: https://pandas.pydata.org/pandas-docs/stable/user_guide/indexing.html#returning-a-view-versus-a-copy\n",
      "  x[i] = 0\n",
      "C:\\Users\\JungHun.DESKTOP-JRGUSS9\\AppData\\Local\\Temp\\ipykernel_13756\\2673988547.py:28: SettingWithCopyWarning: \n",
      "A value is trying to be set on a copy of a slice from a DataFrame\n",
      "\n",
      "See the caveats in the documentation: https://pandas.pydata.org/pandas-docs/stable/user_guide/indexing.html#returning-a-view-versus-a-copy\n",
      "  x[i] = 2\n",
      "C:\\Users\\JungHun.DESKTOP-JRGUSS9\\AppData\\Local\\Temp\\ipykernel_13756\\2673988547.py:26: SettingWithCopyWarning: \n",
      "A value is trying to be set on a copy of a slice from a DataFrame\n",
      "\n",
      "See the caveats in the documentation: https://pandas.pydata.org/pandas-docs/stable/user_guide/indexing.html#returning-a-view-versus-a-copy\n",
      "  x[i] = 1\n"
     ]
    },
    {
     "data": {
      "text/html": [
       "<div>\n",
       "<style scoped>\n",
       "    .dataframe tbody tr th:only-of-type {\n",
       "        vertical-align: middle;\n",
       "    }\n",
       "\n",
       "    .dataframe tbody tr th {\n",
       "        vertical-align: top;\n",
       "    }\n",
       "\n",
       "    .dataframe thead th {\n",
       "        text-align: right;\n",
       "    }\n",
       "</style>\n",
       "<table border=\"1\" class=\"dataframe\">\n",
       "  <thead>\n",
       "    <tr style=\"text-align: right;\">\n",
       "      <th></th>\n",
       "      <th>gender</th>\n",
       "      <th>age</th>\n",
       "      <th>height(cm)</th>\n",
       "      <th>weight(kg)</th>\n",
       "      <th>waist(cm)</th>\n",
       "      <th>eyesight(left)</th>\n",
       "      <th>eyesight(right)</th>\n",
       "      <th>hearing(left)</th>\n",
       "      <th>hearing(right)</th>\n",
       "      <th>systolic</th>\n",
       "      <th>...</th>\n",
       "      <th>HDL</th>\n",
       "      <th>LDL</th>\n",
       "      <th>hemoglobin</th>\n",
       "      <th>Urine protein</th>\n",
       "      <th>serum creatinine</th>\n",
       "      <th>AST</th>\n",
       "      <th>ALT</th>\n",
       "      <th>Gtp</th>\n",
       "      <th>dental caries</th>\n",
       "      <th>tartar</th>\n",
       "    </tr>\n",
       "  </thead>\n",
       "  <tbody>\n",
       "    <tr>\n",
       "      <th>0</th>\n",
       "      <td>1</td>\n",
       "      <td>80</td>\n",
       "      <td>160</td>\n",
       "      <td>65</td>\n",
       "      <td>91.0</td>\n",
       "      <td>1</td>\n",
       "      <td>1</td>\n",
       "      <td>1.0</td>\n",
       "      <td>1.0</td>\n",
       "      <td>120.0</td>\n",
       "      <td>...</td>\n",
       "      <td>61.0</td>\n",
       "      <td>94.0</td>\n",
       "      <td>14.5</td>\n",
       "      <td>0.0</td>\n",
       "      <td>1.0</td>\n",
       "      <td>29.0</td>\n",
       "      <td>19.0</td>\n",
       "      <td>39.0</td>\n",
       "      <td>0.0</td>\n",
       "      <td>0</td>\n",
       "    </tr>\n",
       "    <tr>\n",
       "      <th>1</th>\n",
       "      <td>1</td>\n",
       "      <td>30</td>\n",
       "      <td>165</td>\n",
       "      <td>90</td>\n",
       "      <td>98.0</td>\n",
       "      <td>2</td>\n",
       "      <td>2</td>\n",
       "      <td>1.0</td>\n",
       "      <td>1.0</td>\n",
       "      <td>136.0</td>\n",
       "      <td>...</td>\n",
       "      <td>58.0</td>\n",
       "      <td>165.0</td>\n",
       "      <td>15.6</td>\n",
       "      <td>0.0</td>\n",
       "      <td>0.9</td>\n",
       "      <td>20.0</td>\n",
       "      <td>37.0</td>\n",
       "      <td>34.0</td>\n",
       "      <td>0.0</td>\n",
       "      <td>0</td>\n",
       "    </tr>\n",
       "    <tr>\n",
       "      <th>2</th>\n",
       "      <td>1</td>\n",
       "      <td>40</td>\n",
       "      <td>170</td>\n",
       "      <td>75</td>\n",
       "      <td>81.0</td>\n",
       "      <td>2</td>\n",
       "      <td>2</td>\n",
       "      <td>1.0</td>\n",
       "      <td>1.0</td>\n",
       "      <td>138.0</td>\n",
       "      <td>...</td>\n",
       "      <td>37.0</td>\n",
       "      <td>98.0</td>\n",
       "      <td>16.4</td>\n",
       "      <td>0.0</td>\n",
       "      <td>0.7</td>\n",
       "      <td>25.0</td>\n",
       "      <td>32.0</td>\n",
       "      <td>73.0</td>\n",
       "      <td>0.0</td>\n",
       "      <td>0</td>\n",
       "    </tr>\n",
       "    <tr>\n",
       "      <th>3</th>\n",
       "      <td>1</td>\n",
       "      <td>35</td>\n",
       "      <td>175</td>\n",
       "      <td>70</td>\n",
       "      <td>80.0</td>\n",
       "      <td>2</td>\n",
       "      <td>2</td>\n",
       "      <td>1.0</td>\n",
       "      <td>1.0</td>\n",
       "      <td>160.0</td>\n",
       "      <td>...</td>\n",
       "      <td>53.0</td>\n",
       "      <td>160.0</td>\n",
       "      <td>15.3</td>\n",
       "      <td>0.0</td>\n",
       "      <td>0.7</td>\n",
       "      <td>30.0</td>\n",
       "      <td>55.0</td>\n",
       "      <td>50.0</td>\n",
       "      <td>0.0</td>\n",
       "      <td>0</td>\n",
       "    </tr>\n",
       "    <tr>\n",
       "      <th>4</th>\n",
       "      <td>1</td>\n",
       "      <td>35</td>\n",
       "      <td>160</td>\n",
       "      <td>75</td>\n",
       "      <td>93.0</td>\n",
       "      <td>2</td>\n",
       "      <td>2</td>\n",
       "      <td>1.0</td>\n",
       "      <td>1.0</td>\n",
       "      <td>125.0</td>\n",
       "      <td>...</td>\n",
       "      <td>58.0</td>\n",
       "      <td>132.0</td>\n",
       "      <td>14.7</td>\n",
       "      <td>0.0</td>\n",
       "      <td>1.1</td>\n",
       "      <td>35.0</td>\n",
       "      <td>58.0</td>\n",
       "      <td>56.0</td>\n",
       "      <td>0.0</td>\n",
       "      <td>0</td>\n",
       "    </tr>\n",
       "  </tbody>\n",
       "</table>\n",
       "<p>5 rows × 24 columns</p>\n",
       "</div>"
      ],
      "text/plain": [
       "   gender  age  height(cm)  weight(kg)  waist(cm)  eyesight(left)  \\\n",
       "0       1   80         160          65       91.0               1   \n",
       "1       1   30         165          90       98.0               2   \n",
       "2       1   40         170          75       81.0               2   \n",
       "3       1   35         175          70       80.0               2   \n",
       "4       1   35         160          75       93.0               2   \n",
       "\n",
       "   eyesight(right)  hearing(left)  hearing(right)  systolic  ...   HDL    LDL  \\\n",
       "0                1            1.0             1.0     120.0  ...  61.0   94.0   \n",
       "1                2            1.0             1.0     136.0  ...  58.0  165.0   \n",
       "2                2            1.0             1.0     138.0  ...  37.0   98.0   \n",
       "3                2            1.0             1.0     160.0  ...  53.0  160.0   \n",
       "4                2            1.0             1.0     125.0  ...  58.0  132.0   \n",
       "\n",
       "   hemoglobin  Urine protein  serum creatinine   AST   ALT   Gtp  \\\n",
       "0        14.5            0.0               1.0  29.0  19.0  39.0   \n",
       "1        15.6            0.0               0.9  20.0  37.0  34.0   \n",
       "2        16.4            0.0               0.7  25.0  32.0  73.0   \n",
       "3        15.3            0.0               0.7  30.0  55.0  50.0   \n",
       "4        14.7            0.0               1.1  35.0  58.0  56.0   \n",
       "\n",
       "   dental caries  tartar  \n",
       "0            0.0       0  \n",
       "1            0.0       0  \n",
       "2            0.0       0  \n",
       "3            0.0       0  \n",
       "4            0.0       0  \n",
       "\n",
       "[5 rows x 24 columns]"
      ]
     },
     "execution_count": 60,
     "metadata": {},
     "output_type": "execute_result"
    }
   ],
   "source": [
    "x_test=preprocessing(x_test)\n",
    "x_test.head()"
   ]
  },
  {
   "cell_type": "code",
   "execution_count": 348,
   "id": "6d555e72",
   "metadata": {},
   "outputs": [
    {
     "data": {
      "text/html": [
       "<div>\n",
       "<style scoped>\n",
       "    .dataframe tbody tr th:only-of-type {\n",
       "        vertical-align: middle;\n",
       "    }\n",
       "\n",
       "    .dataframe tbody tr th {\n",
       "        vertical-align: top;\n",
       "    }\n",
       "\n",
       "    .dataframe thead th {\n",
       "        text-align: right;\n",
       "    }\n",
       "</style>\n",
       "<table border=\"1\" class=\"dataframe\">\n",
       "  <thead>\n",
       "    <tr style=\"text-align: right;\">\n",
       "      <th></th>\n",
       "      <th>smoking</th>\n",
       "    </tr>\n",
       "  </thead>\n",
       "  <tbody>\n",
       "    <tr>\n",
       "      <th>0</th>\n",
       "      <td>1</td>\n",
       "    </tr>\n",
       "    <tr>\n",
       "      <th>1</th>\n",
       "      <td>0</td>\n",
       "    </tr>\n",
       "    <tr>\n",
       "      <th>2</th>\n",
       "      <td>1</td>\n",
       "    </tr>\n",
       "    <tr>\n",
       "      <th>3</th>\n",
       "      <td>0</td>\n",
       "    </tr>\n",
       "    <tr>\n",
       "      <th>4</th>\n",
       "      <td>0</td>\n",
       "    </tr>\n",
       "  </tbody>\n",
       "</table>\n",
       "</div>"
      ],
      "text/plain": [
       "   smoking\n",
       "0        1\n",
       "1        0\n",
       "2        1\n",
       "3        0\n",
       "4        0"
      ]
     },
     "execution_count": 348,
     "metadata": {},
     "output_type": "execute_result"
    }
   ],
   "source": [
    "y_test=preprocessing(y_test)\n",
    "y_test.head()"
   ]
  },
  {
   "cell_type": "code",
   "execution_count": 5,
   "id": "054a555f",
   "metadata": {
    "execution": {
     "iopub.execute_input": "2022-09-27T02:42:40.108817Z",
     "iopub.status.busy": "2022-09-27T02:42:40.108386Z",
     "iopub.status.idle": "2022-09-27T02:42:40.224687Z",
     "shell.execute_reply": "2022-09-27T02:42:40.223155Z",
     "shell.execute_reply.started": "2022-09-27T02:42:40.108787Z"
    }
   },
   "outputs": [
    {
     "name": "stderr",
     "output_type": "stream",
     "text": [
      "C:\\Users\\JungHun.DESKTOP-JRGUSS9\\AppData\\Local\\Temp\\ipykernel_13756\\2673988547.py:24: SettingWithCopyWarning: \n",
      "A value is trying to be set on a copy of a slice from a DataFrame\n",
      "\n",
      "See the caveats in the documentation: https://pandas.pydata.org/pandas-docs/stable/user_guide/indexing.html#returning-a-view-versus-a-copy\n",
      "  x[i] = 0\n",
      "C:\\Users\\JungHun.DESKTOP-JRGUSS9\\AppData\\Local\\Temp\\ipykernel_13756\\2673988547.py:28: SettingWithCopyWarning: \n",
      "A value is trying to be set on a copy of a slice from a DataFrame\n",
      "\n",
      "See the caveats in the documentation: https://pandas.pydata.org/pandas-docs/stable/user_guide/indexing.html#returning-a-view-versus-a-copy\n",
      "  x[i] = 2\n",
      "C:\\Users\\JungHun.DESKTOP-JRGUSS9\\AppData\\Local\\Temp\\ipykernel_13756\\2673988547.py:26: SettingWithCopyWarning: \n",
      "A value is trying to be set on a copy of a slice from a DataFrame\n",
      "\n",
      "See the caveats in the documentation: https://pandas.pydata.org/pandas-docs/stable/user_guide/indexing.html#returning-a-view-versus-a-copy\n",
      "  x[i] = 1\n",
      "C:\\Users\\JungHun.DESKTOP-JRGUSS9\\AppData\\Local\\Temp\\ipykernel_13756\\2673988547.py:24: SettingWithCopyWarning: \n",
      "A value is trying to be set on a copy of a slice from a DataFrame\n",
      "\n",
      "See the caveats in the documentation: https://pandas.pydata.org/pandas-docs/stable/user_guide/indexing.html#returning-a-view-versus-a-copy\n",
      "  x[i] = 0\n",
      "C:\\Users\\JungHun.DESKTOP-JRGUSS9\\AppData\\Local\\Temp\\ipykernel_13756\\2673988547.py:28: SettingWithCopyWarning: \n",
      "A value is trying to be set on a copy of a slice from a DataFrame\n",
      "\n",
      "See the caveats in the documentation: https://pandas.pydata.org/pandas-docs/stable/user_guide/indexing.html#returning-a-view-versus-a-copy\n",
      "  x[i] = 2\n",
      "C:\\Users\\JungHun.DESKTOP-JRGUSS9\\AppData\\Local\\Temp\\ipykernel_13756\\2673988547.py:26: SettingWithCopyWarning: \n",
      "A value is trying to be set on a copy of a slice from a DataFrame\n",
      "\n",
      "See the caveats in the documentation: https://pandas.pydata.org/pandas-docs/stable/user_guide/indexing.html#returning-a-view-versus-a-copy\n",
      "  x[i] = 1\n"
     ]
    }
   ],
   "source": [
    "scaled = scaling(x_train, x_test,scaled_form='StandardScaler()')"
   ]
  },
  {
   "cell_type": "code",
   "execution_count": 6,
   "id": "25232c63",
   "metadata": {
    "execution": {
     "iopub.execute_input": "2022-09-27T02:42:40.108817Z",
     "iopub.status.busy": "2022-09-27T02:42:40.108386Z",
     "iopub.status.idle": "2022-09-27T02:42:40.224687Z",
     "shell.execute_reply": "2022-09-27T02:42:40.223155Z",
     "shell.execute_reply.started": "2022-09-27T02:42:40.108787Z"
    }
   },
   "outputs": [],
   "source": [
    "x_train_s = pd.DataFrame(scaled[0])\n",
    "x_test_s = pd.DataFrame(scaled[1])\n",
    "y_train_s = preprocessing(y_train)\n",
    "y_test_s = preprocessing(y_test)"
   ]
  },
  {
   "cell_type": "code",
   "execution_count": 7,
   "id": "5160c304",
   "metadata": {
    "scrolled": true
   },
   "outputs": [
    {
     "data": {
      "text/html": [
       "<div>\n",
       "<style scoped>\n",
       "    .dataframe tbody tr th:only-of-type {\n",
       "        vertical-align: middle;\n",
       "    }\n",
       "\n",
       "    .dataframe tbody tr th {\n",
       "        vertical-align: top;\n",
       "    }\n",
       "\n",
       "    .dataframe thead th {\n",
       "        text-align: right;\n",
       "    }\n",
       "</style>\n",
       "<table border=\"1\" class=\"dataframe\">\n",
       "  <thead>\n",
       "    <tr style=\"text-align: right;\">\n",
       "      <th></th>\n",
       "      <th>age</th>\n",
       "      <th>height(cm)</th>\n",
       "      <th>weight(kg)</th>\n",
       "      <th>waist(cm)</th>\n",
       "      <th>eyesight(left)</th>\n",
       "      <th>eyesight(right)</th>\n",
       "      <th>systolic</th>\n",
       "      <th>relaxation</th>\n",
       "      <th>fasting blood sugar</th>\n",
       "      <th>Cholesterol</th>\n",
       "      <th>...</th>\n",
       "      <th>Urine protein</th>\n",
       "      <th>serum creatinine</th>\n",
       "      <th>AST</th>\n",
       "      <th>ALT</th>\n",
       "      <th>Gtp</th>\n",
       "      <th>gender</th>\n",
       "      <th>tartar</th>\n",
       "      <th>hearing(right)</th>\n",
       "      <th>hearing(left)</th>\n",
       "      <th>dental caries</th>\n",
       "    </tr>\n",
       "  </thead>\n",
       "  <tbody>\n",
       "    <tr>\n",
       "      <th>0</th>\n",
       "      <td>-0.348302</td>\n",
       "      <td>-1.049853</td>\n",
       "      <td>-0.458800</td>\n",
       "      <td>-0.083771</td>\n",
       "      <td>0.764262</td>\n",
       "      <td>0.770830</td>\n",
       "      <td>-0.550024</td>\n",
       "      <td>-0.313914</td>\n",
       "      <td>-0.255217</td>\n",
       "      <td>0.494320</td>\n",
       "      <td>...</td>\n",
       "      <td>-0.228172</td>\n",
       "      <td>-0.823115</td>\n",
       "      <td>-0.430331</td>\n",
       "      <td>-0.254602</td>\n",
       "      <td>-0.257586</td>\n",
       "      <td>0</td>\n",
       "      <td>1</td>\n",
       "      <td>1.0</td>\n",
       "      <td>1.0</td>\n",
       "      <td>0.0</td>\n",
       "    </tr>\n",
       "    <tr>\n",
       "      <th>1</th>\n",
       "      <td>-0.348302</td>\n",
       "      <td>-0.506284</td>\n",
       "      <td>-0.458800</td>\n",
       "      <td>-0.116105</td>\n",
       "      <td>-1.182462</td>\n",
       "      <td>-1.178472</td>\n",
       "      <td>-0.184756</td>\n",
       "      <td>-0.623346</td>\n",
       "      <td>1.471806</td>\n",
       "      <td>-0.137158</td>\n",
       "      <td>...</td>\n",
       "      <td>-0.228172</td>\n",
       "      <td>-1.265418</td>\n",
       "      <td>-0.220763</td>\n",
       "      <td>-0.254602</td>\n",
       "      <td>-0.435020</td>\n",
       "      <td>0</td>\n",
       "      <td>1</td>\n",
       "      <td>1.0</td>\n",
       "      <td>1.0</td>\n",
       "      <td>0.0</td>\n",
       "    </tr>\n",
       "    <tr>\n",
       "      <th>2</th>\n",
       "      <td>0.892501</td>\n",
       "      <td>0.580854</td>\n",
       "      <td>-0.458800</td>\n",
       "      <td>-0.223885</td>\n",
       "      <td>-1.182462</td>\n",
       "      <td>-1.178472</td>\n",
       "      <td>1.203261</td>\n",
       "      <td>1.026958</td>\n",
       "      <td>-0.495081</td>\n",
       "      <td>1.235620</td>\n",
       "      <td>...</td>\n",
       "      <td>-0.228172</td>\n",
       "      <td>0.503794</td>\n",
       "      <td>-0.273155</td>\n",
       "      <td>-0.349076</td>\n",
       "      <td>-0.356161</td>\n",
       "      <td>1</td>\n",
       "      <td>0</td>\n",
       "      <td>1.0</td>\n",
       "      <td>1.0</td>\n",
       "      <td>0.0</td>\n",
       "    </tr>\n",
       "    <tr>\n",
       "      <th>3</th>\n",
       "      <td>-0.348302</td>\n",
       "      <td>0.037285</td>\n",
       "      <td>0.321016</td>\n",
       "      <td>0.638353</td>\n",
       "      <td>0.764262</td>\n",
       "      <td>0.770830</td>\n",
       "      <td>-1.572773</td>\n",
       "      <td>-1.654787</td>\n",
       "      <td>-0.159271</td>\n",
       "      <td>3.432064</td>\n",
       "      <td>...</td>\n",
       "      <td>-0.228172</td>\n",
       "      <td>0.503794</td>\n",
       "      <td>-0.377939</td>\n",
       "      <td>-0.034160</td>\n",
       "      <td>-0.435020</td>\n",
       "      <td>1</td>\n",
       "      <td>1</td>\n",
       "      <td>1.0</td>\n",
       "      <td>1.0</td>\n",
       "      <td>0.0</td>\n",
       "    </tr>\n",
       "    <tr>\n",
       "      <th>4</th>\n",
       "      <td>-0.348302</td>\n",
       "      <td>-1.049853</td>\n",
       "      <td>-0.458800</td>\n",
       "      <td>0.422793</td>\n",
       "      <td>0.764262</td>\n",
       "      <td>0.770830</td>\n",
       "      <td>-0.111703</td>\n",
       "      <td>-0.210770</td>\n",
       "      <td>-0.926837</td>\n",
       "      <td>-0.356803</td>\n",
       "      <td>...</td>\n",
       "      <td>-0.228172</td>\n",
       "      <td>-1.265418</td>\n",
       "      <td>-0.535115</td>\n",
       "      <td>-0.412060</td>\n",
       "      <td>-0.356161</td>\n",
       "      <td>0</td>\n",
       "      <td>0</td>\n",
       "      <td>1.0</td>\n",
       "      <td>1.0</td>\n",
       "      <td>0.0</td>\n",
       "    </tr>\n",
       "  </tbody>\n",
       "</table>\n",
       "<p>5 rows × 24 columns</p>\n",
       "</div>"
      ],
      "text/plain": [
       "        age  height(cm)  weight(kg)  waist(cm)  eyesight(left)  \\\n",
       "0 -0.348302   -1.049853   -0.458800  -0.083771        0.764262   \n",
       "1 -0.348302   -0.506284   -0.458800  -0.116105       -1.182462   \n",
       "2  0.892501    0.580854   -0.458800  -0.223885       -1.182462   \n",
       "3 -0.348302    0.037285    0.321016   0.638353        0.764262   \n",
       "4 -0.348302   -1.049853   -0.458800   0.422793        0.764262   \n",
       "\n",
       "   eyesight(right)  systolic  relaxation  fasting blood sugar  Cholesterol  \\\n",
       "0         0.770830 -0.550024   -0.313914            -0.255217     0.494320   \n",
       "1        -1.178472 -0.184756   -0.623346             1.471806    -0.137158   \n",
       "2        -1.178472  1.203261    1.026958            -0.495081     1.235620   \n",
       "3         0.770830 -1.572773   -1.654787            -0.159271     3.432064   \n",
       "4         0.770830 -0.111703   -0.210770            -0.926837    -0.356803   \n",
       "\n",
       "   ...  Urine protein  serum creatinine       AST       ALT       Gtp  gender  \\\n",
       "0  ...      -0.228172         -0.823115 -0.430331 -0.254602 -0.257586       0   \n",
       "1  ...      -0.228172         -1.265418 -0.220763 -0.254602 -0.435020       0   \n",
       "2  ...      -0.228172          0.503794 -0.273155 -0.349076 -0.356161       1   \n",
       "3  ...      -0.228172          0.503794 -0.377939 -0.034160 -0.435020       1   \n",
       "4  ...      -0.228172         -1.265418 -0.535115 -0.412060 -0.356161       0   \n",
       "\n",
       "   tartar  hearing(right)  hearing(left)  dental caries  \n",
       "0       1             1.0            1.0            0.0  \n",
       "1       1             1.0            1.0            0.0  \n",
       "2       0             1.0            1.0            0.0  \n",
       "3       1             1.0            1.0            0.0  \n",
       "4       0             1.0            1.0            0.0  \n",
       "\n",
       "[5 rows x 24 columns]"
      ]
     },
     "execution_count": 7,
     "metadata": {},
     "output_type": "execute_result"
    }
   ],
   "source": [
    "x_train_s.head()"
   ]
  },
  {
   "cell_type": "code",
   "execution_count": 8,
   "id": "b0a014a8",
   "metadata": {},
   "outputs": [
    {
     "name": "stdout",
     "output_type": "stream",
     "text": [
      "<class 'pandas.core.frame.DataFrame'>\n",
      "RangeIndex: 44553 entries, 0 to 44552\n",
      "Data columns (total 24 columns):\n",
      " #   Column               Non-Null Count  Dtype  \n",
      "---  ------               --------------  -----  \n",
      " 0   age                  44553 non-null  float64\n",
      " 1   height(cm)           44553 non-null  float64\n",
      " 2   weight(kg)           44553 non-null  float64\n",
      " 3   waist(cm)            44553 non-null  float64\n",
      " 4   eyesight(left)       44553 non-null  float64\n",
      " 5   eyesight(right)      44553 non-null  float64\n",
      " 6   systolic             44553 non-null  float64\n",
      " 7   relaxation           44553 non-null  float64\n",
      " 8   fasting blood sugar  44553 non-null  float64\n",
      " 9   Cholesterol          44553 non-null  float64\n",
      " 10  triglyceride         44553 non-null  float64\n",
      " 11  HDL                  44553 non-null  float64\n",
      " 12  LDL                  44553 non-null  float64\n",
      " 13  hemoglobin           44553 non-null  float64\n",
      " 14  Urine protein        44553 non-null  float64\n",
      " 15  serum creatinine     44553 non-null  float64\n",
      " 16  AST                  44553 non-null  float64\n",
      " 17  ALT                  44553 non-null  float64\n",
      " 18  Gtp                  44553 non-null  float64\n",
      " 19  gender               44553 non-null  int32  \n",
      " 20  tartar               44553 non-null  int32  \n",
      " 21  hearing(right)       44553 non-null  float64\n",
      " 22  hearing(left)        44553 non-null  float64\n",
      " 23  dental caries        44553 non-null  float64\n",
      "dtypes: float64(22), int32(2)\n",
      "memory usage: 7.8 MB\n"
     ]
    }
   ],
   "source": [
    "x_train_s.info()"
   ]
  },
  {
   "cell_type": "code",
   "execution_count": 9,
   "id": "60f1b50c",
   "metadata": {
    "scrolled": false
   },
   "outputs": [
    {
     "data": {
      "text/html": [
       "<div>\n",
       "<style scoped>\n",
       "    .dataframe tbody tr th:only-of-type {\n",
       "        vertical-align: middle;\n",
       "    }\n",
       "\n",
       "    .dataframe tbody tr th {\n",
       "        vertical-align: top;\n",
       "    }\n",
       "\n",
       "    .dataframe thead th {\n",
       "        text-align: right;\n",
       "    }\n",
       "</style>\n",
       "<table border=\"1\" class=\"dataframe\">\n",
       "  <thead>\n",
       "    <tr style=\"text-align: right;\">\n",
       "      <th></th>\n",
       "      <th>age</th>\n",
       "      <th>height(cm)</th>\n",
       "      <th>weight(kg)</th>\n",
       "      <th>waist(cm)</th>\n",
       "      <th>eyesight(left)</th>\n",
       "      <th>eyesight(right)</th>\n",
       "      <th>systolic</th>\n",
       "      <th>relaxation</th>\n",
       "      <th>fasting blood sugar</th>\n",
       "      <th>Cholesterol</th>\n",
       "      <th>...</th>\n",
       "      <th>Urine protein</th>\n",
       "      <th>serum creatinine</th>\n",
       "      <th>AST</th>\n",
       "      <th>ALT</th>\n",
       "      <th>Gtp</th>\n",
       "      <th>gender</th>\n",
       "      <th>tartar</th>\n",
       "      <th>hearing(right)</th>\n",
       "      <th>hearing(left)</th>\n",
       "      <th>dental caries</th>\n",
       "    </tr>\n",
       "  </thead>\n",
       "  <tbody>\n",
       "    <tr>\n",
       "      <th>0</th>\n",
       "      <td>2.960507</td>\n",
       "      <td>-0.506284</td>\n",
       "      <td>-0.068892</td>\n",
       "      <td>0.961692</td>\n",
       "      <td>-1.182462</td>\n",
       "      <td>-1.178472</td>\n",
       "      <td>-0.111703</td>\n",
       "      <td>0.408094</td>\n",
       "      <td>0.608295</td>\n",
       "      <td>-0.768636</td>\n",
       "      <td>...</td>\n",
       "      <td>-0.228172</td>\n",
       "      <td>0.503794</td>\n",
       "      <td>0.145981</td>\n",
       "      <td>-0.254602</td>\n",
       "      <td>-0.021007</td>\n",
       "      <td>1</td>\n",
       "      <td>0</td>\n",
       "      <td>1.0</td>\n",
       "      <td>1.0</td>\n",
       "      <td>0.0</td>\n",
       "    </tr>\n",
       "    <tr>\n",
       "      <th>1</th>\n",
       "      <td>-1.175504</td>\n",
       "      <td>0.037285</td>\n",
       "      <td>1.880649</td>\n",
       "      <td>1.716150</td>\n",
       "      <td>0.764262</td>\n",
       "      <td>0.770830</td>\n",
       "      <td>1.057153</td>\n",
       "      <td>0.717526</td>\n",
       "      <td>-0.159271</td>\n",
       "      <td>1.263075</td>\n",
       "      <td>...</td>\n",
       "      <td>-0.228172</td>\n",
       "      <td>0.061491</td>\n",
       "      <td>-0.325547</td>\n",
       "      <td>0.312248</td>\n",
       "      <td>-0.119581</td>\n",
       "      <td>1</td>\n",
       "      <td>0</td>\n",
       "      <td>1.0</td>\n",
       "      <td>1.0</td>\n",
       "      <td>0.0</td>\n",
       "    </tr>\n",
       "    <tr>\n",
       "      <th>2</th>\n",
       "      <td>-0.348302</td>\n",
       "      <td>0.580854</td>\n",
       "      <td>0.710924</td>\n",
       "      <td>-0.116105</td>\n",
       "      <td>0.764262</td>\n",
       "      <td>0.770830</td>\n",
       "      <td>1.203261</td>\n",
       "      <td>1.026958</td>\n",
       "      <td>-0.351163</td>\n",
       "      <td>-0.933369</td>\n",
       "      <td>...</td>\n",
       "      <td>-0.228172</td>\n",
       "      <td>-0.823115</td>\n",
       "      <td>-0.063587</td>\n",
       "      <td>0.154790</td>\n",
       "      <td>0.649301</td>\n",
       "      <td>1</td>\n",
       "      <td>0</td>\n",
       "      <td>1.0</td>\n",
       "      <td>1.0</td>\n",
       "      <td>0.0</td>\n",
       "    </tr>\n",
       "    <tr>\n",
       "      <th>3</th>\n",
       "      <td>-0.761903</td>\n",
       "      <td>1.124422</td>\n",
       "      <td>0.321016</td>\n",
       "      <td>-0.223885</td>\n",
       "      <td>0.764262</td>\n",
       "      <td>0.770830</td>\n",
       "      <td>2.810438</td>\n",
       "      <td>2.470975</td>\n",
       "      <td>0.032620</td>\n",
       "      <td>1.400353</td>\n",
       "      <td>...</td>\n",
       "      <td>-0.228172</td>\n",
       "      <td>-0.823115</td>\n",
       "      <td>0.198373</td>\n",
       "      <td>0.879098</td>\n",
       "      <td>0.195858</td>\n",
       "      <td>1</td>\n",
       "      <td>0</td>\n",
       "      <td>1.0</td>\n",
       "      <td>1.0</td>\n",
       "      <td>0.0</td>\n",
       "    </tr>\n",
       "    <tr>\n",
       "      <th>4</th>\n",
       "      <td>-0.761903</td>\n",
       "      <td>-0.506284</td>\n",
       "      <td>0.710924</td>\n",
       "      <td>1.177251</td>\n",
       "      <td>0.764262</td>\n",
       "      <td>0.770830</td>\n",
       "      <td>0.253565</td>\n",
       "      <td>0.408094</td>\n",
       "      <td>0.848159</td>\n",
       "      <td>0.439408</td>\n",
       "      <td>...</td>\n",
       "      <td>-0.228172</td>\n",
       "      <td>0.946097</td>\n",
       "      <td>0.460333</td>\n",
       "      <td>0.973573</td>\n",
       "      <td>0.314147</td>\n",
       "      <td>1</td>\n",
       "      <td>0</td>\n",
       "      <td>1.0</td>\n",
       "      <td>1.0</td>\n",
       "      <td>0.0</td>\n",
       "    </tr>\n",
       "  </tbody>\n",
       "</table>\n",
       "<p>5 rows × 24 columns</p>\n",
       "</div>"
      ],
      "text/plain": [
       "        age  height(cm)  weight(kg)  waist(cm)  eyesight(left)  \\\n",
       "0  2.960507   -0.506284   -0.068892   0.961692       -1.182462   \n",
       "1 -1.175504    0.037285    1.880649   1.716150        0.764262   \n",
       "2 -0.348302    0.580854    0.710924  -0.116105        0.764262   \n",
       "3 -0.761903    1.124422    0.321016  -0.223885        0.764262   \n",
       "4 -0.761903   -0.506284    0.710924   1.177251        0.764262   \n",
       "\n",
       "   eyesight(right)  systolic  relaxation  fasting blood sugar  Cholesterol  \\\n",
       "0        -1.178472 -0.111703    0.408094             0.608295    -0.768636   \n",
       "1         0.770830  1.057153    0.717526            -0.159271     1.263075   \n",
       "2         0.770830  1.203261    1.026958            -0.351163    -0.933369   \n",
       "3         0.770830  2.810438    2.470975             0.032620     1.400353   \n",
       "4         0.770830  0.253565    0.408094             0.848159     0.439408   \n",
       "\n",
       "   ...  Urine protein  serum creatinine       AST       ALT       Gtp  gender  \\\n",
       "0  ...      -0.228172          0.503794  0.145981 -0.254602 -0.021007       1   \n",
       "1  ...      -0.228172          0.061491 -0.325547  0.312248 -0.119581       1   \n",
       "2  ...      -0.228172         -0.823115 -0.063587  0.154790  0.649301       1   \n",
       "3  ...      -0.228172         -0.823115  0.198373  0.879098  0.195858       1   \n",
       "4  ...      -0.228172          0.946097  0.460333  0.973573  0.314147       1   \n",
       "\n",
       "   tartar  hearing(right)  hearing(left)  dental caries  \n",
       "0       0             1.0            1.0            0.0  \n",
       "1       0             1.0            1.0            0.0  \n",
       "2       0             1.0            1.0            0.0  \n",
       "3       0             1.0            1.0            0.0  \n",
       "4       0             1.0            1.0            0.0  \n",
       "\n",
       "[5 rows x 24 columns]"
      ]
     },
     "execution_count": 9,
     "metadata": {},
     "output_type": "execute_result"
    }
   ],
   "source": [
    "x_test_s.head()"
   ]
  },
  {
   "cell_type": "code",
   "execution_count": 247,
   "id": "88a924cc",
   "metadata": {},
   "outputs": [],
   "source": [
    "SVM1=SVC()"
   ]
  },
  {
   "cell_type": "code",
   "execution_count": null,
   "id": "fbe15487",
   "metadata": {},
   "outputs": [],
   "source": [
    "SVM1.fit(x_train_s,y_train_s)"
   ]
  },
  {
   "cell_type": "code",
   "execution_count": 343,
   "id": "faceb7a6",
   "metadata": {},
   "outputs": [],
   "source": [
    "SVM_basic=SVC()"
   ]
  },
  {
   "cell_type": "code",
   "execution_count": 347,
   "id": "38447000",
   "metadata": {},
   "outputs": [
    {
     "name": "stderr",
     "output_type": "stream",
     "text": [
      "C:\\ProgramData\\Anaconda3\\lib\\site-packages\\sklearn\\utils\\validation.py:993: DataConversionWarning: A column-vector y was passed when a 1d array was expected. Please change the shape of y to (n_samples, ), for example using ravel().\n",
      "  y = column_or_1d(y, warn=True)\n"
     ]
    },
    {
     "data": {
      "text/plain": [
       "SVC()"
      ]
     },
     "execution_count": 347,
     "metadata": {},
     "output_type": "execute_result"
    }
   ],
   "source": [
    "SVM_basic.fit(x_train,y_train)"
   ]
  },
  {
   "cell_type": "code",
   "execution_count": 349,
   "id": "905fbd24",
   "metadata": {},
   "outputs": [],
   "source": [
    "basic=SVM_basic.predict(x_test)"
   ]
  },
  {
   "cell_type": "code",
   "execution_count": 350,
   "id": "f368e11d",
   "metadata": {},
   "outputs": [],
   "source": [
    "exba=score(y_test,basic)"
   ]
  },
  {
   "cell_type": "markdown",
   "id": "92030300",
   "metadata": {},
   "source": [
    "# 기본모델의 성능"
   ]
  },
  {
   "cell_type": "code",
   "execution_count": 351,
   "id": "1ee82f9b",
   "metadata": {},
   "outputs": [
    {
     "data": {
      "text/plain": [
       "(0.7358829338360715,\n",
       " 0.6751131221719457,\n",
       " 0.5454545454545454,\n",
       " 0.6033971420868158,\n",
       " 0.6961923096800868)"
      ]
     },
     "execution_count": 351,
     "metadata": {},
     "output_type": "execute_result"
    }
   ],
   "source": [
    "exba"
   ]
  },
  {
   "cell_type": "markdown",
   "id": "b93e6fdc",
   "metadata": {},
   "source": [
    "## 모델링"
   ]
  },
  {
   "cell_type": "markdown",
   "id": "27f5876e",
   "metadata": {},
   "source": [
    "### Standard Scaler"
   ]
  },
  {
   "cell_type": "code",
   "execution_count": 62,
   "id": "9ce8b364",
   "metadata": {},
   "outputs": [],
   "source": [
    "best1=GridSearchCV(SVM1,param_grid=param_svm,cv=3,scoring ='accuracy',n_jobs=-1,verbose=2)"
   ]
  },
  {
   "cell_type": "code",
   "execution_count": 63,
   "id": "427808d6",
   "metadata": {
    "collapsed": true
   },
   "outputs": [
    {
     "name": "stdout",
     "output_type": "stream",
     "text": [
      "Fitting 3 folds for each of 16 candidates, totalling 48 fits\n"
     ]
    },
    {
     "name": "stderr",
     "output_type": "stream",
     "text": [
      "C:\\ProgramData\\Anaconda3\\lib\\site-packages\\sklearn\\model_selection\\_validation.py:372: FitFailedWarning: \n",
      "48 fits failed out of a total of 48.\n",
      "The score on these train-test partitions for these parameters will be set to nan.\n",
      "If these failures are not expected, you can try to debug them by setting error_score='raise'.\n",
      "\n",
      "Below are more details about the failures:\n",
      "--------------------------------------------------------------------------------\n",
      "48 fits failed with the following error:\n",
      "Traceback (most recent call last):\n",
      "  File \"C:\\ProgramData\\Anaconda3\\lib\\site-packages\\sklearn\\model_selection\\_validation.py\", line 680, in _fit_and_score\n",
      "    estimator.fit(X_train, y_train, **fit_params)\n",
      "  File \"C:\\ProgramData\\Anaconda3\\lib\\site-packages\\sklearn\\svm\\_base.py\", line 190, in fit\n",
      "    X, y = self._validate_data(\n",
      "  File \"C:\\ProgramData\\Anaconda3\\lib\\site-packages\\sklearn\\base.py\", line 581, in _validate_data\n",
      "    X, y = check_X_y(X, y, **check_params)\n",
      "  File \"C:\\ProgramData\\Anaconda3\\lib\\site-packages\\sklearn\\utils\\validation.py\", line 979, in check_X_y\n",
      "    y = _check_y(y, multi_output=multi_output, y_numeric=y_numeric)\n",
      "  File \"C:\\ProgramData\\Anaconda3\\lib\\site-packages\\sklearn\\utils\\validation.py\", line 993, in _check_y\n",
      "    y = column_or_1d(y, warn=True)\n",
      "  File \"C:\\ProgramData\\Anaconda3\\lib\\site-packages\\sklearn\\utils\\validation.py\", line 1038, in column_or_1d\n",
      "    raise ValueError(\n",
      "ValueError: y should be a 1d array, got an array of shape (29702, 2) instead.\n",
      "\n",
      "  warnings.warn(some_fits_failed_message, FitFailedWarning)\n",
      "C:\\ProgramData\\Anaconda3\\lib\\site-packages\\sklearn\\model_selection\\_search.py:969: UserWarning: One or more of the test scores are non-finite: [nan nan nan nan nan nan nan nan nan nan nan nan nan nan nan nan]\n",
      "  warnings.warn(\n"
     ]
    },
    {
     "ename": "ValueError",
     "evalue": "y should be a 1d array, got an array of shape (44553, 2) instead.",
     "output_type": "error",
     "traceback": [
      "\u001b[1;31m---------------------------------------------------------------------------\u001b[0m",
      "\u001b[1;31mValueError\u001b[0m                                Traceback (most recent call last)",
      "Input \u001b[1;32mIn [63]\u001b[0m, in \u001b[0;36m<cell line: 1>\u001b[1;34m()\u001b[0m\n\u001b[1;32m----> 1\u001b[0m \u001b[43mbest1\u001b[49m\u001b[38;5;241;43m.\u001b[39;49m\u001b[43mfit\u001b[49m\u001b[43m(\u001b[49m\u001b[43mx_train\u001b[49m\u001b[43m,\u001b[49m\u001b[43my_train\u001b[49m\u001b[43m)\u001b[49m\n",
      "File \u001b[1;32mC:\\ProgramData\\Anaconda3\\lib\\site-packages\\sklearn\\model_selection\\_search.py:926\u001b[0m, in \u001b[0;36mBaseSearchCV.fit\u001b[1;34m(self, X, y, groups, **fit_params)\u001b[0m\n\u001b[0;32m    924\u001b[0m refit_start_time \u001b[38;5;241m=\u001b[39m time\u001b[38;5;241m.\u001b[39mtime()\n\u001b[0;32m    925\u001b[0m \u001b[38;5;28;01mif\u001b[39;00m y \u001b[38;5;129;01mis\u001b[39;00m \u001b[38;5;129;01mnot\u001b[39;00m \u001b[38;5;28;01mNone\u001b[39;00m:\n\u001b[1;32m--> 926\u001b[0m     \u001b[38;5;28mself\u001b[39m\u001b[38;5;241m.\u001b[39mbest_estimator_\u001b[38;5;241m.\u001b[39mfit(X, y, \u001b[38;5;241m*\u001b[39m\u001b[38;5;241m*\u001b[39mfit_params)\n\u001b[0;32m    927\u001b[0m \u001b[38;5;28;01melse\u001b[39;00m:\n\u001b[0;32m    928\u001b[0m     \u001b[38;5;28mself\u001b[39m\u001b[38;5;241m.\u001b[39mbest_estimator_\u001b[38;5;241m.\u001b[39mfit(X, \u001b[38;5;241m*\u001b[39m\u001b[38;5;241m*\u001b[39mfit_params)\n",
      "File \u001b[1;32mC:\\ProgramData\\Anaconda3\\lib\\site-packages\\sklearn\\svm\\_base.py:190\u001b[0m, in \u001b[0;36mBaseLibSVM.fit\u001b[1;34m(self, X, y, sample_weight)\u001b[0m\n\u001b[0;32m    188\u001b[0m     check_consistent_length(X, y)\n\u001b[0;32m    189\u001b[0m \u001b[38;5;28;01melse\u001b[39;00m:\n\u001b[1;32m--> 190\u001b[0m     X, y \u001b[38;5;241m=\u001b[39m \u001b[38;5;28;43mself\u001b[39;49m\u001b[38;5;241;43m.\u001b[39;49m\u001b[43m_validate_data\u001b[49m\u001b[43m(\u001b[49m\n\u001b[0;32m    191\u001b[0m \u001b[43m        \u001b[49m\u001b[43mX\u001b[49m\u001b[43m,\u001b[49m\n\u001b[0;32m    192\u001b[0m \u001b[43m        \u001b[49m\u001b[43my\u001b[49m\u001b[43m,\u001b[49m\n\u001b[0;32m    193\u001b[0m \u001b[43m        \u001b[49m\u001b[43mdtype\u001b[49m\u001b[38;5;241;43m=\u001b[39;49m\u001b[43mnp\u001b[49m\u001b[38;5;241;43m.\u001b[39;49m\u001b[43mfloat64\u001b[49m\u001b[43m,\u001b[49m\n\u001b[0;32m    194\u001b[0m \u001b[43m        \u001b[49m\u001b[43morder\u001b[49m\u001b[38;5;241;43m=\u001b[39;49m\u001b[38;5;124;43m\"\u001b[39;49m\u001b[38;5;124;43mC\u001b[39;49m\u001b[38;5;124;43m\"\u001b[39;49m\u001b[43m,\u001b[49m\n\u001b[0;32m    195\u001b[0m \u001b[43m        \u001b[49m\u001b[43maccept_sparse\u001b[49m\u001b[38;5;241;43m=\u001b[39;49m\u001b[38;5;124;43m\"\u001b[39;49m\u001b[38;5;124;43mcsr\u001b[39;49m\u001b[38;5;124;43m\"\u001b[39;49m\u001b[43m,\u001b[49m\n\u001b[0;32m    196\u001b[0m \u001b[43m        \u001b[49m\u001b[43maccept_large_sparse\u001b[49m\u001b[38;5;241;43m=\u001b[39;49m\u001b[38;5;28;43;01mFalse\u001b[39;49;00m\u001b[43m,\u001b[49m\n\u001b[0;32m    197\u001b[0m \u001b[43m    \u001b[49m\u001b[43m)\u001b[49m\n\u001b[0;32m    199\u001b[0m y \u001b[38;5;241m=\u001b[39m \u001b[38;5;28mself\u001b[39m\u001b[38;5;241m.\u001b[39m_validate_targets(y)\n\u001b[0;32m    201\u001b[0m sample_weight \u001b[38;5;241m=\u001b[39m np\u001b[38;5;241m.\u001b[39masarray(\n\u001b[0;32m    202\u001b[0m     [] \u001b[38;5;28;01mif\u001b[39;00m sample_weight \u001b[38;5;129;01mis\u001b[39;00m \u001b[38;5;28;01mNone\u001b[39;00m \u001b[38;5;28;01melse\u001b[39;00m sample_weight, dtype\u001b[38;5;241m=\u001b[39mnp\u001b[38;5;241m.\u001b[39mfloat64\n\u001b[0;32m    203\u001b[0m )\n",
      "File \u001b[1;32mC:\\ProgramData\\Anaconda3\\lib\\site-packages\\sklearn\\base.py:581\u001b[0m, in \u001b[0;36mBaseEstimator._validate_data\u001b[1;34m(self, X, y, reset, validate_separately, **check_params)\u001b[0m\n\u001b[0;32m    579\u001b[0m         y \u001b[38;5;241m=\u001b[39m check_array(y, \u001b[38;5;241m*\u001b[39m\u001b[38;5;241m*\u001b[39mcheck_y_params)\n\u001b[0;32m    580\u001b[0m     \u001b[38;5;28;01melse\u001b[39;00m:\n\u001b[1;32m--> 581\u001b[0m         X, y \u001b[38;5;241m=\u001b[39m check_X_y(X, y, \u001b[38;5;241m*\u001b[39m\u001b[38;5;241m*\u001b[39mcheck_params)\n\u001b[0;32m    582\u001b[0m     out \u001b[38;5;241m=\u001b[39m X, y\n\u001b[0;32m    584\u001b[0m \u001b[38;5;28;01mif\u001b[39;00m \u001b[38;5;129;01mnot\u001b[39;00m no_val_X \u001b[38;5;129;01mand\u001b[39;00m check_params\u001b[38;5;241m.\u001b[39mget(\u001b[38;5;124m\"\u001b[39m\u001b[38;5;124mensure_2d\u001b[39m\u001b[38;5;124m\"\u001b[39m, \u001b[38;5;28;01mTrue\u001b[39;00m):\n",
      "File \u001b[1;32mC:\\ProgramData\\Anaconda3\\lib\\site-packages\\sklearn\\utils\\validation.py:979\u001b[0m, in \u001b[0;36mcheck_X_y\u001b[1;34m(X, y, accept_sparse, accept_large_sparse, dtype, order, copy, force_all_finite, ensure_2d, allow_nd, multi_output, ensure_min_samples, ensure_min_features, y_numeric, estimator)\u001b[0m\n\u001b[0;32m    962\u001b[0m     \u001b[38;5;28;01mraise\u001b[39;00m \u001b[38;5;167;01mValueError\u001b[39;00m(\u001b[38;5;124m\"\u001b[39m\u001b[38;5;124my cannot be None\u001b[39m\u001b[38;5;124m\"\u001b[39m)\n\u001b[0;32m    964\u001b[0m X \u001b[38;5;241m=\u001b[39m check_array(\n\u001b[0;32m    965\u001b[0m     X,\n\u001b[0;32m    966\u001b[0m     accept_sparse\u001b[38;5;241m=\u001b[39maccept_sparse,\n\u001b[1;32m   (...)\u001b[0m\n\u001b[0;32m    976\u001b[0m     estimator\u001b[38;5;241m=\u001b[39mestimator,\n\u001b[0;32m    977\u001b[0m )\n\u001b[1;32m--> 979\u001b[0m y \u001b[38;5;241m=\u001b[39m \u001b[43m_check_y\u001b[49m\u001b[43m(\u001b[49m\u001b[43my\u001b[49m\u001b[43m,\u001b[49m\u001b[43m \u001b[49m\u001b[43mmulti_output\u001b[49m\u001b[38;5;241;43m=\u001b[39;49m\u001b[43mmulti_output\u001b[49m\u001b[43m,\u001b[49m\u001b[43m \u001b[49m\u001b[43my_numeric\u001b[49m\u001b[38;5;241;43m=\u001b[39;49m\u001b[43my_numeric\u001b[49m\u001b[43m)\u001b[49m\n\u001b[0;32m    981\u001b[0m check_consistent_length(X, y)\n\u001b[0;32m    983\u001b[0m \u001b[38;5;28;01mreturn\u001b[39;00m X, y\n",
      "File \u001b[1;32mC:\\ProgramData\\Anaconda3\\lib\\site-packages\\sklearn\\utils\\validation.py:993\u001b[0m, in \u001b[0;36m_check_y\u001b[1;34m(y, multi_output, y_numeric)\u001b[0m\n\u001b[0;32m    989\u001b[0m     y \u001b[38;5;241m=\u001b[39m check_array(\n\u001b[0;32m    990\u001b[0m         y, accept_sparse\u001b[38;5;241m=\u001b[39m\u001b[38;5;124m\"\u001b[39m\u001b[38;5;124mcsr\u001b[39m\u001b[38;5;124m\"\u001b[39m, force_all_finite\u001b[38;5;241m=\u001b[39m\u001b[38;5;28;01mTrue\u001b[39;00m, ensure_2d\u001b[38;5;241m=\u001b[39m\u001b[38;5;28;01mFalse\u001b[39;00m, dtype\u001b[38;5;241m=\u001b[39m\u001b[38;5;28;01mNone\u001b[39;00m\n\u001b[0;32m    991\u001b[0m     )\n\u001b[0;32m    992\u001b[0m \u001b[38;5;28;01melse\u001b[39;00m:\n\u001b[1;32m--> 993\u001b[0m     y \u001b[38;5;241m=\u001b[39m \u001b[43mcolumn_or_1d\u001b[49m\u001b[43m(\u001b[49m\u001b[43my\u001b[49m\u001b[43m,\u001b[49m\u001b[43m \u001b[49m\u001b[43mwarn\u001b[49m\u001b[38;5;241;43m=\u001b[39;49m\u001b[38;5;28;43;01mTrue\u001b[39;49;00m\u001b[43m)\u001b[49m\n\u001b[0;32m    994\u001b[0m     _assert_all_finite(y)\n\u001b[0;32m    995\u001b[0m     _ensure_no_complex_data(y)\n",
      "File \u001b[1;32mC:\\ProgramData\\Anaconda3\\lib\\site-packages\\sklearn\\utils\\validation.py:1038\u001b[0m, in \u001b[0;36mcolumn_or_1d\u001b[1;34m(y, warn)\u001b[0m\n\u001b[0;32m   1029\u001b[0m         warnings\u001b[38;5;241m.\u001b[39mwarn(\n\u001b[0;32m   1030\u001b[0m             \u001b[38;5;124m\"\u001b[39m\u001b[38;5;124mA column-vector y was passed when a 1d array was\u001b[39m\u001b[38;5;124m\"\u001b[39m\n\u001b[0;32m   1031\u001b[0m             \u001b[38;5;124m\"\u001b[39m\u001b[38;5;124m expected. Please change the shape of y to \u001b[39m\u001b[38;5;124m\"\u001b[39m\n\u001b[1;32m   (...)\u001b[0m\n\u001b[0;32m   1034\u001b[0m             stacklevel\u001b[38;5;241m=\u001b[39m\u001b[38;5;241m2\u001b[39m,\n\u001b[0;32m   1035\u001b[0m         )\n\u001b[0;32m   1036\u001b[0m     \u001b[38;5;28;01mreturn\u001b[39;00m np\u001b[38;5;241m.\u001b[39mravel(y)\n\u001b[1;32m-> 1038\u001b[0m \u001b[38;5;28;01mraise\u001b[39;00m \u001b[38;5;167;01mValueError\u001b[39;00m(\n\u001b[0;32m   1039\u001b[0m     \u001b[38;5;124m\"\u001b[39m\u001b[38;5;124my should be a 1d array, got an array of shape \u001b[39m\u001b[38;5;132;01m{}\u001b[39;00m\u001b[38;5;124m instead.\u001b[39m\u001b[38;5;124m\"\u001b[39m\u001b[38;5;241m.\u001b[39mformat(shape)\n\u001b[0;32m   1040\u001b[0m )\n",
      "\u001b[1;31mValueError\u001b[0m: y should be a 1d array, got an array of shape (44553, 2) instead."
     ]
    }
   ],
   "source": [
    "best1.fit(x_train,y_train)"
   ]
  },
  {
   "cell_type": "code",
   "execution_count": null,
   "id": "588feced",
   "metadata": {},
   "outputs": [],
   "source": [
    "print('best params',best1.best_params_)\n",
    "print('best score',best1.best_score_)"
   ]
  },
  {
   "cell_type": "code",
   "execution_count": 10,
   "id": "92c5e769",
   "metadata": {
    "execution": {
     "iopub.execute_input": "2022-09-27T02:42:53.155640Z",
     "iopub.status.busy": "2022-09-27T02:42:53.155246Z",
     "iopub.status.idle": "2022-09-27T02:42:53.229763Z",
     "shell.execute_reply": "2022-09-27T02:42:53.228488Z",
     "shell.execute_reply.started": "2022-09-27T02:42:53.155611Z"
    }
   },
   "outputs": [],
   "source": [
    "from sklearn.metrics import accuracy_score,f1_score, confusion_matrix, precision_recall_curve\n",
    "from sklearn.metrics import roc_curve,precision_score, recall_score, roc_auc_score\n",
    "from sklearn.svm import SVC\n",
    "from sklearn.model_selection import GridSearchCV"
   ]
  },
  {
   "cell_type": "code",
   "execution_count": 11,
   "id": "a4ef1b19",
   "metadata": {},
   "outputs": [],
   "source": [
    "SVM=SVC()"
   ]
  },
  {
   "cell_type": "code",
   "execution_count": 58,
   "id": "90ff6f00",
   "metadata": {},
   "outputs": [
    {
     "data": {
      "text/plain": [
       "SVC()"
      ]
     },
     "execution_count": 58,
     "metadata": {},
     "output_type": "execute_result"
    }
   ],
   "source": [
    "SVM"
   ]
  },
  {
   "cell_type": "code",
   "execution_count": 12,
   "id": "d29ac8c7",
   "metadata": {},
   "outputs": [],
   "source": [
    "param_svm = { 'C' : [0.1,0.5,1,3,5,10,50,100],\n",
    "              'gamma': ['auto','scale'],\n",
    "            'kernel':['rbf']}"
   ]
  },
  {
   "cell_type": "code",
   "execution_count": 13,
   "id": "670e556b",
   "metadata": {
    "scrolled": true
   },
   "outputs": [
    {
     "data": {
      "text/plain": [
       "{'C': [0.1, 0.5, 1, 3, 5, 10, 50, 100],\n",
       " 'gamma': ['auto', 'scale'],\n",
       " 'kernel': ['rbf']}"
      ]
     },
     "execution_count": 13,
     "metadata": {},
     "output_type": "execute_result"
    }
   ],
   "source": [
    "param_svm"
   ]
  },
  {
   "cell_type": "code",
   "execution_count": 16,
   "id": "c407755e",
   "metadata": {},
   "outputs": [],
   "source": [
    "best=GridSearchCV(SVM,param_grid=param_svm,cv=3,scoring ='accuracy',n_jobs=-1,verbose=2)\n"
   ]
  },
  {
   "cell_type": "code",
   "execution_count": 17,
   "id": "56d1fbf5",
   "metadata": {},
   "outputs": [
    {
     "data": {
      "text/plain": [
       "GridSearchCV(cv=3, estimator=SVC(), n_jobs=-1,\n",
       "             param_grid={'C': [0.1, 0.5, 1, 3, 5, 10, 50, 100],\n",
       "                         'gamma': ['auto', 'scale'], 'kernel': ['rbf']},\n",
       "             scoring='accuracy', verbose=2)"
      ]
     },
     "execution_count": 17,
     "metadata": {},
     "output_type": "execute_result"
    }
   ],
   "source": [
    "best"
   ]
  },
  {
   "cell_type": "code",
   "execution_count": 18,
   "id": "c28a6ecc",
   "metadata": {},
   "outputs": [
    {
     "name": "stdout",
     "output_type": "stream",
     "text": [
      "Fitting 3 folds for each of 16 candidates, totalling 48 fits\n"
     ]
    },
    {
     "name": "stderr",
     "output_type": "stream",
     "text": [
      "C:\\ProgramData\\Anaconda3\\lib\\site-packages\\sklearn\\utils\\validation.py:993: DataConversionWarning: A column-vector y was passed when a 1d array was expected. Please change the shape of y to (n_samples, ), for example using ravel().\n",
      "  y = column_or_1d(y, warn=True)\n"
     ]
    },
    {
     "data": {
      "text/plain": [
       "GridSearchCV(cv=3, estimator=SVC(), n_jobs=-1,\n",
       "             param_grid={'C': [0.1, 0.5, 1, 3, 5, 10, 50, 100],\n",
       "                         'gamma': ['auto', 'scale'], 'kernel': ['rbf']},\n",
       "             scoring='accuracy', verbose=2)"
      ]
     },
     "execution_count": 18,
     "metadata": {},
     "output_type": "execute_result"
    }
   ],
   "source": [
    "best.fit(x_train_s,y_train_s)"
   ]
  },
  {
   "cell_type": "code",
   "execution_count": 19,
   "id": "89890cec",
   "metadata": {},
   "outputs": [
    {
     "name": "stdout",
     "output_type": "stream",
     "text": [
      "best params {'C': 3, 'gamma': 'auto', 'kernel': 'rbf'}\n",
      "best score 0.7567167194128341\n"
     ]
    }
   ],
   "source": [
    "print('best params',best.best_params_)\n",
    "print('best score',best.best_score_)\n"
   ]
  },
  {
   "cell_type": "code",
   "execution_count": 183,
   "id": "e740285c",
   "metadata": {
    "scrolled": true
   },
   "outputs": [],
   "source": [
    "result_s=pd.DataFrame(best.cv_results_)"
   ]
  },
  {
   "cell_type": "code",
   "execution_count": 234,
   "id": "3e929a98",
   "metadata": {},
   "outputs": [
    {
     "data": {
      "text/html": [
       "<div>\n",
       "<style scoped>\n",
       "    .dataframe tbody tr th:only-of-type {\n",
       "        vertical-align: middle;\n",
       "    }\n",
       "\n",
       "    .dataframe tbody tr th {\n",
       "        vertical-align: top;\n",
       "    }\n",
       "\n",
       "    .dataframe thead th {\n",
       "        text-align: right;\n",
       "    }\n",
       "</style>\n",
       "<table border=\"1\" class=\"dataframe\">\n",
       "  <thead>\n",
       "    <tr style=\"text-align: right;\">\n",
       "      <th></th>\n",
       "      <th>mean_fit_time</th>\n",
       "      <th>std_fit_time</th>\n",
       "      <th>mean_score_time</th>\n",
       "      <th>std_score_time</th>\n",
       "      <th>param_C</th>\n",
       "      <th>param_gamma</th>\n",
       "      <th>param_kernel</th>\n",
       "      <th>params</th>\n",
       "      <th>split0_test_score</th>\n",
       "      <th>split1_test_score</th>\n",
       "      <th>split2_test_score</th>\n",
       "      <th>mean_test_score</th>\n",
       "      <th>std_test_score</th>\n",
       "      <th>rank_test_score</th>\n",
       "    </tr>\n",
       "  </thead>\n",
       "  <tbody>\n",
       "    <tr>\n",
       "      <th>0</th>\n",
       "      <td>227.156228</td>\n",
       "      <td>2.493226</td>\n",
       "      <td>102.119170</td>\n",
       "      <td>0.995450</td>\n",
       "      <td>0.1</td>\n",
       "      <td>auto</td>\n",
       "      <td>rbf</td>\n",
       "      <td>{'C': 0.1, 'gamma': 'auto', 'kernel': 'rbf'}</td>\n",
       "      <td>0.755639</td>\n",
       "      <td>0.746616</td>\n",
       "      <td>0.749377</td>\n",
       "      <td>0.750544</td>\n",
       "      <td>0.003775</td>\n",
       "      <td>10</td>\n",
       "    </tr>\n",
       "    <tr>\n",
       "      <th>1</th>\n",
       "      <td>227.498852</td>\n",
       "      <td>1.836345</td>\n",
       "      <td>102.670635</td>\n",
       "      <td>0.599577</td>\n",
       "      <td>0.1</td>\n",
       "      <td>scale</td>\n",
       "      <td>rbf</td>\n",
       "      <td>{'C': 0.1, 'gamma': 'scale', 'kernel': 'rbf'}</td>\n",
       "      <td>0.754629</td>\n",
       "      <td>0.746751</td>\n",
       "      <td>0.749579</td>\n",
       "      <td>0.750320</td>\n",
       "      <td>0.003259</td>\n",
       "      <td>11</td>\n",
       "    </tr>\n",
       "    <tr>\n",
       "      <th>2</th>\n",
       "      <td>192.528273</td>\n",
       "      <td>37.098657</td>\n",
       "      <td>93.008009</td>\n",
       "      <td>2.635678</td>\n",
       "      <td>0.5</td>\n",
       "      <td>auto</td>\n",
       "      <td>rbf</td>\n",
       "      <td>{'C': 0.5, 'gamma': 'auto', 'kernel': 'rbf'}</td>\n",
       "      <td>0.758063</td>\n",
       "      <td>0.755841</td>\n",
       "      <td>0.753148</td>\n",
       "      <td>0.755684</td>\n",
       "      <td>0.002010</td>\n",
       "      <td>6</td>\n",
       "    </tr>\n",
       "    <tr>\n",
       "      <th>3</th>\n",
       "      <td>143.065544</td>\n",
       "      <td>0.118263</td>\n",
       "      <td>95.192011</td>\n",
       "      <td>0.558753</td>\n",
       "      <td>0.5</td>\n",
       "      <td>scale</td>\n",
       "      <td>rbf</td>\n",
       "      <td>{'C': 0.5, 'gamma': 'scale', 'kernel': 'rbf'}</td>\n",
       "      <td>0.757929</td>\n",
       "      <td>0.755909</td>\n",
       "      <td>0.753417</td>\n",
       "      <td>0.755752</td>\n",
       "      <td>0.001845</td>\n",
       "      <td>5</td>\n",
       "    </tr>\n",
       "    <tr>\n",
       "      <th>4</th>\n",
       "      <td>146.207080</td>\n",
       "      <td>0.393518</td>\n",
       "      <td>94.911103</td>\n",
       "      <td>0.743841</td>\n",
       "      <td>1</td>\n",
       "      <td>auto</td>\n",
       "      <td>rbf</td>\n",
       "      <td>{'C': 1, 'gamma': 'auto', 'kernel': 'rbf'}</td>\n",
       "      <td>0.758602</td>\n",
       "      <td>0.757188</td>\n",
       "      <td>0.753821</td>\n",
       "      <td>0.756537</td>\n",
       "      <td>0.002005</td>\n",
       "      <td>2</td>\n",
       "    </tr>\n",
       "    <tr>\n",
       "      <th>5</th>\n",
       "      <td>142.095685</td>\n",
       "      <td>2.593638</td>\n",
       "      <td>87.359202</td>\n",
       "      <td>6.480388</td>\n",
       "      <td>1</td>\n",
       "      <td>scale</td>\n",
       "      <td>rbf</td>\n",
       "      <td>{'C': 1, 'gamma': 'scale', 'kernel': 'rbf'}</td>\n",
       "      <td>0.758939</td>\n",
       "      <td>0.756447</td>\n",
       "      <td>0.753283</td>\n",
       "      <td>0.756223</td>\n",
       "      <td>0.002315</td>\n",
       "      <td>4</td>\n",
       "    </tr>\n",
       "    <tr>\n",
       "      <th>6</th>\n",
       "      <td>177.092474</td>\n",
       "      <td>0.912569</td>\n",
       "      <td>90.676989</td>\n",
       "      <td>0.296500</td>\n",
       "      <td>3</td>\n",
       "      <td>auto</td>\n",
       "      <td>rbf</td>\n",
       "      <td>{'C': 3, 'gamma': 'auto', 'kernel': 'rbf'}</td>\n",
       "      <td>0.760016</td>\n",
       "      <td>0.757255</td>\n",
       "      <td>0.752879</td>\n",
       "      <td>0.756717</td>\n",
       "      <td>0.002939</td>\n",
       "      <td>1</td>\n",
       "    </tr>\n",
       "    <tr>\n",
       "      <th>7</th>\n",
       "      <td>191.372249</td>\n",
       "      <td>7.364057</td>\n",
       "      <td>91.457445</td>\n",
       "      <td>0.446122</td>\n",
       "      <td>3</td>\n",
       "      <td>scale</td>\n",
       "      <td>rbf</td>\n",
       "      <td>{'C': 3, 'gamma': 'scale', 'kernel': 'rbf'}</td>\n",
       "      <td>0.758871</td>\n",
       "      <td>0.756380</td>\n",
       "      <td>0.753619</td>\n",
       "      <td>0.756290</td>\n",
       "      <td>0.002145</td>\n",
       "      <td>3</td>\n",
       "    </tr>\n",
       "    <tr>\n",
       "      <th>8</th>\n",
       "      <td>222.372770</td>\n",
       "      <td>12.766803</td>\n",
       "      <td>83.361159</td>\n",
       "      <td>4.423889</td>\n",
       "      <td>5</td>\n",
       "      <td>auto</td>\n",
       "      <td>rbf</td>\n",
       "      <td>{'C': 5, 'gamma': 'auto', 'kernel': 'rbf'}</td>\n",
       "      <td>0.757727</td>\n",
       "      <td>0.755033</td>\n",
       "      <td>0.752205</td>\n",
       "      <td>0.754988</td>\n",
       "      <td>0.002254</td>\n",
       "      <td>7</td>\n",
       "    </tr>\n",
       "    <tr>\n",
       "      <th>9</th>\n",
       "      <td>236.524540</td>\n",
       "      <td>13.436209</td>\n",
       "      <td>91.934154</td>\n",
       "      <td>1.371980</td>\n",
       "      <td>5</td>\n",
       "      <td>scale</td>\n",
       "      <td>rbf</td>\n",
       "      <td>{'C': 5, 'gamma': 'scale', 'kernel': 'rbf'}</td>\n",
       "      <td>0.758333</td>\n",
       "      <td>0.754023</td>\n",
       "      <td>0.751263</td>\n",
       "      <td>0.754540</td>\n",
       "      <td>0.002909</td>\n",
       "      <td>8</td>\n",
       "    </tr>\n",
       "    <tr>\n",
       "      <th>10</th>\n",
       "      <td>315.941202</td>\n",
       "      <td>14.713192</td>\n",
       "      <td>83.670169</td>\n",
       "      <td>0.623359</td>\n",
       "      <td>10</td>\n",
       "      <td>auto</td>\n",
       "      <td>rbf</td>\n",
       "      <td>{'C': 10, 'gamma': 'auto', 'kernel': 'rbf'}</td>\n",
       "      <td>0.754427</td>\n",
       "      <td>0.752071</td>\n",
       "      <td>0.750724</td>\n",
       "      <td>0.752407</td>\n",
       "      <td>0.001531</td>\n",
       "      <td>9</td>\n",
       "    </tr>\n",
       "    <tr>\n",
       "      <th>11</th>\n",
       "      <td>331.409257</td>\n",
       "      <td>2.530131</td>\n",
       "      <td>89.217733</td>\n",
       "      <td>2.593848</td>\n",
       "      <td>10</td>\n",
       "      <td>scale</td>\n",
       "      <td>rbf</td>\n",
       "      <td>{'C': 10, 'gamma': 'scale', 'kernel': 'rbf'}</td>\n",
       "      <td>0.751734</td>\n",
       "      <td>0.749108</td>\n",
       "      <td>0.749242</td>\n",
       "      <td>0.750028</td>\n",
       "      <td>0.001207</td>\n",
       "      <td>12</td>\n",
       "    </tr>\n",
       "    <tr>\n",
       "      <th>12</th>\n",
       "      <td>873.090681</td>\n",
       "      <td>10.818943</td>\n",
       "      <td>84.278217</td>\n",
       "      <td>1.411940</td>\n",
       "      <td>50</td>\n",
       "      <td>auto</td>\n",
       "      <td>rbf</td>\n",
       "      <td>{'C': 50, 'gamma': 'auto', 'kernel': 'rbf'}</td>\n",
       "      <td>0.740826</td>\n",
       "      <td>0.735910</td>\n",
       "      <td>0.738940</td>\n",
       "      <td>0.738559</td>\n",
       "      <td>0.002025</td>\n",
       "      <td>13</td>\n",
       "    </tr>\n",
       "    <tr>\n",
       "      <th>13</th>\n",
       "      <td>955.129904</td>\n",
       "      <td>47.128226</td>\n",
       "      <td>88.344858</td>\n",
       "      <td>5.248184</td>\n",
       "      <td>50</td>\n",
       "      <td>scale</td>\n",
       "      <td>rbf</td>\n",
       "      <td>{'C': 50, 'gamma': 'scale', 'kernel': 'rbf'}</td>\n",
       "      <td>0.736449</td>\n",
       "      <td>0.735035</td>\n",
       "      <td>0.737795</td>\n",
       "      <td>0.736426</td>\n",
       "      <td>0.001127</td>\n",
       "      <td>14</td>\n",
       "    </tr>\n",
       "    <tr>\n",
       "      <th>14</th>\n",
       "      <td>1400.640983</td>\n",
       "      <td>93.952724</td>\n",
       "      <td>59.389492</td>\n",
       "      <td>9.374905</td>\n",
       "      <td>100</td>\n",
       "      <td>auto</td>\n",
       "      <td>rbf</td>\n",
       "      <td>{'C': 100, 'gamma': 'auto', 'kernel': 'rbf'}</td>\n",
       "      <td>0.734765</td>\n",
       "      <td>0.731129</td>\n",
       "      <td>0.733149</td>\n",
       "      <td>0.733015</td>\n",
       "      <td>0.001487</td>\n",
       "      <td>15</td>\n",
       "    </tr>\n",
       "    <tr>\n",
       "      <th>15</th>\n",
       "      <td>1276.614840</td>\n",
       "      <td>48.709028</td>\n",
       "      <td>38.270819</td>\n",
       "      <td>1.379887</td>\n",
       "      <td>100</td>\n",
       "      <td>scale</td>\n",
       "      <td>rbf</td>\n",
       "      <td>{'C': 100, 'gamma': 'scale', 'kernel': 'rbf'}</td>\n",
       "      <td>0.727628</td>\n",
       "      <td>0.729715</td>\n",
       "      <td>0.729109</td>\n",
       "      <td>0.728817</td>\n",
       "      <td>0.000877</td>\n",
       "      <td>16</td>\n",
       "    </tr>\n",
       "  </tbody>\n",
       "</table>\n",
       "</div>"
      ],
      "text/plain": [
       "    mean_fit_time  std_fit_time  mean_score_time  std_score_time param_C  \\\n",
       "0      227.156228      2.493226       102.119170        0.995450     0.1   \n",
       "1      227.498852      1.836345       102.670635        0.599577     0.1   \n",
       "2      192.528273     37.098657        93.008009        2.635678     0.5   \n",
       "3      143.065544      0.118263        95.192011        0.558753     0.5   \n",
       "4      146.207080      0.393518        94.911103        0.743841       1   \n",
       "5      142.095685      2.593638        87.359202        6.480388       1   \n",
       "6      177.092474      0.912569        90.676989        0.296500       3   \n",
       "7      191.372249      7.364057        91.457445        0.446122       3   \n",
       "8      222.372770     12.766803        83.361159        4.423889       5   \n",
       "9      236.524540     13.436209        91.934154        1.371980       5   \n",
       "10     315.941202     14.713192        83.670169        0.623359      10   \n",
       "11     331.409257      2.530131        89.217733        2.593848      10   \n",
       "12     873.090681     10.818943        84.278217        1.411940      50   \n",
       "13     955.129904     47.128226        88.344858        5.248184      50   \n",
       "14    1400.640983     93.952724        59.389492        9.374905     100   \n",
       "15    1276.614840     48.709028        38.270819        1.379887     100   \n",
       "\n",
       "   param_gamma param_kernel                                         params  \\\n",
       "0         auto          rbf   {'C': 0.1, 'gamma': 'auto', 'kernel': 'rbf'}   \n",
       "1        scale          rbf  {'C': 0.1, 'gamma': 'scale', 'kernel': 'rbf'}   \n",
       "2         auto          rbf   {'C': 0.5, 'gamma': 'auto', 'kernel': 'rbf'}   \n",
       "3        scale          rbf  {'C': 0.5, 'gamma': 'scale', 'kernel': 'rbf'}   \n",
       "4         auto          rbf     {'C': 1, 'gamma': 'auto', 'kernel': 'rbf'}   \n",
       "5        scale          rbf    {'C': 1, 'gamma': 'scale', 'kernel': 'rbf'}   \n",
       "6         auto          rbf     {'C': 3, 'gamma': 'auto', 'kernel': 'rbf'}   \n",
       "7        scale          rbf    {'C': 3, 'gamma': 'scale', 'kernel': 'rbf'}   \n",
       "8         auto          rbf     {'C': 5, 'gamma': 'auto', 'kernel': 'rbf'}   \n",
       "9        scale          rbf    {'C': 5, 'gamma': 'scale', 'kernel': 'rbf'}   \n",
       "10        auto          rbf    {'C': 10, 'gamma': 'auto', 'kernel': 'rbf'}   \n",
       "11       scale          rbf   {'C': 10, 'gamma': 'scale', 'kernel': 'rbf'}   \n",
       "12        auto          rbf    {'C': 50, 'gamma': 'auto', 'kernel': 'rbf'}   \n",
       "13       scale          rbf   {'C': 50, 'gamma': 'scale', 'kernel': 'rbf'}   \n",
       "14        auto          rbf   {'C': 100, 'gamma': 'auto', 'kernel': 'rbf'}   \n",
       "15       scale          rbf  {'C': 100, 'gamma': 'scale', 'kernel': 'rbf'}   \n",
       "\n",
       "    split0_test_score  split1_test_score  split2_test_score  mean_test_score  \\\n",
       "0            0.755639           0.746616           0.749377         0.750544   \n",
       "1            0.754629           0.746751           0.749579         0.750320   \n",
       "2            0.758063           0.755841           0.753148         0.755684   \n",
       "3            0.757929           0.755909           0.753417         0.755752   \n",
       "4            0.758602           0.757188           0.753821         0.756537   \n",
       "5            0.758939           0.756447           0.753283         0.756223   \n",
       "6            0.760016           0.757255           0.752879         0.756717   \n",
       "7            0.758871           0.756380           0.753619         0.756290   \n",
       "8            0.757727           0.755033           0.752205         0.754988   \n",
       "9            0.758333           0.754023           0.751263         0.754540   \n",
       "10           0.754427           0.752071           0.750724         0.752407   \n",
       "11           0.751734           0.749108           0.749242         0.750028   \n",
       "12           0.740826           0.735910           0.738940         0.738559   \n",
       "13           0.736449           0.735035           0.737795         0.736426   \n",
       "14           0.734765           0.731129           0.733149         0.733015   \n",
       "15           0.727628           0.729715           0.729109         0.728817   \n",
       "\n",
       "    std_test_score  rank_test_score  \n",
       "0         0.003775               10  \n",
       "1         0.003259               11  \n",
       "2         0.002010                6  \n",
       "3         0.001845                5  \n",
       "4         0.002005                2  \n",
       "5         0.002315                4  \n",
       "6         0.002939                1  \n",
       "7         0.002145                3  \n",
       "8         0.002254                7  \n",
       "9         0.002909                8  \n",
       "10        0.001531                9  \n",
       "11        0.001207               12  \n",
       "12        0.002025               13  \n",
       "13        0.001127               14  \n",
       "14        0.001487               15  \n",
       "15        0.000877               16  "
      ]
     },
     "execution_count": 234,
     "metadata": {},
     "output_type": "execute_result"
    }
   ],
   "source": [
    "result_s"
   ]
  },
  {
   "cell_type": "code",
   "execution_count": 192,
   "id": "46d9369f",
   "metadata": {},
   "outputs": [
    {
     "data": {
      "text/plain": [
       "{'C': 3, 'gamma': 'auto', 'kernel': 'rbf'}"
      ]
     },
     "execution_count": 192,
     "metadata": {},
     "output_type": "execute_result"
    }
   ],
   "source": [
    "result_s.iloc[result_s['rank_test_score'].idxmin(),:]['params']"
   ]
  },
  {
   "cell_type": "markdown",
   "id": "57b1d310",
   "metadata": {},
   "source": [
    "## linear 커널"
   ]
  },
  {
   "cell_type": "code",
   "execution_count": 50,
   "id": "61ecb091",
   "metadata": {},
   "outputs": [],
   "source": [
    "SVM_linear=SVC(kernel='linear')"
   ]
  },
  {
   "cell_type": "code",
   "execution_count": 51,
   "id": "3f0ce357",
   "metadata": {},
   "outputs": [],
   "source": [
    "param_C = { 'C' : [0.1,0.5,1,3,5,10,50,100]}"
   ]
  },
  {
   "cell_type": "code",
   "execution_count": 52,
   "id": "4c2363b6",
   "metadata": {},
   "outputs": [],
   "source": [
    "best_linear=GridSearchCV(SVM_linear,param_grid=param_C,cv=3,scoring ='accuracy',n_jobs=-1,verbose=2)"
   ]
  },
  {
   "cell_type": "code",
   "execution_count": 53,
   "id": "dc9433f4",
   "metadata": {},
   "outputs": [
    {
     "name": "stdout",
     "output_type": "stream",
     "text": [
      "Fitting 3 folds for each of 8 candidates, totalling 24 fits\n"
     ]
    },
    {
     "name": "stderr",
     "output_type": "stream",
     "text": [
      "C:\\ProgramData\\Anaconda3\\lib\\site-packages\\sklearn\\utils\\validation.py:993: DataConversionWarning: A column-vector y was passed when a 1d array was expected. Please change the shape of y to (n_samples, ), for example using ravel().\n",
      "  y = column_or_1d(y, warn=True)\n"
     ]
    },
    {
     "data": {
      "text/plain": [
       "GridSearchCV(cv=3, estimator=SVC(kernel='linear'), n_jobs=-1,\n",
       "             param_grid={'C': [0.1, 0.5, 1, 3, 5, 10, 50, 100]},\n",
       "             scoring='accuracy', verbose=2)"
      ]
     },
     "execution_count": 53,
     "metadata": {},
     "output_type": "execute_result"
    }
   ],
   "source": [
    "best_linear.fit(x_train_s,y_train_s)"
   ]
  },
  {
   "cell_type": "code",
   "execution_count": 54,
   "id": "6cd124db",
   "metadata": {},
   "outputs": [
    {
     "name": "stdout",
     "output_type": "stream",
     "text": [
      "best params {'C': 0.1}\n",
      "best score 0.7427333737346532\n"
     ]
    }
   ],
   "source": [
    "print('best params',best_linear.best_params_)\n",
    "print('best score',best_linear.best_score_)\n"
   ]
  },
  {
   "cell_type": "markdown",
   "id": "680c30f6",
   "metadata": {},
   "source": [
    "## min-max scaling"
   ]
  },
  {
   "cell_type": "code",
   "execution_count": 25,
   "id": "87900872",
   "metadata": {},
   "outputs": [
    {
     "name": "stderr",
     "output_type": "stream",
     "text": [
      "C:\\Users\\JungHun.DESKTOP-JRGUSS9\\AppData\\Local\\Temp\\ipykernel_13756\\2673988547.py:24: SettingWithCopyWarning: \n",
      "A value is trying to be set on a copy of a slice from a DataFrame\n",
      "\n",
      "See the caveats in the documentation: https://pandas.pydata.org/pandas-docs/stable/user_guide/indexing.html#returning-a-view-versus-a-copy\n",
      "  x[i] = 0\n",
      "C:\\Users\\JungHun.DESKTOP-JRGUSS9\\AppData\\Local\\Temp\\ipykernel_13756\\2673988547.py:28: SettingWithCopyWarning: \n",
      "A value is trying to be set on a copy of a slice from a DataFrame\n",
      "\n",
      "See the caveats in the documentation: https://pandas.pydata.org/pandas-docs/stable/user_guide/indexing.html#returning-a-view-versus-a-copy\n",
      "  x[i] = 2\n",
      "C:\\Users\\JungHun.DESKTOP-JRGUSS9\\AppData\\Local\\Temp\\ipykernel_13756\\2673988547.py:26: SettingWithCopyWarning: \n",
      "A value is trying to be set on a copy of a slice from a DataFrame\n",
      "\n",
      "See the caveats in the documentation: https://pandas.pydata.org/pandas-docs/stable/user_guide/indexing.html#returning-a-view-versus-a-copy\n",
      "  x[i] = 1\n",
      "C:\\Users\\JungHun.DESKTOP-JRGUSS9\\AppData\\Local\\Temp\\ipykernel_13756\\2673988547.py:24: SettingWithCopyWarning: \n",
      "A value is trying to be set on a copy of a slice from a DataFrame\n",
      "\n",
      "See the caveats in the documentation: https://pandas.pydata.org/pandas-docs/stable/user_guide/indexing.html#returning-a-view-versus-a-copy\n",
      "  x[i] = 0\n",
      "C:\\Users\\JungHun.DESKTOP-JRGUSS9\\AppData\\Local\\Temp\\ipykernel_13756\\2673988547.py:28: SettingWithCopyWarning: \n",
      "A value is trying to be set on a copy of a slice from a DataFrame\n",
      "\n",
      "See the caveats in the documentation: https://pandas.pydata.org/pandas-docs/stable/user_guide/indexing.html#returning-a-view-versus-a-copy\n",
      "  x[i] = 2\n",
      "C:\\Users\\JungHun.DESKTOP-JRGUSS9\\AppData\\Local\\Temp\\ipykernel_13756\\2673988547.py:26: SettingWithCopyWarning: \n",
      "A value is trying to be set on a copy of a slice from a DataFrame\n",
      "\n",
      "See the caveats in the documentation: https://pandas.pydata.org/pandas-docs/stable/user_guide/indexing.html#returning-a-view-versus-a-copy\n",
      "  x[i] = 1\n"
     ]
    }
   ],
   "source": [
    "scaled_m = scaling(x_train, x_test)"
   ]
  },
  {
   "cell_type": "code",
   "execution_count": 26,
   "id": "1effea4c",
   "metadata": {},
   "outputs": [],
   "source": [
    "x_train_m = pd.DataFrame(scaled_m[0])\n",
    "x_test_m = pd.DataFrame(scaled_m[1])\n",
    "y_train_m = preprocessing(y_train)\n",
    "y_test_m = preprocessing(y_test)"
   ]
  },
  {
   "cell_type": "code",
   "execution_count": 27,
   "id": "e3866712",
   "metadata": {},
   "outputs": [
    {
     "data": {
      "text/html": [
       "<div>\n",
       "<style scoped>\n",
       "    .dataframe tbody tr th:only-of-type {\n",
       "        vertical-align: middle;\n",
       "    }\n",
       "\n",
       "    .dataframe tbody tr th {\n",
       "        vertical-align: top;\n",
       "    }\n",
       "\n",
       "    .dataframe thead th {\n",
       "        text-align: right;\n",
       "    }\n",
       "</style>\n",
       "<table border=\"1\" class=\"dataframe\">\n",
       "  <thead>\n",
       "    <tr style=\"text-align: right;\">\n",
       "      <th></th>\n",
       "      <th>age</th>\n",
       "      <th>height(cm)</th>\n",
       "      <th>weight(kg)</th>\n",
       "      <th>waist(cm)</th>\n",
       "      <th>eyesight(left)</th>\n",
       "      <th>eyesight(right)</th>\n",
       "      <th>systolic</th>\n",
       "      <th>relaxation</th>\n",
       "      <th>fasting blood sugar</th>\n",
       "      <th>Cholesterol</th>\n",
       "      <th>...</th>\n",
       "      <th>Urine protein</th>\n",
       "      <th>serum creatinine</th>\n",
       "      <th>AST</th>\n",
       "      <th>ALT</th>\n",
       "      <th>Gtp</th>\n",
       "      <th>gender</th>\n",
       "      <th>tartar</th>\n",
       "      <th>hearing(right)</th>\n",
       "      <th>hearing(left)</th>\n",
       "      <th>dental caries</th>\n",
       "    </tr>\n",
       "  </thead>\n",
       "  <tbody>\n",
       "    <tr>\n",
       "      <th>0</th>\n",
       "      <td>0.307692</td>\n",
       "      <td>0.416667</td>\n",
       "      <td>0.285714</td>\n",
       "      <td>0.388462</td>\n",
       "      <td>0.333333</td>\n",
       "      <td>0.333333</td>\n",
       "      <td>0.254438</td>\n",
       "      <td>0.311321</td>\n",
       "      <td>0.104575</td>\n",
       "      <td>0.410256</td>\n",
       "      <td>...</td>\n",
       "      <td>0.0</td>\n",
       "      <td>0.052174</td>\n",
       "      <td>0.009195</td>\n",
       "      <td>0.006179</td>\n",
       "      <td>0.026052</td>\n",
       "      <td>0</td>\n",
       "      <td>1</td>\n",
       "      <td>1.0</td>\n",
       "      <td>1.0</td>\n",
       "      <td>0.0</td>\n",
       "    </tr>\n",
       "    <tr>\n",
       "      <th>1</th>\n",
       "      <td>0.307692</td>\n",
       "      <td>0.500000</td>\n",
       "      <td>0.285714</td>\n",
       "      <td>0.384615</td>\n",
       "      <td>0.000000</td>\n",
       "      <td>0.000000</td>\n",
       "      <td>0.284024</td>\n",
       "      <td>0.283019</td>\n",
       "      <td>0.183007</td>\n",
       "      <td>0.351282</td>\n",
       "      <td>...</td>\n",
       "      <td>0.0</td>\n",
       "      <td>0.043478</td>\n",
       "      <td>0.012261</td>\n",
       "      <td>0.006179</td>\n",
       "      <td>0.017034</td>\n",
       "      <td>0</td>\n",
       "      <td>1</td>\n",
       "      <td>1.0</td>\n",
       "      <td>1.0</td>\n",
       "      <td>0.0</td>\n",
       "    </tr>\n",
       "    <tr>\n",
       "      <th>2</th>\n",
       "      <td>0.538462</td>\n",
       "      <td>0.666667</td>\n",
       "      <td>0.285714</td>\n",
       "      <td>0.371795</td>\n",
       "      <td>0.000000</td>\n",
       "      <td>0.000000</td>\n",
       "      <td>0.396450</td>\n",
       "      <td>0.433962</td>\n",
       "      <td>0.093682</td>\n",
       "      <td>0.479487</td>\n",
       "      <td>...</td>\n",
       "      <td>0.0</td>\n",
       "      <td>0.078261</td>\n",
       "      <td>0.011494</td>\n",
       "      <td>0.005149</td>\n",
       "      <td>0.021042</td>\n",
       "      <td>1</td>\n",
       "      <td>0</td>\n",
       "      <td>1.0</td>\n",
       "      <td>1.0</td>\n",
       "      <td>0.0</td>\n",
       "    </tr>\n",
       "    <tr>\n",
       "      <th>3</th>\n",
       "      <td>0.307692</td>\n",
       "      <td>0.583333</td>\n",
       "      <td>0.380952</td>\n",
       "      <td>0.474359</td>\n",
       "      <td>0.333333</td>\n",
       "      <td>0.333333</td>\n",
       "      <td>0.171598</td>\n",
       "      <td>0.188679</td>\n",
       "      <td>0.108932</td>\n",
       "      <td>0.684615</td>\n",
       "      <td>...</td>\n",
       "      <td>0.0</td>\n",
       "      <td>0.078261</td>\n",
       "      <td>0.009962</td>\n",
       "      <td>0.008582</td>\n",
       "      <td>0.017034</td>\n",
       "      <td>1</td>\n",
       "      <td>1</td>\n",
       "      <td>1.0</td>\n",
       "      <td>1.0</td>\n",
       "      <td>0.0</td>\n",
       "    </tr>\n",
       "    <tr>\n",
       "      <th>4</th>\n",
       "      <td>0.307692</td>\n",
       "      <td>0.416667</td>\n",
       "      <td>0.285714</td>\n",
       "      <td>0.448718</td>\n",
       "      <td>0.333333</td>\n",
       "      <td>0.333333</td>\n",
       "      <td>0.289941</td>\n",
       "      <td>0.320755</td>\n",
       "      <td>0.074074</td>\n",
       "      <td>0.330769</td>\n",
       "      <td>...</td>\n",
       "      <td>0.0</td>\n",
       "      <td>0.043478</td>\n",
       "      <td>0.007663</td>\n",
       "      <td>0.004463</td>\n",
       "      <td>0.021042</td>\n",
       "      <td>0</td>\n",
       "      <td>0</td>\n",
       "      <td>1.0</td>\n",
       "      <td>1.0</td>\n",
       "      <td>0.0</td>\n",
       "    </tr>\n",
       "  </tbody>\n",
       "</table>\n",
       "<p>5 rows × 24 columns</p>\n",
       "</div>"
      ],
      "text/plain": [
       "        age  height(cm)  weight(kg)  waist(cm)  eyesight(left)  \\\n",
       "0  0.307692    0.416667    0.285714   0.388462        0.333333   \n",
       "1  0.307692    0.500000    0.285714   0.384615        0.000000   \n",
       "2  0.538462    0.666667    0.285714   0.371795        0.000000   \n",
       "3  0.307692    0.583333    0.380952   0.474359        0.333333   \n",
       "4  0.307692    0.416667    0.285714   0.448718        0.333333   \n",
       "\n",
       "   eyesight(right)  systolic  relaxation  fasting blood sugar  Cholesterol  \\\n",
       "0         0.333333  0.254438    0.311321             0.104575     0.410256   \n",
       "1         0.000000  0.284024    0.283019             0.183007     0.351282   \n",
       "2         0.000000  0.396450    0.433962             0.093682     0.479487   \n",
       "3         0.333333  0.171598    0.188679             0.108932     0.684615   \n",
       "4         0.333333  0.289941    0.320755             0.074074     0.330769   \n",
       "\n",
       "   ...  Urine protein  serum creatinine       AST       ALT       Gtp  gender  \\\n",
       "0  ...            0.0          0.052174  0.009195  0.006179  0.026052       0   \n",
       "1  ...            0.0          0.043478  0.012261  0.006179  0.017034       0   \n",
       "2  ...            0.0          0.078261  0.011494  0.005149  0.021042       1   \n",
       "3  ...            0.0          0.078261  0.009962  0.008582  0.017034       1   \n",
       "4  ...            0.0          0.043478  0.007663  0.004463  0.021042       0   \n",
       "\n",
       "   tartar  hearing(right)  hearing(left)  dental caries  \n",
       "0       1             1.0            1.0            0.0  \n",
       "1       1             1.0            1.0            0.0  \n",
       "2       0             1.0            1.0            0.0  \n",
       "3       1             1.0            1.0            0.0  \n",
       "4       0             1.0            1.0            0.0  \n",
       "\n",
       "[5 rows x 24 columns]"
      ]
     },
     "execution_count": 27,
     "metadata": {},
     "output_type": "execute_result"
    }
   ],
   "source": [
    "x_train_m.head()"
   ]
  },
  {
   "cell_type": "code",
   "execution_count": 28,
   "id": "25056c73",
   "metadata": {
    "scrolled": true
   },
   "outputs": [
    {
     "data": {
      "text/html": [
       "<div>\n",
       "<style scoped>\n",
       "    .dataframe tbody tr th:only-of-type {\n",
       "        vertical-align: middle;\n",
       "    }\n",
       "\n",
       "    .dataframe tbody tr th {\n",
       "        vertical-align: top;\n",
       "    }\n",
       "\n",
       "    .dataframe thead th {\n",
       "        text-align: right;\n",
       "    }\n",
       "</style>\n",
       "<table border=\"1\" class=\"dataframe\">\n",
       "  <thead>\n",
       "    <tr style=\"text-align: right;\">\n",
       "      <th></th>\n",
       "      <th>age</th>\n",
       "      <th>height(cm)</th>\n",
       "      <th>weight(kg)</th>\n",
       "      <th>waist(cm)</th>\n",
       "      <th>eyesight(left)</th>\n",
       "      <th>eyesight(right)</th>\n",
       "      <th>systolic</th>\n",
       "      <th>relaxation</th>\n",
       "      <th>fasting blood sugar</th>\n",
       "      <th>Cholesterol</th>\n",
       "      <th>...</th>\n",
       "      <th>Urine protein</th>\n",
       "      <th>serum creatinine</th>\n",
       "      <th>AST</th>\n",
       "      <th>ALT</th>\n",
       "      <th>Gtp</th>\n",
       "      <th>gender</th>\n",
       "      <th>tartar</th>\n",
       "      <th>hearing(right)</th>\n",
       "      <th>hearing(left)</th>\n",
       "      <th>dental caries</th>\n",
       "    </tr>\n",
       "  </thead>\n",
       "  <tbody>\n",
       "    <tr>\n",
       "      <th>0</th>\n",
       "      <td>0.923077</td>\n",
       "      <td>0.500000</td>\n",
       "      <td>0.333333</td>\n",
       "      <td>0.512821</td>\n",
       "      <td>0.000000</td>\n",
       "      <td>0.000000</td>\n",
       "      <td>0.289941</td>\n",
       "      <td>0.377358</td>\n",
       "      <td>0.143791</td>\n",
       "      <td>0.292308</td>\n",
       "      <td>...</td>\n",
       "      <td>0.0</td>\n",
       "      <td>0.078261</td>\n",
       "      <td>0.017625</td>\n",
       "      <td>0.006179</td>\n",
       "      <td>0.038076</td>\n",
       "      <td>1</td>\n",
       "      <td>0</td>\n",
       "      <td>1.0</td>\n",
       "      <td>1.0</td>\n",
       "      <td>0.0</td>\n",
       "    </tr>\n",
       "    <tr>\n",
       "      <th>1</th>\n",
       "      <td>0.153846</td>\n",
       "      <td>0.583333</td>\n",
       "      <td>0.571429</td>\n",
       "      <td>0.602564</td>\n",
       "      <td>0.333333</td>\n",
       "      <td>0.333333</td>\n",
       "      <td>0.384615</td>\n",
       "      <td>0.405660</td>\n",
       "      <td>0.108932</td>\n",
       "      <td>0.482051</td>\n",
       "      <td>...</td>\n",
       "      <td>0.0</td>\n",
       "      <td>0.069565</td>\n",
       "      <td>0.010728</td>\n",
       "      <td>0.012358</td>\n",
       "      <td>0.033066</td>\n",
       "      <td>1</td>\n",
       "      <td>0</td>\n",
       "      <td>1.0</td>\n",
       "      <td>1.0</td>\n",
       "      <td>0.0</td>\n",
       "    </tr>\n",
       "    <tr>\n",
       "      <th>2</th>\n",
       "      <td>0.307692</td>\n",
       "      <td>0.666667</td>\n",
       "      <td>0.428571</td>\n",
       "      <td>0.384615</td>\n",
       "      <td>0.333333</td>\n",
       "      <td>0.333333</td>\n",
       "      <td>0.396450</td>\n",
       "      <td>0.433962</td>\n",
       "      <td>0.100218</td>\n",
       "      <td>0.276923</td>\n",
       "      <td>...</td>\n",
       "      <td>0.0</td>\n",
       "      <td>0.052174</td>\n",
       "      <td>0.014559</td>\n",
       "      <td>0.010642</td>\n",
       "      <td>0.072144</td>\n",
       "      <td>1</td>\n",
       "      <td>0</td>\n",
       "      <td>1.0</td>\n",
       "      <td>1.0</td>\n",
       "      <td>0.0</td>\n",
       "    </tr>\n",
       "    <tr>\n",
       "      <th>3</th>\n",
       "      <td>0.230769</td>\n",
       "      <td>0.750000</td>\n",
       "      <td>0.380952</td>\n",
       "      <td>0.371795</td>\n",
       "      <td>0.333333</td>\n",
       "      <td>0.333333</td>\n",
       "      <td>0.526627</td>\n",
       "      <td>0.566038</td>\n",
       "      <td>0.117647</td>\n",
       "      <td>0.494872</td>\n",
       "      <td>...</td>\n",
       "      <td>0.0</td>\n",
       "      <td>0.052174</td>\n",
       "      <td>0.018391</td>\n",
       "      <td>0.018538</td>\n",
       "      <td>0.049098</td>\n",
       "      <td>1</td>\n",
       "      <td>0</td>\n",
       "      <td>1.0</td>\n",
       "      <td>1.0</td>\n",
       "      <td>0.0</td>\n",
       "    </tr>\n",
       "    <tr>\n",
       "      <th>4</th>\n",
       "      <td>0.230769</td>\n",
       "      <td>0.500000</td>\n",
       "      <td>0.428571</td>\n",
       "      <td>0.538462</td>\n",
       "      <td>0.333333</td>\n",
       "      <td>0.333333</td>\n",
       "      <td>0.319527</td>\n",
       "      <td>0.377358</td>\n",
       "      <td>0.154684</td>\n",
       "      <td>0.405128</td>\n",
       "      <td>...</td>\n",
       "      <td>0.0</td>\n",
       "      <td>0.086957</td>\n",
       "      <td>0.022222</td>\n",
       "      <td>0.019567</td>\n",
       "      <td>0.055110</td>\n",
       "      <td>1</td>\n",
       "      <td>0</td>\n",
       "      <td>1.0</td>\n",
       "      <td>1.0</td>\n",
       "      <td>0.0</td>\n",
       "    </tr>\n",
       "  </tbody>\n",
       "</table>\n",
       "<p>5 rows × 24 columns</p>\n",
       "</div>"
      ],
      "text/plain": [
       "        age  height(cm)  weight(kg)  waist(cm)  eyesight(left)  \\\n",
       "0  0.923077    0.500000    0.333333   0.512821        0.000000   \n",
       "1  0.153846    0.583333    0.571429   0.602564        0.333333   \n",
       "2  0.307692    0.666667    0.428571   0.384615        0.333333   \n",
       "3  0.230769    0.750000    0.380952   0.371795        0.333333   \n",
       "4  0.230769    0.500000    0.428571   0.538462        0.333333   \n",
       "\n",
       "   eyesight(right)  systolic  relaxation  fasting blood sugar  Cholesterol  \\\n",
       "0         0.000000  0.289941    0.377358             0.143791     0.292308   \n",
       "1         0.333333  0.384615    0.405660             0.108932     0.482051   \n",
       "2         0.333333  0.396450    0.433962             0.100218     0.276923   \n",
       "3         0.333333  0.526627    0.566038             0.117647     0.494872   \n",
       "4         0.333333  0.319527    0.377358             0.154684     0.405128   \n",
       "\n",
       "   ...  Urine protein  serum creatinine       AST       ALT       Gtp  gender  \\\n",
       "0  ...            0.0          0.078261  0.017625  0.006179  0.038076       1   \n",
       "1  ...            0.0          0.069565  0.010728  0.012358  0.033066       1   \n",
       "2  ...            0.0          0.052174  0.014559  0.010642  0.072144       1   \n",
       "3  ...            0.0          0.052174  0.018391  0.018538  0.049098       1   \n",
       "4  ...            0.0          0.086957  0.022222  0.019567  0.055110       1   \n",
       "\n",
       "   tartar  hearing(right)  hearing(left)  dental caries  \n",
       "0       0             1.0            1.0            0.0  \n",
       "1       0             1.0            1.0            0.0  \n",
       "2       0             1.0            1.0            0.0  \n",
       "3       0             1.0            1.0            0.0  \n",
       "4       0             1.0            1.0            0.0  \n",
       "\n",
       "[5 rows x 24 columns]"
      ]
     },
     "execution_count": 28,
     "metadata": {},
     "output_type": "execute_result"
    }
   ],
   "source": [
    "x_test_m.head()"
   ]
  },
  {
   "cell_type": "code",
   "execution_count": 38,
   "id": "065a4ac0",
   "metadata": {},
   "outputs": [],
   "source": [
    "best_m=GridSearchCV(SVM,param_grid=param_svm,cv=3,scoring ='accuracy',n_jobs=-1,verbose=2)\n"
   ]
  },
  {
   "cell_type": "code",
   "execution_count": 39,
   "id": "cf820d89",
   "metadata": {},
   "outputs": [
    {
     "data": {
      "text/plain": [
       "GridSearchCV(cv=3, estimator=SVC(), n_jobs=-1,\n",
       "             param_grid={'C': [0.1, 0.5, 1, 3, 5, 10, 50, 100],\n",
       "                         'gamma': ['auto', 'scale'], 'kernel': ['rbf']},\n",
       "             scoring='accuracy', verbose=2)"
      ]
     },
     "execution_count": 39,
     "metadata": {},
     "output_type": "execute_result"
    }
   ],
   "source": [
    "best_m"
   ]
  },
  {
   "cell_type": "code",
   "execution_count": 40,
   "id": "671083de",
   "metadata": {},
   "outputs": [
    {
     "name": "stdout",
     "output_type": "stream",
     "text": [
      "Fitting 3 folds for each of 16 candidates, totalling 48 fits\n"
     ]
    },
    {
     "name": "stderr",
     "output_type": "stream",
     "text": [
      "C:\\ProgramData\\Anaconda3\\lib\\site-packages\\sklearn\\utils\\validation.py:993: DataConversionWarning: A column-vector y was passed when a 1d array was expected. Please change the shape of y to (n_samples, ), for example using ravel().\n",
      "  y = column_or_1d(y, warn=True)\n"
     ]
    },
    {
     "data": {
      "text/plain": [
       "GridSearchCV(cv=3, estimator=SVC(), n_jobs=-1,\n",
       "             param_grid={'C': [0.1, 0.5, 1, 3, 5, 10, 50, 100],\n",
       "                         'gamma': ['auto', 'scale'], 'kernel': ['rbf']},\n",
       "             scoring='accuracy', verbose=2)"
      ]
     },
     "execution_count": 40,
     "metadata": {},
     "output_type": "execute_result"
    }
   ],
   "source": [
    "best_m.fit(x_train_m,y_train_m)"
   ]
  },
  {
   "cell_type": "code",
   "execution_count": 41,
   "id": "d242f486",
   "metadata": {},
   "outputs": [
    {
     "name": "stdout",
     "output_type": "stream",
     "text": [
      "best params {'C': 50, 'gamma': 'scale', 'kernel': 'rbf'}\n",
      "best score 0.75029739860391\n"
     ]
    }
   ],
   "source": [
    "print('best params',best_m.best_params_)\n",
    "print('best score',best_m.best_score_)\n"
   ]
  },
  {
   "cell_type": "code",
   "execution_count": 193,
   "id": "c7627e91",
   "metadata": {},
   "outputs": [],
   "source": [
    "result_m=pd.DataFrame(best_m.cv_results_)"
   ]
  },
  {
   "cell_type": "code",
   "execution_count": 197,
   "id": "13881fe1",
   "metadata": {},
   "outputs": [
    {
     "data": {
      "text/plain": [
       "{'C': 50, 'gamma': 'scale', 'kernel': 'rbf'}"
      ]
     },
     "execution_count": 197,
     "metadata": {},
     "output_type": "execute_result"
    }
   ],
   "source": [
    "result_m.iloc[result_m['rank_test_score'].idxmin(),:]['params']"
   ]
  },
  {
   "cell_type": "markdown",
   "id": "5bf443f1",
   "metadata": {},
   "source": [
    "## robust scaling"
   ]
  },
  {
   "cell_type": "code",
   "execution_count": 29,
   "id": "eaba7a45",
   "metadata": {},
   "outputs": [
    {
     "name": "stderr",
     "output_type": "stream",
     "text": [
      "C:\\Users\\JungHun.DESKTOP-JRGUSS9\\AppData\\Local\\Temp\\ipykernel_13756\\2673988547.py:24: SettingWithCopyWarning: \n",
      "A value is trying to be set on a copy of a slice from a DataFrame\n",
      "\n",
      "See the caveats in the documentation: https://pandas.pydata.org/pandas-docs/stable/user_guide/indexing.html#returning-a-view-versus-a-copy\n",
      "  x[i] = 0\n",
      "C:\\Users\\JungHun.DESKTOP-JRGUSS9\\AppData\\Local\\Temp\\ipykernel_13756\\2673988547.py:28: SettingWithCopyWarning: \n",
      "A value is trying to be set on a copy of a slice from a DataFrame\n",
      "\n",
      "See the caveats in the documentation: https://pandas.pydata.org/pandas-docs/stable/user_guide/indexing.html#returning-a-view-versus-a-copy\n",
      "  x[i] = 2\n",
      "C:\\Users\\JungHun.DESKTOP-JRGUSS9\\AppData\\Local\\Temp\\ipykernel_13756\\2673988547.py:26: SettingWithCopyWarning: \n",
      "A value is trying to be set on a copy of a slice from a DataFrame\n",
      "\n",
      "See the caveats in the documentation: https://pandas.pydata.org/pandas-docs/stable/user_guide/indexing.html#returning-a-view-versus-a-copy\n",
      "  x[i] = 1\n",
      "C:\\Users\\JungHun.DESKTOP-JRGUSS9\\AppData\\Local\\Temp\\ipykernel_13756\\2673988547.py:24: SettingWithCopyWarning: \n",
      "A value is trying to be set on a copy of a slice from a DataFrame\n",
      "\n",
      "See the caveats in the documentation: https://pandas.pydata.org/pandas-docs/stable/user_guide/indexing.html#returning-a-view-versus-a-copy\n",
      "  x[i] = 0\n",
      "C:\\Users\\JungHun.DESKTOP-JRGUSS9\\AppData\\Local\\Temp\\ipykernel_13756\\2673988547.py:28: SettingWithCopyWarning: \n",
      "A value is trying to be set on a copy of a slice from a DataFrame\n",
      "\n",
      "See the caveats in the documentation: https://pandas.pydata.org/pandas-docs/stable/user_guide/indexing.html#returning-a-view-versus-a-copy\n",
      "  x[i] = 2\n",
      "C:\\Users\\JungHun.DESKTOP-JRGUSS9\\AppData\\Local\\Temp\\ipykernel_13756\\2673988547.py:26: SettingWithCopyWarning: \n",
      "A value is trying to be set on a copy of a slice from a DataFrame\n",
      "\n",
      "See the caveats in the documentation: https://pandas.pydata.org/pandas-docs/stable/user_guide/indexing.html#returning-a-view-versus-a-copy\n",
      "  x[i] = 1\n"
     ]
    }
   ],
   "source": [
    "scaled_r = scaling(x_train, x_test,scaled_form='RobustScaler()')"
   ]
  },
  {
   "cell_type": "code",
   "execution_count": 30,
   "id": "4df15709",
   "metadata": {},
   "outputs": [],
   "source": [
    "x_train_r = pd.DataFrame(scaled_r[0])\n",
    "x_test_r = pd.DataFrame(scaled_r[1])\n",
    "y_train_r = preprocessing(y_train)\n",
    "y_test_r = preprocessing(y_test)"
   ]
  },
  {
   "cell_type": "code",
   "execution_count": 32,
   "id": "5a71539a",
   "metadata": {},
   "outputs": [
    {
     "data": {
      "text/html": [
       "<div>\n",
       "<style scoped>\n",
       "    .dataframe tbody tr th:only-of-type {\n",
       "        vertical-align: middle;\n",
       "    }\n",
       "\n",
       "    .dataframe tbody tr th {\n",
       "        vertical-align: top;\n",
       "    }\n",
       "\n",
       "    .dataframe thead th {\n",
       "        text-align: right;\n",
       "    }\n",
       "</style>\n",
       "<table border=\"1\" class=\"dataframe\">\n",
       "  <thead>\n",
       "    <tr style=\"text-align: right;\">\n",
       "      <th></th>\n",
       "      <th>age</th>\n",
       "      <th>height(cm)</th>\n",
       "      <th>weight(kg)</th>\n",
       "      <th>waist(cm)</th>\n",
       "      <th>eyesight(left)</th>\n",
       "      <th>eyesight(right)</th>\n",
       "      <th>systolic</th>\n",
       "      <th>relaxation</th>\n",
       "      <th>fasting blood sugar</th>\n",
       "      <th>Cholesterol</th>\n",
       "      <th>...</th>\n",
       "      <th>Urine protein</th>\n",
       "      <th>serum creatinine</th>\n",
       "      <th>AST</th>\n",
       "      <th>ALT</th>\n",
       "      <th>Gtp</th>\n",
       "      <th>gender</th>\n",
       "      <th>tartar</th>\n",
       "      <th>hearing(right)</th>\n",
       "      <th>hearing(left)</th>\n",
       "      <th>dental caries</th>\n",
       "    </tr>\n",
       "  </thead>\n",
       "  <tbody>\n",
       "    <tr>\n",
       "      <th>0</th>\n",
       "      <td>0.0</td>\n",
       "      <td>-1.0</td>\n",
       "      <td>-0.25</td>\n",
       "      <td>-0.058333</td>\n",
       "      <td>0.0</td>\n",
       "      <td>0.0</td>\n",
       "      <td>-0.333333</td>\n",
       "      <td>-0.250000</td>\n",
       "      <td>-0.133333</td>\n",
       "      <td>0.416667</td>\n",
       "      <td>...</td>\n",
       "      <td>0.0</td>\n",
       "      <td>-1.0</td>\n",
       "      <td>-0.5</td>\n",
       "      <td>-0.1250</td>\n",
       "      <td>0.037037</td>\n",
       "      <td>0</td>\n",
       "      <td>1</td>\n",
       "      <td>1.0</td>\n",
       "      <td>1.0</td>\n",
       "      <td>0.0</td>\n",
       "    </tr>\n",
       "    <tr>\n",
       "      <th>1</th>\n",
       "      <td>0.0</td>\n",
       "      <td>-0.5</td>\n",
       "      <td>-0.25</td>\n",
       "      <td>-0.083333</td>\n",
       "      <td>-1.0</td>\n",
       "      <td>-1.0</td>\n",
       "      <td>-0.055556</td>\n",
       "      <td>-0.500000</td>\n",
       "      <td>2.266667</td>\n",
       "      <td>-0.062500</td>\n",
       "      <td>...</td>\n",
       "      <td>0.0</td>\n",
       "      <td>-1.5</td>\n",
       "      <td>-0.1</td>\n",
       "      <td>-0.1250</td>\n",
       "      <td>-0.296296</td>\n",
       "      <td>0</td>\n",
       "      <td>1</td>\n",
       "      <td>1.0</td>\n",
       "      <td>1.0</td>\n",
       "      <td>0.0</td>\n",
       "    </tr>\n",
       "    <tr>\n",
       "      <th>2</th>\n",
       "      <td>1.0</td>\n",
       "      <td>0.5</td>\n",
       "      <td>-0.25</td>\n",
       "      <td>-0.166667</td>\n",
       "      <td>-1.0</td>\n",
       "      <td>-1.0</td>\n",
       "      <td>1.000000</td>\n",
       "      <td>0.833333</td>\n",
       "      <td>-0.466667</td>\n",
       "      <td>0.979167</td>\n",
       "      <td>...</td>\n",
       "      <td>0.0</td>\n",
       "      <td>0.5</td>\n",
       "      <td>-0.2</td>\n",
       "      <td>-0.3125</td>\n",
       "      <td>-0.148148</td>\n",
       "      <td>1</td>\n",
       "      <td>0</td>\n",
       "      <td>1.0</td>\n",
       "      <td>1.0</td>\n",
       "      <td>0.0</td>\n",
       "    </tr>\n",
       "    <tr>\n",
       "      <th>3</th>\n",
       "      <td>0.0</td>\n",
       "      <td>0.0</td>\n",
       "      <td>0.25</td>\n",
       "      <td>0.500000</td>\n",
       "      <td>0.0</td>\n",
       "      <td>0.0</td>\n",
       "      <td>-1.111111</td>\n",
       "      <td>-1.333333</td>\n",
       "      <td>0.000000</td>\n",
       "      <td>2.645833</td>\n",
       "      <td>...</td>\n",
       "      <td>0.0</td>\n",
       "      <td>0.5</td>\n",
       "      <td>-0.4</td>\n",
       "      <td>0.3125</td>\n",
       "      <td>-0.296296</td>\n",
       "      <td>1</td>\n",
       "      <td>1</td>\n",
       "      <td>1.0</td>\n",
       "      <td>1.0</td>\n",
       "      <td>0.0</td>\n",
       "    </tr>\n",
       "    <tr>\n",
       "      <th>4</th>\n",
       "      <td>0.0</td>\n",
       "      <td>-1.0</td>\n",
       "      <td>-0.25</td>\n",
       "      <td>0.333333</td>\n",
       "      <td>0.0</td>\n",
       "      <td>0.0</td>\n",
       "      <td>0.000000</td>\n",
       "      <td>-0.166667</td>\n",
       "      <td>-1.066667</td>\n",
       "      <td>-0.229167</td>\n",
       "      <td>...</td>\n",
       "      <td>0.0</td>\n",
       "      <td>-1.5</td>\n",
       "      <td>-0.7</td>\n",
       "      <td>-0.4375</td>\n",
       "      <td>-0.148148</td>\n",
       "      <td>0</td>\n",
       "      <td>0</td>\n",
       "      <td>1.0</td>\n",
       "      <td>1.0</td>\n",
       "      <td>0.0</td>\n",
       "    </tr>\n",
       "  </tbody>\n",
       "</table>\n",
       "<p>5 rows × 24 columns</p>\n",
       "</div>"
      ],
      "text/plain": [
       "   age  height(cm)  weight(kg)  waist(cm)  eyesight(left)  eyesight(right)  \\\n",
       "0  0.0        -1.0       -0.25  -0.058333             0.0              0.0   \n",
       "1  0.0        -0.5       -0.25  -0.083333            -1.0             -1.0   \n",
       "2  1.0         0.5       -0.25  -0.166667            -1.0             -1.0   \n",
       "3  0.0         0.0        0.25   0.500000             0.0              0.0   \n",
       "4  0.0        -1.0       -0.25   0.333333             0.0              0.0   \n",
       "\n",
       "   systolic  relaxation  fasting blood sugar  Cholesterol  ...  Urine protein  \\\n",
       "0 -0.333333   -0.250000            -0.133333     0.416667  ...            0.0   \n",
       "1 -0.055556   -0.500000             2.266667    -0.062500  ...            0.0   \n",
       "2  1.000000    0.833333            -0.466667     0.979167  ...            0.0   \n",
       "3 -1.111111   -1.333333             0.000000     2.645833  ...            0.0   \n",
       "4  0.000000   -0.166667            -1.066667    -0.229167  ...            0.0   \n",
       "\n",
       "   serum creatinine  AST     ALT       Gtp  gender  tartar  hearing(right)  \\\n",
       "0              -1.0 -0.5 -0.1250  0.037037       0       1             1.0   \n",
       "1              -1.5 -0.1 -0.1250 -0.296296       0       1             1.0   \n",
       "2               0.5 -0.2 -0.3125 -0.148148       1       0             1.0   \n",
       "3               0.5 -0.4  0.3125 -0.296296       1       1             1.0   \n",
       "4              -1.5 -0.7 -0.4375 -0.148148       0       0             1.0   \n",
       "\n",
       "   hearing(left)  dental caries  \n",
       "0            1.0            0.0  \n",
       "1            1.0            0.0  \n",
       "2            1.0            0.0  \n",
       "3            1.0            0.0  \n",
       "4            1.0            0.0  \n",
       "\n",
       "[5 rows x 24 columns]"
      ]
     },
     "execution_count": 32,
     "metadata": {},
     "output_type": "execute_result"
    }
   ],
   "source": [
    "x_train_r.head()"
   ]
  },
  {
   "cell_type": "code",
   "execution_count": 31,
   "id": "d9a5f697",
   "metadata": {
    "scrolled": true
   },
   "outputs": [
    {
     "data": {
      "text/html": [
       "<div>\n",
       "<style scoped>\n",
       "    .dataframe tbody tr th:only-of-type {\n",
       "        vertical-align: middle;\n",
       "    }\n",
       "\n",
       "    .dataframe tbody tr th {\n",
       "        vertical-align: top;\n",
       "    }\n",
       "\n",
       "    .dataframe thead th {\n",
       "        text-align: right;\n",
       "    }\n",
       "</style>\n",
       "<table border=\"1\" class=\"dataframe\">\n",
       "  <thead>\n",
       "    <tr style=\"text-align: right;\">\n",
       "      <th></th>\n",
       "      <th>age</th>\n",
       "      <th>height(cm)</th>\n",
       "      <th>weight(kg)</th>\n",
       "      <th>waist(cm)</th>\n",
       "      <th>eyesight(left)</th>\n",
       "      <th>eyesight(right)</th>\n",
       "      <th>systolic</th>\n",
       "      <th>relaxation</th>\n",
       "      <th>fasting blood sugar</th>\n",
       "      <th>Cholesterol</th>\n",
       "      <th>...</th>\n",
       "      <th>Urine protein</th>\n",
       "      <th>serum creatinine</th>\n",
       "      <th>AST</th>\n",
       "      <th>ALT</th>\n",
       "      <th>Gtp</th>\n",
       "      <th>gender</th>\n",
       "      <th>tartar</th>\n",
       "      <th>hearing(right)</th>\n",
       "      <th>hearing(left)</th>\n",
       "      <th>dental caries</th>\n",
       "    </tr>\n",
       "  </thead>\n",
       "  <tbody>\n",
       "    <tr>\n",
       "      <th>0</th>\n",
       "      <td>2.666667</td>\n",
       "      <td>-0.5</td>\n",
       "      <td>0.00</td>\n",
       "      <td>0.750000</td>\n",
       "      <td>-1.0</td>\n",
       "      <td>-1.0</td>\n",
       "      <td>0.000000</td>\n",
       "      <td>0.333333</td>\n",
       "      <td>1.066667</td>\n",
       "      <td>-0.541667</td>\n",
       "      <td>...</td>\n",
       "      <td>0.0</td>\n",
       "      <td>0.5</td>\n",
       "      <td>0.6</td>\n",
       "      <td>-0.1250</td>\n",
       "      <td>0.481481</td>\n",
       "      <td>1</td>\n",
       "      <td>0</td>\n",
       "      <td>1.0</td>\n",
       "      <td>1.0</td>\n",
       "      <td>0.0</td>\n",
       "    </tr>\n",
       "    <tr>\n",
       "      <th>1</th>\n",
       "      <td>-0.666667</td>\n",
       "      <td>0.0</td>\n",
       "      <td>1.25</td>\n",
       "      <td>1.333333</td>\n",
       "      <td>0.0</td>\n",
       "      <td>0.0</td>\n",
       "      <td>0.888889</td>\n",
       "      <td>0.583333</td>\n",
       "      <td>0.000000</td>\n",
       "      <td>1.000000</td>\n",
       "      <td>...</td>\n",
       "      <td>0.0</td>\n",
       "      <td>0.0</td>\n",
       "      <td>-0.3</td>\n",
       "      <td>1.0000</td>\n",
       "      <td>0.296296</td>\n",
       "      <td>1</td>\n",
       "      <td>0</td>\n",
       "      <td>1.0</td>\n",
       "      <td>1.0</td>\n",
       "      <td>0.0</td>\n",
       "    </tr>\n",
       "    <tr>\n",
       "      <th>2</th>\n",
       "      <td>0.000000</td>\n",
       "      <td>0.5</td>\n",
       "      <td>0.50</td>\n",
       "      <td>-0.083333</td>\n",
       "      <td>0.0</td>\n",
       "      <td>0.0</td>\n",
       "      <td>1.000000</td>\n",
       "      <td>0.833333</td>\n",
       "      <td>-0.266667</td>\n",
       "      <td>-0.666667</td>\n",
       "      <td>...</td>\n",
       "      <td>0.0</td>\n",
       "      <td>-1.0</td>\n",
       "      <td>0.2</td>\n",
       "      <td>0.6875</td>\n",
       "      <td>1.740741</td>\n",
       "      <td>1</td>\n",
       "      <td>0</td>\n",
       "      <td>1.0</td>\n",
       "      <td>1.0</td>\n",
       "      <td>0.0</td>\n",
       "    </tr>\n",
       "    <tr>\n",
       "      <th>3</th>\n",
       "      <td>-0.333333</td>\n",
       "      <td>1.0</td>\n",
       "      <td>0.25</td>\n",
       "      <td>-0.166667</td>\n",
       "      <td>0.0</td>\n",
       "      <td>0.0</td>\n",
       "      <td>2.222222</td>\n",
       "      <td>2.000000</td>\n",
       "      <td>0.266667</td>\n",
       "      <td>1.104167</td>\n",
       "      <td>...</td>\n",
       "      <td>0.0</td>\n",
       "      <td>-1.0</td>\n",
       "      <td>0.7</td>\n",
       "      <td>2.1250</td>\n",
       "      <td>0.888889</td>\n",
       "      <td>1</td>\n",
       "      <td>0</td>\n",
       "      <td>1.0</td>\n",
       "      <td>1.0</td>\n",
       "      <td>0.0</td>\n",
       "    </tr>\n",
       "    <tr>\n",
       "      <th>4</th>\n",
       "      <td>-0.333333</td>\n",
       "      <td>-0.5</td>\n",
       "      <td>0.50</td>\n",
       "      <td>0.916667</td>\n",
       "      <td>0.0</td>\n",
       "      <td>0.0</td>\n",
       "      <td>0.277778</td>\n",
       "      <td>0.333333</td>\n",
       "      <td>1.400000</td>\n",
       "      <td>0.375000</td>\n",
       "      <td>...</td>\n",
       "      <td>0.0</td>\n",
       "      <td>1.0</td>\n",
       "      <td>1.2</td>\n",
       "      <td>2.3125</td>\n",
       "      <td>1.111111</td>\n",
       "      <td>1</td>\n",
       "      <td>0</td>\n",
       "      <td>1.0</td>\n",
       "      <td>1.0</td>\n",
       "      <td>0.0</td>\n",
       "    </tr>\n",
       "  </tbody>\n",
       "</table>\n",
       "<p>5 rows × 24 columns</p>\n",
       "</div>"
      ],
      "text/plain": [
       "        age  height(cm)  weight(kg)  waist(cm)  eyesight(left)  \\\n",
       "0  2.666667        -0.5        0.00   0.750000            -1.0   \n",
       "1 -0.666667         0.0        1.25   1.333333             0.0   \n",
       "2  0.000000         0.5        0.50  -0.083333             0.0   \n",
       "3 -0.333333         1.0        0.25  -0.166667             0.0   \n",
       "4 -0.333333        -0.5        0.50   0.916667             0.0   \n",
       "\n",
       "   eyesight(right)  systolic  relaxation  fasting blood sugar  Cholesterol  \\\n",
       "0             -1.0  0.000000    0.333333             1.066667    -0.541667   \n",
       "1              0.0  0.888889    0.583333             0.000000     1.000000   \n",
       "2              0.0  1.000000    0.833333            -0.266667    -0.666667   \n",
       "3              0.0  2.222222    2.000000             0.266667     1.104167   \n",
       "4              0.0  0.277778    0.333333             1.400000     0.375000   \n",
       "\n",
       "   ...  Urine protein  serum creatinine  AST     ALT       Gtp  gender  \\\n",
       "0  ...            0.0               0.5  0.6 -0.1250  0.481481       1   \n",
       "1  ...            0.0               0.0 -0.3  1.0000  0.296296       1   \n",
       "2  ...            0.0              -1.0  0.2  0.6875  1.740741       1   \n",
       "3  ...            0.0              -1.0  0.7  2.1250  0.888889       1   \n",
       "4  ...            0.0               1.0  1.2  2.3125  1.111111       1   \n",
       "\n",
       "   tartar  hearing(right)  hearing(left)  dental caries  \n",
       "0       0             1.0            1.0            0.0  \n",
       "1       0             1.0            1.0            0.0  \n",
       "2       0             1.0            1.0            0.0  \n",
       "3       0             1.0            1.0            0.0  \n",
       "4       0             1.0            1.0            0.0  \n",
       "\n",
       "[5 rows x 24 columns]"
      ]
     },
     "execution_count": 31,
     "metadata": {},
     "output_type": "execute_result"
    }
   ],
   "source": [
    "x_test_r.head()"
   ]
  },
  {
   "cell_type": "code",
   "execution_count": 42,
   "id": "1276487b",
   "metadata": {},
   "outputs": [],
   "source": [
    "best_r=GridSearchCV(SVM,param_grid=param_svm,cv=3,scoring ='accuracy',n_jobs=-1,verbose=2)\n"
   ]
  },
  {
   "cell_type": "code",
   "execution_count": 43,
   "id": "b3dd5771",
   "metadata": {},
   "outputs": [
    {
     "data": {
      "text/plain": [
       "GridSearchCV(cv=3, estimator=SVC(), n_jobs=-1,\n",
       "             param_grid={'C': [0.1, 0.5, 1, 3, 5, 10, 50, 100],\n",
       "                         'gamma': ['auto', 'scale'], 'kernel': ['rbf']},\n",
       "             scoring='accuracy', verbose=2)"
      ]
     },
     "execution_count": 43,
     "metadata": {},
     "output_type": "execute_result"
    }
   ],
   "source": [
    "best_r"
   ]
  },
  {
   "cell_type": "code",
   "execution_count": 196,
   "id": "53594d9f",
   "metadata": {},
   "outputs": [
    {
     "data": {
      "text/plain": [
       "6"
      ]
     },
     "execution_count": 196,
     "metadata": {},
     "output_type": "execute_result"
    }
   ],
   "source": [
    "result_s['rank_test_score'].idxmin()"
   ]
  },
  {
   "cell_type": "code",
   "execution_count": 44,
   "id": "264cdbee",
   "metadata": {},
   "outputs": [
    {
     "name": "stdout",
     "output_type": "stream",
     "text": [
      "Fitting 3 folds for each of 16 candidates, totalling 48 fits\n"
     ]
    },
    {
     "name": "stderr",
     "output_type": "stream",
     "text": [
      "C:\\ProgramData\\Anaconda3\\lib\\site-packages\\sklearn\\utils\\validation.py:993: DataConversionWarning: A column-vector y was passed when a 1d array was expected. Please change the shape of y to (n_samples, ), for example using ravel().\n",
      "  y = column_or_1d(y, warn=True)\n"
     ]
    },
    {
     "data": {
      "text/plain": [
       "GridSearchCV(cv=3, estimator=SVC(), n_jobs=-1,\n",
       "             param_grid={'C': [0.1, 0.5, 1, 3, 5, 10, 50, 100],\n",
       "                         'gamma': ['auto', 'scale'], 'kernel': ['rbf']},\n",
       "             scoring='accuracy', verbose=2)"
      ]
     },
     "execution_count": 44,
     "metadata": {},
     "output_type": "execute_result"
    }
   ],
   "source": [
    "best_r.fit(x_train_r,y_train_r)"
   ]
  },
  {
   "cell_type": "code",
   "execution_count": 45,
   "id": "52e2a709",
   "metadata": {},
   "outputs": [
    {
     "name": "stdout",
     "output_type": "stream",
     "text": [
      "best params {'C': 50, 'gamma': 'auto', 'kernel': 'rbf'}\n",
      "best score 0.7569187260117163\n"
     ]
    }
   ],
   "source": [
    "print('best params',best_r.best_params_)\n",
    "print('best score',best_r.best_score_)\n"
   ]
  },
  {
   "cell_type": "code",
   "execution_count": 66,
   "id": "b5b0884d",
   "metadata": {},
   "outputs": [
    {
     "data": {
      "text/html": [
       "<div>\n",
       "<style scoped>\n",
       "    .dataframe tbody tr th:only-of-type {\n",
       "        vertical-align: middle;\n",
       "    }\n",
       "\n",
       "    .dataframe tbody tr th {\n",
       "        vertical-align: top;\n",
       "    }\n",
       "\n",
       "    .dataframe thead th {\n",
       "        text-align: right;\n",
       "    }\n",
       "</style>\n",
       "<table border=\"1\" class=\"dataframe\">\n",
       "  <thead>\n",
       "    <tr style=\"text-align: right;\">\n",
       "      <th></th>\n",
       "      <th>mean_fit_time</th>\n",
       "      <th>std_fit_time</th>\n",
       "      <th>mean_score_time</th>\n",
       "      <th>std_score_time</th>\n",
       "      <th>param_C</th>\n",
       "      <th>param_gamma</th>\n",
       "      <th>param_kernel</th>\n",
       "      <th>params</th>\n",
       "      <th>split0_test_score</th>\n",
       "      <th>split1_test_score</th>\n",
       "      <th>split2_test_score</th>\n",
       "      <th>mean_test_score</th>\n",
       "      <th>std_test_score</th>\n",
       "      <th>rank_test_score</th>\n",
       "    </tr>\n",
       "  </thead>\n",
       "  <tbody>\n",
       "    <tr>\n",
       "      <th>0</th>\n",
       "      <td>145.172292</td>\n",
       "      <td>1.173750</td>\n",
       "      <td>102.182453</td>\n",
       "      <td>0.126393</td>\n",
       "      <td>0.1</td>\n",
       "      <td>auto</td>\n",
       "      <td>rbf</td>\n",
       "      <td>{'C': 0.1, 'gamma': 'auto', 'kernel': 'rbf'}</td>\n",
       "      <td>0.751869</td>\n",
       "      <td>0.748502</td>\n",
       "      <td>0.747290</td>\n",
       "      <td>0.749220</td>\n",
       "      <td>0.001937</td>\n",
       "      <td>15</td>\n",
       "    </tr>\n",
       "    <tr>\n",
       "      <th>1</th>\n",
       "      <td>146.229880</td>\n",
       "      <td>0.857021</td>\n",
       "      <td>106.733608</td>\n",
       "      <td>0.168702</td>\n",
       "      <td>0.1</td>\n",
       "      <td>scale</td>\n",
       "      <td>rbf</td>\n",
       "      <td>{'C': 0.1, 'gamma': 'scale', 'kernel': 'rbf'}</td>\n",
       "      <td>0.750455</td>\n",
       "      <td>0.745943</td>\n",
       "      <td>0.742442</td>\n",
       "      <td>0.746280</td>\n",
       "      <td>0.003280</td>\n",
       "      <td>16</td>\n",
       "    </tr>\n",
       "    <tr>\n",
       "      <th>2</th>\n",
       "      <td>140.716941</td>\n",
       "      <td>2.273266</td>\n",
       "      <td>95.779630</td>\n",
       "      <td>2.736408</td>\n",
       "      <td>0.5</td>\n",
       "      <td>auto</td>\n",
       "      <td>rbf</td>\n",
       "      <td>{'C': 0.5, 'gamma': 'auto', 'kernel': 'rbf'}</td>\n",
       "      <td>0.755168</td>\n",
       "      <td>0.748704</td>\n",
       "      <td>0.750118</td>\n",
       "      <td>0.751330</td>\n",
       "      <td>0.002775</td>\n",
       "      <td>12</td>\n",
       "    </tr>\n",
       "    <tr>\n",
       "      <th>3</th>\n",
       "      <td>140.240373</td>\n",
       "      <td>0.655926</td>\n",
       "      <td>98.533626</td>\n",
       "      <td>0.959387</td>\n",
       "      <td>0.5</td>\n",
       "      <td>scale</td>\n",
       "      <td>rbf</td>\n",
       "      <td>{'C': 0.5, 'gamma': 'scale', 'kernel': 'rbf'}</td>\n",
       "      <td>0.754697</td>\n",
       "      <td>0.747896</td>\n",
       "      <td>0.748165</td>\n",
       "      <td>0.750253</td>\n",
       "      <td>0.003144</td>\n",
       "      <td>14</td>\n",
       "    </tr>\n",
       "    <tr>\n",
       "      <th>4</th>\n",
       "      <td>139.418726</td>\n",
       "      <td>0.961915</td>\n",
       "      <td>93.528177</td>\n",
       "      <td>0.682101</td>\n",
       "      <td>1</td>\n",
       "      <td>auto</td>\n",
       "      <td>rbf</td>\n",
       "      <td>{'C': 1, 'gamma': 'auto', 'kernel': 'rbf'}</td>\n",
       "      <td>0.756649</td>\n",
       "      <td>0.750859</td>\n",
       "      <td>0.751263</td>\n",
       "      <td>0.752923</td>\n",
       "      <td>0.002640</td>\n",
       "      <td>8</td>\n",
       "    </tr>\n",
       "    <tr>\n",
       "      <th>5</th>\n",
       "      <td>139.182468</td>\n",
       "      <td>1.591506</td>\n",
       "      <td>94.833895</td>\n",
       "      <td>3.105612</td>\n",
       "      <td>1</td>\n",
       "      <td>scale</td>\n",
       "      <td>rbf</td>\n",
       "      <td>{'C': 1, 'gamma': 'scale', 'kernel': 'rbf'}</td>\n",
       "      <td>0.754899</td>\n",
       "      <td>0.747357</td>\n",
       "      <td>0.749242</td>\n",
       "      <td>0.750499</td>\n",
       "      <td>0.003205</td>\n",
       "      <td>13</td>\n",
       "    </tr>\n",
       "    <tr>\n",
       "      <th>6</th>\n",
       "      <td>137.279872</td>\n",
       "      <td>1.726366</td>\n",
       "      <td>92.286244</td>\n",
       "      <td>0.569775</td>\n",
       "      <td>3</td>\n",
       "      <td>auto</td>\n",
       "      <td>rbf</td>\n",
       "      <td>{'C': 3, 'gamma': 'auto', 'kernel': 'rbf'}</td>\n",
       "      <td>0.756851</td>\n",
       "      <td>0.752677</td>\n",
       "      <td>0.751667</td>\n",
       "      <td>0.753732</td>\n",
       "      <td>0.002244</td>\n",
       "      <td>7</td>\n",
       "    </tr>\n",
       "    <tr>\n",
       "      <th>7</th>\n",
       "      <td>137.034219</td>\n",
       "      <td>1.046509</td>\n",
       "      <td>95.020466</td>\n",
       "      <td>1.230569</td>\n",
       "      <td>3</td>\n",
       "      <td>scale</td>\n",
       "      <td>rbf</td>\n",
       "      <td>{'C': 3, 'gamma': 'scale', 'kernel': 'rbf'}</td>\n",
       "      <td>0.755168</td>\n",
       "      <td>0.749444</td>\n",
       "      <td>0.750253</td>\n",
       "      <td>0.751622</td>\n",
       "      <td>0.002529</td>\n",
       "      <td>11</td>\n",
       "    </tr>\n",
       "    <tr>\n",
       "      <th>8</th>\n",
       "      <td>135.950878</td>\n",
       "      <td>1.948096</td>\n",
       "      <td>89.465482</td>\n",
       "      <td>1.153077</td>\n",
       "      <td>5</td>\n",
       "      <td>auto</td>\n",
       "      <td>rbf</td>\n",
       "      <td>{'C': 5, 'gamma': 'auto', 'kernel': 'rbf'}</td>\n",
       "      <td>0.756784</td>\n",
       "      <td>0.754091</td>\n",
       "      <td>0.751397</td>\n",
       "      <td>0.754091</td>\n",
       "      <td>0.002199</td>\n",
       "      <td>5</td>\n",
       "    </tr>\n",
       "    <tr>\n",
       "      <th>9</th>\n",
       "      <td>138.719447</td>\n",
       "      <td>1.385735</td>\n",
       "      <td>92.270120</td>\n",
       "      <td>0.244781</td>\n",
       "      <td>5</td>\n",
       "      <td>scale</td>\n",
       "      <td>rbf</td>\n",
       "      <td>{'C': 5, 'gamma': 'scale', 'kernel': 'rbf'}</td>\n",
       "      <td>0.755774</td>\n",
       "      <td>0.750589</td>\n",
       "      <td>0.751061</td>\n",
       "      <td>0.752475</td>\n",
       "      <td>0.002341</td>\n",
       "      <td>10</td>\n",
       "    </tr>\n",
       "    <tr>\n",
       "      <th>10</th>\n",
       "      <td>135.289685</td>\n",
       "      <td>4.957813</td>\n",
       "      <td>87.836421</td>\n",
       "      <td>2.289789</td>\n",
       "      <td>10</td>\n",
       "      <td>auto</td>\n",
       "      <td>rbf</td>\n",
       "      <td>{'C': 10, 'gamma': 'auto', 'kernel': 'rbf'}</td>\n",
       "      <td>0.757323</td>\n",
       "      <td>0.756043</td>\n",
       "      <td>0.751195</td>\n",
       "      <td>0.754854</td>\n",
       "      <td>0.002639</td>\n",
       "      <td>4</td>\n",
       "    </tr>\n",
       "    <tr>\n",
       "      <th>11</th>\n",
       "      <td>136.559266</td>\n",
       "      <td>1.243161</td>\n",
       "      <td>91.314296</td>\n",
       "      <td>0.701065</td>\n",
       "      <td>10</td>\n",
       "      <td>scale</td>\n",
       "      <td>rbf</td>\n",
       "      <td>{'C': 10, 'gamma': 'scale', 'kernel': 'rbf'}</td>\n",
       "      <td>0.755639</td>\n",
       "      <td>0.750926</td>\n",
       "      <td>0.751330</td>\n",
       "      <td>0.752632</td>\n",
       "      <td>0.002133</td>\n",
       "      <td>9</td>\n",
       "    </tr>\n",
       "    <tr>\n",
       "      <th>12</th>\n",
       "      <td>167.172900</td>\n",
       "      <td>1.132972</td>\n",
       "      <td>87.561301</td>\n",
       "      <td>0.812617</td>\n",
       "      <td>50</td>\n",
       "      <td>auto</td>\n",
       "      <td>rbf</td>\n",
       "      <td>{'C': 50, 'gamma': 'auto', 'kernel': 'rbf'}</td>\n",
       "      <td>0.759006</td>\n",
       "      <td>0.758669</td>\n",
       "      <td>0.753081</td>\n",
       "      <td>0.756919</td>\n",
       "      <td>0.002717</td>\n",
       "      <td>1</td>\n",
       "    </tr>\n",
       "    <tr>\n",
       "      <th>13</th>\n",
       "      <td>133.866822</td>\n",
       "      <td>6.885078</td>\n",
       "      <td>86.999682</td>\n",
       "      <td>3.174575</td>\n",
       "      <td>50</td>\n",
       "      <td>scale</td>\n",
       "      <td>rbf</td>\n",
       "      <td>{'C': 50, 'gamma': 'scale', 'kernel': 'rbf'}</td>\n",
       "      <td>0.756851</td>\n",
       "      <td>0.753417</td>\n",
       "      <td>0.751061</td>\n",
       "      <td>0.753776</td>\n",
       "      <td>0.002378</td>\n",
       "      <td>6</td>\n",
       "    </tr>\n",
       "    <tr>\n",
       "      <th>14</th>\n",
       "      <td>228.734279</td>\n",
       "      <td>1.220301</td>\n",
       "      <td>51.333267</td>\n",
       "      <td>2.393741</td>\n",
       "      <td>100</td>\n",
       "      <td>auto</td>\n",
       "      <td>rbf</td>\n",
       "      <td>{'C': 100, 'gamma': 'auto', 'kernel': 'rbf'}</td>\n",
       "      <td>0.759410</td>\n",
       "      <td>0.756380</td>\n",
       "      <td>0.754360</td>\n",
       "      <td>0.756717</td>\n",
       "      <td>0.002075</td>\n",
       "      <td>2</td>\n",
       "    </tr>\n",
       "    <tr>\n",
       "      <th>15</th>\n",
       "      <td>146.943932</td>\n",
       "      <td>0.946447</td>\n",
       "      <td>79.094032</td>\n",
       "      <td>0.748981</td>\n",
       "      <td>100</td>\n",
       "      <td>scale</td>\n",
       "      <td>rbf</td>\n",
       "      <td>{'C': 100, 'gamma': 'scale', 'kernel': 'rbf'}</td>\n",
       "      <td>0.757188</td>\n",
       "      <td>0.755303</td>\n",
       "      <td>0.752138</td>\n",
       "      <td>0.754876</td>\n",
       "      <td>0.002084</td>\n",
       "      <td>3</td>\n",
       "    </tr>\n",
       "  </tbody>\n",
       "</table>\n",
       "</div>"
      ],
      "text/plain": [
       "    mean_fit_time  std_fit_time  mean_score_time  std_score_time param_C  \\\n",
       "0      145.172292      1.173750       102.182453        0.126393     0.1   \n",
       "1      146.229880      0.857021       106.733608        0.168702     0.1   \n",
       "2      140.716941      2.273266        95.779630        2.736408     0.5   \n",
       "3      140.240373      0.655926        98.533626        0.959387     0.5   \n",
       "4      139.418726      0.961915        93.528177        0.682101       1   \n",
       "5      139.182468      1.591506        94.833895        3.105612       1   \n",
       "6      137.279872      1.726366        92.286244        0.569775       3   \n",
       "7      137.034219      1.046509        95.020466        1.230569       3   \n",
       "8      135.950878      1.948096        89.465482        1.153077       5   \n",
       "9      138.719447      1.385735        92.270120        0.244781       5   \n",
       "10     135.289685      4.957813        87.836421        2.289789      10   \n",
       "11     136.559266      1.243161        91.314296        0.701065      10   \n",
       "12     167.172900      1.132972        87.561301        0.812617      50   \n",
       "13     133.866822      6.885078        86.999682        3.174575      50   \n",
       "14     228.734279      1.220301        51.333267        2.393741     100   \n",
       "15     146.943932      0.946447        79.094032        0.748981     100   \n",
       "\n",
       "   param_gamma param_kernel                                         params  \\\n",
       "0         auto          rbf   {'C': 0.1, 'gamma': 'auto', 'kernel': 'rbf'}   \n",
       "1        scale          rbf  {'C': 0.1, 'gamma': 'scale', 'kernel': 'rbf'}   \n",
       "2         auto          rbf   {'C': 0.5, 'gamma': 'auto', 'kernel': 'rbf'}   \n",
       "3        scale          rbf  {'C': 0.5, 'gamma': 'scale', 'kernel': 'rbf'}   \n",
       "4         auto          rbf     {'C': 1, 'gamma': 'auto', 'kernel': 'rbf'}   \n",
       "5        scale          rbf    {'C': 1, 'gamma': 'scale', 'kernel': 'rbf'}   \n",
       "6         auto          rbf     {'C': 3, 'gamma': 'auto', 'kernel': 'rbf'}   \n",
       "7        scale          rbf    {'C': 3, 'gamma': 'scale', 'kernel': 'rbf'}   \n",
       "8         auto          rbf     {'C': 5, 'gamma': 'auto', 'kernel': 'rbf'}   \n",
       "9        scale          rbf    {'C': 5, 'gamma': 'scale', 'kernel': 'rbf'}   \n",
       "10        auto          rbf    {'C': 10, 'gamma': 'auto', 'kernel': 'rbf'}   \n",
       "11       scale          rbf   {'C': 10, 'gamma': 'scale', 'kernel': 'rbf'}   \n",
       "12        auto          rbf    {'C': 50, 'gamma': 'auto', 'kernel': 'rbf'}   \n",
       "13       scale          rbf   {'C': 50, 'gamma': 'scale', 'kernel': 'rbf'}   \n",
       "14        auto          rbf   {'C': 100, 'gamma': 'auto', 'kernel': 'rbf'}   \n",
       "15       scale          rbf  {'C': 100, 'gamma': 'scale', 'kernel': 'rbf'}   \n",
       "\n",
       "    split0_test_score  split1_test_score  split2_test_score  mean_test_score  \\\n",
       "0            0.751869           0.748502           0.747290         0.749220   \n",
       "1            0.750455           0.745943           0.742442         0.746280   \n",
       "2            0.755168           0.748704           0.750118         0.751330   \n",
       "3            0.754697           0.747896           0.748165         0.750253   \n",
       "4            0.756649           0.750859           0.751263         0.752923   \n",
       "5            0.754899           0.747357           0.749242         0.750499   \n",
       "6            0.756851           0.752677           0.751667         0.753732   \n",
       "7            0.755168           0.749444           0.750253         0.751622   \n",
       "8            0.756784           0.754091           0.751397         0.754091   \n",
       "9            0.755774           0.750589           0.751061         0.752475   \n",
       "10           0.757323           0.756043           0.751195         0.754854   \n",
       "11           0.755639           0.750926           0.751330         0.752632   \n",
       "12           0.759006           0.758669           0.753081         0.756919   \n",
       "13           0.756851           0.753417           0.751061         0.753776   \n",
       "14           0.759410           0.756380           0.754360         0.756717   \n",
       "15           0.757188           0.755303           0.752138         0.754876   \n",
       "\n",
       "    std_test_score  rank_test_score  \n",
       "0         0.001937               15  \n",
       "1         0.003280               16  \n",
       "2         0.002775               12  \n",
       "3         0.003144               14  \n",
       "4         0.002640                8  \n",
       "5         0.003205               13  \n",
       "6         0.002244                7  \n",
       "7         0.002529               11  \n",
       "8         0.002199                5  \n",
       "9         0.002341               10  \n",
       "10        0.002639                4  \n",
       "11        0.002133                9  \n",
       "12        0.002717                1  \n",
       "13        0.002378                6  \n",
       "14        0.002075                2  \n",
       "15        0.002084                3  "
      ]
     },
     "execution_count": 66,
     "metadata": {},
     "output_type": "execute_result"
    }
   ],
   "source": [
    "pd.DataFrame(best_r.cv_results_)"
   ]
  },
  {
   "cell_type": "markdown",
   "id": "a3ace814",
   "metadata": {},
   "source": [
    "## log scaling"
   ]
  },
  {
   "cell_type": "code",
   "execution_count": 33,
   "id": "375a7ebc",
   "metadata": {},
   "outputs": [
    {
     "name": "stderr",
     "output_type": "stream",
     "text": [
      "C:\\Users\\JungHun.DESKTOP-JRGUSS9\\AppData\\Local\\Temp\\ipykernel_13756\\2673988547.py:24: SettingWithCopyWarning: \n",
      "A value is trying to be set on a copy of a slice from a DataFrame\n",
      "\n",
      "See the caveats in the documentation: https://pandas.pydata.org/pandas-docs/stable/user_guide/indexing.html#returning-a-view-versus-a-copy\n",
      "  x[i] = 0\n",
      "C:\\Users\\JungHun.DESKTOP-JRGUSS9\\AppData\\Local\\Temp\\ipykernel_13756\\2673988547.py:28: SettingWithCopyWarning: \n",
      "A value is trying to be set on a copy of a slice from a DataFrame\n",
      "\n",
      "See the caveats in the documentation: https://pandas.pydata.org/pandas-docs/stable/user_guide/indexing.html#returning-a-view-versus-a-copy\n",
      "  x[i] = 2\n",
      "C:\\Users\\JungHun.DESKTOP-JRGUSS9\\AppData\\Local\\Temp\\ipykernel_13756\\2673988547.py:26: SettingWithCopyWarning: \n",
      "A value is trying to be set on a copy of a slice from a DataFrame\n",
      "\n",
      "See the caveats in the documentation: https://pandas.pydata.org/pandas-docs/stable/user_guide/indexing.html#returning-a-view-versus-a-copy\n",
      "  x[i] = 1\n",
      "C:\\Users\\JungHun.DESKTOP-JRGUSS9\\AppData\\Local\\Temp\\ipykernel_13756\\2673988547.py:24: SettingWithCopyWarning: \n",
      "A value is trying to be set on a copy of a slice from a DataFrame\n",
      "\n",
      "See the caveats in the documentation: https://pandas.pydata.org/pandas-docs/stable/user_guide/indexing.html#returning-a-view-versus-a-copy\n",
      "  x[i] = 0\n",
      "C:\\Users\\JungHun.DESKTOP-JRGUSS9\\AppData\\Local\\Temp\\ipykernel_13756\\2673988547.py:28: SettingWithCopyWarning: \n",
      "A value is trying to be set on a copy of a slice from a DataFrame\n",
      "\n",
      "See the caveats in the documentation: https://pandas.pydata.org/pandas-docs/stable/user_guide/indexing.html#returning-a-view-versus-a-copy\n",
      "  x[i] = 2\n",
      "C:\\Users\\JungHun.DESKTOP-JRGUSS9\\AppData\\Local\\Temp\\ipykernel_13756\\2673988547.py:26: SettingWithCopyWarning: \n",
      "A value is trying to be set on a copy of a slice from a DataFrame\n",
      "\n",
      "See the caveats in the documentation: https://pandas.pydata.org/pandas-docs/stable/user_guide/indexing.html#returning-a-view-versus-a-copy\n",
      "  x[i] = 1\n"
     ]
    }
   ],
   "source": [
    "scaled_l = scaling(x_train, x_test,scaled_form='logScaler()')"
   ]
  },
  {
   "cell_type": "code",
   "execution_count": 35,
   "id": "ee74f9d6",
   "metadata": {},
   "outputs": [],
   "source": [
    "x_train_l = pd.DataFrame(scaled_l[0])\n",
    "x_test_l = pd.DataFrame(scaled_l[1])\n",
    "y_train_l = preprocessing(y_train)\n",
    "y_test_l = preprocessing(y_test)"
   ]
  },
  {
   "cell_type": "code",
   "execution_count": 36,
   "id": "f69a5a5e",
   "metadata": {},
   "outputs": [
    {
     "data": {
      "text/html": [
       "<div>\n",
       "<style scoped>\n",
       "    .dataframe tbody tr th:only-of-type {\n",
       "        vertical-align: middle;\n",
       "    }\n",
       "\n",
       "    .dataframe tbody tr th {\n",
       "        vertical-align: top;\n",
       "    }\n",
       "\n",
       "    .dataframe thead th {\n",
       "        text-align: right;\n",
       "    }\n",
       "</style>\n",
       "<table border=\"1\" class=\"dataframe\">\n",
       "  <thead>\n",
       "    <tr style=\"text-align: right;\">\n",
       "      <th></th>\n",
       "      <th>age</th>\n",
       "      <th>height(cm)</th>\n",
       "      <th>weight(kg)</th>\n",
       "      <th>waist(cm)</th>\n",
       "      <th>eyesight(left)</th>\n",
       "      <th>eyesight(right)</th>\n",
       "      <th>systolic</th>\n",
       "      <th>relaxation</th>\n",
       "      <th>fasting blood sugar</th>\n",
       "      <th>Cholesterol</th>\n",
       "      <th>...</th>\n",
       "      <th>Urine protein</th>\n",
       "      <th>serum creatinine</th>\n",
       "      <th>AST</th>\n",
       "      <th>ALT</th>\n",
       "      <th>Gtp</th>\n",
       "      <th>gender</th>\n",
       "      <th>tartar</th>\n",
       "      <th>hearing(right)</th>\n",
       "      <th>hearing(left)</th>\n",
       "      <th>dental caries</th>\n",
       "    </tr>\n",
       "  </thead>\n",
       "  <tbody>\n",
       "    <tr>\n",
       "      <th>0</th>\n",
       "      <td>3.713572</td>\n",
       "      <td>5.049856</td>\n",
       "      <td>4.110874</td>\n",
       "      <td>4.410371</td>\n",
       "      <td>1.098612</td>\n",
       "      <td>1.098612</td>\n",
       "      <td>4.744932</td>\n",
       "      <td>4.304065</td>\n",
       "      <td>4.553877</td>\n",
       "      <td>5.375278</td>\n",
       "      <td>...</td>\n",
       "      <td>0.0</td>\n",
       "      <td>0.530628</td>\n",
       "      <td>2.944439</td>\n",
       "      <td>2.995732</td>\n",
       "      <td>3.332205</td>\n",
       "      <td>0</td>\n",
       "      <td>1</td>\n",
       "      <td>1.0</td>\n",
       "      <td>1.0</td>\n",
       "      <td>0.0</td>\n",
       "    </tr>\n",
       "    <tr>\n",
       "      <th>1</th>\n",
       "      <td>3.713572</td>\n",
       "      <td>5.081404</td>\n",
       "      <td>4.110874</td>\n",
       "      <td>4.406719</td>\n",
       "      <td>0.693147</td>\n",
       "      <td>0.693147</td>\n",
       "      <td>4.787492</td>\n",
       "      <td>4.262680</td>\n",
       "      <td>4.875197</td>\n",
       "      <td>5.262690</td>\n",
       "      <td>...</td>\n",
       "      <td>0.0</td>\n",
       "      <td>0.470004</td>\n",
       "      <td>3.135494</td>\n",
       "      <td>2.995732</td>\n",
       "      <td>2.944439</td>\n",
       "      <td>0</td>\n",
       "      <td>1</td>\n",
       "      <td>1.0</td>\n",
       "      <td>1.0</td>\n",
       "      <td>0.0</td>\n",
       "    </tr>\n",
       "    <tr>\n",
       "      <th>2</th>\n",
       "      <td>4.025352</td>\n",
       "      <td>5.141664</td>\n",
       "      <td>4.110874</td>\n",
       "      <td>4.394449</td>\n",
       "      <td>0.693147</td>\n",
       "      <td>0.693147</td>\n",
       "      <td>4.934474</td>\n",
       "      <td>4.465908</td>\n",
       "      <td>4.499810</td>\n",
       "      <td>5.493061</td>\n",
       "      <td>...</td>\n",
       "      <td>0.0</td>\n",
       "      <td>0.693147</td>\n",
       "      <td>3.091042</td>\n",
       "      <td>2.833213</td>\n",
       "      <td>3.135494</td>\n",
       "      <td>1</td>\n",
       "      <td>0</td>\n",
       "      <td>1.0</td>\n",
       "      <td>1.0</td>\n",
       "      <td>0.0</td>\n",
       "    </tr>\n",
       "    <tr>\n",
       "      <th>3</th>\n",
       "      <td>3.713572</td>\n",
       "      <td>5.111988</td>\n",
       "      <td>4.262680</td>\n",
       "      <td>4.488636</td>\n",
       "      <td>1.098612</td>\n",
       "      <td>1.098612</td>\n",
       "      <td>4.615121</td>\n",
       "      <td>4.110874</td>\n",
       "      <td>4.574711</td>\n",
       "      <td>5.777652</td>\n",
       "      <td>...</td>\n",
       "      <td>0.0</td>\n",
       "      <td>0.693147</td>\n",
       "      <td>2.995732</td>\n",
       "      <td>3.295837</td>\n",
       "      <td>2.944439</td>\n",
       "      <td>1</td>\n",
       "      <td>1</td>\n",
       "      <td>1.0</td>\n",
       "      <td>1.0</td>\n",
       "      <td>0.0</td>\n",
       "    </tr>\n",
       "    <tr>\n",
       "      <th>4</th>\n",
       "      <td>3.713572</td>\n",
       "      <td>5.049856</td>\n",
       "      <td>4.110874</td>\n",
       "      <td>4.465908</td>\n",
       "      <td>1.098612</td>\n",
       "      <td>1.098612</td>\n",
       "      <td>4.795791</td>\n",
       "      <td>4.317488</td>\n",
       "      <td>4.394449</td>\n",
       "      <td>5.220356</td>\n",
       "      <td>...</td>\n",
       "      <td>0.0</td>\n",
       "      <td>0.470004</td>\n",
       "      <td>2.833213</td>\n",
       "      <td>2.708050</td>\n",
       "      <td>3.135494</td>\n",
       "      <td>0</td>\n",
       "      <td>0</td>\n",
       "      <td>1.0</td>\n",
       "      <td>1.0</td>\n",
       "      <td>0.0</td>\n",
       "    </tr>\n",
       "  </tbody>\n",
       "</table>\n",
       "<p>5 rows × 24 columns</p>\n",
       "</div>"
      ],
      "text/plain": [
       "        age  height(cm)  weight(kg)  waist(cm)  eyesight(left)  \\\n",
       "0  3.713572    5.049856    4.110874   4.410371        1.098612   \n",
       "1  3.713572    5.081404    4.110874   4.406719        0.693147   \n",
       "2  4.025352    5.141664    4.110874   4.394449        0.693147   \n",
       "3  3.713572    5.111988    4.262680   4.488636        1.098612   \n",
       "4  3.713572    5.049856    4.110874   4.465908        1.098612   \n",
       "\n",
       "   eyesight(right)  systolic  relaxation  fasting blood sugar  Cholesterol  \\\n",
       "0         1.098612  4.744932    4.304065             4.553877     5.375278   \n",
       "1         0.693147  4.787492    4.262680             4.875197     5.262690   \n",
       "2         0.693147  4.934474    4.465908             4.499810     5.493061   \n",
       "3         1.098612  4.615121    4.110874             4.574711     5.777652   \n",
       "4         1.098612  4.795791    4.317488             4.394449     5.220356   \n",
       "\n",
       "   ...  Urine protein  serum creatinine       AST       ALT       Gtp  gender  \\\n",
       "0  ...            0.0          0.530628  2.944439  2.995732  3.332205       0   \n",
       "1  ...            0.0          0.470004  3.135494  2.995732  2.944439       0   \n",
       "2  ...            0.0          0.693147  3.091042  2.833213  3.135494       1   \n",
       "3  ...            0.0          0.693147  2.995732  3.295837  2.944439       1   \n",
       "4  ...            0.0          0.470004  2.833213  2.708050  3.135494       0   \n",
       "\n",
       "   tartar  hearing(right)  hearing(left)  dental caries  \n",
       "0       1             1.0            1.0            0.0  \n",
       "1       1             1.0            1.0            0.0  \n",
       "2       0             1.0            1.0            0.0  \n",
       "3       1             1.0            1.0            0.0  \n",
       "4       0             1.0            1.0            0.0  \n",
       "\n",
       "[5 rows x 24 columns]"
      ]
     },
     "execution_count": 36,
     "metadata": {},
     "output_type": "execute_result"
    }
   ],
   "source": [
    "x_train_l.head()"
   ]
  },
  {
   "cell_type": "code",
   "execution_count": 37,
   "id": "01d322c3",
   "metadata": {
    "scrolled": true
   },
   "outputs": [
    {
     "data": {
      "text/html": [
       "<div>\n",
       "<style scoped>\n",
       "    .dataframe tbody tr th:only-of-type {\n",
       "        vertical-align: middle;\n",
       "    }\n",
       "\n",
       "    .dataframe tbody tr th {\n",
       "        vertical-align: top;\n",
       "    }\n",
       "\n",
       "    .dataframe thead th {\n",
       "        text-align: right;\n",
       "    }\n",
       "</style>\n",
       "<table border=\"1\" class=\"dataframe\">\n",
       "  <thead>\n",
       "    <tr style=\"text-align: right;\">\n",
       "      <th></th>\n",
       "      <th>age</th>\n",
       "      <th>height(cm)</th>\n",
       "      <th>weight(kg)</th>\n",
       "      <th>waist(cm)</th>\n",
       "      <th>eyesight(left)</th>\n",
       "      <th>eyesight(right)</th>\n",
       "      <th>systolic</th>\n",
       "      <th>relaxation</th>\n",
       "      <th>fasting blood sugar</th>\n",
       "      <th>Cholesterol</th>\n",
       "      <th>...</th>\n",
       "      <th>Urine protein</th>\n",
       "      <th>serum creatinine</th>\n",
       "      <th>AST</th>\n",
       "      <th>ALT</th>\n",
       "      <th>Gtp</th>\n",
       "      <th>gender</th>\n",
       "      <th>tartar</th>\n",
       "      <th>hearing(right)</th>\n",
       "      <th>hearing(left)</th>\n",
       "      <th>dental caries</th>\n",
       "    </tr>\n",
       "  </thead>\n",
       "  <tbody>\n",
       "    <tr>\n",
       "      <th>0</th>\n",
       "      <td>4.394449</td>\n",
       "      <td>5.081404</td>\n",
       "      <td>4.189655</td>\n",
       "      <td>4.521789</td>\n",
       "      <td>0.693147</td>\n",
       "      <td>0.693147</td>\n",
       "      <td>4.795791</td>\n",
       "      <td>4.394449</td>\n",
       "      <td>4.727388</td>\n",
       "      <td>5.135798</td>\n",
       "      <td>...</td>\n",
       "      <td>0.0</td>\n",
       "      <td>0.693147</td>\n",
       "      <td>3.401197</td>\n",
       "      <td>2.995732</td>\n",
       "      <td>3.688879</td>\n",
       "      <td>1</td>\n",
       "      <td>0</td>\n",
       "      <td>1.0</td>\n",
       "      <td>1.0</td>\n",
       "      <td>0.0</td>\n",
       "    </tr>\n",
       "    <tr>\n",
       "      <th>1</th>\n",
       "      <td>3.433987</td>\n",
       "      <td>5.111988</td>\n",
       "      <td>4.510860</td>\n",
       "      <td>4.595120</td>\n",
       "      <td>1.098612</td>\n",
       "      <td>1.098612</td>\n",
       "      <td>4.919981</td>\n",
       "      <td>4.430817</td>\n",
       "      <td>4.574711</td>\n",
       "      <td>5.497168</td>\n",
       "      <td>...</td>\n",
       "      <td>0.0</td>\n",
       "      <td>0.641854</td>\n",
       "      <td>3.044522</td>\n",
       "      <td>3.637586</td>\n",
       "      <td>3.555348</td>\n",
       "      <td>1</td>\n",
       "      <td>0</td>\n",
       "      <td>1.0</td>\n",
       "      <td>1.0</td>\n",
       "      <td>0.0</td>\n",
       "    </tr>\n",
       "    <tr>\n",
       "      <th>2</th>\n",
       "      <td>3.713572</td>\n",
       "      <td>5.141664</td>\n",
       "      <td>4.330733</td>\n",
       "      <td>4.406719</td>\n",
       "      <td>1.098612</td>\n",
       "      <td>1.098612</td>\n",
       "      <td>4.934474</td>\n",
       "      <td>4.465908</td>\n",
       "      <td>4.532599</td>\n",
       "      <td>5.099866</td>\n",
       "      <td>...</td>\n",
       "      <td>0.0</td>\n",
       "      <td>0.530628</td>\n",
       "      <td>3.258097</td>\n",
       "      <td>3.496508</td>\n",
       "      <td>4.304065</td>\n",
       "      <td>1</td>\n",
       "      <td>0</td>\n",
       "      <td>1.0</td>\n",
       "      <td>1.0</td>\n",
       "      <td>0.0</td>\n",
       "    </tr>\n",
       "    <tr>\n",
       "      <th>3</th>\n",
       "      <td>3.583519</td>\n",
       "      <td>5.170484</td>\n",
       "      <td>4.262680</td>\n",
       "      <td>4.394449</td>\n",
       "      <td>1.098612</td>\n",
       "      <td>1.098612</td>\n",
       "      <td>5.081404</td>\n",
       "      <td>4.615121</td>\n",
       "      <td>4.615121</td>\n",
       "      <td>5.517453</td>\n",
       "      <td>...</td>\n",
       "      <td>0.0</td>\n",
       "      <td>0.530628</td>\n",
       "      <td>3.433987</td>\n",
       "      <td>4.025352</td>\n",
       "      <td>3.931826</td>\n",
       "      <td>1</td>\n",
       "      <td>0</td>\n",
       "      <td>1.0</td>\n",
       "      <td>1.0</td>\n",
       "      <td>0.0</td>\n",
       "    </tr>\n",
       "    <tr>\n",
       "      <th>4</th>\n",
       "      <td>3.583519</td>\n",
       "      <td>5.081404</td>\n",
       "      <td>4.330733</td>\n",
       "      <td>4.543295</td>\n",
       "      <td>1.098612</td>\n",
       "      <td>1.098612</td>\n",
       "      <td>4.836282</td>\n",
       "      <td>4.394449</td>\n",
       "      <td>4.770685</td>\n",
       "      <td>5.365976</td>\n",
       "      <td>...</td>\n",
       "      <td>0.0</td>\n",
       "      <td>0.741937</td>\n",
       "      <td>3.583519</td>\n",
       "      <td>4.077537</td>\n",
       "      <td>4.043051</td>\n",
       "      <td>1</td>\n",
       "      <td>0</td>\n",
       "      <td>1.0</td>\n",
       "      <td>1.0</td>\n",
       "      <td>0.0</td>\n",
       "    </tr>\n",
       "  </tbody>\n",
       "</table>\n",
       "<p>5 rows × 24 columns</p>\n",
       "</div>"
      ],
      "text/plain": [
       "        age  height(cm)  weight(kg)  waist(cm)  eyesight(left)  \\\n",
       "0  4.394449    5.081404    4.189655   4.521789        0.693147   \n",
       "1  3.433987    5.111988    4.510860   4.595120        1.098612   \n",
       "2  3.713572    5.141664    4.330733   4.406719        1.098612   \n",
       "3  3.583519    5.170484    4.262680   4.394449        1.098612   \n",
       "4  3.583519    5.081404    4.330733   4.543295        1.098612   \n",
       "\n",
       "   eyesight(right)  systolic  relaxation  fasting blood sugar  Cholesterol  \\\n",
       "0         0.693147  4.795791    4.394449             4.727388     5.135798   \n",
       "1         1.098612  4.919981    4.430817             4.574711     5.497168   \n",
       "2         1.098612  4.934474    4.465908             4.532599     5.099866   \n",
       "3         1.098612  5.081404    4.615121             4.615121     5.517453   \n",
       "4         1.098612  4.836282    4.394449             4.770685     5.365976   \n",
       "\n",
       "   ...  Urine protein  serum creatinine       AST       ALT       Gtp  gender  \\\n",
       "0  ...            0.0          0.693147  3.401197  2.995732  3.688879       1   \n",
       "1  ...            0.0          0.641854  3.044522  3.637586  3.555348       1   \n",
       "2  ...            0.0          0.530628  3.258097  3.496508  4.304065       1   \n",
       "3  ...            0.0          0.530628  3.433987  4.025352  3.931826       1   \n",
       "4  ...            0.0          0.741937  3.583519  4.077537  4.043051       1   \n",
       "\n",
       "   tartar  hearing(right)  hearing(left)  dental caries  \n",
       "0       0             1.0            1.0            0.0  \n",
       "1       0             1.0            1.0            0.0  \n",
       "2       0             1.0            1.0            0.0  \n",
       "3       0             1.0            1.0            0.0  \n",
       "4       0             1.0            1.0            0.0  \n",
       "\n",
       "[5 rows x 24 columns]"
      ]
     },
     "execution_count": 37,
     "metadata": {},
     "output_type": "execute_result"
    }
   ],
   "source": [
    "x_test_l.head()"
   ]
  },
  {
   "cell_type": "code",
   "execution_count": null,
   "id": "d7694a38",
   "metadata": {},
   "outputs": [],
   "source": [
    "ㅠ"
   ]
  },
  {
   "cell_type": "code",
   "execution_count": 46,
   "id": "851528d2",
   "metadata": {},
   "outputs": [],
   "source": [
    "best_l=GridSearchCV(SVM,param_grid=param_svm,cv=3,scoring ='accuracy',n_jobs=-1,verbose=2)\n"
   ]
  },
  {
   "cell_type": "code",
   "execution_count": 47,
   "id": "f23e8334",
   "metadata": {},
   "outputs": [
    {
     "data": {
      "text/plain": [
       "GridSearchCV(cv=3, estimator=SVC(), n_jobs=-1,\n",
       "             param_grid={'C': [0.1, 0.5, 1, 3, 5, 10, 50, 100],\n",
       "                         'gamma': ['auto', 'scale'], 'kernel': ['rbf']},\n",
       "             scoring='accuracy', verbose=2)"
      ]
     },
     "execution_count": 47,
     "metadata": {},
     "output_type": "execute_result"
    }
   ],
   "source": [
    "best_l"
   ]
  },
  {
   "cell_type": "code",
   "execution_count": 48,
   "id": "f4bdfe02",
   "metadata": {},
   "outputs": [
    {
     "name": "stdout",
     "output_type": "stream",
     "text": [
      "Fitting 3 folds for each of 16 candidates, totalling 48 fits\n"
     ]
    },
    {
     "name": "stderr",
     "output_type": "stream",
     "text": [
      "C:\\ProgramData\\Anaconda3\\lib\\site-packages\\sklearn\\utils\\validation.py:993: DataConversionWarning: A column-vector y was passed when a 1d array was expected. Please change the shape of y to (n_samples, ), for example using ravel().\n",
      "  y = column_or_1d(y, warn=True)\n"
     ]
    },
    {
     "data": {
      "text/plain": [
       "GridSearchCV(cv=3, estimator=SVC(), n_jobs=-1,\n",
       "             param_grid={'C': [0.1, 0.5, 1, 3, 5, 10, 50, 100],\n",
       "                         'gamma': ['auto', 'scale'], 'kernel': ['rbf']},\n",
       "             scoring='accuracy', verbose=2)"
      ]
     },
     "execution_count": 48,
     "metadata": {},
     "output_type": "execute_result"
    }
   ],
   "source": [
    "best_l.fit(x_train_l,y_train_l)"
   ]
  },
  {
   "cell_type": "code",
   "execution_count": 49,
   "id": "26ec5b16",
   "metadata": {
    "scrolled": true
   },
   "outputs": [
    {
     "name": "stdout",
     "output_type": "stream",
     "text": [
      "best params {'C': 50, 'gamma': 'auto', 'kernel': 'rbf'}\n",
      "best score 0.7569187260117163\n"
     ]
    }
   ],
   "source": [
    "print('best params',best_l.best_params_)\n",
    "print('best score',best_l.best_score_)\n"
   ]
  },
  {
   "cell_type": "code",
   "execution_count": 198,
   "id": "4fd69849",
   "metadata": {},
   "outputs": [],
   "source": [
    "result_l=pd.DataFrame(best_l.cv_results_)"
   ]
  },
  {
   "cell_type": "code",
   "execution_count": 236,
   "id": "698fd8e1",
   "metadata": {},
   "outputs": [
    {
     "data": {
      "text/html": [
       "<div>\n",
       "<style scoped>\n",
       "    .dataframe tbody tr th:only-of-type {\n",
       "        vertical-align: middle;\n",
       "    }\n",
       "\n",
       "    .dataframe tbody tr th {\n",
       "        vertical-align: top;\n",
       "    }\n",
       "\n",
       "    .dataframe thead th {\n",
       "        text-align: right;\n",
       "    }\n",
       "</style>\n",
       "<table border=\"1\" class=\"dataframe\">\n",
       "  <thead>\n",
       "    <tr style=\"text-align: right;\">\n",
       "      <th></th>\n",
       "      <th>mean_fit_time</th>\n",
       "      <th>std_fit_time</th>\n",
       "      <th>mean_score_time</th>\n",
       "      <th>std_score_time</th>\n",
       "      <th>param_C</th>\n",
       "      <th>param_gamma</th>\n",
       "      <th>param_kernel</th>\n",
       "      <th>params</th>\n",
       "      <th>split0_test_score</th>\n",
       "      <th>split1_test_score</th>\n",
       "      <th>split2_test_score</th>\n",
       "      <th>mean_test_score</th>\n",
       "      <th>std_test_score</th>\n",
       "      <th>rank_test_score</th>\n",
       "    </tr>\n",
       "  </thead>\n",
       "  <tbody>\n",
       "    <tr>\n",
       "      <th>0</th>\n",
       "      <td>146.045576</td>\n",
       "      <td>0.569419</td>\n",
       "      <td>103.623770</td>\n",
       "      <td>1.085486</td>\n",
       "      <td>0.1</td>\n",
       "      <td>auto</td>\n",
       "      <td>rbf</td>\n",
       "      <td>{'C': 0.1, 'gamma': 'auto', 'kernel': 'rbf'}</td>\n",
       "      <td>0.751869</td>\n",
       "      <td>0.748502</td>\n",
       "      <td>0.747290</td>\n",
       "      <td>0.749220</td>\n",
       "      <td>0.001937</td>\n",
       "      <td>15</td>\n",
       "    </tr>\n",
       "    <tr>\n",
       "      <th>1</th>\n",
       "      <td>147.287280</td>\n",
       "      <td>0.640771</td>\n",
       "      <td>107.983843</td>\n",
       "      <td>0.351373</td>\n",
       "      <td>0.1</td>\n",
       "      <td>scale</td>\n",
       "      <td>rbf</td>\n",
       "      <td>{'C': 0.1, 'gamma': 'scale', 'kernel': 'rbf'}</td>\n",
       "      <td>0.750455</td>\n",
       "      <td>0.745943</td>\n",
       "      <td>0.742442</td>\n",
       "      <td>0.746280</td>\n",
       "      <td>0.003280</td>\n",
       "      <td>16</td>\n",
       "    </tr>\n",
       "    <tr>\n",
       "      <th>2</th>\n",
       "      <td>140.921626</td>\n",
       "      <td>0.720993</td>\n",
       "      <td>96.456156</td>\n",
       "      <td>3.423980</td>\n",
       "      <td>0.5</td>\n",
       "      <td>auto</td>\n",
       "      <td>rbf</td>\n",
       "      <td>{'C': 0.5, 'gamma': 'auto', 'kernel': 'rbf'}</td>\n",
       "      <td>0.755168</td>\n",
       "      <td>0.748704</td>\n",
       "      <td>0.750118</td>\n",
       "      <td>0.751330</td>\n",
       "      <td>0.002775</td>\n",
       "      <td>12</td>\n",
       "    </tr>\n",
       "    <tr>\n",
       "      <th>3</th>\n",
       "      <td>140.484804</td>\n",
       "      <td>1.260662</td>\n",
       "      <td>99.346314</td>\n",
       "      <td>1.800195</td>\n",
       "      <td>0.5</td>\n",
       "      <td>scale</td>\n",
       "      <td>rbf</td>\n",
       "      <td>{'C': 0.5, 'gamma': 'scale', 'kernel': 'rbf'}</td>\n",
       "      <td>0.754697</td>\n",
       "      <td>0.747896</td>\n",
       "      <td>0.748165</td>\n",
       "      <td>0.750253</td>\n",
       "      <td>0.003144</td>\n",
       "      <td>14</td>\n",
       "    </tr>\n",
       "    <tr>\n",
       "      <th>4</th>\n",
       "      <td>140.706334</td>\n",
       "      <td>0.851953</td>\n",
       "      <td>96.134151</td>\n",
       "      <td>0.137460</td>\n",
       "      <td>1</td>\n",
       "      <td>auto</td>\n",
       "      <td>rbf</td>\n",
       "      <td>{'C': 1, 'gamma': 'auto', 'kernel': 'rbf'}</td>\n",
       "      <td>0.756649</td>\n",
       "      <td>0.750859</td>\n",
       "      <td>0.751263</td>\n",
       "      <td>0.752923</td>\n",
       "      <td>0.002640</td>\n",
       "      <td>8</td>\n",
       "    </tr>\n",
       "    <tr>\n",
       "      <th>5</th>\n",
       "      <td>139.688253</td>\n",
       "      <td>2.580773</td>\n",
       "      <td>97.563844</td>\n",
       "      <td>1.183427</td>\n",
       "      <td>1</td>\n",
       "      <td>scale</td>\n",
       "      <td>rbf</td>\n",
       "      <td>{'C': 1, 'gamma': 'scale', 'kernel': 'rbf'}</td>\n",
       "      <td>0.754899</td>\n",
       "      <td>0.747357</td>\n",
       "      <td>0.749242</td>\n",
       "      <td>0.750499</td>\n",
       "      <td>0.003205</td>\n",
       "      <td>13</td>\n",
       "    </tr>\n",
       "    <tr>\n",
       "      <th>6</th>\n",
       "      <td>141.658981</td>\n",
       "      <td>1.173627</td>\n",
       "      <td>98.388718</td>\n",
       "      <td>1.830440</td>\n",
       "      <td>3</td>\n",
       "      <td>auto</td>\n",
       "      <td>rbf</td>\n",
       "      <td>{'C': 3, 'gamma': 'auto', 'kernel': 'rbf'}</td>\n",
       "      <td>0.756851</td>\n",
       "      <td>0.752677</td>\n",
       "      <td>0.751667</td>\n",
       "      <td>0.753732</td>\n",
       "      <td>0.002244</td>\n",
       "      <td>7</td>\n",
       "    </tr>\n",
       "    <tr>\n",
       "      <th>7</th>\n",
       "      <td>141.865918</td>\n",
       "      <td>1.549708</td>\n",
       "      <td>100.547140</td>\n",
       "      <td>0.782403</td>\n",
       "      <td>3</td>\n",
       "      <td>scale</td>\n",
       "      <td>rbf</td>\n",
       "      <td>{'C': 3, 'gamma': 'scale', 'kernel': 'rbf'}</td>\n",
       "      <td>0.755168</td>\n",
       "      <td>0.749444</td>\n",
       "      <td>0.750253</td>\n",
       "      <td>0.751622</td>\n",
       "      <td>0.002529</td>\n",
       "      <td>11</td>\n",
       "    </tr>\n",
       "    <tr>\n",
       "      <th>8</th>\n",
       "      <td>149.485915</td>\n",
       "      <td>2.169668</td>\n",
       "      <td>94.304663</td>\n",
       "      <td>2.665155</td>\n",
       "      <td>5</td>\n",
       "      <td>auto</td>\n",
       "      <td>rbf</td>\n",
       "      <td>{'C': 5, 'gamma': 'auto', 'kernel': 'rbf'}</td>\n",
       "      <td>0.756784</td>\n",
       "      <td>0.754091</td>\n",
       "      <td>0.751397</td>\n",
       "      <td>0.754091</td>\n",
       "      <td>0.002199</td>\n",
       "      <td>5</td>\n",
       "    </tr>\n",
       "    <tr>\n",
       "      <th>9</th>\n",
       "      <td>152.401261</td>\n",
       "      <td>2.419796</td>\n",
       "      <td>99.560334</td>\n",
       "      <td>1.029794</td>\n",
       "      <td>5</td>\n",
       "      <td>scale</td>\n",
       "      <td>rbf</td>\n",
       "      <td>{'C': 5, 'gamma': 'scale', 'kernel': 'rbf'}</td>\n",
       "      <td>0.755774</td>\n",
       "      <td>0.750589</td>\n",
       "      <td>0.751061</td>\n",
       "      <td>0.752475</td>\n",
       "      <td>0.002341</td>\n",
       "      <td>10</td>\n",
       "    </tr>\n",
       "    <tr>\n",
       "      <th>10</th>\n",
       "      <td>147.556338</td>\n",
       "      <td>6.880067</td>\n",
       "      <td>96.504305</td>\n",
       "      <td>2.005500</td>\n",
       "      <td>10</td>\n",
       "      <td>auto</td>\n",
       "      <td>rbf</td>\n",
       "      <td>{'C': 10, 'gamma': 'auto', 'kernel': 'rbf'}</td>\n",
       "      <td>0.757323</td>\n",
       "      <td>0.756043</td>\n",
       "      <td>0.751195</td>\n",
       "      <td>0.754854</td>\n",
       "      <td>0.002639</td>\n",
       "      <td>4</td>\n",
       "    </tr>\n",
       "    <tr>\n",
       "      <th>11</th>\n",
       "      <td>148.222595</td>\n",
       "      <td>2.464284</td>\n",
       "      <td>96.740368</td>\n",
       "      <td>1.352392</td>\n",
       "      <td>10</td>\n",
       "      <td>scale</td>\n",
       "      <td>rbf</td>\n",
       "      <td>{'C': 10, 'gamma': 'scale', 'kernel': 'rbf'}</td>\n",
       "      <td>0.755639</td>\n",
       "      <td>0.750926</td>\n",
       "      <td>0.751330</td>\n",
       "      <td>0.752632</td>\n",
       "      <td>0.002133</td>\n",
       "      <td>9</td>\n",
       "    </tr>\n",
       "    <tr>\n",
       "      <th>12</th>\n",
       "      <td>186.169738</td>\n",
       "      <td>3.710588</td>\n",
       "      <td>94.884891</td>\n",
       "      <td>0.688196</td>\n",
       "      <td>50</td>\n",
       "      <td>auto</td>\n",
       "      <td>rbf</td>\n",
       "      <td>{'C': 50, 'gamma': 'auto', 'kernel': 'rbf'}</td>\n",
       "      <td>0.759006</td>\n",
       "      <td>0.758669</td>\n",
       "      <td>0.753081</td>\n",
       "      <td>0.756919</td>\n",
       "      <td>0.002717</td>\n",
       "      <td>1</td>\n",
       "    </tr>\n",
       "    <tr>\n",
       "      <th>13</th>\n",
       "      <td>141.782762</td>\n",
       "      <td>11.220177</td>\n",
       "      <td>91.451294</td>\n",
       "      <td>8.614651</td>\n",
       "      <td>50</td>\n",
       "      <td>scale</td>\n",
       "      <td>rbf</td>\n",
       "      <td>{'C': 50, 'gamma': 'scale', 'kernel': 'rbf'}</td>\n",
       "      <td>0.756851</td>\n",
       "      <td>0.753417</td>\n",
       "      <td>0.751061</td>\n",
       "      <td>0.753776</td>\n",
       "      <td>0.002378</td>\n",
       "      <td>6</td>\n",
       "    </tr>\n",
       "    <tr>\n",
       "      <th>14</th>\n",
       "      <td>236.345057</td>\n",
       "      <td>0.762801</td>\n",
       "      <td>51.702534</td>\n",
       "      <td>9.002369</td>\n",
       "      <td>100</td>\n",
       "      <td>auto</td>\n",
       "      <td>rbf</td>\n",
       "      <td>{'C': 100, 'gamma': 'auto', 'kernel': 'rbf'}</td>\n",
       "      <td>0.759410</td>\n",
       "      <td>0.756380</td>\n",
       "      <td>0.754360</td>\n",
       "      <td>0.756717</td>\n",
       "      <td>0.002075</td>\n",
       "      <td>2</td>\n",
       "    </tr>\n",
       "    <tr>\n",
       "      <th>15</th>\n",
       "      <td>148.803739</td>\n",
       "      <td>1.938880</td>\n",
       "      <td>81.503886</td>\n",
       "      <td>1.584389</td>\n",
       "      <td>100</td>\n",
       "      <td>scale</td>\n",
       "      <td>rbf</td>\n",
       "      <td>{'C': 100, 'gamma': 'scale', 'kernel': 'rbf'}</td>\n",
       "      <td>0.757188</td>\n",
       "      <td>0.755303</td>\n",
       "      <td>0.752138</td>\n",
       "      <td>0.754876</td>\n",
       "      <td>0.002084</td>\n",
       "      <td>3</td>\n",
       "    </tr>\n",
       "  </tbody>\n",
       "</table>\n",
       "</div>"
      ],
      "text/plain": [
       "    mean_fit_time  std_fit_time  mean_score_time  std_score_time param_C  \\\n",
       "0      146.045576      0.569419       103.623770        1.085486     0.1   \n",
       "1      147.287280      0.640771       107.983843        0.351373     0.1   \n",
       "2      140.921626      0.720993        96.456156        3.423980     0.5   \n",
       "3      140.484804      1.260662        99.346314        1.800195     0.5   \n",
       "4      140.706334      0.851953        96.134151        0.137460       1   \n",
       "5      139.688253      2.580773        97.563844        1.183427       1   \n",
       "6      141.658981      1.173627        98.388718        1.830440       3   \n",
       "7      141.865918      1.549708       100.547140        0.782403       3   \n",
       "8      149.485915      2.169668        94.304663        2.665155       5   \n",
       "9      152.401261      2.419796        99.560334        1.029794       5   \n",
       "10     147.556338      6.880067        96.504305        2.005500      10   \n",
       "11     148.222595      2.464284        96.740368        1.352392      10   \n",
       "12     186.169738      3.710588        94.884891        0.688196      50   \n",
       "13     141.782762     11.220177        91.451294        8.614651      50   \n",
       "14     236.345057      0.762801        51.702534        9.002369     100   \n",
       "15     148.803739      1.938880        81.503886        1.584389     100   \n",
       "\n",
       "   param_gamma param_kernel                                         params  \\\n",
       "0         auto          rbf   {'C': 0.1, 'gamma': 'auto', 'kernel': 'rbf'}   \n",
       "1        scale          rbf  {'C': 0.1, 'gamma': 'scale', 'kernel': 'rbf'}   \n",
       "2         auto          rbf   {'C': 0.5, 'gamma': 'auto', 'kernel': 'rbf'}   \n",
       "3        scale          rbf  {'C': 0.5, 'gamma': 'scale', 'kernel': 'rbf'}   \n",
       "4         auto          rbf     {'C': 1, 'gamma': 'auto', 'kernel': 'rbf'}   \n",
       "5        scale          rbf    {'C': 1, 'gamma': 'scale', 'kernel': 'rbf'}   \n",
       "6         auto          rbf     {'C': 3, 'gamma': 'auto', 'kernel': 'rbf'}   \n",
       "7        scale          rbf    {'C': 3, 'gamma': 'scale', 'kernel': 'rbf'}   \n",
       "8         auto          rbf     {'C': 5, 'gamma': 'auto', 'kernel': 'rbf'}   \n",
       "9        scale          rbf    {'C': 5, 'gamma': 'scale', 'kernel': 'rbf'}   \n",
       "10        auto          rbf    {'C': 10, 'gamma': 'auto', 'kernel': 'rbf'}   \n",
       "11       scale          rbf   {'C': 10, 'gamma': 'scale', 'kernel': 'rbf'}   \n",
       "12        auto          rbf    {'C': 50, 'gamma': 'auto', 'kernel': 'rbf'}   \n",
       "13       scale          rbf   {'C': 50, 'gamma': 'scale', 'kernel': 'rbf'}   \n",
       "14        auto          rbf   {'C': 100, 'gamma': 'auto', 'kernel': 'rbf'}   \n",
       "15       scale          rbf  {'C': 100, 'gamma': 'scale', 'kernel': 'rbf'}   \n",
       "\n",
       "    split0_test_score  split1_test_score  split2_test_score  mean_test_score  \\\n",
       "0            0.751869           0.748502           0.747290         0.749220   \n",
       "1            0.750455           0.745943           0.742442         0.746280   \n",
       "2            0.755168           0.748704           0.750118         0.751330   \n",
       "3            0.754697           0.747896           0.748165         0.750253   \n",
       "4            0.756649           0.750859           0.751263         0.752923   \n",
       "5            0.754899           0.747357           0.749242         0.750499   \n",
       "6            0.756851           0.752677           0.751667         0.753732   \n",
       "7            0.755168           0.749444           0.750253         0.751622   \n",
       "8            0.756784           0.754091           0.751397         0.754091   \n",
       "9            0.755774           0.750589           0.751061         0.752475   \n",
       "10           0.757323           0.756043           0.751195         0.754854   \n",
       "11           0.755639           0.750926           0.751330         0.752632   \n",
       "12           0.759006           0.758669           0.753081         0.756919   \n",
       "13           0.756851           0.753417           0.751061         0.753776   \n",
       "14           0.759410           0.756380           0.754360         0.756717   \n",
       "15           0.757188           0.755303           0.752138         0.754876   \n",
       "\n",
       "    std_test_score  rank_test_score  \n",
       "0         0.001937               15  \n",
       "1         0.003280               16  \n",
       "2         0.002775               12  \n",
       "3         0.003144               14  \n",
       "4         0.002640                8  \n",
       "5         0.003205               13  \n",
       "6         0.002244                7  \n",
       "7         0.002529               11  \n",
       "8         0.002199                5  \n",
       "9         0.002341               10  \n",
       "10        0.002639                4  \n",
       "11        0.002133                9  \n",
       "12        0.002717                1  \n",
       "13        0.002378                6  \n",
       "14        0.002075                2  \n",
       "15        0.002084                3  "
      ]
     },
     "execution_count": 236,
     "metadata": {},
     "output_type": "execute_result"
    }
   ],
   "source": [
    "result_l"
   ]
  },
  {
   "cell_type": "code",
   "execution_count": 280,
   "id": "baf6f915",
   "metadata": {},
   "outputs": [
    {
     "data": {
      "text/plain": [
       "SVC(C=3, gamma='auto')"
      ]
     },
     "execution_count": 280,
     "metadata": {},
     "output_type": "execute_result"
    }
   ],
   "source": [
    "best.best_estimator_"
   ]
  },
  {
   "cell_type": "code",
   "execution_count": 199,
   "id": "b90723e2",
   "metadata": {},
   "outputs": [
    {
     "data": {
      "text/plain": [
       "{'C': 50, 'gamma': 'auto', 'kernel': 'rbf'}"
      ]
     },
     "execution_count": 199,
     "metadata": {},
     "output_type": "execute_result"
    }
   ],
   "source": [
    "result_l.iloc[result_l['rank_test_score'].idxmin(),:]['params']"
   ]
  },
  {
   "cell_type": "markdown",
   "id": "86f1c662",
   "metadata": {},
   "source": [
    "## scaling 별 비교"
   ]
  },
  {
   "cell_type": "code",
   "execution_count": null,
   "id": "5bfbaa76",
   "metadata": {},
   "outputs": [],
   "source": [
    "# standard,min-max,robust,log\n",
    "[best.best_score_,best_m.best_score_,best_l.best_score_]"
   ]
  },
  {
   "cell_type": "code",
   "execution_count": null,
   "id": "d22a0629",
   "metadata": {},
   "outputs": [],
   "source": []
  },
  {
   "cell_type": "code",
   "execution_count": 91,
   "id": "7339cc90",
   "metadata": {},
   "outputs": [],
   "source": [
    "def cm(model,x,y):\n",
    "    start = time.time()\n",
    "    pred=model.predict(x)\n",
    "    cm=confusion_matrix(y,pred)\n",
    "    print(\"time :\", time.time() - start)\n",
    "    return pred,cm_s"
   ]
  },
  {
   "cell_type": "code",
   "execution_count": 113,
   "id": "b89cfb9a",
   "metadata": {},
   "outputs": [],
   "source": [
    "def score(y_test,pred):\n",
    "    acc=accuracy_score(y_test,pred)\n",
    "    pre=precision_score(y_test , pred)\n",
    "    rec=recall_score(y_test , pred)\n",
    "    f1=f1_score(y_test,pred)\n",
    "    auc=roc_auc_score(y_test, pred)\n",
    "    return acc,pre,rec,f1,auc"
   ]
  },
  {
   "cell_type": "code",
   "execution_count": null,
   "id": "69dcfc4d",
   "metadata": {},
   "outputs": [],
   "source": [
    "score()"
   ]
  },
  {
   "cell_type": "markdown",
   "id": "d1142ad2",
   "metadata": {},
   "source": [
    "## 학습된 베스트 하이퍼 파라미터로  예측"
   ]
  },
  {
   "cell_type": "markdown",
   "id": "1feed5ca",
   "metadata": {},
   "source": [
    "#### standard"
   ]
  },
  {
   "cell_type": "code",
   "execution_count": 69,
   "id": "c42ffacd",
   "metadata": {},
   "outputs": [],
   "source": [
    "standard=best.best_estimator_"
   ]
  },
  {
   "cell_type": "code",
   "execution_count": 281,
   "id": "23b93300",
   "metadata": {},
   "outputs": [
    {
     "data": {
      "text/plain": [
       "SVC(C=3, gamma='auto')"
      ]
     },
     "execution_count": 281,
     "metadata": {},
     "output_type": "execute_result"
    }
   ],
   "source": [
    "standard"
   ]
  },
  {
   "cell_type": "code",
   "execution_count": 75,
   "id": "77e382ea",
   "metadata": {
    "scrolled": true
   },
   "outputs": [
    {
     "name": "stdout",
     "output_type": "stream",
     "text": [
      "[[22955  5246]\n",
      " [ 3947 12405]]\n",
      "time : 175.72230863571167\n"
     ]
    }
   ],
   "source": [
    "start = time.time()\n",
    "\n",
    "pred_s=standard.predict(x_train_s)\n",
    "cm_s=confusion_matrix(y_train_s, pred_s)\n",
    "print(cm_s)\n",
    "\n",
    "start = time.time()"
   ]
  },
  {
   "cell_type": "code",
   "execution_count": 160,
   "id": "b72926a8",
   "metadata": {},
   "outputs": [
    {
     "name": "stdout",
     "output_type": "stream",
     "text": [
      "0.06908965110778809\n"
     ]
    }
   ],
   "source": [
    "start=time.time()\n",
    "acc=accuracy_score(y_train_s,pred_s)\n",
    "pre=precision_score(y_train_s , pred_s)\n",
    "rec=recall_score(y_train_s , pred_s)\n",
    "f1=f1_score(y_train_s,pred_s)\n",
    "auc=roc_auc_score(y_train_s, pred_s)\n",
    "print(time.time()-start)"
   ]
  },
  {
   "cell_type": "code",
   "execution_count": 167,
   "id": "8f86d656",
   "metadata": {},
   "outputs": [
    {
     "name": "stdout",
     "output_type": "stream",
     "text": [
      "정확도 : 0.794\n",
      "정밀도 : 0.703\n",
      "재현율 : 0.759\n",
      "F1_score : 0.730\n",
      "ROC_AUC_score : 0.786\n"
     ]
    }
   ],
   "source": [
    "print('정확도 : {:.3f}'.format(acc))\n",
    "# 정밀도\n",
    "print('정밀도 : {:.3f}'.format(pre))\n",
    "# 재현율\n",
    "print('재현율 : {:.3f}'.format(rec))\n",
    "# f1_score\n",
    "print('F1_score : {:.3f}'.format(f1))\n",
    "# AUC score \n",
    "print('ROC_AUC_score : {:.3f}'.format(auc))"
   ]
  },
  {
   "cell_type": "code",
   "execution_count": 271,
   "id": "9c236095",
   "metadata": {},
   "outputs": [
    {
     "data": {
      "text/plain": [
       "array([[-0.34830205,  0.03728472,  0.32101591, ...,  1.        ,\n",
       "         1.        ,  0.        ],\n",
       "       [-1.17550435,  1.66799118,  0.71092409, ...,  1.        ,\n",
       "         1.        ,  0.        ],\n",
       "       [ 0.06529909,  0.03728472,  1.88064863, ...,  1.        ,\n",
       "         1.        ,  0.        ],\n",
       "       ...,\n",
       "       [ 1.30610253, -0.5062841 , -0.84870863, ...,  1.        ,\n",
       "         1.        ,  0.        ],\n",
       "       [ 1.30610253,  0.03728472,  0.32101591, ...,  1.        ,\n",
       "         1.        ,  1.        ],\n",
       "       [ 0.47890024,  0.03728472,  1.88064863, ...,  1.        ,\n",
       "         1.        ,  0.        ]])"
      ]
     },
     "execution_count": 271,
     "metadata": {},
     "output_type": "execute_result"
    }
   ],
   "source": [
    "standard.support_vectors_"
   ]
  },
  {
   "cell_type": "code",
   "execution_count": 76,
   "id": "b6195d5c",
   "metadata": {
    "scrolled": true
   },
   "outputs": [
    {
     "name": "stdout",
     "output_type": "stream",
     "text": [
      "[[5723 1313]\n",
      " [1002 3101]]\n",
      "time : 48.28132486343384\n"
     ]
    }
   ],
   "source": [
    "start = time.time()\n",
    "\n",
    "pred_st=standard.predict(x_test_s)\n",
    "cm_st=confusion_matrix( y_test_s, pred_st)\n",
    "print(cm_st)\n",
    "print(\"time :\", time.time() - start)"
   ]
  },
  {
   "cell_type": "code",
   "execution_count": 82,
   "id": "ca281265",
   "metadata": {},
   "outputs": [
    {
     "name": "stdout",
     "output_type": "stream",
     "text": [
      "0.023611068725585938\n"
     ]
    }
   ],
   "source": [
    "start=time.time()\n",
    "acc_st=accuracy_score(y_test_s,pred_st)\n",
    "pre_st=precision_score(y_test_s , pred_st)\n",
    "rec_st=recall_score(y_test_s , pred_st)\n",
    "f1_st=f1_score(y_test_s,pred_st)\n",
    "auc_st=roc_auc_score(y_test_s, pred_st)\n",
    "print(time.time()-start)"
   ]
  },
  {
   "cell_type": "code",
   "execution_count": 83,
   "id": "f3db74d4",
   "metadata": {},
   "outputs": [
    {
     "name": "stdout",
     "output_type": "stream",
     "text": [
      "정확도 : 0.792\n",
      "정밀도 : 0.703\n",
      "재현율 : 0.756\n",
      "F1_score : 0.728\n",
      "ROC_AUC_score : 0.785\n"
     ]
    }
   ],
   "source": [
    "print('정확도 : {:.3f}'.format(acc_st))\n",
    "# 정밀도\n",
    "print('정밀도 : {:.3f}'.format(pre_st))\n",
    "# 재현율\n",
    "print('재현율 : {:.3f}'.format(rec_st))\n",
    "# f1_score\n",
    "print('F1_score : {:.3f}'.format(f1_st))\n",
    "# AUC score \n",
    "print('ROC_AUC_score : {:.3f}'.format(auc_st))"
   ]
  },
  {
   "cell_type": "markdown",
   "id": "ca1525d0",
   "metadata": {},
   "source": [
    "#### minmax"
   ]
  },
  {
   "cell_type": "code",
   "execution_count": 70,
   "id": "cd79df67",
   "metadata": {},
   "outputs": [],
   "source": [
    "minmax=best_m.best_estimator_"
   ]
  },
  {
   "cell_type": "code",
   "execution_count": 259,
   "id": "097855d0",
   "metadata": {},
   "outputs": [
    {
     "data": {
      "text/plain": [
       "SVC(C=50)"
      ]
     },
     "execution_count": 259,
     "metadata": {},
     "output_type": "execute_result"
    }
   ],
   "source": [
    "minmax"
   ]
  },
  {
   "cell_type": "code",
   "execution_count": 92,
   "id": "eeb93919",
   "metadata": {},
   "outputs": [
    {
     "name": "stdout",
     "output_type": "stream",
     "text": [
      "time : 205.01099753379822\n"
     ]
    }
   ],
   "source": [
    "pred_m,cm_m=cm(minmax,x_train_m,y_train_m)"
   ]
  },
  {
   "cell_type": "code",
   "execution_count": 112,
   "id": "56858d12",
   "metadata": {},
   "outputs": [
    {
     "data": {
      "text/plain": [
       "array([0, 0, 1, ..., 0, 1, 0], dtype=int64)"
      ]
     },
     "execution_count": 112,
     "metadata": {},
     "output_type": "execute_result"
    }
   ],
   "source": [
    "pred_m"
   ]
  },
  {
   "cell_type": "code",
   "execution_count": 96,
   "id": "b6624860",
   "metadata": {},
   "outputs": [
    {
     "data": {
      "text/plain": [
       "array([[22955,  5246],\n",
       "       [ 3947, 12405]], dtype=int64)"
      ]
     },
     "execution_count": 96,
     "metadata": {},
     "output_type": "execute_result"
    }
   ],
   "source": [
    "cm_m"
   ]
  },
  {
   "cell_type": "code",
   "execution_count": 93,
   "id": "818ddd56",
   "metadata": {},
   "outputs": [
    {
     "data": {
      "text/plain": [
       "[0.7643480798150517,\n",
       " 0.6582833035859159,\n",
       " 0.7443126223091977,\n",
       " 0.6986596251542722,\n",
       " 0.7601390068036894]"
      ]
     },
     "execution_count": 93,
     "metadata": {},
     "output_type": "execute_result"
    }
   ],
   "source": [
    "score(y_train_m,pred_m)"
   ]
  },
  {
   "cell_type": "code",
   "execution_count": null,
   "id": "1c24d460",
   "metadata": {},
   "outputs": [],
   "source": [
    "pred_s=standard.predict(x_train)"
   ]
  },
  {
   "cell_type": "code",
   "execution_count": 103,
   "id": "98c7b264",
   "metadata": {},
   "outputs": [
    {
     "name": "stdout",
     "output_type": "stream",
     "text": [
      "time : 28.274210453033447\n"
     ]
    }
   ],
   "source": [
    "pred_mt,cm_mt=cm(minmax,x_test_m,y_test_m)"
   ]
  },
  {
   "cell_type": "code",
   "execution_count": 108,
   "id": "a273e2ff",
   "metadata": {},
   "outputs": [
    {
     "data": {
      "text/plain": [
       "GridSearchCV(cv=3, estimator=SVC(), n_jobs=-1,\n",
       "             param_grid={'C': [0.1, 0.5, 1, 3, 5, 10, 50, 100],\n",
       "                         'gamma': ['auto', 'scale'], 'kernel': ['rbf']},\n",
       "             scoring='accuracy', verbose=2)"
      ]
     },
     "execution_count": 108,
     "metadata": {},
     "output_type": "execute_result"
    }
   ],
   "source": [
    "best"
   ]
  },
  {
   "cell_type": "code",
   "execution_count": 109,
   "id": "517649f3",
   "metadata": {},
   "outputs": [
    {
     "data": {
      "text/plain": [
       "array([[22955,  5246],\n",
       "       [ 3947, 12405]], dtype=int64)"
      ]
     },
     "execution_count": 109,
     "metadata": {},
     "output_type": "execute_result"
    }
   ],
   "source": [
    "cm_mt"
   ]
  },
  {
   "cell_type": "code",
   "execution_count": 110,
   "id": "25658539",
   "metadata": {},
   "outputs": [
    {
     "data": {
      "text/plain": [
       "array([0, 0, 1, ..., 0, 1, 1], dtype=int64)"
      ]
     },
     "execution_count": 110,
     "metadata": {},
     "output_type": "execute_result"
    }
   ],
   "source": [
    "pred_mt"
   ]
  },
  {
   "cell_type": "code",
   "execution_count": 114,
   "id": "433e2f6b",
   "metadata": {},
   "outputs": [
    {
     "data": {
      "text/plain": [
       "(0.7659574468085106,\n",
       " 0.6624674196350999,\n",
       " 0.7433585181574458,\n",
       " 0.7005857356150224,\n",
       " 0.7612471954061817)"
      ]
     },
     "execution_count": 114,
     "metadata": {},
     "output_type": "execute_result"
    }
   ],
   "source": [
    "score(y_test_m,pred_mt)"
   ]
  },
  {
   "cell_type": "code",
   "execution_count": null,
   "id": "7dade2c3",
   "metadata": {},
   "outputs": [],
   "source": []
  },
  {
   "cell_type": "code",
   "execution_count": null,
   "id": "46f3eb24",
   "metadata": {},
   "outputs": [],
   "source": []
  },
  {
   "cell_type": "markdown",
   "id": "e8e37081",
   "metadata": {},
   "source": [
    "#### log"
   ]
  },
  {
   "cell_type": "code",
   "execution_count": 74,
   "id": "3ceafc91",
   "metadata": {},
   "outputs": [],
   "source": [
    "log=best_l.best_estimator_"
   ]
  },
  {
   "cell_type": "code",
   "execution_count": null,
   "id": "3a2751b8",
   "metadata": {},
   "outputs": [],
   "source": []
  },
  {
   "cell_type": "code",
   "execution_count": 260,
   "id": "1a00ba47",
   "metadata": {},
   "outputs": [
    {
     "data": {
      "text/plain": [
       "SVC(C=50, gamma='auto')"
      ]
     },
     "execution_count": 260,
     "metadata": {},
     "output_type": "execute_result"
    }
   ],
   "source": [
    "log"
   ]
  },
  {
   "cell_type": "code",
   "execution_count": 99,
   "id": "a8de6bf6",
   "metadata": {},
   "outputs": [
    {
     "name": "stdout",
     "output_type": "stream",
     "text": [
      "time : 124.30011439323425\n"
     ]
    }
   ],
   "source": [
    "pred_l,cm_l=cm(log,x_train_l,y_train_l)"
   ]
  },
  {
   "cell_type": "code",
   "execution_count": 100,
   "id": "b5c9902d",
   "metadata": {},
   "outputs": [
    {
     "data": {
      "text/plain": [
       "array([[22955,  5246],\n",
       "       [ 3947, 12405]], dtype=int64)"
      ]
     },
     "execution_count": 100,
     "metadata": {},
     "output_type": "execute_result"
    }
   ],
   "source": [
    "cm_l"
   ]
  },
  {
   "cell_type": "code",
   "execution_count": 101,
   "id": "2d2e80ab",
   "metadata": {},
   "outputs": [
    {
     "data": {
      "text/plain": [
       "[0.7632033757547191,\n",
       " 0.6528773187183811,\n",
       " 0.757644324853229,\n",
       " 0.701370018115942,\n",
       " 0.7620355236549398]"
      ]
     },
     "execution_count": 101,
     "metadata": {},
     "output_type": "execute_result"
    }
   ],
   "source": [
    "score(y_train_l,pred_l)"
   ]
  },
  {
   "cell_type": "code",
   "execution_count": null,
   "id": "f2cc8c78",
   "metadata": {},
   "outputs": [],
   "source": []
  },
  {
   "cell_type": "code",
   "execution_count": 117,
   "id": "95e92054",
   "metadata": {},
   "outputs": [
    {
     "name": "stdout",
     "output_type": "stream",
     "text": [
      "time : 30.45104169845581\n"
     ]
    },
    {
     "data": {
      "text/plain": [
       "array([[22955,  5246],\n",
       "       [ 3947, 12405]], dtype=int64)"
      ]
     },
     "execution_count": 117,
     "metadata": {},
     "output_type": "execute_result"
    }
   ],
   "source": [
    "pred_lt,cm_lt=cm(log,x_test_l,y_test_l)\n",
    "\n",
    "cm_lt"
   ]
  },
  {
   "cell_type": "code",
   "execution_count": 118,
   "id": "7975261c",
   "metadata": {},
   "outputs": [
    {
     "data": {
      "text/plain": [
       "(0.7628153335128827,\n",
       " 0.6538866652622709,\n",
       " 0.7565196197903973,\n",
       " 0.7014689265536723,\n",
       " 0.7615031299634192)"
      ]
     },
     "execution_count": 118,
     "metadata": {},
     "output_type": "execute_result"
    }
   ],
   "source": [
    "score(y_test_l,pred_lt)"
   ]
  },
  {
   "cell_type": "markdown",
   "id": "b665c6fd",
   "metadata": {},
   "source": [
    "### 평가지표"
   ]
  },
  {
   "cell_type": "code",
   "execution_count": 122,
   "id": "f829ed4f",
   "metadata": {},
   "outputs": [],
   "source": [
    "a=score(y_train_s,pred_s)"
   ]
  },
  {
   "cell_type": "code",
   "execution_count": 123,
   "id": "c323cdbf",
   "metadata": {},
   "outputs": [],
   "source": [
    "b=score(y_train_m,pred_m)"
   ]
  },
  {
   "cell_type": "code",
   "execution_count": 124,
   "id": "8043059a",
   "metadata": {},
   "outputs": [],
   "source": [
    "c=score(y_train_l,pred_l)"
   ]
  },
  {
   "cell_type": "code",
   "execution_count": 136,
   "id": "83e30e5c",
   "metadata": {},
   "outputs": [],
   "source": [
    "train_score=pd.DataFrame([a,b,c],columns=['정확도','정밀도','재현율','F1 score','ROC_AUC'],index=['Standard','Min-Max','Log'])"
   ]
  },
  {
   "cell_type": "code",
   "execution_count": 137,
   "id": "95c48eac",
   "metadata": {},
   "outputs": [
    {
     "data": {
      "text/html": [
       "<div>\n",
       "<style scoped>\n",
       "    .dataframe tbody tr th:only-of-type {\n",
       "        vertical-align: middle;\n",
       "    }\n",
       "\n",
       "    .dataframe tbody tr th {\n",
       "        vertical-align: top;\n",
       "    }\n",
       "\n",
       "    .dataframe thead th {\n",
       "        text-align: right;\n",
       "    }\n",
       "</style>\n",
       "<table border=\"1\" class=\"dataframe\">\n",
       "  <thead>\n",
       "    <tr style=\"text-align: right;\">\n",
       "      <th></th>\n",
       "      <th>정확도</th>\n",
       "      <th>정밀도</th>\n",
       "      <th>재현율</th>\n",
       "      <th>F1 score</th>\n",
       "      <th>ROC_AUC</th>\n",
       "    </tr>\n",
       "  </thead>\n",
       "  <tbody>\n",
       "    <tr>\n",
       "      <th>Standard</th>\n",
       "      <td>0.793661</td>\n",
       "      <td>0.702793</td>\n",
       "      <td>0.758623</td>\n",
       "      <td>0.729642</td>\n",
       "      <td>0.786301</td>\n",
       "    </tr>\n",
       "    <tr>\n",
       "      <th>Min-Max</th>\n",
       "      <td>0.764348</td>\n",
       "      <td>0.658283</td>\n",
       "      <td>0.744313</td>\n",
       "      <td>0.698660</td>\n",
       "      <td>0.760139</td>\n",
       "    </tr>\n",
       "    <tr>\n",
       "      <th>Log</th>\n",
       "      <td>0.763203</td>\n",
       "      <td>0.652877</td>\n",
       "      <td>0.757644</td>\n",
       "      <td>0.701370</td>\n",
       "      <td>0.762036</td>\n",
       "    </tr>\n",
       "  </tbody>\n",
       "</table>\n",
       "</div>"
      ],
      "text/plain": [
       "               정확도       정밀도       재현율  F1 score   ROC_AUC\n",
       "Standard  0.793661  0.702793  0.758623  0.729642  0.786301\n",
       "Min-Max   0.764348  0.658283  0.744313  0.698660  0.760139\n",
       "Log       0.763203  0.652877  0.757644  0.701370  0.762036"
      ]
     },
     "execution_count": 137,
     "metadata": {},
     "output_type": "execute_result"
    }
   ],
   "source": [
    "train_score"
   ]
  },
  {
   "cell_type": "code",
   "execution_count": 138,
   "id": "45bd9028",
   "metadata": {},
   "outputs": [],
   "source": [
    "t1=score(y_test_s,pred_st)"
   ]
  },
  {
   "cell_type": "code",
   "execution_count": 139,
   "id": "4234e4df",
   "metadata": {},
   "outputs": [],
   "source": [
    "t2=score(y_test_m,pred_mt)"
   ]
  },
  {
   "cell_type": "code",
   "execution_count": 140,
   "id": "568446b5",
   "metadata": {},
   "outputs": [],
   "source": [
    "t3=score(y_test_l,pred_lt)"
   ]
  },
  {
   "cell_type": "code",
   "execution_count": 382,
   "id": "9e8bb684",
   "metadata": {},
   "outputs": [],
   "source": [
    "test_score=pd.DataFrame([t1,t2,t3],columns=['정확도','정밀도','재현율','F1 score','ROC_AUC'],index=['Standard(best)','Min-Max(best)','Log(best)'])"
   ]
  },
  {
   "cell_type": "code",
   "execution_count": 383,
   "id": "41acdf74",
   "metadata": {
    "scrolled": true
   },
   "outputs": [
    {
     "data": {
      "text/html": [
       "<div>\n",
       "<style scoped>\n",
       "    .dataframe tbody tr th:only-of-type {\n",
       "        vertical-align: middle;\n",
       "    }\n",
       "\n",
       "    .dataframe tbody tr th {\n",
       "        vertical-align: top;\n",
       "    }\n",
       "\n",
       "    .dataframe thead th {\n",
       "        text-align: right;\n",
       "    }\n",
       "</style>\n",
       "<table border=\"1\" class=\"dataframe\">\n",
       "  <thead>\n",
       "    <tr style=\"text-align: right;\">\n",
       "      <th></th>\n",
       "      <th>정확도</th>\n",
       "      <th>정밀도</th>\n",
       "      <th>재현율</th>\n",
       "      <th>F1 score</th>\n",
       "      <th>ROC_AUC</th>\n",
       "    </tr>\n",
       "  </thead>\n",
       "  <tbody>\n",
       "    <tr>\n",
       "      <th>Standard(best)</th>\n",
       "      <td>0.792172</td>\n",
       "      <td>0.702537</td>\n",
       "      <td>0.755788</td>\n",
       "      <td>0.728191</td>\n",
       "      <td>0.784588</td>\n",
       "    </tr>\n",
       "    <tr>\n",
       "      <th>Min-Max(best)</th>\n",
       "      <td>0.765957</td>\n",
       "      <td>0.662467</td>\n",
       "      <td>0.743359</td>\n",
       "      <td>0.700586</td>\n",
       "      <td>0.761247</td>\n",
       "    </tr>\n",
       "    <tr>\n",
       "      <th>Log(best)</th>\n",
       "      <td>0.762815</td>\n",
       "      <td>0.653887</td>\n",
       "      <td>0.756520</td>\n",
       "      <td>0.701469</td>\n",
       "      <td>0.761503</td>\n",
       "    </tr>\n",
       "  </tbody>\n",
       "</table>\n",
       "</div>"
      ],
      "text/plain": [
       "                     정확도       정밀도       재현율  F1 score   ROC_AUC\n",
       "Standard(best)  0.792172  0.702537  0.755788  0.728191  0.784588\n",
       "Min-Max(best)   0.765957  0.662467  0.743359  0.700586  0.761247\n",
       "Log(best)       0.762815  0.653887  0.756520  0.701469  0.761503"
      ]
     },
     "execution_count": 383,
     "metadata": {},
     "output_type": "execute_result"
    }
   ],
   "source": [
    "test_score"
   ]
  },
  {
   "cell_type": "markdown",
   "id": "adf2919a",
   "metadata": {},
   "source": [
    "## 최종 모델 선택"
   ]
  },
  {
   "cell_type": "code",
   "execution_count": 147,
   "id": "a730263e",
   "metadata": {},
   "outputs": [],
   "source": [
    "import seaborn as sns"
   ]
  },
  {
   "cell_type": "code",
   "execution_count": 223,
   "id": "956bcfaf",
   "metadata": {
    "scrolled": true
   },
   "outputs": [],
   "source": [
    "standard_tr=pd.DataFrame(data=cm_s, columns=['Predict Negative:0','Predict Positive:1'], \n",
    "                                 index=['Actual Negative:0','Actual Positive:1'])"
   ]
  },
  {
   "cell_type": "code",
   "execution_count": 224,
   "id": "59ef2f4a",
   "metadata": {},
   "outputs": [
    {
     "data": {
      "text/html": [
       "<div>\n",
       "<style scoped>\n",
       "    .dataframe tbody tr th:only-of-type {\n",
       "        vertical-align: middle;\n",
       "    }\n",
       "\n",
       "    .dataframe tbody tr th {\n",
       "        vertical-align: top;\n",
       "    }\n",
       "\n",
       "    .dataframe thead th {\n",
       "        text-align: right;\n",
       "    }\n",
       "</style>\n",
       "<table border=\"1\" class=\"dataframe\">\n",
       "  <thead>\n",
       "    <tr style=\"text-align: right;\">\n",
       "      <th></th>\n",
       "      <th>Predict Negative:0</th>\n",
       "      <th>Predict Positive:1</th>\n",
       "    </tr>\n",
       "  </thead>\n",
       "  <tbody>\n",
       "    <tr>\n",
       "      <th>Actual Negative:0</th>\n",
       "      <td>22955</td>\n",
       "      <td>5246</td>\n",
       "    </tr>\n",
       "    <tr>\n",
       "      <th>Actual Positive:1</th>\n",
       "      <td>3947</td>\n",
       "      <td>12405</td>\n",
       "    </tr>\n",
       "  </tbody>\n",
       "</table>\n",
       "</div>"
      ],
      "text/plain": [
       "                   Predict Negative:0  Predict Positive:1\n",
       "Actual Negative:0               22955                5246\n",
       "Actual Positive:1                3947               12405"
      ]
     },
     "execution_count": 224,
     "metadata": {},
     "output_type": "execute_result"
    }
   ],
   "source": [
    "standard_tr"
   ]
  },
  {
   "cell_type": "code",
   "execution_count": 225,
   "id": "132ce4f4",
   "metadata": {
    "scrolled": false
   },
   "outputs": [
    {
     "data": {
      "text/plain": [
       "<AxesSubplot:>"
      ]
     },
     "execution_count": 225,
     "metadata": {},
     "output_type": "execute_result"
    },
    {
     "data": {
      "image/png": "[encoded data removed]",
      "text/plain": [
       "<Figure size 432x288 with 2 Axes>"
      ]
     },
     "metadata": {
      "needs_background": "light"
     },
     "output_type": "display_data"
    }
   ],
   "source": [
    "sns.heatmap(standard_tr, annot=True, fmt='d', cmap='BuGn_r')"
   ]
  },
  {
   "cell_type": "code",
   "execution_count": 226,
   "id": "6e0abd89",
   "metadata": {},
   "outputs": [],
   "source": [
    "standard_te=pd.DataFrame(data=cm_st, columns=['Predict Negative:0','Predict Positive:1'], \n",
    "                                 index=['Actual Negative:0','Actual Positive:1'])"
   ]
  },
  {
   "cell_type": "code",
   "execution_count": 227,
   "id": "14082a04",
   "metadata": {},
   "outputs": [
    {
     "data": {
      "text/html": [
       "<div>\n",
       "<style scoped>\n",
       "    .dataframe tbody tr th:only-of-type {\n",
       "        vertical-align: middle;\n",
       "    }\n",
       "\n",
       "    .dataframe tbody tr th {\n",
       "        vertical-align: top;\n",
       "    }\n",
       "\n",
       "    .dataframe thead th {\n",
       "        text-align: right;\n",
       "    }\n",
       "</style>\n",
       "<table border=\"1\" class=\"dataframe\">\n",
       "  <thead>\n",
       "    <tr style=\"text-align: right;\">\n",
       "      <th></th>\n",
       "      <th>Predict Negative:0</th>\n",
       "      <th>Predict Positive:1</th>\n",
       "    </tr>\n",
       "  </thead>\n",
       "  <tbody>\n",
       "    <tr>\n",
       "      <th>Actual Negative:0</th>\n",
       "      <td>5723</td>\n",
       "      <td>1313</td>\n",
       "    </tr>\n",
       "    <tr>\n",
       "      <th>Actual Positive:1</th>\n",
       "      <td>1002</td>\n",
       "      <td>3101</td>\n",
       "    </tr>\n",
       "  </tbody>\n",
       "</table>\n",
       "</div>"
      ],
      "text/plain": [
       "                   Predict Negative:0  Predict Positive:1\n",
       "Actual Negative:0                5723                1313\n",
       "Actual Positive:1                1002                3101"
      ]
     },
     "execution_count": 227,
     "metadata": {},
     "output_type": "execute_result"
    }
   ],
   "source": [
    "standard_te"
   ]
  },
  {
   "cell_type": "code",
   "execution_count": 228,
   "id": "c0aafac3",
   "metadata": {
    "scrolled": true
   },
   "outputs": [
    {
     "data": {
      "text/plain": [
       "<AxesSubplot:>"
      ]
     },
     "execution_count": 228,
     "metadata": {},
     "output_type": "execute_result"
    },
    {
     "data": {
      "image/png": "[encoded data removed]",
      "text/plain": [
       "<Figure size 432x288 with 2 Axes>"
      ]
     },
     "metadata": {
      "needs_background": "light"
     },
     "output_type": "display_data"
    }
   ],
   "source": [
    "sns.heatmap(standard_te, annot=True, fmt='d', cmap='BuGn_r')"
   ]
  },
  {
   "cell_type": "markdown",
   "id": "f6e7ccb2",
   "metadata": {},
   "source": [
    "- Gridsearchcv결과"
   ]
  },
  {
   "cell_type": "code",
   "execution_count": 232,
   "id": "9b86d869",
   "metadata": {},
   "outputs": [],
   "source": [
    "best_param=pd.DataFrame([best.best_params_,best_m.best_params_,best_l.best_params_],index=['best_standard','best_min-max','best_log'])"
   ]
  },
  {
   "cell_type": "code",
   "execution_count": 102,
   "id": "8e880815",
   "metadata": {},
   "outputs": [],
   "source": [
    "score=['정확도','정밀도','재현율','F1 score','ROC_AUC']"
   ]
  },
  {
   "cell_type": "code",
   "execution_count": 233,
   "id": "47f64791",
   "metadata": {
    "scrolled": true
   },
   "outputs": [
    {
     "data": {
      "text/html": [
       "<div>\n",
       "<style scoped>\n",
       "    .dataframe tbody tr th:only-of-type {\n",
       "        vertical-align: middle;\n",
       "    }\n",
       "\n",
       "    .dataframe tbody tr th {\n",
       "        vertical-align: top;\n",
       "    }\n",
       "\n",
       "    .dataframe thead th {\n",
       "        text-align: right;\n",
       "    }\n",
       "</style>\n",
       "<table border=\"1\" class=\"dataframe\">\n",
       "  <thead>\n",
       "    <tr style=\"text-align: right;\">\n",
       "      <th></th>\n",
       "      <th>C</th>\n",
       "      <th>gamma</th>\n",
       "      <th>kernel</th>\n",
       "    </tr>\n",
       "  </thead>\n",
       "  <tbody>\n",
       "    <tr>\n",
       "      <th>best_standard</th>\n",
       "      <td>3</td>\n",
       "      <td>auto</td>\n",
       "      <td>rbf</td>\n",
       "    </tr>\n",
       "    <tr>\n",
       "      <th>best_min-max</th>\n",
       "      <td>50</td>\n",
       "      <td>scale</td>\n",
       "      <td>rbf</td>\n",
       "    </tr>\n",
       "    <tr>\n",
       "      <th>best_log</th>\n",
       "      <td>50</td>\n",
       "      <td>auto</td>\n",
       "      <td>rbf</td>\n",
       "    </tr>\n",
       "  </tbody>\n",
       "</table>\n",
       "</div>"
      ],
      "text/plain": [
       "                C  gamma kernel\n",
       "best_standard   3   auto    rbf\n",
       "best_min-max   50  scale    rbf\n",
       "best_log       50   auto    rbf"
      ]
     },
     "execution_count": 233,
     "metadata": {},
     "output_type": "execute_result"
    }
   ],
   "source": [
    "best_param"
   ]
  },
  {
   "cell_type": "markdown",
   "id": "12cf55c0",
   "metadata": {},
   "source": [
    "#  결론 : Standard scaling이 가장 좋은 성능을 보임"
   ]
  },
  {
   "cell_type": "code",
   "execution_count": 243,
   "id": "a78ecb4a",
   "metadata": {},
   "outputs": [],
   "source": [
    "y=[result_s.loc[5,'mean_test_score'],result_m.loc[5,'mean_test_score'],result_l.loc[5,'mean_test_score']]"
   ]
  },
  {
   "cell_type": "code",
   "execution_count": 244,
   "id": "9c9cc237",
   "metadata": {},
   "outputs": [],
   "source": [
    "x=['Standard','Min-Max','Log']"
   ]
  },
  {
   "cell_type": "code",
   "execution_count": 306,
   "id": "1fbc1e28",
   "metadata": {
    "scrolled": true
   },
   "outputs": [
    {
     "data": {
      "text/html": [
       "<div>\n",
       "<style scoped>\n",
       "    .dataframe tbody tr th:only-of-type {\n",
       "        vertical-align: middle;\n",
       "    }\n",
       "\n",
       "    .dataframe tbody tr th {\n",
       "        vertical-align: top;\n",
       "    }\n",
       "\n",
       "    .dataframe thead th {\n",
       "        text-align: right;\n",
       "    }\n",
       "</style>\n",
       "<table border=\"1\" class=\"dataframe\">\n",
       "  <thead>\n",
       "    <tr style=\"text-align: right;\">\n",
       "      <th></th>\n",
       "      <th>정확도</th>\n",
       "      <th>정밀도</th>\n",
       "      <th>재현율</th>\n",
       "      <th>F1 score</th>\n",
       "      <th>ROC_AUC</th>\n",
       "    </tr>\n",
       "  </thead>\n",
       "  <tbody>\n",
       "    <tr>\n",
       "      <th>Standard</th>\n",
       "      <td>0.793661</td>\n",
       "      <td>0.702793</td>\n",
       "      <td>0.758623</td>\n",
       "      <td>0.729642</td>\n",
       "      <td>0.786301</td>\n",
       "    </tr>\n",
       "    <tr>\n",
       "      <th>Min-Max</th>\n",
       "      <td>0.764348</td>\n",
       "      <td>0.658283</td>\n",
       "      <td>0.744313</td>\n",
       "      <td>0.698660</td>\n",
       "      <td>0.760139</td>\n",
       "    </tr>\n",
       "    <tr>\n",
       "      <th>Log</th>\n",
       "      <td>0.763203</td>\n",
       "      <td>0.652877</td>\n",
       "      <td>0.757644</td>\n",
       "      <td>0.701370</td>\n",
       "      <td>0.762036</td>\n",
       "    </tr>\n",
       "  </tbody>\n",
       "</table>\n",
       "</div>"
      ],
      "text/plain": [
       "               정확도       정밀도       재현율  F1 score   ROC_AUC\n",
       "Standard  0.793661  0.702793  0.758623  0.729642  0.786301\n",
       "Min-Max   0.764348  0.658283  0.744313  0.698660  0.760139\n",
       "Log       0.763203  0.652877  0.757644  0.701370  0.762036"
      ]
     },
     "execution_count": 306,
     "metadata": {},
     "output_type": "execute_result"
    }
   ],
   "source": [
    "train_score"
   ]
  },
  {
   "cell_type": "code",
   "execution_count": null,
   "id": "81b869df",
   "metadata": {},
   "outputs": [],
   "source": []
  },
  {
   "cell_type": "code",
   "execution_count": 144,
   "id": "9b19c2e0",
   "metadata": {},
   "outputs": [],
   "source": [
    "standard_tr = pd.DataFrame(data=cm_s, columns=['Actual Positive:1', 'Actual Negative:0'], \n",
    "                                 index=['Predict Positive:1', 'Predict Negative:0'])"
   ]
  },
  {
   "cell_type": "code",
   "execution_count": 256,
   "id": "fa1edff5",
   "metadata": {},
   "outputs": [],
   "source": [
    "y1=[base_st,base_m,base_l]"
   ]
  },
  {
   "cell_type": "code",
   "execution_count": 359,
   "id": "939243b4",
   "metadata": {
    "scrolled": false
   },
   "outputs": [
    {
     "data": {
      "text/html": [
       "<div>\n",
       "<style scoped>\n",
       "    .dataframe tbody tr th:only-of-type {\n",
       "        vertical-align: middle;\n",
       "    }\n",
       "\n",
       "    .dataframe tbody tr th {\n",
       "        vertical-align: top;\n",
       "    }\n",
       "\n",
       "    .dataframe thead th {\n",
       "        text-align: right;\n",
       "    }\n",
       "</style>\n",
       "<table border=\"1\" class=\"dataframe\">\n",
       "  <thead>\n",
       "    <tr style=\"text-align: right;\">\n",
       "      <th></th>\n",
       "      <th>Standard</th>\n",
       "      <th>Min-Max</th>\n",
       "      <th>Log</th>\n",
       "    </tr>\n",
       "  </thead>\n",
       "  <tbody>\n",
       "    <tr>\n",
       "      <th>정확도</th>\n",
       "      <td>0.792172</td>\n",
       "      <td>0.765957</td>\n",
       "      <td>0.762815</td>\n",
       "    </tr>\n",
       "    <tr>\n",
       "      <th>정밀도</th>\n",
       "      <td>0.702537</td>\n",
       "      <td>0.662467</td>\n",
       "      <td>0.653887</td>\n",
       "    </tr>\n",
       "    <tr>\n",
       "      <th>재현율</th>\n",
       "      <td>0.755788</td>\n",
       "      <td>0.743359</td>\n",
       "      <td>0.756520</td>\n",
       "    </tr>\n",
       "    <tr>\n",
       "      <th>F1 score</th>\n",
       "      <td>0.728191</td>\n",
       "      <td>0.700586</td>\n",
       "      <td>0.701469</td>\n",
       "    </tr>\n",
       "    <tr>\n",
       "      <th>ROC_AUC</th>\n",
       "      <td>0.784588</td>\n",
       "      <td>0.761247</td>\n",
       "      <td>0.761503</td>\n",
       "    </tr>\n",
       "  </tbody>\n",
       "</table>\n",
       "</div>"
      ],
      "text/plain": [
       "          Standard   Min-Max       Log\n",
       "정확도       0.792172  0.765957  0.762815\n",
       "정밀도       0.702537  0.662467  0.653887\n",
       "재현율       0.755788  0.743359  0.756520\n",
       "F1 score  0.728191  0.700586  0.701469\n",
       "ROC_AUC   0.784588  0.761247  0.761503"
      ]
     },
     "execution_count": 359,
     "metadata": {},
     "output_type": "execute_result"
    }
   ],
   "source": [
    "test_score.T"
   ]
  },
  {
   "cell_type": "code",
   "execution_count": 364,
   "id": "46cf8f0e",
   "metadata": {},
   "outputs": [
    {
     "data": {
      "text/html": [
       "<div>\n",
       "<style scoped>\n",
       "    .dataframe tbody tr th:only-of-type {\n",
       "        vertical-align: middle;\n",
       "    }\n",
       "\n",
       "    .dataframe tbody tr th {\n",
       "        vertical-align: top;\n",
       "    }\n",
       "\n",
       "    .dataframe thead th {\n",
       "        text-align: right;\n",
       "    }\n",
       "</style>\n",
       "<table border=\"1\" class=\"dataframe\">\n",
       "  <thead>\n",
       "    <tr style=\"text-align: right;\">\n",
       "      <th></th>\n",
       "      <th>정확도</th>\n",
       "      <th>정밀도</th>\n",
       "      <th>재현율</th>\n",
       "      <th>F1 score</th>\n",
       "      <th>ROC_AUC</th>\n",
       "    </tr>\n",
       "  </thead>\n",
       "  <tbody>\n",
       "    <tr>\n",
       "      <th>Standard</th>\n",
       "      <td>0.792172</td>\n",
       "      <td>0.702537</td>\n",
       "      <td>0.755788</td>\n",
       "      <td>0.728191</td>\n",
       "      <td>0.784588</td>\n",
       "    </tr>\n",
       "    <tr>\n",
       "      <th>Min-Max</th>\n",
       "      <td>0.765957</td>\n",
       "      <td>0.662467</td>\n",
       "      <td>0.743359</td>\n",
       "      <td>0.700586</td>\n",
       "      <td>0.761247</td>\n",
       "    </tr>\n",
       "    <tr>\n",
       "      <th>Log</th>\n",
       "      <td>0.762815</td>\n",
       "      <td>0.653887</td>\n",
       "      <td>0.756520</td>\n",
       "      <td>0.701469</td>\n",
       "      <td>0.761503</td>\n",
       "    </tr>\n",
       "  </tbody>\n",
       "</table>\n",
       "</div>"
      ],
      "text/plain": [
       "               정확도       정밀도       재현율  F1 score   ROC_AUC\n",
       "Standard  0.792172  0.702537  0.755788  0.728191  0.784588\n",
       "Min-Max   0.765957  0.662467  0.743359  0.700586  0.761247\n",
       "Log       0.762815  0.653887  0.756520  0.701469  0.761503"
      ]
     },
     "execution_count": 364,
     "metadata": {},
     "output_type": "execute_result"
    }
   ],
   "source": [
    "test_score"
   ]
  },
  {
   "cell_type": "code",
   "execution_count": 356,
   "id": "de126007",
   "metadata": {
    "scrolled": false
   },
   "outputs": [
    {
     "data": {
      "text/html": [
       "<div>\n",
       "<style scoped>\n",
       "    .dataframe tbody tr th:only-of-type {\n",
       "        vertical-align: middle;\n",
       "    }\n",
       "\n",
       "    .dataframe tbody tr th {\n",
       "        vertical-align: top;\n",
       "    }\n",
       "\n",
       "    .dataframe thead th {\n",
       "        text-align: right;\n",
       "    }\n",
       "</style>\n",
       "<table border=\"1\" class=\"dataframe\">\n",
       "  <thead>\n",
       "    <tr style=\"text-align: right;\">\n",
       "      <th></th>\n",
       "      <th>정확도</th>\n",
       "      <th>정밀도</th>\n",
       "      <th>재현율</th>\n",
       "      <th>F1 score</th>\n",
       "      <th>ROC_AUC</th>\n",
       "    </tr>\n",
       "  </thead>\n",
       "  <tbody>\n",
       "    <tr>\n",
       "      <th>base</th>\n",
       "      <td>0.735883</td>\n",
       "      <td>0.675113</td>\n",
       "      <td>0.545455</td>\n",
       "      <td>0.603397</td>\n",
       "      <td>0.696192</td>\n",
       "    </tr>\n",
       "    <tr>\n",
       "      <th>Standard</th>\n",
       "      <td>0.780643</td>\n",
       "      <td>0.683535</td>\n",
       "      <td>0.749205</td>\n",
       "      <td>0.714865</td>\n",
       "      <td>0.774039</td>\n",
       "    </tr>\n",
       "    <tr>\n",
       "      <th>Min-Max</th>\n",
       "      <td>0.742195</td>\n",
       "      <td>0.622274</td>\n",
       "      <td>0.757216</td>\n",
       "      <td>0.683145</td>\n",
       "      <td>0.745350</td>\n",
       "    </tr>\n",
       "    <tr>\n",
       "      <th>Log</th>\n",
       "      <td>0.751913</td>\n",
       "      <td>0.635351</td>\n",
       "      <td>0.760580</td>\n",
       "      <td>0.692348</td>\n",
       "      <td>0.753734</td>\n",
       "    </tr>\n",
       "  </tbody>\n",
       "</table>\n",
       "</div>"
      ],
      "text/plain": [
       "               정확도       정밀도       재현율  F1 score   ROC_AUC\n",
       "base      0.735883  0.675113  0.545455  0.603397  0.696192\n",
       "Standard  0.780643  0.683535  0.749205  0.714865  0.774039\n",
       "Min-Max   0.742195  0.622274  0.757216  0.683145  0.745350\n",
       "Log       0.751913  0.635351  0.760580  0.692348  0.753734"
      ]
     },
     "execution_count": 356,
     "metadata": {},
     "output_type": "execute_result"
    }
   ],
   "source": [
    "base_f"
   ]
  },
  {
   "cell_type": "code",
   "execution_count": 384,
   "id": "9b213c5b",
   "metadata": {},
   "outputs": [],
   "source": [
    "result=pd.concat([base_f,test_score],axis=0)"
   ]
  },
  {
   "cell_type": "code",
   "execution_count": 385,
   "id": "08d82be0",
   "metadata": {},
   "outputs": [
    {
     "data": {
      "text/html": [
       "<div>\n",
       "<style scoped>\n",
       "    .dataframe tbody tr th:only-of-type {\n",
       "        vertical-align: middle;\n",
       "    }\n",
       "\n",
       "    .dataframe tbody tr th {\n",
       "        vertical-align: top;\n",
       "    }\n",
       "\n",
       "    .dataframe thead th {\n",
       "        text-align: right;\n",
       "    }\n",
       "</style>\n",
       "<table border=\"1\" class=\"dataframe\">\n",
       "  <thead>\n",
       "    <tr style=\"text-align: right;\">\n",
       "      <th></th>\n",
       "      <th>정확도</th>\n",
       "      <th>정밀도</th>\n",
       "      <th>재현율</th>\n",
       "      <th>F1 score</th>\n",
       "      <th>ROC_AUC</th>\n",
       "    </tr>\n",
       "  </thead>\n",
       "  <tbody>\n",
       "    <tr>\n",
       "      <th>base</th>\n",
       "      <td>0.735883</td>\n",
       "      <td>0.675113</td>\n",
       "      <td>0.545455</td>\n",
       "      <td>0.603397</td>\n",
       "      <td>0.696192</td>\n",
       "    </tr>\n",
       "    <tr>\n",
       "      <th>Standard</th>\n",
       "      <td>0.780643</td>\n",
       "      <td>0.683535</td>\n",
       "      <td>0.749205</td>\n",
       "      <td>0.714865</td>\n",
       "      <td>0.774039</td>\n",
       "    </tr>\n",
       "    <tr>\n",
       "      <th>Min-Max</th>\n",
       "      <td>0.742195</td>\n",
       "      <td>0.622274</td>\n",
       "      <td>0.757216</td>\n",
       "      <td>0.683145</td>\n",
       "      <td>0.745350</td>\n",
       "    </tr>\n",
       "    <tr>\n",
       "      <th>Log</th>\n",
       "      <td>0.751913</td>\n",
       "      <td>0.635351</td>\n",
       "      <td>0.760580</td>\n",
       "      <td>0.692348</td>\n",
       "      <td>0.753734</td>\n",
       "    </tr>\n",
       "    <tr>\n",
       "      <th>Standard(best)</th>\n",
       "      <td>0.792172</td>\n",
       "      <td>0.702537</td>\n",
       "      <td>0.755788</td>\n",
       "      <td>0.728191</td>\n",
       "      <td>0.784588</td>\n",
       "    </tr>\n",
       "    <tr>\n",
       "      <th>Min-Max(best)</th>\n",
       "      <td>0.765957</td>\n",
       "      <td>0.662467</td>\n",
       "      <td>0.743359</td>\n",
       "      <td>0.700586</td>\n",
       "      <td>0.761247</td>\n",
       "    </tr>\n",
       "    <tr>\n",
       "      <th>Log(best)</th>\n",
       "      <td>0.762815</td>\n",
       "      <td>0.653887</td>\n",
       "      <td>0.756520</td>\n",
       "      <td>0.701469</td>\n",
       "      <td>0.761503</td>\n",
       "    </tr>\n",
       "  </tbody>\n",
       "</table>\n",
       "</div>"
      ],
      "text/plain": [
       "                     정확도       정밀도       재현율  F1 score   ROC_AUC\n",
       "base            0.735883  0.675113  0.545455  0.603397  0.696192\n",
       "Standard        0.780643  0.683535  0.749205  0.714865  0.774039\n",
       "Min-Max         0.742195  0.622274  0.757216  0.683145  0.745350\n",
       "Log             0.751913  0.635351  0.760580  0.692348  0.753734\n",
       "Standard(best)  0.792172  0.702537  0.755788  0.728191  0.784588\n",
       "Min-Max(best)   0.765957  0.662467  0.743359  0.700586  0.761247\n",
       "Log(best)       0.762815  0.653887  0.756520  0.701469  0.761503"
      ]
     },
     "execution_count": 385,
     "metadata": {},
     "output_type": "execute_result"
    }
   ],
   "source": [
    "result"
   ]
  },
  {
   "cell_type": "code",
   "execution_count": 370,
   "id": "046cd9ab",
   "metadata": {},
   "outputs": [],
   "source": [
    "import matplotlib.pyplot as plt"
   ]
  },
  {
   "cell_type": "code",
   "execution_count": 389,
   "id": "db81d2e3",
   "metadata": {},
   "outputs": [],
   "source": [
    "# 한글 문제\n",
    "# matplotlit의 기본 폰트에서 한글 지원되지 않기 때문에\n",
    "# matplotlib의 폰트 변경 필요\n",
    "import platform\n",
    "\n",
    "from matplotlib import font_manager, rc\n",
    "plt.rcParams['axes.unicode_minus'] = False\n",
    "\n",
    "if platform.system() == 'Darwin':  # 맥OS \n",
    "    rc('font', family='AppleGothic')\n",
    "elif platform.system() == 'Windows':  # 윈도우\n",
    "    path = \"c:/Windows/Fonts/malgun.ttf\"\n",
    "    font_name = font_manager.FontProperties(fname=path).get_name()\n",
    "    rc('font', family=font_name)\n",
    "else:\n",
    "    print('Unknown system...  sorry~~~')"
   ]
  },
  {
   "cell_type": "code",
   "execution_count": 390,
   "id": "1f435c5f",
   "metadata": {},
   "outputs": [],
   "source": [
    "def bar_graph(col_name):\n",
    "    result[col_name].plot(kind='bar',color = '#4999B6')\n",
    "    for i in range(0, 7):\n",
    "        if result[col_name][i]==result[col_name].max():\n",
    "            plt.text(i-0.25,result[col_name][i],round(result[col_name][i],3),color = 'red')\n",
    "\n",
    "        else:\n",
    "            plt.text(i-0.25,result[col_name][i],round(result[col_name][i],3))\n",
    "    plt.xticks(rotation=70)\n",
    "    plt.yticks(np.arange(0,1,0.3))\n",
    "    plt.title('모델별'+col_name)"
   ]
  },
  {
   "cell_type": "code",
   "execution_count": 391,
   "id": "26b271bd",
   "metadata": {},
   "outputs": [
    {
     "data": {
      "image/png": "[encoded data removed]",
      "text/plain": [
       "<Figure size 432x288 with 1 Axes>"
      ]
     },
     "metadata": {
      "needs_background": "light"
     },
     "output_type": "display_data"
    }
   ],
   "source": [
    "bar_graph('정확도')"
   ]
  },
  {
   "cell_type": "code",
   "execution_count": 392,
   "id": "3bdefefd",
   "metadata": {},
   "outputs": [
    {
     "data": {
      "image/png": "[encoded data removed]",
      "text/plain": [
       "<Figure size 432x288 with 1 Axes>"
      ]
     },
     "metadata": {
      "needs_background": "light"
     },
     "output_type": "display_data"
    }
   ],
   "source": [
    "bar_graph('정밀도')"
   ]
  },
  {
   "cell_type": "code",
   "execution_count": 393,
   "id": "cd0439f0",
   "metadata": {
    "scrolled": true
   },
   "outputs": [
    {
     "data": {
      "image/png": "[encoded data removed]",
      "text/plain": [
       "<Figure size 432x288 with 1 Axes>"
      ]
     },
     "metadata": {
      "needs_background": "light"
     },
     "output_type": "display_data"
    }
   ],
   "source": [
    "bar_graph('재현율')"
   ]
  },
  {
   "cell_type": "code",
   "execution_count": 405,
   "id": "18b861d5",
   "metadata": {},
   "outputs": [
    {
     "data": {
      "image/png": "[encoded data removed]",
      "text/plain": [
       "<Figure size 432x288 with 1 Axes>"
      ]
     },
     "metadata": {
      "needs_background": "light"
     },
     "output_type": "display_data"
    }
   ],
   "source": [
    "bar_graph('F1 score')"
   ]
  },
  {
   "cell_type": "code",
   "execution_count": 404,
   "id": "53292006",
   "metadata": {},
   "outputs": [
    {
     "data": {
      "image/png": "[encoded data removed]",
      "text/plain": [
       "<Figure size 432x288 with 1 Axes>"
      ]
     },
     "metadata": {
      "needs_background": "light"
     },
     "output_type": "display_data"
    }
   ],
   "source": [
    "bar_graph('ROC_AUC')"
   ]
  },
  {
   "cell_type": "code",
   "execution_count": null,
   "id": "1eefa1d9",
   "metadata": {},
   "outputs": [],
   "source": [
    "bar_graph('')"
   ]
  },
  {
   "cell_type": "code",
   "execution_count": 400,
   "id": "853cd76a",
   "metadata": {},
   "outputs": [],
   "source": [
    "def bar_graph_model(num,num2,color):\n",
    "    result.iloc[num].plot(kind='bar',color = color)\n",
    "    for i in range(0, 5):\n",
    "            plt.text(i-0.25,result.iloc[num][i],round(result.iloc[num][i],3))\n",
    "    plt.xticks(rotation=45)\n",
    "    plt.yticks(np.arange(0,1,0.3))\n",
    "    plt.title(result.index[num]+'&'+result.index[num2])\n",
    "    plt.legend()"
   ]
  },
  {
   "cell_type": "code",
   "execution_count": 410,
   "id": "535acec0",
   "metadata": {},
   "outputs": [
    {
     "data": {
      "image/png": "[encoded data removed]",
      "text/plain": [
       "<Figure size 720x576 with 1 Axes>"
      ]
     },
     "metadata": {
      "needs_background": "light"
     },
     "output_type": "display_data"
    }
   ],
   "source": [
    "plt.figure(figsize=(10,8))\n",
    "bar_graph_model(4,1,'#4999B6')\n",
    "bar_graph_model(0,1,'#FEFDA3')"
   ]
  },
  {
   "cell_type": "code",
   "execution_count": 411,
   "id": "0cdb46ee",
   "metadata": {},
   "outputs": [
    {
     "data": {
      "text/plain": [
       "11139"
      ]
     },
     "execution_count": 411,
     "metadata": {},
     "output_type": "execute_result"
    }
   ],
   "source": [
    "len(x_test_s)"
   ]
  },
  {
   "cell_type": "code",
   "execution_count": null,
   "id": "23aaf87a",
   "metadata": {},
   "outputs": [],
   "source": []
  },
  {
   "cell_type": "code",
   "execution_count": null,
   "id": "e10208dd",
   "metadata": {},
   "outputs": [],
   "source": []
  },
  {
   "cell_type": "code",
   "execution_count": null,
   "id": "334af8e2",
   "metadata": {},
   "outputs": [],
   "source": []
  },
  {
   "cell_type": "code",
   "execution_count": null,
   "id": "9bcc4fa3",
   "metadata": {},
   "outputs": [],
   "source": []
  },
  {
   "cell_type": "code",
   "execution_count": null,
   "id": "f890b02f",
   "metadata": {},
   "outputs": [],
   "source": []
  },
  {
   "cell_type": "code",
   "execution_count": null,
   "id": "dfb31c10",
   "metadata": {},
   "outputs": [],
   "source": []
  },
  {
   "cell_type": "code",
   "execution_count": null,
   "id": "9fb901ea",
   "metadata": {},
   "outputs": [],
   "source": []
  },
  {
   "cell_type": "code",
   "execution_count": null,
   "id": "20a11d03",
   "metadata": {},
   "outputs": [],
   "source": []
  },
  {
   "cell_type": "code",
   "execution_count": null,
   "id": "7a24594b",
   "metadata": {},
   "outputs": [],
   "source": []
  },
  {
   "cell_type": "code",
   "execution_count": null,
   "id": "265def84",
   "metadata": {},
   "outputs": [],
   "source": []
  },
  {
   "cell_type": "code",
   "execution_count": null,
   "id": "10312e72",
   "metadata": {},
   "outputs": [],
   "source": []
  },
  {
   "cell_type": "code",
   "execution_count": null,
   "id": "e9cb5e26",
   "metadata": {},
   "outputs": [],
   "source": []
  },
  {
   "cell_type": "code",
   "execution_count": null,
   "id": "488c13f9",
   "metadata": {},
   "outputs": [],
   "source": []
  },
  {
   "cell_type": "code",
   "execution_count": null,
   "id": "abfe14f1",
   "metadata": {},
   "outputs": [],
   "source": []
  },
  {
   "cell_type": "code",
   "execution_count": null,
   "id": "bf82f408",
   "metadata": {},
   "outputs": [],
   "source": []
  },
  {
   "cell_type": "code",
   "execution_count": null,
   "id": "29afdb12",
   "metadata": {},
   "outputs": [],
   "source": []
  },
  {
   "cell_type": "code",
   "execution_count": null,
   "id": "9f6e52ca",
   "metadata": {},
   "outputs": [],
   "source": []
  },
  {
   "cell_type": "code",
   "execution_count": null,
   "id": "4c1cf42e",
   "metadata": {},
   "outputs": [],
   "source": []
  },
  {
   "cell_type": "code",
   "execution_count": null,
   "id": "cc54a8c6",
   "metadata": {},
   "outputs": [],
   "source": []
  },
  {
   "cell_type": "code",
   "execution_count": null,
   "id": "dbb0897d",
   "metadata": {},
   "outputs": [],
   "source": []
  },
  {
   "cell_type": "code",
   "execution_count": null,
   "id": "5bea5d5c",
   "metadata": {},
   "outputs": [],
   "source": []
  },
  {
   "cell_type": "code",
   "execution_count": 355,
   "id": "e102aedf",
   "metadata": {},
   "outputs": [],
   "source": [
    "base_f=pd.DataFrame([exba,b1,b2,b3],index=['base','Standard','Min-Max','Log'],columns=['정확도','정밀도','재현율','F1 score','ROC_AUC'])"
   ]
  },
  {
   "cell_type": "code",
   "execution_count": 269,
   "id": "fde23bc4",
   "metadata": {},
   "outputs": [
    {
     "data": {
      "text/html": [
       "<div>\n",
       "<style scoped>\n",
       "    .dataframe tbody tr th:only-of-type {\n",
       "        vertical-align: middle;\n",
       "    }\n",
       "\n",
       "    .dataframe tbody tr th {\n",
       "        vertical-align: top;\n",
       "    }\n",
       "\n",
       "    .dataframe thead th {\n",
       "        text-align: right;\n",
       "    }\n",
       "</style>\n",
       "<table border=\"1\" class=\"dataframe\">\n",
       "  <thead>\n",
       "    <tr style=\"text-align: right;\">\n",
       "      <th></th>\n",
       "      <th>accuracy</th>\n",
       "    </tr>\n",
       "  </thead>\n",
       "  <tbody>\n",
       "    <tr>\n",
       "      <th>Standard</th>\n",
       "      <td>0.780643</td>\n",
       "    </tr>\n",
       "    <tr>\n",
       "      <th>Min-Max</th>\n",
       "      <td>0.742195</td>\n",
       "    </tr>\n",
       "    <tr>\n",
       "      <th>Log</th>\n",
       "      <td>0.751913</td>\n",
       "    </tr>\n",
       "  </tbody>\n",
       "</table>\n",
       "</div>"
      ],
      "text/plain": [
       "          accuracy\n",
       "Standard  0.780643\n",
       "Min-Max   0.742195\n",
       "Log       0.751913"
      ]
     },
     "execution_count": 269,
     "metadata": {},
     "output_type": "execute_result"
    }
   ],
   "source": [
    "pd.DataFrame(evaluate,index=['Standard','Min-Max','Log'],columns=['accuracy'])"
   ]
  },
  {
   "cell_type": "code",
   "execution_count": 263,
   "id": "22d66b7d",
   "metadata": {},
   "outputs": [],
   "source": [
    "evaluate=[base_st,base_m,base_l]"
   ]
  },
  {
   "cell_type": "code",
   "execution_count": null,
   "id": "7840ddfd",
   "metadata": {},
   "outputs": [],
   "source": []
  },
  {
   "cell_type": "code",
   "execution_count": 329,
   "id": "1ee7cd6c",
   "metadata": {},
   "outputs": [],
   "source": [
    "SVM1=SVC()"
   ]
  },
  {
   "cell_type": "code",
   "execution_count": 330,
   "id": "77719ba3",
   "metadata": {},
   "outputs": [
    {
     "name": "stderr",
     "output_type": "stream",
     "text": [
      "C:\\ProgramData\\Anaconda3\\lib\\site-packages\\sklearn\\utils\\validation.py:993: DataConversionWarning: A column-vector y was passed when a 1d array was expected. Please change the shape of y to (n_samples, ), for example using ravel().\n",
      "  y = column_or_1d(y, warn=True)\n"
     ]
    }
   ],
   "source": [
    "base1=SVM1.fit(x_train_s,y_train_s)"
   ]
  },
  {
   "cell_type": "code",
   "execution_count": 331,
   "id": "a82cc53a",
   "metadata": {},
   "outputs": [],
   "source": [
    "pred_base1=base1.predict(x_train_s)"
   ]
  },
  {
   "cell_type": "code",
   "execution_count": 332,
   "id": "62f711f9",
   "metadata": {},
   "outputs": [],
   "source": [
    "base_st=accuracy_score(y_train_s,pred_base1)"
   ]
  },
  {
   "cell_type": "code",
   "execution_count": 333,
   "id": "c82bbd33",
   "metadata": {},
   "outputs": [
    {
     "data": {
      "text/plain": [
       "0.7806432787915516"
      ]
     },
     "execution_count": 333,
     "metadata": {},
     "output_type": "execute_result"
    }
   ],
   "source": [
    "base_st"
   ]
  },
  {
   "cell_type": "code",
   "execution_count": 334,
   "id": "5e5f1e48",
   "metadata": {},
   "outputs": [],
   "source": [
    "test1=base1.predict(x_test_s)"
   ]
  },
  {
   "cell_type": "code",
   "execution_count": 335,
   "id": "81bba5c5",
   "metadata": {
    "scrolled": true
   },
   "outputs": [
    {
     "data": {
      "text/plain": [
       "array([[5617, 1419],\n",
       "       [1015, 3088]], dtype=int64)"
      ]
     },
     "execution_count": 335,
     "metadata": {},
     "output_type": "execute_result"
    }
   ],
   "source": [
    "confusion_matrix(y_test_s,test1)"
   ]
  },
  {
   "cell_type": "code",
   "execution_count": 300,
   "id": "963f4e76",
   "metadata": {},
   "outputs": [],
   "source": [
    "b1=score(y_train_s,pred_base1)"
   ]
  },
  {
   "cell_type": "code",
   "execution_count": 354,
   "id": "9078dd26",
   "metadata": {},
   "outputs": [
    {
     "data": {
      "text/plain": [
       "(0.7806432787915516,\n",
       " 0.6835351224683368,\n",
       " 0.7492049902152642,\n",
       " 0.7148650619985412,\n",
       " 0.7740386853136532)"
      ]
     },
     "execution_count": 354,
     "metadata": {},
     "output_type": "execute_result"
    }
   ],
   "source": [
    "b1"
   ]
  },
  {
   "cell_type": "code",
   "execution_count": null,
   "id": "a21c1577",
   "metadata": {},
   "outputs": [],
   "source": []
  },
  {
   "cell_type": "code",
   "execution_count": 315,
   "id": "2657b36b",
   "metadata": {},
   "outputs": [],
   "source": [
    "cm_b1=pd.DataFrame(data=confusion_matrix(pred_base1,y_train_s), columns=['Predict Negative:0','Predict Positive:1'], \n",
    "                                 index=['Actual Negative:0','Actual Positive:1'])"
   ]
  },
  {
   "cell_type": "code",
   "execution_count": 316,
   "id": "4339a299",
   "metadata": {
    "scrolled": true
   },
   "outputs": [
    {
     "data": {
      "text/plain": [
       "<AxesSubplot:>"
      ]
     },
     "execution_count": 316,
     "metadata": {},
     "output_type": "execute_result"
    },
    {
     "data": {
      "image/png": "[encoded data removed]",
      "text/plain": [
       "<Figure size 432x288 with 2 Axes>"
      ]
     },
     "metadata": {
      "needs_background": "light"
     },
     "output_type": "display_data"
    }
   ],
   "source": [
    "sns.heatmap(cm_b1, annot=True, fmt='d', cmap='Blues')"
   ]
  },
  {
   "cell_type": "code",
   "execution_count": null,
   "id": "a868fc69",
   "metadata": {},
   "outputs": [],
   "source": []
  },
  {
   "cell_type": "code",
   "execution_count": 336,
   "id": "ee215cb9",
   "metadata": {},
   "outputs": [
    {
     "name": "stderr",
     "output_type": "stream",
     "text": [
      "C:\\ProgramData\\Anaconda3\\lib\\site-packages\\sklearn\\utils\\validation.py:993: DataConversionWarning: A column-vector y was passed when a 1d array was expected. Please change the shape of y to (n_samples, ), for example using ravel().\n",
      "  y = column_or_1d(y, warn=True)\n"
     ]
    }
   ],
   "source": [
    "base2=SVM1.fit(x_train_m,y_train_m)\n",
    "\n",
    "pred_base2=base2.predict(x_train_m)\n",
    "\n",
    "base_m=accuracy_score(y_train_m,pred_base2)"
   ]
  },
  {
   "cell_type": "code",
   "execution_count": 337,
   "id": "60fe3c29",
   "metadata": {},
   "outputs": [
    {
     "data": {
      "text/plain": [
       "0.7421946894709671"
      ]
     },
     "execution_count": 337,
     "metadata": {},
     "output_type": "execute_result"
    }
   ],
   "source": [
    "base_m"
   ]
  },
  {
   "cell_type": "code",
   "execution_count": 338,
   "id": "b406e3c7",
   "metadata": {},
   "outputs": [
    {
     "data": {
      "text/plain": [
       "(0.7444115270670617,\n",
       " 0.6267662494953573,\n",
       " 0.7567633438947112,\n",
       " 0.6856575024842664,\n",
       " 0.746985992584081)"
      ]
     },
     "execution_count": 338,
     "metadata": {},
     "output_type": "execute_result"
    }
   ],
   "source": [
    "pr_m=base2.predict(x_test_m)\n",
    "score(y_test_m,pr_m)"
   ]
  },
  {
   "cell_type": "code",
   "execution_count": 301,
   "id": "051bb970",
   "metadata": {},
   "outputs": [
    {
     "data": {
      "text/plain": [
       "(0.7421946894709671,\n",
       " 0.6222735953362147,\n",
       " 0.7572162426614482,\n",
       " 0.683144827586207,\n",
       " 0.7453504354330609)"
      ]
     },
     "execution_count": 301,
     "metadata": {},
     "output_type": "execute_result"
    }
   ],
   "source": [
    "b2=score(y_train_m,pred_base2)\n",
    "b2"
   ]
  },
  {
   "cell_type": "code",
   "execution_count": 317,
   "id": "e14fed74",
   "metadata": {},
   "outputs": [],
   "source": [
    "cm_b2=pd.DataFrame(data=confusion_matrix(pred_base2,y_train_m), columns=['Predict Negative:0','Predict Positive:1'], \n",
    "                                 index=['Actual Negative:0','Actual Positive:1'])"
   ]
  },
  {
   "cell_type": "code",
   "execution_count": 319,
   "id": "2f362580",
   "metadata": {},
   "outputs": [
    {
     "data": {
      "text/plain": [
       "<AxesSubplot:>"
      ]
     },
     "execution_count": 319,
     "metadata": {},
     "output_type": "execute_result"
    },
    {
     "data": {
      "image/png": "[encoded data removed]",
      "text/plain": [
       "<Figure size 432x288 with 2 Axes>"
      ]
     },
     "metadata": {
      "needs_background": "light"
     },
     "output_type": "display_data"
    }
   ],
   "source": [
    "sns.heatmap(cm_b2, annot=True, fmt='d', cmap='Blues')"
   ]
  },
  {
   "cell_type": "code",
   "execution_count": null,
   "id": "0796b1e6",
   "metadata": {},
   "outputs": [],
   "source": []
  },
  {
   "cell_type": "code",
   "execution_count": 339,
   "id": "b60587fa",
   "metadata": {},
   "outputs": [
    {
     "name": "stderr",
     "output_type": "stream",
     "text": [
      "C:\\ProgramData\\Anaconda3\\lib\\site-packages\\sklearn\\utils\\validation.py:993: DataConversionWarning: A column-vector y was passed when a 1d array was expected. Please change the shape of y to (n_samples, ), for example using ravel().\n",
      "  y = column_or_1d(y, warn=True)\n"
     ]
    }
   ],
   "source": [
    "base3=SVM1.fit(x_train_l,y_train_l)\n",
    "\n",
    "pred_base3=base3.predict(x_train_l)\n",
    "\n",
    "base_l=accuracy_score(y_train_l,pred_base3)"
   ]
  },
  {
   "cell_type": "code",
   "execution_count": 340,
   "id": "b374c143",
   "metadata": {
    "scrolled": true
   },
   "outputs": [
    {
     "data": {
      "text/plain": [
       "0.7519134513949678"
      ]
     },
     "execution_count": 340,
     "metadata": {},
     "output_type": "execute_result"
    }
   ],
   "source": [
    "base_l"
   ]
  },
  {
   "cell_type": "code",
   "execution_count": null,
   "id": "9e225a51",
   "metadata": {},
   "outputs": [],
   "source": []
  },
  {
   "cell_type": "code",
   "execution_count": 302,
   "id": "90d81633",
   "metadata": {},
   "outputs": [
    {
     "data": {
      "text/plain": [
       "(0.7519134513949678,\n",
       " 0.6353512132822478,\n",
       " 0.7605797455968689,\n",
       " 0.6923483730898767,\n",
       " 0.7537340769046719)"
      ]
     },
     "execution_count": 302,
     "metadata": {},
     "output_type": "execute_result"
    }
   ],
   "source": [
    "b3=score(y_train_l,pred_base3)\n",
    "b3"
   ]
  },
  {
   "cell_type": "code",
   "execution_count": 320,
   "id": "8a2bd0c2",
   "metadata": {},
   "outputs": [],
   "source": [
    "cm_b3=pd.DataFrame(data=confusion_matrix(pred_base3,y_train_m), columns=['Predict Negative:0','Predict Positive:1'], \n",
    "                                 index=['Actual Negative:0','Actual Positive:1'])"
   ]
  },
  {
   "cell_type": "code",
   "execution_count": 321,
   "id": "6657c57c",
   "metadata": {
    "scrolled": false
   },
   "outputs": [
    {
     "data": {
      "text/plain": [
       "<AxesSubplot:>"
      ]
     },
     "execution_count": 321,
     "metadata": {},
     "output_type": "execute_result"
    },
    {
     "data": {
      "image/png": "[encoded data removed]",
      "text/plain": [
       "<Figure size 432x288 with 2 Axes>"
      ]
     },
     "metadata": {
      "needs_background": "light"
     },
     "output_type": "display_data"
    }
   ],
   "source": [
    "sns.heatmap(cm_b3, annot=True, fmt='d', cmap='Blues')"
   ]
  },
  {
   "cell_type": "code",
   "execution_count": null,
   "id": "2c361254",
   "metadata": {},
   "outputs": [],
   "source": []
  },
  {
   "cell_type": "code",
   "execution_count": null,
   "id": "026915e4",
   "metadata": {},
   "outputs": [],
   "source": []
  },
  {
   "cell_type": "code",
   "execution_count": null,
   "id": "c13c5081",
   "metadata": {},
   "outputs": [],
   "source": []
  },
  {
   "cell_type": "code",
   "execution_count": null,
   "id": "8889fcbc",
   "metadata": {},
   "outputs": [],
   "source": []
  },
  {
   "cell_type": "code",
   "execution_count": null,
   "id": "dedda07c",
   "metadata": {},
   "outputs": [],
   "source": []
  }
 ],
 "metadata": {
  "kernelspec": {
   "display_name": "Python 3.10.7 64-bit (microsoft store)",
   "language": "python",
   "name": "python3"
  },
  "language_info": {
   "codemirror_mode": {
    "name": "ipython",
    "version": 3
   },
   "file_extension": ".py",
   "mimetype": "text/x-python",
   "name": "python",
   "nbconvert_exporter": "python",
   "pygments_lexer": "ipython3",
   "version": "3.10.7"
  },
  "vscode": {
   "interpreter": {
    "hash": "9271e414be5e055cabef0148537efe95905a2cbc3a51060d18455594802bc000"
   }
  }
 },
 "nbformat": 4,
 "nbformat_minor": 5
}
