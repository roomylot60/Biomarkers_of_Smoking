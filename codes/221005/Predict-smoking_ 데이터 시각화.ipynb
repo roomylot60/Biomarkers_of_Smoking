{
 "cells": [
  {
   "cell_type": "markdown",
   "id": "0402151f",
   "metadata": {},
   "source": [
    "# 데이터 전처리"
   ]
  },
  {
   "cell_type": "code",
   "execution_count": null,
   "id": "acff1845",
   "metadata": {},
   "outputs": [],
   "source": [
    "import pandas as pd\n",
    "import numpy as np\n",
    "import matplotlib.pyplot as plt\n",
    "import seaborn as sns\n",
    "%matplotlib inline\n",
    "\n",
    "import matplotlib as mpl\n",
    "mpl.rc('font', family=\"Malgun Gothic\")\n",
    "\n",
    "from sklearn.preprocessing import LabelEncoder # for encoding\n",
    "from sklearn.preprocessing import MinMaxScaler, RobustScaler, StandardScaler #for standardization\n",
    "from sklearn.model_selection import train_test_split"
   ]
  },
  {
   "cell_type": "code",
   "execution_count": null,
   "id": "b31ae727",
   "metadata": {},
   "outputs": [],
   "source": [
    "def preprocessing(df_scaling, scaled_form = 'MinMaxScaler()'):\n",
    "    # 불필요한 컬럼 제거\n",
    "    if 'ID' in df_scaling:\n",
    "        df_scaling = df_scaling.drop(\"ID\", axis = 1)\n",
    "        if len(df_scaling.columns) == 1:\n",
    "            return df_scaling\n",
    "        \n",
    "        df_scaling = df_scaling.drop('oral', axis = 1) \n",
    "        # 범주형 피처 레이블 인코딩 \n",
    "        cate_features = df_scaling[['gender','tartar']]\n",
    "\n",
    "        lbe = LabelEncoder()\n",
    "        lbe.fit_transform(df_scaling[\"gender\"])\n",
    "        df_scaling[\"gender\"] = lbe.fit_transform(df_scaling[\"gender\"])\n",
    "\n",
    "        lbe = LabelEncoder()\n",
    "        lbe.fit_transform(df_scaling[\"tartar\"])\n",
    "        df_scaling[\"tartar\"] = lbe.fit_transform(df_scaling[\"tartar\"])\n",
    "\n",
    "        # 정규화 작업\n",
    "        cate_features = df_scaling[['gender', 'tartar', 'hearing(right)', 'hearing(left)', 'dental caries']]\n",
    "        scaled_features = df_scaling.drop(cate_features.columns, axis=1)\n",
    "        if scaled_form == 'StandardScaler()':\n",
    "            # Standard scaler\n",
    "            scaler = StandardScaler()\n",
    "            scaler.fit(scaled_features)\n",
    "            scaled = scaler.transform(scaled_features)\n",
    "            standard_scaled = pd.DataFrame(scaled,columns = scaled_features.columns)\n",
    "            standard_scaled[cate_features.columns] = cate_features\n",
    "\n",
    "            return standard_scaled\n",
    "        else:\n",
    "            # MinMax scaler\n",
    "            scaler_M = MinMaxScaler()\n",
    "            scaler_M.fit(scaled_features)\n",
    "            scaled_M = scaler_M.transform(scaled_features)\n",
    "            min_max_scaled = pd.DataFrame(scaled_M,columns = scaled_features.columns)\n",
    "            min_max_scaled[cate_features.columns] = cate_features\n",
    "\n",
    "            return min_max_scaled"
   ]
  },
  {
   "cell_type": "code",
   "execution_count": null,
   "id": "3d79921f",
   "metadata": {},
   "outputs": [],
   "source": [
    "smoking = pd.read_csv('./data/smoking.csv')\n",
    "smoking.head()"
   ]
  },
  {
   "cell_type": "code",
   "execution_count": null,
   "id": "2cb5116a",
   "metadata": {},
   "outputs": [],
   "source": [
    "scaled_data = preprocessing(smoking)\n",
    "scaled_data.head()"
   ]
  },
  {
   "cell_type": "code",
   "execution_count": null,
   "id": "2f5ea1cc",
   "metadata": {},
   "outputs": [],
   "source": [
    "# import numpy as np\n",
    "# import pandas as pd\n",
    "# import matplotlib.pyplot as plt\n",
    "# import seaborn as sns\n",
    "# %matplotlib inline"
   ]
  },
  {
   "cell_type": "code",
   "execution_count": null,
   "id": "d38eab24",
   "metadata": {},
   "outputs": [],
   "source": [
    "# smoking = pd.read_csv(\"./data/smoking.csv\")\n",
    "# df = smoking.drop(\"ID\", axis = 1)\n",
    "# df.head()"
   ]
  },
  {
   "cell_type": "code",
   "execution_count": null,
   "id": "4ff37e0b",
   "metadata": {},
   "outputs": [],
   "source": [
    "scaled_data.info()"
   ]
  },
  {
   "cell_type": "code",
   "execution_count": null,
   "id": "c8eb9e4f",
   "metadata": {},
   "outputs": [],
   "source": [
    "target = scaled_data['smoking']\n",
    "target"
   ]
  },
  {
   "cell_type": "code",
   "execution_count": null,
   "id": "ce5c7f43",
   "metadata": {},
   "outputs": [],
   "source": [
    "x_train, x_test, y_train, y_test = train_test_split(scaled_data, target, test_size = 0.1, random_state=0)"
   ]
  },
  {
   "cell_type": "markdown",
   "id": "8c65d842",
   "metadata": {},
   "source": [
    "# 데이터 시각화 및 분석\n",
    "- 데이터 세트의 성별 및 흡연 비율 시각화 (파이)\n",
    "- 혈관 및 호흡 / 신장 질환 / 간수치 / 구강건강 별 시각화 (히스토그램)\n",
    "    - 각 해당 히트맵을 통한 흡연과의 상관성 파악"
   ]
  },
  {
   "cell_type": "code",
   "execution_count": null,
   "id": "0d8006c0",
   "metadata": {},
   "outputs": [],
   "source": [
    "# 데이터 세트에서 흡연 비율\n",
    "scaled_data['smoking'].value_counts().plot.pie(explode=[0,0.1],autopct='%1.1f%%',shadow=True)\n",
    "\n",
    "# Non-smoking = 63.3%\n",
    "# Smoking =36.7 %\n",
    "# 비흡연자 > 흡연자"
   ]
  },
  {
   "cell_type": "code",
   "execution_count": null,
   "id": "bb68c72c",
   "metadata": {},
   "outputs": [],
   "source": [
    "# 비흡연자(0)와 흡연자(1)의 성별 비율\n",
    "\n",
    "ex3 = smoking.groupby('smoking')['gender'].value_counts(normalize=True).unstack()\n",
    "print(ex3)\n",
    "ex3.plot.bar(stacked=True,figsize=(8,6))\n",
    "plt.legend(loc='upper right')\n",
    "plt.title('Gender')\n",
    "\n",
    "# 비흡연자 : 여성 > 남성\n",
    "# 흡연자 : 여성 < 남성"
   ]
  },
  {
   "cell_type": "code",
   "execution_count": null,
   "id": "8e0d122c",
   "metadata": {},
   "outputs": [],
   "source": [
    "# 혈관 및 호흡\n",
    "scaled_data1 = scaled_data[['systolic','relaxation','fasting blood sugar',\n",
    "                            'Cholesterol','triglyceride','HDL','LDL','hemoglobin','smoking']]\n",
    "scaled_data1.hist(figsize=(10,10))"
   ]
  },
  {
   "cell_type": "code",
   "execution_count": null,
   "id": "7e63edab",
   "metadata": {},
   "outputs": [],
   "source": [
    "scaled_data1.corr().style.background_gradient(cmap = \"magma\")\n",
    "# 흡연과 가장 상관관계가 있는 부분은 hemoglobin 이다."
   ]
  },
  {
   "cell_type": "code",
   "execution_count": null,
   "id": "c8f746a0",
   "metadata": {},
   "outputs": [],
   "source": [
    "sns.boxplot(data=scaled_data,x='smoking',y='hemoglobin')\n",
    "# 흡연과 hemoglobin의 상관계수가 0.4로 흡연 여부가 1일수록 헤모글로빈이 높아짐을 확인 할 수 있다. "
   ]
  },
  {
   "cell_type": "code",
   "execution_count": null,
   "id": "22d58ac3",
   "metadata": {},
   "outputs": [],
   "source": [
    "sns.boxplot(data=scaled_data,x='smoking',y='triglyceride')\n",
    "# 흡연과 triglyceride의 상관계수가 0.25로 흡연 여부가 1일수록 triglyceride이 높아짐을 확인 할 수 있다. "
   ]
  },
  {
   "cell_type": "code",
   "execution_count": null,
   "id": "ca51f63a",
   "metadata": {},
   "outputs": [],
   "source": [
    "sns.boxplot(data=scaled_data,x='smoking',y='HDL')\n",
    "# 흡연과 HDL의 상관계수가 -0.17로 흡연 여부가 1일수록 HDL이 낮아짐을 확인 할 수 있다. "
   ]
  },
  {
   "cell_type": "code",
   "execution_count": null,
   "id": "0f642223",
   "metadata": {},
   "outputs": [],
   "source": [
    "# 신장질환\n",
    "scaled_data2 = scaled_data[['Urine protein','serum creatinine','smoking']]\n",
    "scaled_data2.hist(figsize=(8,8))"
   ]
  },
  {
   "cell_type": "code",
   "execution_count": null,
   "id": "47a41eef",
   "metadata": {},
   "outputs": [],
   "source": [
    "scaled_data2.corr().style.background_gradient(cmap = \"magma\")\n",
    "# Urine protein, serum creatinine 와 smoking 은 큰 상관성을 가지고 있지 않음"
   ]
  },
  {
   "cell_type": "code",
   "execution_count": null,
   "id": "91c4be97",
   "metadata": {},
   "outputs": [],
   "source": [
    "sns.boxplot(data=scaled_data,x='smoking',y='serum creatinine')\n",
    "# 흡연과 serum creatinine의 상관계수가 0.21로 흡연 여부가 1일수록 serum creatinine이 높아짐을 확인 할 수 있다. "
   ]
  },
  {
   "cell_type": "code",
   "execution_count": null,
   "id": "f5901414",
   "metadata": {},
   "outputs": [],
   "source": [
    "# 간수치 \n",
    "scaled_data3 = scaled_data[['AST','ALT','Gtp','smoking']]\n",
    "scaled_data3.hist(figsize=(8,8))"
   ]
  },
  {
   "cell_type": "code",
   "execution_count": null,
   "id": "d401b89d",
   "metadata": {},
   "outputs": [],
   "source": [
    "scaled_data3.corr().style.background_gradient(cmap = \"magma\")\n",
    "# AST, ALT, Gtp 와 역시 큰 상관성이 없음 / Gtp"
   ]
  },
  {
   "cell_type": "code",
   "execution_count": null,
   "id": "87030303",
   "metadata": {},
   "outputs": [],
   "source": [
    "sns.boxplot(data=scaled_data,x='smoking',y='Gtp')\n",
    "# 흡연과 Gtp의 상관계수가 0.23으로 흡연 여부가 1일수록 Gtp이 높아짐을 확인 할 수 있다. "
   ]
  },
  {
   "cell_type": "code",
   "execution_count": null,
   "id": "8af468bf",
   "metadata": {},
   "outputs": [],
   "source": [
    "# 구강건강 (1)\n",
    "smoke_dental = scaled_data.groupby(\"smoking\")[\"dental caries\"].value_counts(normalize=True)\n",
    "pd.DataFrame(smoke_dental)\n",
    "# smoke_dental.plot(kind='pie', explode=[0,0.1], autopct='%1.1f%%',shadow=True)\n",
    "# 흡연자 중 충치가 있을 확률 : 59%\n",
    "# 비흡연자 중 충치가 있을 확률 : 40% "
   ]
  },
  {
   "cell_type": "code",
   "execution_count": null,
   "id": "e22e40c5",
   "metadata": {},
   "outputs": [],
   "source": [
    "# 비흡연자 / 흡연자의 충치 비율 시각화\n",
    "ex2=smoking.groupby('smoking')['dental caries'].value_counts(normalize=True).unstack()\n",
    "ex2.plot.bar(stacked=True,figsize=(8,6))\n",
    "plt.legend(loc='upper right')\n",
    "plt.title('Dental Caries')"
   ]
  },
  {
   "cell_type": "code",
   "execution_count": null,
   "id": "6bb71ead",
   "metadata": {},
   "outputs": [],
   "source": [
    "# 구강건강 (2)\n",
    "\n",
    "smoke_tarter = scaled_data.groupby(\"smoking\")['tartar'].value_counts(normalize=True)\n",
    "pd.DataFrame(smoke_tarter)\n",
    "# print(smoke_tarter)\n",
    "# smoke_tarter.plot(kind='pie', explode=[0,0.1], autopct='%1.1f%%',shadow=True)\n",
    "# # 흡연자 중 치석이 있을 확률 : 54%\n",
    "# # 비흡연자 중 치석이 있을 확률 : 45% "
   ]
  },
  {
   "cell_type": "code",
   "execution_count": null,
   "id": "3aff5210",
   "metadata": {},
   "outputs": [],
   "source": [
    "# 비흡연자 / 흡연자의 치석 비율 시각화\n",
    "ex=smoking.groupby('smoking')['tartar'].value_counts(normalize=True).unstack()\n",
    "ex.plot.bar(stacked=True,figsize=(8,6))\n",
    "plt.title('Tartar')"
   ]
  },
  {
   "cell_type": "code",
   "execution_count": null,
   "id": "6e1a0a1c",
   "metadata": {},
   "outputs": [],
   "source": []
  },
  {
   "cell_type": "code",
   "execution_count": null,
   "id": "9735da3b",
   "metadata": {},
   "outputs": [],
   "source": []
  },
  {
   "cell_type": "code",
   "execution_count": null,
   "id": "71108e98",
   "metadata": {},
   "outputs": [],
   "source": []
  }
 ],
 "metadata": {
  "kernelspec": {
   "display_name": "Python 3 (ipykernel)",
   "language": "python",
   "name": "python3"
  },
  "language_info": {
   "codemirror_mode": {
    "name": "ipython",
    "version": 3
   },
   "file_extension": ".py",
   "mimetype": "text/x-python",
   "name": "python",
   "nbconvert_exporter": "python",
   "pygments_lexer": "ipython3",
   "version": "3.9.7"
  }
 },
 "nbformat": 4,
 "nbformat_minor": 5
}
